{
 "cells": [
  {
   "cell_type": "code",
   "execution_count": 1,
   "id": "c84231e8",
   "metadata": {},
   "outputs": [],
   "source": [
    "import numpy as np\n",
    "import pandas as pd\n",
    "import requests\n",
    "import csv\n",
    "import ssl\n",
    "from urllib.request import urlopen\n",
    "from urllib.parse import quote_plus\n",
    "from bs4 import BeautifulSoup"
   ]
  },
  {
   "cell_type": "code",
   "execution_count": 2,
   "id": "641f6da4",
   "metadata": {},
   "outputs": [],
   "source": [
    "df = pd.read_excel('C:/Users/analysis/Desktop/SSAFY/projects/A_projects/finalproject/Data_Crawling/movie.xlsx')"
   ]
  },
  {
   "cell_type": "code",
   "execution_count": 3,
   "id": "96be0cac",
   "metadata": {},
   "outputs": [
    {
     "data": {
      "text/html": [
       "<div>\n",
       "<style scoped>\n",
       "    .dataframe tbody tr th:only-of-type {\n",
       "        vertical-align: middle;\n",
       "    }\n",
       "\n",
       "    .dataframe tbody tr th {\n",
       "        vertical-align: top;\n",
       "    }\n",
       "\n",
       "    .dataframe thead th {\n",
       "        text-align: right;\n",
       "    }\n",
       "</style>\n",
       "<table border=\"1\" class=\"dataframe\">\n",
       "  <thead>\n",
       "    <tr style=\"text-align: right;\">\n",
       "      <th></th>\n",
       "      <th>title</th>\n",
       "      <th>vote</th>\n",
       "      <th>genre</th>\n",
       "      <th>country</th>\n",
       "      <th>time</th>\n",
       "      <th>open_date</th>\n",
       "      <th>actor</th>\n",
       "      <th>grade</th>\n",
       "      <th>poster_path</th>\n",
       "      <th>content</th>\n",
       "    </tr>\n",
       "  </thead>\n",
       "  <tbody>\n",
       "    <tr>\n",
       "      <th>0</th>\n",
       "      <td>아무도 살아서 나갈 수 없다</td>\n",
       "      <td>관람객 평점 없음</td>\n",
       "      <td>['미스터리', '공포']</td>\n",
       "      <td>영국</td>\n",
       "      <td>86분</td>\n",
       "      <td>['미상']</td>\n",
       "      <td>['마크 멘차카']</td>\n",
       "      <td>청소년 관람불가</td>\n",
       "      <td>https://movie-phinf.pstatic.net/20211012_193/1...</td>\n",
       "      <td>['절박한 심정으로 미국에 밀입국한 멕시코 여성. 허름한 클리블랜드 하숙집에서 묵으...</td>\n",
       "    </tr>\n",
       "    <tr>\n",
       "      <th>1</th>\n",
       "      <td>드림걸: 수상한 콜센터</td>\n",
       "      <td>관람객 평점 없음</td>\n",
       "      <td>['코미디']</td>\n",
       "      <td>인도</td>\n",
       "      <td>125분</td>\n",
       "      <td>['미상']</td>\n",
       "      <td>['아유쉬만 커라나', '비자이 라즈']</td>\n",
       "      <td>12세 관람가</td>\n",
       "      <td>https://movie-phinf.pstatic.net/20210929_200/1...</td>\n",
       "      <td>['카람은 여자 목소리를 내는 데 천부적인 재능이 있는 남자로, 적절한 직업을 찾던...</td>\n",
       "    </tr>\n",
       "    <tr>\n",
       "      <th>2</th>\n",
       "      <td>트립</td>\n",
       "      <td>관람객 평점 없음</td>\n",
       "      <td>['공포', '코미디']</td>\n",
       "      <td>노르웨이</td>\n",
       "      <td>113분</td>\n",
       "      <td>['미상']</td>\n",
       "      <td>['누미 라파스', '엑셀 헨니', '아틀레 안톤센']</td>\n",
       "      <td>청소년 관람불가</td>\n",
       "      <td>https://movie-phinf.pstatic.net/20211110_292/1...</td>\n",
       "      <td>['분노만 남은 결혼 생활. 부부는 서로를 죽이려는 계획을 숨기고 외딴 산장으로 여...</td>\n",
       "    </tr>\n",
       "    <tr>\n",
       "      <th>3</th>\n",
       "      <td>바다 탐험대 옥토넛 : 육지수호 대작전</td>\n",
       "      <td>관람객 평점 6.00점</td>\n",
       "      <td>['애니메이션', '액션', '모험']</td>\n",
       "      <td>영국</td>\n",
       "      <td>60분</td>\n",
       "      <td>2021.10.27</td>\n",
       "      <td>['하성용', '정재헌', '엄상현']</td>\n",
       "      <td>전체 관람가</td>\n",
       "      <td>https://movie-phinf.pstatic.net/20210924_146/1...</td>\n",
       "      <td>['바다 폭풍에 휩쓸린 옥토넛은 우연히 사막에 상륙한다.\\r', &lt;br/&gt;, '\\x...</td>\n",
       "    </tr>\n",
       "    <tr>\n",
       "      <th>4</th>\n",
       "      <td>왕십리 김종분</td>\n",
       "      <td>관람객 평점 없음</td>\n",
       "      <td>['다큐멘터리']</td>\n",
       "      <td>한국</td>\n",
       "      <td>102분</td>\n",
       "      <td>2021.11.11</td>\n",
       "      <td>['김종분', '김귀임', '김종수']</td>\n",
       "      <td>12세 관람가</td>\n",
       "      <td>https://movie-phinf.pstatic.net/20211026_135/1...</td>\n",
       "      <td>['50년 넘게 노점을 해온 팔순의 김종분.', &lt;br/&gt;, '\\xa0왕십리역 11...</td>\n",
       "    </tr>\n",
       "    <tr>\n",
       "      <th>...</th>\n",
       "      <td>...</td>\n",
       "      <td>...</td>\n",
       "      <td>...</td>\n",
       "      <td>...</td>\n",
       "      <td>...</td>\n",
       "      <td>...</td>\n",
       "      <td>...</td>\n",
       "      <td>...</td>\n",
       "      <td>...</td>\n",
       "      <td>...</td>\n",
       "    </tr>\n",
       "    <tr>\n",
       "      <th>1807</th>\n",
       "      <td>유혹의 계절</td>\n",
       "      <td>관람객 평점 없음</td>\n",
       "      <td>['멜로/로맨스', '드라마']</td>\n",
       "      <td>아일랜드</td>\n",
       "      <td>103분</td>\n",
       "      <td>2018.11.01</td>\n",
       "      <td>['킬리언 머피', '캐서린 워커', '앤드류 스캇']</td>\n",
       "      <td>청소년 관람불가</td>\n",
       "      <td>https://movie-phinf.pstatic.net/20181016_189/1...</td>\n",
       "      <td>['폭력적인 남편을 피해 아이들과 함께 친구 다니엘의 집을 찾은 ‘이반’\\r', &lt;...</td>\n",
       "    </tr>\n",
       "    <tr>\n",
       "      <th>1808</th>\n",
       "      <td>해치지않아</td>\n",
       "      <td>관람객 평점 7.32점</td>\n",
       "      <td>['코미디']</td>\n",
       "      <td>한국</td>\n",
       "      <td>117분</td>\n",
       "      <td>2020.01.15</td>\n",
       "      <td>['안재홍', '강소라', '박영규']</td>\n",
       "      <td>12세 관람가</td>\n",
       "      <td>https://movie-phinf.pstatic.net/20200115_223/1...</td>\n",
       "      <td>['생계형 수습 변호사 ‘태수’에게 찾아온 일생일대의 기회, 위기의 동물원 ‘동산파...</td>\n",
       "    </tr>\n",
       "    <tr>\n",
       "      <th>1809</th>\n",
       "      <td>와일드 로즈</td>\n",
       "      <td>관람객 평점 8.90점</td>\n",
       "      <td>['드라마']</td>\n",
       "      <td>영국</td>\n",
       "      <td>100분</td>\n",
       "      <td>2019.10.17</td>\n",
       "      <td>['제시 버클리', '줄리 월터스']</td>\n",
       "      <td>15세 관람가</td>\n",
       "      <td>https://movie-phinf.pstatic.net/20191002_88/15...</td>\n",
       "      <td>['타고난 가창력으로 스코틀랜드 글래스고의 한 바에서 인기 몰이 중인 로즈의 꿈은 ...</td>\n",
       "    </tr>\n",
       "    <tr>\n",
       "      <th>1810</th>\n",
       "      <td>블루버드 인 마이 하트</td>\n",
       "      <td>관람객 평점 없음</td>\n",
       "      <td>['범죄', '액션', '드라마']</td>\n",
       "      <td>프랑스</td>\n",
       "      <td>89분</td>\n",
       "      <td>2021.03.15</td>\n",
       "      <td>['로랜드 몰러', '로라 르 란', '벨 배턴스']</td>\n",
       "      <td>청소년 관람불가</td>\n",
       "      <td>https://movie-phinf.pstatic.net/20210310_84/16...</td>\n",
       "      <td>['교도소에서 출소한 대니는 로랑스와 클라라 모녀가 운영하는 낡은 모텔에서 새 삶을...</td>\n",
       "    </tr>\n",
       "    <tr>\n",
       "      <th>1811</th>\n",
       "      <td>박물관이 진짜 살아있다</td>\n",
       "      <td>관람객 평점 7.78점</td>\n",
       "      <td>['애니메이션', '모험', '코미디']</td>\n",
       "      <td>체코</td>\n",
       "      <td>86분</td>\n",
       "      <td>2018.11.08</td>\n",
       "      <td>['장은숙', '최원형', '장경희']</td>\n",
       "      <td>전체 관람가</td>\n",
       "      <td>https://movie-phinf.pstatic.net/20181108_98/15...</td>\n",
       "      <td>['게임을 좋아하는 12살 소년 ‘하비’.', &lt;br/&gt;, '\\xa0아버지가 일하는...</td>\n",
       "    </tr>\n",
       "  </tbody>\n",
       "</table>\n",
       "<p>1812 rows × 10 columns</p>\n",
       "</div>"
      ],
      "text/plain": [
       "                      title          vote                   genre country  \\\n",
       "0           아무도 살아서 나갈 수 없다     관람객 평점 없음          ['미스터리', '공포']      영국   \n",
       "1              드림걸: 수상한 콜센터     관람객 평점 없음                 ['코미디']      인도   \n",
       "2                        트립     관람객 평점 없음           ['공포', '코미디']    노르웨이   \n",
       "3     바다 탐험대 옥토넛 : 육지수호 대작전  관람객 평점 6.00점   ['애니메이션', '액션', '모험']      영국   \n",
       "4                   왕십리 김종분     관람객 평점 없음               ['다큐멘터리']      한국   \n",
       "...                     ...           ...                     ...     ...   \n",
       "1807                 유혹의 계절     관람객 평점 없음       ['멜로/로맨스', '드라마']    아일랜드   \n",
       "1808                  해치지않아  관람객 평점 7.32점                 ['코미디']      한국   \n",
       "1809                 와일드 로즈  관람객 평점 8.90점                 ['드라마']      영국   \n",
       "1810           블루버드 인 마이 하트     관람객 평점 없음     ['범죄', '액션', '드라마']     프랑스   \n",
       "1811           박물관이 진짜 살아있다  관람객 평점 7.78점  ['애니메이션', '모험', '코미디']      체코   \n",
       "\n",
       "      time   open_date                           actor     grade  \\\n",
       "0      86분      ['미상']                      ['마크 멘차카']  청소년 관람불가   \n",
       "1     125분      ['미상']          ['아유쉬만 커라나', '비자이 라즈']   12세 관람가   \n",
       "2     113분      ['미상']  ['누미 라파스', '엑셀 헨니', '아틀레 안톤센']  청소년 관람불가   \n",
       "3      60분  2021.10.27           ['하성용', '정재헌', '엄상현']    전체 관람가   \n",
       "4     102분  2021.11.11           ['김종분', '김귀임', '김종수']   12세 관람가   \n",
       "...    ...         ...                             ...       ...   \n",
       "1807  103분  2018.11.01  ['킬리언 머피', '캐서린 워커', '앤드류 스캇']  청소년 관람불가   \n",
       "1808  117분  2020.01.15           ['안재홍', '강소라', '박영규']   12세 관람가   \n",
       "1809  100분  2019.10.17            ['제시 버클리', '줄리 월터스']   15세 관람가   \n",
       "1810   89분  2021.03.15   ['로랜드 몰러', '로라 르 란', '벨 배턴스']  청소년 관람불가   \n",
       "1811   86분  2018.11.08           ['장은숙', '최원형', '장경희']    전체 관람가   \n",
       "\n",
       "                                            poster_path  \\\n",
       "0     https://movie-phinf.pstatic.net/20211012_193/1...   \n",
       "1     https://movie-phinf.pstatic.net/20210929_200/1...   \n",
       "2     https://movie-phinf.pstatic.net/20211110_292/1...   \n",
       "3     https://movie-phinf.pstatic.net/20210924_146/1...   \n",
       "4     https://movie-phinf.pstatic.net/20211026_135/1...   \n",
       "...                                                 ...   \n",
       "1807  https://movie-phinf.pstatic.net/20181016_189/1...   \n",
       "1808  https://movie-phinf.pstatic.net/20200115_223/1...   \n",
       "1809  https://movie-phinf.pstatic.net/20191002_88/15...   \n",
       "1810  https://movie-phinf.pstatic.net/20210310_84/16...   \n",
       "1811  https://movie-phinf.pstatic.net/20181108_98/15...   \n",
       "\n",
       "                                                content  \n",
       "0     ['절박한 심정으로 미국에 밀입국한 멕시코 여성. 허름한 클리블랜드 하숙집에서 묵으...  \n",
       "1     ['카람은 여자 목소리를 내는 데 천부적인 재능이 있는 남자로, 적절한 직업을 찾던...  \n",
       "2     ['분노만 남은 결혼 생활. 부부는 서로를 죽이려는 계획을 숨기고 외딴 산장으로 여...  \n",
       "3     ['바다 폭풍에 휩쓸린 옥토넛은 우연히 사막에 상륙한다.\\r', <br/>, '\\x...  \n",
       "4     ['50년 넘게 노점을 해온 팔순의 김종분.', <br/>, '\\xa0왕십리역 11...  \n",
       "...                                                 ...  \n",
       "1807  ['폭력적인 남편을 피해 아이들과 함께 친구 다니엘의 집을 찾은 ‘이반’\\r', <...  \n",
       "1808  ['생계형 수습 변호사 ‘태수’에게 찾아온 일생일대의 기회, 위기의 동물원 ‘동산파...  \n",
       "1809  ['타고난 가창력으로 스코틀랜드 글래스고의 한 바에서 인기 몰이 중인 로즈의 꿈은 ...  \n",
       "1810  ['교도소에서 출소한 대니는 로랑스와 클라라 모녀가 운영하는 낡은 모텔에서 새 삶을...  \n",
       "1811  ['게임을 좋아하는 12살 소년 ‘하비’.', <br/>, '\\xa0아버지가 일하는...  \n",
       "\n",
       "[1812 rows x 10 columns]"
      ]
     },
     "execution_count": 3,
     "metadata": {},
     "output_type": "execute_result"
    }
   ],
   "source": [
    "df"
   ]
  },
  {
   "cell_type": "code",
   "execution_count": 4,
   "id": "c07f6991",
   "metadata": {},
   "outputs": [
    {
     "data": {
      "text/html": [
       "<div>\n",
       "<style scoped>\n",
       "    .dataframe tbody tr th:only-of-type {\n",
       "        vertical-align: middle;\n",
       "    }\n",
       "\n",
       "    .dataframe tbody tr th {\n",
       "        vertical-align: top;\n",
       "    }\n",
       "\n",
       "    .dataframe thead th {\n",
       "        text-align: right;\n",
       "    }\n",
       "</style>\n",
       "<table border=\"1\" class=\"dataframe\">\n",
       "  <thead>\n",
       "    <tr style=\"text-align: right;\">\n",
       "      <th></th>\n",
       "      <th>title</th>\n",
       "      <th>vote</th>\n",
       "      <th>genre</th>\n",
       "      <th>country</th>\n",
       "      <th>time</th>\n",
       "      <th>open_date</th>\n",
       "      <th>actor</th>\n",
       "      <th>grade</th>\n",
       "      <th>poster_path</th>\n",
       "      <th>content</th>\n",
       "    </tr>\n",
       "  </thead>\n",
       "  <tbody>\n",
       "    <tr>\n",
       "      <th>0</th>\n",
       "      <td>아무도 살아서 나갈 수 없다</td>\n",
       "      <td>관람객 평점 없음</td>\n",
       "      <td>['미스터리', '공포']</td>\n",
       "      <td>영국</td>\n",
       "      <td>86분</td>\n",
       "      <td>['미상']</td>\n",
       "      <td>['마크 멘차카']</td>\n",
       "      <td>청소년 관람불가</td>\n",
       "      <td>https://movie-phinf.pstatic.net/20211012_193/1...</td>\n",
       "      <td>['절박한 심정으로 미국에 밀입국한 멕시코 여성. 허름한 클리블랜드 하숙집에서 묵으...</td>\n",
       "    </tr>\n",
       "    <tr>\n",
       "      <th>1</th>\n",
       "      <td>드림걸: 수상한 콜센터</td>\n",
       "      <td>관람객 평점 없음</td>\n",
       "      <td>['코미디']</td>\n",
       "      <td>인도</td>\n",
       "      <td>125분</td>\n",
       "      <td>['미상']</td>\n",
       "      <td>['아유쉬만 커라나', '비자이 라즈']</td>\n",
       "      <td>12세 관람가</td>\n",
       "      <td>https://movie-phinf.pstatic.net/20210929_200/1...</td>\n",
       "      <td>['카람은 여자 목소리를 내는 데 천부적인 재능이 있는 남자로, 적절한 직업을 찾던...</td>\n",
       "    </tr>\n",
       "    <tr>\n",
       "      <th>2</th>\n",
       "      <td>트립</td>\n",
       "      <td>관람객 평점 없음</td>\n",
       "      <td>['공포', '코미디']</td>\n",
       "      <td>노르웨이</td>\n",
       "      <td>113분</td>\n",
       "      <td>['미상']</td>\n",
       "      <td>['누미 라파스', '엑셀 헨니', '아틀레 안톤센']</td>\n",
       "      <td>청소년 관람불가</td>\n",
       "      <td>https://movie-phinf.pstatic.net/20211110_292/1...</td>\n",
       "      <td>['분노만 남은 결혼 생활. 부부는 서로를 죽이려는 계획을 숨기고 외딴 산장으로 여...</td>\n",
       "    </tr>\n",
       "    <tr>\n",
       "      <th>3</th>\n",
       "      <td>바다 탐험대 옥토넛 : 육지수호 대작전</td>\n",
       "      <td>관람객 평점 6.00점</td>\n",
       "      <td>['애니메이션', '액션', '모험']</td>\n",
       "      <td>영국</td>\n",
       "      <td>60분</td>\n",
       "      <td>2021.10.27</td>\n",
       "      <td>['하성용', '정재헌', '엄상현']</td>\n",
       "      <td>전체 관람가</td>\n",
       "      <td>https://movie-phinf.pstatic.net/20210924_146/1...</td>\n",
       "      <td>['바다 폭풍에 휩쓸린 옥토넛은 우연히 사막에 상륙한다.\\r', &lt;br/&gt;, '\\x...</td>\n",
       "    </tr>\n",
       "    <tr>\n",
       "      <th>4</th>\n",
       "      <td>왕십리 김종분</td>\n",
       "      <td>관람객 평점 없음</td>\n",
       "      <td>['다큐멘터리']</td>\n",
       "      <td>한국</td>\n",
       "      <td>102분</td>\n",
       "      <td>2021.11.11</td>\n",
       "      <td>['김종분', '김귀임', '김종수']</td>\n",
       "      <td>12세 관람가</td>\n",
       "      <td>https://movie-phinf.pstatic.net/20211026_135/1...</td>\n",
       "      <td>['50년 넘게 노점을 해온 팔순의 김종분.', &lt;br/&gt;, '\\xa0왕십리역 11...</td>\n",
       "    </tr>\n",
       "    <tr>\n",
       "      <th>...</th>\n",
       "      <td>...</td>\n",
       "      <td>...</td>\n",
       "      <td>...</td>\n",
       "      <td>...</td>\n",
       "      <td>...</td>\n",
       "      <td>...</td>\n",
       "      <td>...</td>\n",
       "      <td>...</td>\n",
       "      <td>...</td>\n",
       "      <td>...</td>\n",
       "    </tr>\n",
       "    <tr>\n",
       "      <th>1807</th>\n",
       "      <td>유혹의 계절</td>\n",
       "      <td>관람객 평점 없음</td>\n",
       "      <td>['멜로/로맨스', '드라마']</td>\n",
       "      <td>아일랜드</td>\n",
       "      <td>103분</td>\n",
       "      <td>2018.11.01</td>\n",
       "      <td>['킬리언 머피', '캐서린 워커', '앤드류 스캇']</td>\n",
       "      <td>청소년 관람불가</td>\n",
       "      <td>https://movie-phinf.pstatic.net/20181016_189/1...</td>\n",
       "      <td>['폭력적인 남편을 피해 아이들과 함께 친구 다니엘의 집을 찾은 ‘이반’\\r', &lt;...</td>\n",
       "    </tr>\n",
       "    <tr>\n",
       "      <th>1808</th>\n",
       "      <td>해치지않아</td>\n",
       "      <td>관람객 평점 7.32점</td>\n",
       "      <td>['코미디']</td>\n",
       "      <td>한국</td>\n",
       "      <td>117분</td>\n",
       "      <td>2020.01.15</td>\n",
       "      <td>['안재홍', '강소라', '박영규']</td>\n",
       "      <td>12세 관람가</td>\n",
       "      <td>https://movie-phinf.pstatic.net/20200115_223/1...</td>\n",
       "      <td>['생계형 수습 변호사 ‘태수’에게 찾아온 일생일대의 기회, 위기의 동물원 ‘동산파...</td>\n",
       "    </tr>\n",
       "    <tr>\n",
       "      <th>1809</th>\n",
       "      <td>와일드 로즈</td>\n",
       "      <td>관람객 평점 8.90점</td>\n",
       "      <td>['드라마']</td>\n",
       "      <td>영국</td>\n",
       "      <td>100분</td>\n",
       "      <td>2019.10.17</td>\n",
       "      <td>['제시 버클리', '줄리 월터스']</td>\n",
       "      <td>15세 관람가</td>\n",
       "      <td>https://movie-phinf.pstatic.net/20191002_88/15...</td>\n",
       "      <td>['타고난 가창력으로 스코틀랜드 글래스고의 한 바에서 인기 몰이 중인 로즈의 꿈은 ...</td>\n",
       "    </tr>\n",
       "    <tr>\n",
       "      <th>1810</th>\n",
       "      <td>블루버드 인 마이 하트</td>\n",
       "      <td>관람객 평점 없음</td>\n",
       "      <td>['범죄', '액션', '드라마']</td>\n",
       "      <td>프랑스</td>\n",
       "      <td>89분</td>\n",
       "      <td>2021.03.15</td>\n",
       "      <td>['로랜드 몰러', '로라 르 란', '벨 배턴스']</td>\n",
       "      <td>청소년 관람불가</td>\n",
       "      <td>https://movie-phinf.pstatic.net/20210310_84/16...</td>\n",
       "      <td>['교도소에서 출소한 대니는 로랑스와 클라라 모녀가 운영하는 낡은 모텔에서 새 삶을...</td>\n",
       "    </tr>\n",
       "    <tr>\n",
       "      <th>1811</th>\n",
       "      <td>박물관이 진짜 살아있다</td>\n",
       "      <td>관람객 평점 7.78점</td>\n",
       "      <td>['애니메이션', '모험', '코미디']</td>\n",
       "      <td>체코</td>\n",
       "      <td>86분</td>\n",
       "      <td>2018.11.08</td>\n",
       "      <td>['장은숙', '최원형', '장경희']</td>\n",
       "      <td>전체 관람가</td>\n",
       "      <td>https://movie-phinf.pstatic.net/20181108_98/15...</td>\n",
       "      <td>['게임을 좋아하는 12살 소년 ‘하비’.', &lt;br/&gt;, '\\xa0아버지가 일하는...</td>\n",
       "    </tr>\n",
       "  </tbody>\n",
       "</table>\n",
       "<p>1812 rows × 10 columns</p>\n",
       "</div>"
      ],
      "text/plain": [
       "                      title          vote                   genre country  \\\n",
       "0           아무도 살아서 나갈 수 없다     관람객 평점 없음          ['미스터리', '공포']      영국   \n",
       "1              드림걸: 수상한 콜센터     관람객 평점 없음                 ['코미디']      인도   \n",
       "2                        트립     관람객 평점 없음           ['공포', '코미디']    노르웨이   \n",
       "3     바다 탐험대 옥토넛 : 육지수호 대작전  관람객 평점 6.00점   ['애니메이션', '액션', '모험']      영국   \n",
       "4                   왕십리 김종분     관람객 평점 없음               ['다큐멘터리']      한국   \n",
       "...                     ...           ...                     ...     ...   \n",
       "1807                 유혹의 계절     관람객 평점 없음       ['멜로/로맨스', '드라마']    아일랜드   \n",
       "1808                  해치지않아  관람객 평점 7.32점                 ['코미디']      한국   \n",
       "1809                 와일드 로즈  관람객 평점 8.90점                 ['드라마']      영국   \n",
       "1810           블루버드 인 마이 하트     관람객 평점 없음     ['범죄', '액션', '드라마']     프랑스   \n",
       "1811           박물관이 진짜 살아있다  관람객 평점 7.78점  ['애니메이션', '모험', '코미디']      체코   \n",
       "\n",
       "      time   open_date                           actor     grade  \\\n",
       "0      86분      ['미상']                      ['마크 멘차카']  청소년 관람불가   \n",
       "1     125분      ['미상']          ['아유쉬만 커라나', '비자이 라즈']   12세 관람가   \n",
       "2     113분      ['미상']  ['누미 라파스', '엑셀 헨니', '아틀레 안톤센']  청소년 관람불가   \n",
       "3      60분  2021.10.27           ['하성용', '정재헌', '엄상현']    전체 관람가   \n",
       "4     102분  2021.11.11           ['김종분', '김귀임', '김종수']   12세 관람가   \n",
       "...    ...         ...                             ...       ...   \n",
       "1807  103분  2018.11.01  ['킬리언 머피', '캐서린 워커', '앤드류 스캇']  청소년 관람불가   \n",
       "1808  117분  2020.01.15           ['안재홍', '강소라', '박영규']   12세 관람가   \n",
       "1809  100분  2019.10.17            ['제시 버클리', '줄리 월터스']   15세 관람가   \n",
       "1810   89분  2021.03.15   ['로랜드 몰러', '로라 르 란', '벨 배턴스']  청소년 관람불가   \n",
       "1811   86분  2018.11.08           ['장은숙', '최원형', '장경희']    전체 관람가   \n",
       "\n",
       "                                            poster_path  \\\n",
       "0     https://movie-phinf.pstatic.net/20211012_193/1...   \n",
       "1     https://movie-phinf.pstatic.net/20210929_200/1...   \n",
       "2     https://movie-phinf.pstatic.net/20211110_292/1...   \n",
       "3     https://movie-phinf.pstatic.net/20210924_146/1...   \n",
       "4     https://movie-phinf.pstatic.net/20211026_135/1...   \n",
       "...                                                 ...   \n",
       "1807  https://movie-phinf.pstatic.net/20181016_189/1...   \n",
       "1808  https://movie-phinf.pstatic.net/20200115_223/1...   \n",
       "1809  https://movie-phinf.pstatic.net/20191002_88/15...   \n",
       "1810  https://movie-phinf.pstatic.net/20210310_84/16...   \n",
       "1811  https://movie-phinf.pstatic.net/20181108_98/15...   \n",
       "\n",
       "                                                content  \n",
       "0     ['절박한 심정으로 미국에 밀입국한 멕시코 여성. 허름한 클리블랜드 하숙집에서 묵으...  \n",
       "1     ['카람은 여자 목소리를 내는 데 천부적인 재능이 있는 남자로, 적절한 직업을 찾던...  \n",
       "2     ['분노만 남은 결혼 생활. 부부는 서로를 죽이려는 계획을 숨기고 외딴 산장으로 여...  \n",
       "3     ['바다 폭풍에 휩쓸린 옥토넛은 우연히 사막에 상륙한다.\\r', <br/>, '\\x...  \n",
       "4     ['50년 넘게 노점을 해온 팔순의 김종분.', <br/>, '\\xa0왕십리역 11...  \n",
       "...                                                 ...  \n",
       "1807  ['폭력적인 남편을 피해 아이들과 함께 친구 다니엘의 집을 찾은 ‘이반’\\r', <...  \n",
       "1808  ['생계형 수습 변호사 ‘태수’에게 찾아온 일생일대의 기회, 위기의 동물원 ‘동산파...  \n",
       "1809  ['타고난 가창력으로 스코틀랜드 글래스고의 한 바에서 인기 몰이 중인 로즈의 꿈은 ...  \n",
       "1810  ['교도소에서 출소한 대니는 로랑스와 클라라 모녀가 운영하는 낡은 모텔에서 새 삶을...  \n",
       "1811  ['게임을 좋아하는 12살 소년 ‘하비’.', <br/>, '\\xa0아버지가 일하는...  \n",
       "\n",
       "[1812 rows x 10 columns]"
      ]
     },
     "execution_count": 4,
     "metadata": {},
     "output_type": "execute_result"
    }
   ],
   "source": [
    "df.astype({'title':'str'})"
   ]
  },
  {
   "cell_type": "code",
   "execution_count": 5,
   "id": "d9862189",
   "metadata": {
    "scrolled": true
   },
   "outputs": [
    {
     "name": "stdout",
     "output_type": "stream",
     "text": [
      "(1812, 10)\n",
      "<class 'pandas.core.frame.DataFrame'>\n",
      "RangeIndex: 1812 entries, 0 to 1811\n",
      "Data columns (total 10 columns):\n",
      " #   Column       Non-Null Count  Dtype \n",
      "---  ------       --------------  ----- \n",
      " 0   title        1812 non-null   object\n",
      " 1   vote         1812 non-null   object\n",
      " 2   genre        1812 non-null   object\n",
      " 3   country      1812 non-null   object\n",
      " 4   time         1808 non-null   object\n",
      " 5   open_date    1812 non-null   object\n",
      " 6   actor        1812 non-null   object\n",
      " 7   grade        1812 non-null   object\n",
      " 8   poster_path  1812 non-null   object\n",
      " 9   content      1812 non-null   object\n",
      "dtypes: object(10)\n",
      "memory usage: 141.7+ KB\n"
     ]
    }
   ],
   "source": [
    "print(df.shape)\n",
    "df.info()"
   ]
  },
  {
   "cell_type": "markdown",
   "id": "b4bf6512",
   "metadata": {},
   "source": [
    " \n"
   ]
  },
  {
   "cell_type": "markdown",
   "id": "85416f75",
   "metadata": {},
   "source": [
    " \n"
   ]
  },
  {
   "cell_type": "markdown",
   "id": "f4c69896",
   "metadata": {},
   "source": [
    "1. content 없는 값 확인"
   ]
  },
  {
   "cell_type": "code",
   "execution_count": 6,
   "id": "a84fa05f",
   "metadata": {},
   "outputs": [
    {
     "name": "stdout",
     "output_type": "stream",
     "text": [
      "1812\n"
     ]
    }
   ],
   "source": [
    "length = len(df.iloc[:])\n",
    "print(length)"
   ]
  },
  {
   "cell_type": "code",
   "execution_count": 7,
   "id": "57e0b116",
   "metadata": {},
   "outputs": [],
   "source": [
    "no_content = []"
   ]
  },
  {
   "cell_type": "code",
   "execution_count": 8,
   "id": "de1f48d5",
   "metadata": {},
   "outputs": [],
   "source": [
    "for i in range(length):\n",
    "    if df.iloc[i, 9] == '[]':\n",
    "        no_content.append(i)"
   ]
  },
  {
   "cell_type": "code",
   "execution_count": 9,
   "id": "a22e8099",
   "metadata": {},
   "outputs": [
    {
     "name": "stdout",
     "output_type": "stream",
     "text": [
      "[10, 54, 59, 185, 488, 502, 715, 716, 729, 843, 844, 911, 952, 1006, 1009, 1024, 1041, 1048, 1071, 1091, 1157, 1161, 1282, 1343, 1375, 1485, 1559, 1614, 1719, 1778]\n",
      "30\n"
     ]
    }
   ],
   "source": [
    "print(no_content)\n",
    "print(len(no_content))"
   ]
  },
  {
   "cell_type": "markdown",
   "id": "b5a686f1",
   "metadata": {},
   "source": [
    " "
   ]
  },
  {
   "cell_type": "markdown",
   "id": "602492b4",
   "metadata": {},
   "source": [
    "2. 배우가 없는 영화 목록 확인"
   ]
  },
  {
   "cell_type": "code",
   "execution_count": 10,
   "id": "e936ab7c",
   "metadata": {},
   "outputs": [
    {
     "name": "stdout",
     "output_type": "stream",
     "text": [
      "1812\n"
     ]
    }
   ],
   "source": [
    "no_actor = []\n",
    "length = len(df.iloc[:])\n",
    "print(length)"
   ]
  },
  {
   "cell_type": "code",
   "execution_count": 11,
   "id": "94e1dbe6",
   "metadata": {},
   "outputs": [
    {
     "name": "stdout",
     "output_type": "stream",
     "text": [
      "['전체 관람가'] ['12세 관람가'] ['15세 관람가'] ['청소년 관람불가']\n"
     ]
    }
   ],
   "source": [
    "grade_all = df.iloc[35,6]\n",
    "grade_12 = df.iloc[17,6]\n",
    "grade_15 = df.iloc[5,6]\n",
    "grade_18 = df.iloc[15,6]\n",
    "print(grade_all, grade_12, grade_15, grade_18)"
   ]
  },
  {
   "cell_type": "code",
   "execution_count": 12,
   "id": "8619d598",
   "metadata": {},
   "outputs": [],
   "source": [
    "for i in range(length):\n",
    "    if df.iloc[i, 6] == grade_all or df.iloc[i, 6] == grade_12 or df.iloc[i, 6] == grade_15 or df.iloc[i, 6] == grade_18:\n",
    "        no_actor.append(i)"
   ]
  },
  {
   "cell_type": "code",
   "execution_count": 13,
   "id": "a7f962f6",
   "metadata": {
    "scrolled": true
   },
   "outputs": [
    {
     "name": "stdout",
     "output_type": "stream",
     "text": [
      "[5, 15, 17, 23, 24, 31, 35, 45, 49, 51, 59, 65, 67, 76, 83, 94, 98, 103, 104, 114, 119, 121, 122, 126, 129, 131, 132, 134, 148, 151, 154, 159, 166, 167, 170, 179, 186, 193, 195, 198, 201, 213, 214, 215, 218, 220, 226, 227, 233, 239, 242, 246, 249, 253, 256, 263, 268, 271, 276, 280, 286, 299, 302, 308, 328, 346, 367, 377, 411, 429, 447, 452, 456, 460, 463, 476, 484, 489, 497, 502, 509, 511, 516, 532, 533, 545, 555, 574, 609, 627, 635, 638, 639, 650, 651, 655, 656, 658, 663, 665, 666, 667, 672, 683, 684, 685, 686, 687, 704, 727, 732, 744, 754, 755, 766, 771, 777, 794, 795, 798, 864, 865, 866, 867, 874, 875, 876, 937, 945, 954, 957, 968, 970, 971, 974, 975, 976, 1005, 1008, 1009, 1011, 1024, 1029, 1034, 1035, 1038, 1065, 1076, 1098, 1103, 1118, 1120, 1129, 1130, 1131, 1132, 1134, 1135, 1136, 1141, 1142, 1143, 1153, 1167, 1192, 1210, 1226, 1239, 1240, 1241, 1242, 1244, 1251, 1254, 1255, 1268, 1269, 1271, 1284, 1306, 1324, 1325, 1326, 1343, 1352, 1364, 1396, 1397, 1399, 1400, 1417, 1436, 1439, 1444, 1453, 1500, 1504, 1509, 1512, 1514, 1515, 1519, 1520, 1521, 1533, 1573, 1598, 1653, 1655, 1660, 1727, 1728, 1743, 1750, 1763, 1767, 1795, 1801]\n",
      "218\n"
     ]
    }
   ],
   "source": [
    "print(no_actor)\n",
    "print(len(no_actor))"
   ]
  },
  {
   "cell_type": "markdown",
   "id": "c21618f1",
   "metadata": {},
   "source": [
    "총 1782개 중에서 배우가 없는 영화는 213개이다.\n",
    "충분히 삭제해도 괜찮은듯"
   ]
  },
  {
   "cell_type": "markdown",
   "id": "dba99df3",
   "metadata": {},
   "source": [
    " "
   ]
  },
  {
   "cell_type": "markdown",
   "id": "09a6d4f3",
   "metadata": {},
   "source": [
    " "
   ]
  },
  {
   "cell_type": "markdown",
   "id": "fce304a7",
   "metadata": {},
   "source": [
    " "
   ]
  },
  {
   "cell_type": "markdown",
   "id": "92e53a60",
   "metadata": {},
   "source": [
    " "
   ]
  },
  {
   "cell_type": "markdown",
   "id": "83e29937",
   "metadata": {},
   "source": [
    "3. 등급이 없는 영화 확인 + 전처리"
   ]
  },
  {
   "cell_type": "markdown",
   "id": "af3f3af5",
   "metadata": {},
   "source": [
    "- grade에서 ['전체 관람가'] 를 '전체 관람가'로 모두 변경"
   ]
  },
  {
   "cell_type": "code",
   "execution_count": 14,
   "id": "7a1adb33",
   "metadata": {
    "scrolled": true
   },
   "outputs": [
    {
     "name": "stdout",
     "output_type": "stream",
     "text": [
      "False\n",
      "True\n"
     ]
    }
   ],
   "source": [
    "print(df.iloc[7,7] == ['전체 관람가'])\n",
    "print(df.iloc[3,7] == '전체 관람가')"
   ]
  },
  {
   "cell_type": "code",
   "execution_count": 15,
   "id": "388d294e",
   "metadata": {},
   "outputs": [
    {
     "name": "stdout",
     "output_type": "stream",
     "text": [
      "['전체 관람가'] ['12세 관람가'] ['15세 관람가'] ['청소년 관람불가']\n"
     ]
    }
   ],
   "source": [
    "print(grade_all, grade_12, grade_15, grade_18)"
   ]
  },
  {
   "cell_type": "code",
   "execution_count": 16,
   "id": "7789180d",
   "metadata": {},
   "outputs": [],
   "source": [
    "for i in range(length):\n",
    "    if df.iloc[i, 7] == grade_all:\n",
    "        df.iloc[i, 7] = '전체 관람가'"
   ]
  },
  {
   "cell_type": "code",
   "execution_count": 17,
   "id": "a0463027",
   "metadata": {
    "scrolled": true
   },
   "outputs": [
    {
     "data": {
      "text/plain": [
       "0     청소년 관람불가\n",
       "1      12세 관람가\n",
       "2     청소년 관람불가\n",
       "3       전체 관람가\n",
       "4      12세 관람가\n",
       "5       전체 관람가\n",
       "6      12세 관람가\n",
       "7       전체 관람가\n",
       "8     청소년 관람불가\n",
       "9       전체 관람가\n",
       "10     12세 관람가\n",
       "11     15세 관람가\n",
       "12     12세 관람가\n",
       "13     12세 관람가\n",
       "14     15세 관람가\n",
       "15      전체 관람가\n",
       "16     15세 관람가\n",
       "17      전체 관람가\n",
       "18     15세 관람가\n",
       "19     15세 관람가\n",
       "Name: grade, dtype: object"
      ]
     },
     "execution_count": 17,
     "metadata": {},
     "output_type": "execute_result"
    }
   ],
   "source": [
    "df.iloc[:20, 7]"
   ]
  },
  {
   "cell_type": "markdown",
   "id": "0c10a083",
   "metadata": {},
   "source": [
    "- grade가 없는 값들 모두 no_grade에 담기"
   ]
  },
  {
   "cell_type": "code",
   "execution_count": 18,
   "id": "30cc46f6",
   "metadata": {},
   "outputs": [],
   "source": [
    "no_grade = []"
   ]
  },
  {
   "cell_type": "code",
   "execution_count": 19,
   "id": "6b5d4dfd",
   "metadata": {},
   "outputs": [],
   "source": [
    "for i in range(length):\n",
    "    if df.iloc[i, 7] != '전체 관람가' and df.iloc[i, 7] != '12세 관람가' and df.iloc[i, 7] != '15세 관람가' and df.iloc[i, 7] != '청소년 관람불가':\n",
    "        no_grade.append(i)"
   ]
  },
  {
   "cell_type": "code",
   "execution_count": 20,
   "id": "f15b43ed",
   "metadata": {},
   "outputs": [
    {
     "name": "stdout",
     "output_type": "stream",
     "text": [
      "[525, 717, 1054, 1236]\n"
     ]
    }
   ],
   "source": [
    "print(no_grade)"
   ]
  },
  {
   "cell_type": "markdown",
   "id": "3d3d1323",
   "metadata": {},
   "source": [
    " "
   ]
  },
  {
   "cell_type": "code",
   "execution_count": 21,
   "id": "8dd5ba36",
   "metadata": {},
   "outputs": [
    {
     "data": {
      "text/html": [
       "<div>\n",
       "<style scoped>\n",
       "    .dataframe tbody tr th:only-of-type {\n",
       "        vertical-align: middle;\n",
       "    }\n",
       "\n",
       "    .dataframe tbody tr th {\n",
       "        vertical-align: top;\n",
       "    }\n",
       "\n",
       "    .dataframe thead th {\n",
       "        text-align: right;\n",
       "    }\n",
       "</style>\n",
       "<table border=\"1\" class=\"dataframe\">\n",
       "  <thead>\n",
       "    <tr style=\"text-align: right;\">\n",
       "      <th></th>\n",
       "      <th>title</th>\n",
       "      <th>vote</th>\n",
       "      <th>genre</th>\n",
       "      <th>country</th>\n",
       "      <th>time</th>\n",
       "      <th>open_date</th>\n",
       "      <th>actor</th>\n",
       "      <th>grade</th>\n",
       "      <th>poster_path</th>\n",
       "      <th>content</th>\n",
       "    </tr>\n",
       "  </thead>\n",
       "  <tbody>\n",
       "    <tr>\n",
       "      <th>0</th>\n",
       "      <td>아무도 살아서 나갈 수 없다</td>\n",
       "      <td>관람객 평점 없음</td>\n",
       "      <td>['미스터리', '공포']</td>\n",
       "      <td>영국</td>\n",
       "      <td>86분</td>\n",
       "      <td>['미상']</td>\n",
       "      <td>['마크 멘차카']</td>\n",
       "      <td>청소년 관람불가</td>\n",
       "      <td>https://movie-phinf.pstatic.net/20211012_193/1...</td>\n",
       "      <td>['절박한 심정으로 미국에 밀입국한 멕시코 여성. 허름한 클리블랜드 하숙집에서 묵으...</td>\n",
       "    </tr>\n",
       "    <tr>\n",
       "      <th>1</th>\n",
       "      <td>드림걸: 수상한 콜센터</td>\n",
       "      <td>관람객 평점 없음</td>\n",
       "      <td>['코미디']</td>\n",
       "      <td>인도</td>\n",
       "      <td>125분</td>\n",
       "      <td>['미상']</td>\n",
       "      <td>['아유쉬만 커라나', '비자이 라즈']</td>\n",
       "      <td>12세 관람가</td>\n",
       "      <td>https://movie-phinf.pstatic.net/20210929_200/1...</td>\n",
       "      <td>['카람은 여자 목소리를 내는 데 천부적인 재능이 있는 남자로, 적절한 직업을 찾던...</td>\n",
       "    </tr>\n",
       "    <tr>\n",
       "      <th>2</th>\n",
       "      <td>트립</td>\n",
       "      <td>관람객 평점 없음</td>\n",
       "      <td>['공포', '코미디']</td>\n",
       "      <td>노르웨이</td>\n",
       "      <td>113분</td>\n",
       "      <td>['미상']</td>\n",
       "      <td>['누미 라파스', '엑셀 헨니', '아틀레 안톤센']</td>\n",
       "      <td>청소년 관람불가</td>\n",
       "      <td>https://movie-phinf.pstatic.net/20211110_292/1...</td>\n",
       "      <td>['분노만 남은 결혼 생활. 부부는 서로를 죽이려는 계획을 숨기고 외딴 산장으로 여...</td>\n",
       "    </tr>\n",
       "    <tr>\n",
       "      <th>3</th>\n",
       "      <td>바다 탐험대 옥토넛 : 육지수호 대작전</td>\n",
       "      <td>관람객 평점 6.00점</td>\n",
       "      <td>['애니메이션', '액션', '모험']</td>\n",
       "      <td>영국</td>\n",
       "      <td>60분</td>\n",
       "      <td>2021.10.27</td>\n",
       "      <td>['하성용', '정재헌', '엄상현']</td>\n",
       "      <td>전체 관람가</td>\n",
       "      <td>https://movie-phinf.pstatic.net/20210924_146/1...</td>\n",
       "      <td>['바다 폭풍에 휩쓸린 옥토넛은 우연히 사막에 상륙한다.\\r', &lt;br/&gt;, '\\x...</td>\n",
       "    </tr>\n",
       "    <tr>\n",
       "      <th>4</th>\n",
       "      <td>왕십리 김종분</td>\n",
       "      <td>관람객 평점 없음</td>\n",
       "      <td>['다큐멘터리']</td>\n",
       "      <td>한국</td>\n",
       "      <td>102분</td>\n",
       "      <td>2021.11.11</td>\n",
       "      <td>['김종분', '김귀임', '김종수']</td>\n",
       "      <td>12세 관람가</td>\n",
       "      <td>https://movie-phinf.pstatic.net/20211026_135/1...</td>\n",
       "      <td>['50년 넘게 노점을 해온 팔순의 김종분.', &lt;br/&gt;, '\\xa0왕십리역 11...</td>\n",
       "    </tr>\n",
       "    <tr>\n",
       "      <th>...</th>\n",
       "      <td>...</td>\n",
       "      <td>...</td>\n",
       "      <td>...</td>\n",
       "      <td>...</td>\n",
       "      <td>...</td>\n",
       "      <td>...</td>\n",
       "      <td>...</td>\n",
       "      <td>...</td>\n",
       "      <td>...</td>\n",
       "      <td>...</td>\n",
       "    </tr>\n",
       "    <tr>\n",
       "      <th>1807</th>\n",
       "      <td>유혹의 계절</td>\n",
       "      <td>관람객 평점 없음</td>\n",
       "      <td>['멜로/로맨스', '드라마']</td>\n",
       "      <td>아일랜드</td>\n",
       "      <td>103분</td>\n",
       "      <td>2018.11.01</td>\n",
       "      <td>['킬리언 머피', '캐서린 워커', '앤드류 스캇']</td>\n",
       "      <td>청소년 관람불가</td>\n",
       "      <td>https://movie-phinf.pstatic.net/20181016_189/1...</td>\n",
       "      <td>['폭력적인 남편을 피해 아이들과 함께 친구 다니엘의 집을 찾은 ‘이반’\\r', &lt;...</td>\n",
       "    </tr>\n",
       "    <tr>\n",
       "      <th>1808</th>\n",
       "      <td>해치지않아</td>\n",
       "      <td>관람객 평점 7.32점</td>\n",
       "      <td>['코미디']</td>\n",
       "      <td>한국</td>\n",
       "      <td>117분</td>\n",
       "      <td>2020.01.15</td>\n",
       "      <td>['안재홍', '강소라', '박영규']</td>\n",
       "      <td>12세 관람가</td>\n",
       "      <td>https://movie-phinf.pstatic.net/20200115_223/1...</td>\n",
       "      <td>['생계형 수습 변호사 ‘태수’에게 찾아온 일생일대의 기회, 위기의 동물원 ‘동산파...</td>\n",
       "    </tr>\n",
       "    <tr>\n",
       "      <th>1809</th>\n",
       "      <td>와일드 로즈</td>\n",
       "      <td>관람객 평점 8.90점</td>\n",
       "      <td>['드라마']</td>\n",
       "      <td>영국</td>\n",
       "      <td>100분</td>\n",
       "      <td>2019.10.17</td>\n",
       "      <td>['제시 버클리', '줄리 월터스']</td>\n",
       "      <td>15세 관람가</td>\n",
       "      <td>https://movie-phinf.pstatic.net/20191002_88/15...</td>\n",
       "      <td>['타고난 가창력으로 스코틀랜드 글래스고의 한 바에서 인기 몰이 중인 로즈의 꿈은 ...</td>\n",
       "    </tr>\n",
       "    <tr>\n",
       "      <th>1810</th>\n",
       "      <td>블루버드 인 마이 하트</td>\n",
       "      <td>관람객 평점 없음</td>\n",
       "      <td>['범죄', '액션', '드라마']</td>\n",
       "      <td>프랑스</td>\n",
       "      <td>89분</td>\n",
       "      <td>2021.03.15</td>\n",
       "      <td>['로랜드 몰러', '로라 르 란', '벨 배턴스']</td>\n",
       "      <td>청소년 관람불가</td>\n",
       "      <td>https://movie-phinf.pstatic.net/20210310_84/16...</td>\n",
       "      <td>['교도소에서 출소한 대니는 로랑스와 클라라 모녀가 운영하는 낡은 모텔에서 새 삶을...</td>\n",
       "    </tr>\n",
       "    <tr>\n",
       "      <th>1811</th>\n",
       "      <td>박물관이 진짜 살아있다</td>\n",
       "      <td>관람객 평점 7.78점</td>\n",
       "      <td>['애니메이션', '모험', '코미디']</td>\n",
       "      <td>체코</td>\n",
       "      <td>86분</td>\n",
       "      <td>2018.11.08</td>\n",
       "      <td>['장은숙', '최원형', '장경희']</td>\n",
       "      <td>전체 관람가</td>\n",
       "      <td>https://movie-phinf.pstatic.net/20181108_98/15...</td>\n",
       "      <td>['게임을 좋아하는 12살 소년 ‘하비’.', &lt;br/&gt;, '\\xa0아버지가 일하는...</td>\n",
       "    </tr>\n",
       "  </tbody>\n",
       "</table>\n",
       "<p>1812 rows × 10 columns</p>\n",
       "</div>"
      ],
      "text/plain": [
       "                      title          vote                   genre country  \\\n",
       "0           아무도 살아서 나갈 수 없다     관람객 평점 없음          ['미스터리', '공포']      영국   \n",
       "1              드림걸: 수상한 콜센터     관람객 평점 없음                 ['코미디']      인도   \n",
       "2                        트립     관람객 평점 없음           ['공포', '코미디']    노르웨이   \n",
       "3     바다 탐험대 옥토넛 : 육지수호 대작전  관람객 평점 6.00점   ['애니메이션', '액션', '모험']      영국   \n",
       "4                   왕십리 김종분     관람객 평점 없음               ['다큐멘터리']      한국   \n",
       "...                     ...           ...                     ...     ...   \n",
       "1807                 유혹의 계절     관람객 평점 없음       ['멜로/로맨스', '드라마']    아일랜드   \n",
       "1808                  해치지않아  관람객 평점 7.32점                 ['코미디']      한국   \n",
       "1809                 와일드 로즈  관람객 평점 8.90점                 ['드라마']      영국   \n",
       "1810           블루버드 인 마이 하트     관람객 평점 없음     ['범죄', '액션', '드라마']     프랑스   \n",
       "1811           박물관이 진짜 살아있다  관람객 평점 7.78점  ['애니메이션', '모험', '코미디']      체코   \n",
       "\n",
       "      time   open_date                           actor     grade  \\\n",
       "0      86분      ['미상']                      ['마크 멘차카']  청소년 관람불가   \n",
       "1     125분      ['미상']          ['아유쉬만 커라나', '비자이 라즈']   12세 관람가   \n",
       "2     113분      ['미상']  ['누미 라파스', '엑셀 헨니', '아틀레 안톤센']  청소년 관람불가   \n",
       "3      60분  2021.10.27           ['하성용', '정재헌', '엄상현']    전체 관람가   \n",
       "4     102분  2021.11.11           ['김종분', '김귀임', '김종수']   12세 관람가   \n",
       "...    ...         ...                             ...       ...   \n",
       "1807  103분  2018.11.01  ['킬리언 머피', '캐서린 워커', '앤드류 스캇']  청소년 관람불가   \n",
       "1808  117분  2020.01.15           ['안재홍', '강소라', '박영규']   12세 관람가   \n",
       "1809  100분  2019.10.17            ['제시 버클리', '줄리 월터스']   15세 관람가   \n",
       "1810   89분  2021.03.15   ['로랜드 몰러', '로라 르 란', '벨 배턴스']  청소년 관람불가   \n",
       "1811   86분  2018.11.08           ['장은숙', '최원형', '장경희']    전체 관람가   \n",
       "\n",
       "                                            poster_path  \\\n",
       "0     https://movie-phinf.pstatic.net/20211012_193/1...   \n",
       "1     https://movie-phinf.pstatic.net/20210929_200/1...   \n",
       "2     https://movie-phinf.pstatic.net/20211110_292/1...   \n",
       "3     https://movie-phinf.pstatic.net/20210924_146/1...   \n",
       "4     https://movie-phinf.pstatic.net/20211026_135/1...   \n",
       "...                                                 ...   \n",
       "1807  https://movie-phinf.pstatic.net/20181016_189/1...   \n",
       "1808  https://movie-phinf.pstatic.net/20200115_223/1...   \n",
       "1809  https://movie-phinf.pstatic.net/20191002_88/15...   \n",
       "1810  https://movie-phinf.pstatic.net/20210310_84/16...   \n",
       "1811  https://movie-phinf.pstatic.net/20181108_98/15...   \n",
       "\n",
       "                                                content  \n",
       "0     ['절박한 심정으로 미국에 밀입국한 멕시코 여성. 허름한 클리블랜드 하숙집에서 묵으...  \n",
       "1     ['카람은 여자 목소리를 내는 데 천부적인 재능이 있는 남자로, 적절한 직업을 찾던...  \n",
       "2     ['분노만 남은 결혼 생활. 부부는 서로를 죽이려는 계획을 숨기고 외딴 산장으로 여...  \n",
       "3     ['바다 폭풍에 휩쓸린 옥토넛은 우연히 사막에 상륙한다.\\r', <br/>, '\\x...  \n",
       "4     ['50년 넘게 노점을 해온 팔순의 김종분.', <br/>, '\\xa0왕십리역 11...  \n",
       "...                                                 ...  \n",
       "1807  ['폭력적인 남편을 피해 아이들과 함께 친구 다니엘의 집을 찾은 ‘이반’\\r', <...  \n",
       "1808  ['생계형 수습 변호사 ‘태수’에게 찾아온 일생일대의 기회, 위기의 동물원 ‘동산파...  \n",
       "1809  ['타고난 가창력으로 스코틀랜드 글래스고의 한 바에서 인기 몰이 중인 로즈의 꿈은 ...  \n",
       "1810  ['교도소에서 출소한 대니는 로랑스와 클라라 모녀가 운영하는 낡은 모텔에서 새 삶을...  \n",
       "1811  ['게임을 좋아하는 12살 소년 ‘하비’.', <br/>, '\\xa0아버지가 일하는...  \n",
       "\n",
       "[1812 rows x 10 columns]"
      ]
     },
     "execution_count": 21,
     "metadata": {},
     "output_type": "execute_result"
    }
   ],
   "source": [
    "df"
   ]
  },
  {
   "cell_type": "code",
   "execution_count": 22,
   "id": "d7279a24",
   "metadata": {},
   "outputs": [],
   "source": [
    "no_open = []"
   ]
  },
  {
   "cell_type": "code",
   "execution_count": 23,
   "id": "212bfe86",
   "metadata": {
    "scrolled": true
   },
   "outputs": [
    {
     "data": {
      "text/plain": [
       "True"
      ]
     },
     "execution_count": 23,
     "metadata": {},
     "output_type": "execute_result"
    }
   ],
   "source": [
    "df.iloc[0,5] == \"['미상']\""
   ]
  },
  {
   "cell_type": "code",
   "execution_count": 24,
   "id": "1407ce55",
   "metadata": {},
   "outputs": [],
   "source": [
    "for i in range(length):\n",
    "    if df.iloc[i,5] == \"['미상']\":\n",
    "        no_open.append(i)"
   ]
  },
  {
   "cell_type": "code",
   "execution_count": 25,
   "id": "81dccffc",
   "metadata": {},
   "outputs": [
    {
     "name": "stdout",
     "output_type": "stream",
     "text": [
      "[0, 1, 2, 5, 6, 12, 19, 30, 31, 32, 36, 37, 38, 40, 46, 54, 56, 59, 81, 87, 93, 117, 118, 126, 129, 133, 135, 141, 146, 152, 159, 163, 168, 170, 172, 173, 174, 185, 189, 208, 233, 283, 302, 310, 332, 333, 334, 336, 351, 352, 355, 360, 361, 362, 363, 366, 367, 368, 376, 378, 381, 384, 386, 391, 402, 403, 413, 415, 417, 430, 431, 472, 478, 481, 484, 485, 487, 488, 493, 499, 502, 503, 511, 518, 520, 525, 531, 532, 546, 550, 551, 554, 568, 592, 610, 611, 615, 619, 620, 621, 623, 630, 631, 632, 633, 634, 635, 636, 637, 638, 639, 640, 641, 642, 643, 644, 645, 646, 647, 648, 649, 650, 651, 652, 653, 654, 655, 656, 657, 658, 659, 660, 661, 662, 663, 664, 665, 666, 667, 668, 669, 670, 671, 672, 673, 681, 682, 683, 684, 685, 686, 694, 695, 700, 708, 709, 710, 711, 712, 713, 714, 715, 716, 717, 718, 729, 732, 733, 734, 741, 756, 780, 790, 794, 795, 796, 797, 798, 809, 812, 813, 816, 817, 819, 834, 835, 836, 837, 838, 839, 840, 841, 843, 844, 845, 846, 852, 853, 863, 864, 865, 866, 867, 868, 870, 871, 872, 873, 874, 875, 876, 879, 882, 890, 903, 907, 909, 911, 935, 939, 940, 941, 942, 943, 944, 946, 952, 955, 958, 959, 960, 962, 963, 964, 965, 966, 967, 968, 969, 970, 971, 972, 988, 991, 1003, 1004, 1006, 1008, 1009, 1010, 1014, 1017, 1024, 1027, 1032, 1041, 1048, 1056, 1067, 1071, 1078, 1079, 1091, 1110, 1128, 1148, 1149, 1155, 1157, 1161, 1162, 1165, 1168, 1174, 1176, 1202, 1207, 1231, 1236, 1250, 1259, 1260, 1266, 1274, 1279, 1282, 1291, 1295, 1333, 1336, 1343, 1375, 1405, 1407, 1435, 1440, 1445, 1485, 1493, 1512, 1552, 1553, 1554, 1555, 1556, 1557, 1559, 1607, 1614, 1619, 1631, 1635, 1651, 1665, 1674, 1682, 1684, 1685, 1694, 1695, 1703, 1719, 1774, 1778, 1806]\n"
     ]
    }
   ],
   "source": [
    "print(no_open)"
   ]
  },
  {
   "cell_type": "markdown",
   "id": "cbe9278c",
   "metadata": {},
   "source": [
    " "
   ]
  },
  {
   "cell_type": "code",
   "execution_count": 26,
   "id": "575e2c65",
   "metadata": {},
   "outputs": [],
   "source": [
    "grouped = df.groupby('content')\n",
    "# print(grouped.count())"
   ]
  },
  {
   "cell_type": "markdown",
   "id": "3b357cc7",
   "metadata": {},
   "source": [
    " "
   ]
  },
  {
   "cell_type": "markdown",
   "id": "aa007f9b",
   "metadata": {},
   "source": [
    " "
   ]
  },
  {
   "cell_type": "markdown",
   "id": "888596bd",
   "metadata": {},
   "source": [
    "제거할 행들 모두 제거"
   ]
  },
  {
   "cell_type": "code",
   "execution_count": 27,
   "id": "6971e66d",
   "metadata": {
    "scrolled": true
   },
   "outputs": [
    {
     "name": "stdout",
     "output_type": "stream",
     "text": [
      "[0, 1, 2, 5, 6, 10, 12, 15, 17, 19, 23, 24, 30, 31, 32, 35, 36, 37, 38, 40, 45, 46, 49, 51, 54, 56, 59, 65, 67, 76, 81, 83, 87, 93, 94, 98, 103, 104, 114, 117, 118, 119, 121, 122, 126, 129, 131, 132, 133, 134, 135, 141, 146, 148, 151, 152, 154, 159, 163, 166, 167, 168, 170, 172, 173, 174, 179, 185, 186, 189, 193, 195, 198, 201, 208, 213, 214, 215, 218, 220, 226, 227, 233, 239, 242, 246, 249, 253, 256, 263, 268, 271, 276, 280, 283, 286, 299, 302, 308, 310, 328, 332, 333, 334, 336, 346, 351, 352, 355, 360, 361, 362, 363, 366, 367, 368, 376, 377, 378, 381, 384, 386, 391, 402, 403, 411, 413, 415, 417, 429, 430, 431, 447, 452, 456, 460, 463, 472, 476, 478, 481, 484, 485, 487, 488, 489, 493, 497, 499, 502, 503, 509, 511, 516, 518, 520, 525, 531, 532, 533, 545, 546, 550, 551, 554, 555, 568, 574, 592, 609, 610, 611, 615, 619, 620, 621, 623, 627, 630, 631, 632, 633, 634, 635, 636, 637, 638, 639, 640, 641, 642, 643, 644, 645, 646, 647, 648, 649, 650, 651, 652, 653, 654, 655, 656, 657, 658, 659, 660, 661, 662, 663, 664, 665, 666, 667, 668, 669, 670, 671, 672, 673, 681, 682, 683, 684, 685, 686, 687, 694, 695, 700, 704, 708, 709, 710, 711, 712, 713, 714, 715, 716, 717, 718, 727, 729, 732, 733, 734, 741, 744, 754, 755, 756, 766, 771, 777, 780, 790, 794, 795, 796, 797, 798, 809, 812, 813, 816, 817, 819, 834, 835, 836, 837, 838, 839, 840, 841, 843, 844, 845, 846, 852, 853, 863, 864, 865, 866, 867, 868, 870, 871, 872, 873, 874, 875, 876, 879, 882, 890, 903, 907, 909, 911, 935, 937, 939, 940, 941, 942, 943, 944, 945, 946, 952, 954, 955, 957, 958, 959, 960, 962, 963, 964, 965, 966, 967, 968, 969, 970, 971, 972, 974, 975, 976, 988, 991, 1003, 1004, 1005, 1006, 1008, 1009, 1010, 1011, 1014, 1017, 1024, 1027, 1029, 1032, 1034, 1035, 1038, 1041, 1048, 1054, 1056, 1065, 1067, 1071, 1076, 1078, 1079, 1091, 1098, 1103, 1110, 1118, 1120, 1128, 1129, 1130, 1131, 1132, 1134, 1135, 1136, 1141, 1142, 1143, 1148, 1149, 1153, 1155, 1157, 1161, 1162, 1165, 1167, 1168, 1174, 1176, 1192, 1202, 1207, 1210, 1226, 1231, 1236, 1239, 1240, 1241, 1242, 1244, 1250, 1251, 1254, 1255, 1259, 1260, 1266, 1268, 1269, 1271, 1274, 1279, 1282, 1284, 1291, 1295, 1306, 1324, 1325, 1326, 1333, 1336, 1343, 1352, 1364, 1375, 1396, 1397, 1399, 1400, 1405, 1407, 1417, 1435, 1436, 1439, 1440, 1444, 1445, 1453, 1485, 1493, 1500, 1504, 1509, 1512, 1514, 1515, 1519, 1520, 1521, 1533, 1552, 1553, 1554, 1555, 1556, 1557, 1559, 1573, 1598, 1607, 1614, 1619, 1631, 1635, 1651, 1653, 1655, 1660, 1665, 1674, 1682, 1684, 1685, 1694, 1695, 1703, 1719, 1727, 1728, 1743, 1750, 1763, 1767, 1774, 1778, 1795, 1801, 1806]\n",
      "495\n"
     ]
    }
   ],
   "source": [
    "del_list = no_content + no_actor + no_grade + no_open\n",
    "del_list = sorted(list(set(del_list)))\n",
    "print(del_list)\n",
    "print(len(del_list))"
   ]
  },
  {
   "cell_type": "code",
   "execution_count": 28,
   "id": "ae39c3fb",
   "metadata": {},
   "outputs": [
    {
     "data": {
      "text/html": [
       "<div>\n",
       "<style scoped>\n",
       "    .dataframe tbody tr th:only-of-type {\n",
       "        vertical-align: middle;\n",
       "    }\n",
       "\n",
       "    .dataframe tbody tr th {\n",
       "        vertical-align: top;\n",
       "    }\n",
       "\n",
       "    .dataframe thead th {\n",
       "        text-align: right;\n",
       "    }\n",
       "</style>\n",
       "<table border=\"1\" class=\"dataframe\">\n",
       "  <thead>\n",
       "    <tr style=\"text-align: right;\">\n",
       "      <th></th>\n",
       "      <th>title</th>\n",
       "      <th>vote</th>\n",
       "      <th>genre</th>\n",
       "      <th>country</th>\n",
       "      <th>time</th>\n",
       "      <th>open_date</th>\n",
       "      <th>actor</th>\n",
       "      <th>grade</th>\n",
       "      <th>poster_path</th>\n",
       "      <th>content</th>\n",
       "    </tr>\n",
       "  </thead>\n",
       "  <tbody>\n",
       "    <tr>\n",
       "      <th>0</th>\n",
       "      <td>바다 탐험대 옥토넛 : 육지수호 대작전</td>\n",
       "      <td>관람객 평점 6.00점</td>\n",
       "      <td>['애니메이션', '액션', '모험']</td>\n",
       "      <td>영국</td>\n",
       "      <td>60분</td>\n",
       "      <td>2021.10.27</td>\n",
       "      <td>['하성용', '정재헌', '엄상현']</td>\n",
       "      <td>전체 관람가</td>\n",
       "      <td>https://movie-phinf.pstatic.net/20210924_146/1...</td>\n",
       "      <td>['바다 폭풍에 휩쓸린 옥토넛은 우연히 사막에 상륙한다.\\r', &lt;br/&gt;, '\\x...</td>\n",
       "    </tr>\n",
       "    <tr>\n",
       "      <th>1</th>\n",
       "      <td>왕십리 김종분</td>\n",
       "      <td>관람객 평점 없음</td>\n",
       "      <td>['다큐멘터리']</td>\n",
       "      <td>한국</td>\n",
       "      <td>102분</td>\n",
       "      <td>2021.11.11</td>\n",
       "      <td>['김종분', '김귀임', '김종수']</td>\n",
       "      <td>12세 관람가</td>\n",
       "      <td>https://movie-phinf.pstatic.net/20211026_135/1...</td>\n",
       "      <td>['50년 넘게 노점을 해온 팔순의 김종분.', &lt;br/&gt;, '\\xa0왕십리역 11...</td>\n",
       "    </tr>\n",
       "    <tr>\n",
       "      <th>2</th>\n",
       "      <td>결혼 후에 남겨진 것들</td>\n",
       "      <td>관람객 평점 없음</td>\n",
       "      <td>['멜로/로맨스', '드라마']</td>\n",
       "      <td>미국</td>\n",
       "      <td>97분</td>\n",
       "      <td>2021.1</td>\n",
       "      <td>['로스 맥콜', '앨리슨 밀러']</td>\n",
       "      <td>전체 관람가</td>\n",
       "      <td>https://movie-phinf.pstatic.net/20210928_272/1...</td>\n",
       "      <td>['10년 된 부부 라이언과 클로디아는 옛 추억을 떠올리며, 신혼여행지 이탈리아를 ...</td>\n",
       "    </tr>\n",
       "  </tbody>\n",
       "</table>\n",
       "</div>"
      ],
      "text/plain": [
       "                   title          vote                  genre country  time  \\\n",
       "0  바다 탐험대 옥토넛 : 육지수호 대작전  관람객 평점 6.00점  ['애니메이션', '액션', '모험']      영국   60분   \n",
       "1                왕십리 김종분     관람객 평점 없음              ['다큐멘터리']      한국  102분   \n",
       "2           결혼 후에 남겨진 것들     관람객 평점 없음      ['멜로/로맨스', '드라마']      미국   97분   \n",
       "\n",
       "    open_date                  actor    grade  \\\n",
       "0  2021.10.27  ['하성용', '정재헌', '엄상현']   전체 관람가   \n",
       "1  2021.11.11  ['김종분', '김귀임', '김종수']  12세 관람가   \n",
       "2      2021.1    ['로스 맥콜', '앨리슨 밀러']   전체 관람가   \n",
       "\n",
       "                                         poster_path  \\\n",
       "0  https://movie-phinf.pstatic.net/20210924_146/1...   \n",
       "1  https://movie-phinf.pstatic.net/20211026_135/1...   \n",
       "2  https://movie-phinf.pstatic.net/20210928_272/1...   \n",
       "\n",
       "                                             content  \n",
       "0  ['바다 폭풍에 휩쓸린 옥토넛은 우연히 사막에 상륙한다.\\r', <br/>, '\\x...  \n",
       "1  ['50년 넘게 노점을 해온 팔순의 김종분.', <br/>, '\\xa0왕십리역 11...  \n",
       "2  ['10년 된 부부 라이언과 클로디아는 옛 추억을 떠올리며, 신혼여행지 이탈리아를 ...  "
      ]
     },
     "execution_count": 28,
     "metadata": {},
     "output_type": "execute_result"
    }
   ],
   "source": [
    "movie = df.drop(del_list)\n",
    "movie = movie.reset_index(drop=True)\n",
    "movie.iloc[:3]"
   ]
  },
  {
   "cell_type": "code",
   "execution_count": 29,
   "id": "0ff698fd",
   "metadata": {},
   "outputs": [
    {
     "name": "stdout",
     "output_type": "stream",
     "text": [
      "1317\n"
     ]
    }
   ],
   "source": [
    "length = len(movie.iloc[:])\n",
    "print(length)"
   ]
  },
  {
   "cell_type": "code",
   "execution_count": 30,
   "id": "86174968",
   "metadata": {},
   "outputs": [
    {
     "name": "stdout",
     "output_type": "stream",
     "text": [
      "'애니메이션'\n"
     ]
    }
   ],
   "source": [
    "print(movie.iloc[4,2][1:8])"
   ]
  },
  {
   "cell_type": "code",
   "execution_count": 31,
   "id": "f6fc1d62",
   "metadata": {
    "scrolled": true
   },
   "outputs": [
    {
     "data": {
      "text/plain": [
       "[\"['애니메이션']\"]"
      ]
     },
     "execution_count": 31,
     "metadata": {},
     "output_type": "execute_result"
    }
   ],
   "source": [
    "[movie.iloc[4,2]]"
   ]
  },
  {
   "cell_type": "code",
   "execution_count": null,
   "id": "cfd17244",
   "metadata": {},
   "outputs": [],
   "source": []
  },
  {
   "cell_type": "code",
   "execution_count": null,
   "id": "5f2a5352",
   "metadata": {},
   "outputs": [],
   "source": []
  },
  {
   "cell_type": "markdown",
   "id": "24328cf3",
   "metadata": {},
   "source": [
    " "
   ]
  },
  {
   "cell_type": "markdown",
   "id": "84a56597",
   "metadata": {},
   "source": [
    " "
   ]
  },
  {
   "cell_type": "markdown",
   "id": "29d3ce9b",
   "metadata": {},
   "source": [
    " "
   ]
  },
  {
   "cell_type": "markdown",
   "id": "92135915",
   "metadata": {},
   "source": [
    "### 장르를 콤마로 나누기"
   ]
  },
  {
   "cell_type": "code",
   "execution_count": 32,
   "id": "2bcfcb96",
   "metadata": {},
   "outputs": [],
   "source": [
    "for i in range(length):\n",
    "    genre_len = len(movie.iloc[i,2])\n",
    "    movie.iloc[i,2] = movie.iloc[i,2][1:genre_len-1]"
   ]
  },
  {
   "cell_type": "code",
   "execution_count": 33,
   "id": "7e0b9709",
   "metadata": {},
   "outputs": [],
   "source": [
    "movie['genre'] = movie['genre'].apply(lambda x: x.replace(\"'\", \"\"))\n",
    "movie['genre'] = movie['genre'].apply(lambda x: x.replace(\" \", \"\"))"
   ]
  },
  {
   "cell_type": "code",
   "execution_count": 34,
   "id": "2aea26a6",
   "metadata": {},
   "outputs": [
    {
     "data": {
      "text/plain": [
       "0        애니메이션,액션,모험\n",
       "1              다큐멘터리\n",
       "2         멜로/로맨스,드라마\n",
       "3              액션,모험\n",
       "4              애니메이션\n",
       "            ...     \n",
       "1312      멜로/로맨스,드라마\n",
       "1313             코미디\n",
       "1314             드라마\n",
       "1315       범죄,액션,드라마\n",
       "1316    애니메이션,모험,코미디\n",
       "Name: genre, Length: 1317, dtype: object"
      ]
     },
     "execution_count": 34,
     "metadata": {},
     "output_type": "execute_result"
    }
   ],
   "source": [
    "movie['genre']"
   ]
  },
  {
   "cell_type": "code",
   "execution_count": 35,
   "id": "9c47fa06",
   "metadata": {},
   "outputs": [],
   "source": [
    "movie['genre'] = movie['genre'].apply(lambda x: x.split(\",\"))"
   ]
  },
  {
   "cell_type": "code",
   "execution_count": 36,
   "id": "a5662a02",
   "metadata": {},
   "outputs": [
    {
     "data": {
      "text/plain": [
       "0        [애니메이션, 액션, 모험]\n",
       "1                [다큐멘터리]\n",
       "2          [멜로/로맨스, 드라마]\n",
       "3               [액션, 모험]\n",
       "4                [애니메이션]\n",
       "              ...       \n",
       "1312       [멜로/로맨스, 드라마]\n",
       "1313               [코미디]\n",
       "1314               [드라마]\n",
       "1315       [범죄, 액션, 드라마]\n",
       "1316    [애니메이션, 모험, 코미디]\n",
       "Name: genre, Length: 1317, dtype: object"
      ]
     },
     "execution_count": 36,
     "metadata": {},
     "output_type": "execute_result"
    }
   ],
   "source": [
    "movie['genre']"
   ]
  },
  {
   "cell_type": "markdown",
   "id": "45b7773e",
   "metadata": {},
   "source": [
    "movie[['genre_1', 'genre_2', 'genre_3', 'genre_4', 'genre_5', 'genre_6']] = pd.DataFrame(movie.genre.tolist(), index=movie.index)\n",
    "movie.drop(['genre_5', 'genre_6'], axis=1, inplace=True)\n",
    "movie.head()"
   ]
  },
  {
   "cell_type": "markdown",
   "id": "1605a192",
   "metadata": {},
   "source": [
    " "
   ]
  },
  {
   "cell_type": "markdown",
   "id": "73e6bc4a",
   "metadata": {},
   "source": [
    " "
   ]
  },
  {
   "cell_type": "markdown",
   "id": "74c24eee",
   "metadata": {},
   "source": [
    " "
   ]
  },
  {
   "cell_type": "markdown",
   "id": "84f58cba",
   "metadata": {},
   "source": [
    " "
   ]
  },
  {
   "cell_type": "markdown",
   "id": "f72cf12a",
   "metadata": {},
   "source": [
    " ### actor로 나누기"
   ]
  },
  {
   "cell_type": "code",
   "execution_count": 37,
   "id": "8a665a34",
   "metadata": {},
   "outputs": [],
   "source": [
    "movie['actor'] = movie['actor'].apply(lambda x: x.replace(\"[\", \"\"))\n",
    "movie['actor'] = movie['actor'].apply(lambda x: x.replace(\"]\", \"\"))\n",
    "movie['actor'] = movie['actor'].apply(lambda x: x.replace(\"'\", \"\"))"
   ]
  },
  {
   "cell_type": "code",
   "execution_count": 38,
   "id": "c9bab682",
   "metadata": {},
   "outputs": [],
   "source": [
    "movie['actor'] = movie['actor'].apply(lambda x: x.split(\",\"))"
   ]
  },
  {
   "cell_type": "code",
   "execution_count": 39,
   "id": "a95c248f",
   "metadata": {},
   "outputs": [],
   "source": [
    "movie[['actor_1', 'actor_2', 'actor_3']] = pd.DataFrame(movie.actor.tolist(), index=movie.index)"
   ]
  },
  {
   "cell_type": "code",
   "execution_count": 40,
   "id": "a57da4d4",
   "metadata": {},
   "outputs": [],
   "source": [
    "movie.drop(['actor'], axis=1, inplace=True)"
   ]
  },
  {
   "cell_type": "code",
   "execution_count": 41,
   "id": "345550bb",
   "metadata": {},
   "outputs": [
    {
     "data": {
      "text/html": [
       "<div>\n",
       "<style scoped>\n",
       "    .dataframe tbody tr th:only-of-type {\n",
       "        vertical-align: middle;\n",
       "    }\n",
       "\n",
       "    .dataframe tbody tr th {\n",
       "        vertical-align: top;\n",
       "    }\n",
       "\n",
       "    .dataframe thead th {\n",
       "        text-align: right;\n",
       "    }\n",
       "</style>\n",
       "<table border=\"1\" class=\"dataframe\">\n",
       "  <thead>\n",
       "    <tr style=\"text-align: right;\">\n",
       "      <th></th>\n",
       "      <th>title</th>\n",
       "      <th>vote</th>\n",
       "      <th>genre</th>\n",
       "      <th>country</th>\n",
       "      <th>time</th>\n",
       "      <th>open_date</th>\n",
       "      <th>grade</th>\n",
       "      <th>poster_path</th>\n",
       "      <th>content</th>\n",
       "      <th>actor_1</th>\n",
       "      <th>actor_2</th>\n",
       "      <th>actor_3</th>\n",
       "    </tr>\n",
       "  </thead>\n",
       "  <tbody>\n",
       "    <tr>\n",
       "      <th>0</th>\n",
       "      <td>바다 탐험대 옥토넛 : 육지수호 대작전</td>\n",
       "      <td>관람객 평점 6.00점</td>\n",
       "      <td>[애니메이션, 액션, 모험]</td>\n",
       "      <td>영국</td>\n",
       "      <td>60분</td>\n",
       "      <td>2021.10.27</td>\n",
       "      <td>전체 관람가</td>\n",
       "      <td>https://movie-phinf.pstatic.net/20210924_146/1...</td>\n",
       "      <td>['바다 폭풍에 휩쓸린 옥토넛은 우연히 사막에 상륙한다.\\r', &lt;br/&gt;, '\\x...</td>\n",
       "      <td>하성용</td>\n",
       "      <td>정재헌</td>\n",
       "      <td>엄상현</td>\n",
       "    </tr>\n",
       "    <tr>\n",
       "      <th>1</th>\n",
       "      <td>왕십리 김종분</td>\n",
       "      <td>관람객 평점 없음</td>\n",
       "      <td>[다큐멘터리]</td>\n",
       "      <td>한국</td>\n",
       "      <td>102분</td>\n",
       "      <td>2021.11.11</td>\n",
       "      <td>12세 관람가</td>\n",
       "      <td>https://movie-phinf.pstatic.net/20211026_135/1...</td>\n",
       "      <td>['50년 넘게 노점을 해온 팔순의 김종분.', &lt;br/&gt;, '\\xa0왕십리역 11...</td>\n",
       "      <td>김종분</td>\n",
       "      <td>김귀임</td>\n",
       "      <td>김종수</td>\n",
       "    </tr>\n",
       "    <tr>\n",
       "      <th>2</th>\n",
       "      <td>결혼 후에 남겨진 것들</td>\n",
       "      <td>관람객 평점 없음</td>\n",
       "      <td>[멜로/로맨스, 드라마]</td>\n",
       "      <td>미국</td>\n",
       "      <td>97분</td>\n",
       "      <td>2021.1</td>\n",
       "      <td>전체 관람가</td>\n",
       "      <td>https://movie-phinf.pstatic.net/20210928_272/1...</td>\n",
       "      <td>['10년 된 부부 라이언과 클로디아는 옛 추억을 떠올리며, 신혼여행지 이탈리아를 ...</td>\n",
       "      <td>로스 맥콜</td>\n",
       "      <td>앨리슨 밀러</td>\n",
       "      <td>None</td>\n",
       "    </tr>\n",
       "    <tr>\n",
       "      <th>3</th>\n",
       "      <td>더 하더 데이 폴</td>\n",
       "      <td>관람객 평점 6.56점</td>\n",
       "      <td>[액션, 모험]</td>\n",
       "      <td>미국</td>\n",
       "      <td>137분</td>\n",
       "      <td>2021.10.20</td>\n",
       "      <td>청소년 관람불가</td>\n",
       "      <td>https://movie-phinf.pstatic.net/20211013_124/1...</td>\n",
       "      <td>['숙적 루푸스 벅이 출소한 사실을 알게 된 서부의 무법자 냇 러브가 미뤄뒀던 복수...</td>\n",
       "      <td>조나단 메이저스</td>\n",
       "      <td>재지 비츠</td>\n",
       "      <td>이드리스 엘바</td>\n",
       "    </tr>\n",
       "    <tr>\n",
       "      <th>4</th>\n",
       "      <td>고장난 론</td>\n",
       "      <td>관람객 평점 8.48점</td>\n",
       "      <td>[애니메이션]</td>\n",
       "      <td>미국</td>\n",
       "      <td>106분</td>\n",
       "      <td>2021.10.27</td>\n",
       "      <td>전체 관람가</td>\n",
       "      <td>https://movie-phinf.pstatic.net/20211013_94/16...</td>\n",
       "      <td>['비봇을 갖는 것이 유일한 소원인 소심한 소년 ‘바니’에게도', &lt;br/&gt;, '\\...</td>\n",
       "      <td>자흐 갈리피아나키스</td>\n",
       "      <td>잭 딜런 그레이저</td>\n",
       "      <td>올리비아 콜맨</td>\n",
       "    </tr>\n",
       "    <tr>\n",
       "      <th>...</th>\n",
       "      <td>...</td>\n",
       "      <td>...</td>\n",
       "      <td>...</td>\n",
       "      <td>...</td>\n",
       "      <td>...</td>\n",
       "      <td>...</td>\n",
       "      <td>...</td>\n",
       "      <td>...</td>\n",
       "      <td>...</td>\n",
       "      <td>...</td>\n",
       "      <td>...</td>\n",
       "      <td>...</td>\n",
       "    </tr>\n",
       "    <tr>\n",
       "      <th>1312</th>\n",
       "      <td>유혹의 계절</td>\n",
       "      <td>관람객 평점 없음</td>\n",
       "      <td>[멜로/로맨스, 드라마]</td>\n",
       "      <td>아일랜드</td>\n",
       "      <td>103분</td>\n",
       "      <td>2018.11.01</td>\n",
       "      <td>청소년 관람불가</td>\n",
       "      <td>https://movie-phinf.pstatic.net/20181016_189/1...</td>\n",
       "      <td>['폭력적인 남편을 피해 아이들과 함께 친구 다니엘의 집을 찾은 ‘이반’\\r', &lt;...</td>\n",
       "      <td>킬리언 머피</td>\n",
       "      <td>캐서린 워커</td>\n",
       "      <td>앤드류 스캇</td>\n",
       "    </tr>\n",
       "    <tr>\n",
       "      <th>1313</th>\n",
       "      <td>해치지않아</td>\n",
       "      <td>관람객 평점 7.32점</td>\n",
       "      <td>[코미디]</td>\n",
       "      <td>한국</td>\n",
       "      <td>117분</td>\n",
       "      <td>2020.01.15</td>\n",
       "      <td>12세 관람가</td>\n",
       "      <td>https://movie-phinf.pstatic.net/20200115_223/1...</td>\n",
       "      <td>['생계형 수습 변호사 ‘태수’에게 찾아온 일생일대의 기회, 위기의 동물원 ‘동산파...</td>\n",
       "      <td>안재홍</td>\n",
       "      <td>강소라</td>\n",
       "      <td>박영규</td>\n",
       "    </tr>\n",
       "    <tr>\n",
       "      <th>1314</th>\n",
       "      <td>와일드 로즈</td>\n",
       "      <td>관람객 평점 8.90점</td>\n",
       "      <td>[드라마]</td>\n",
       "      <td>영국</td>\n",
       "      <td>100분</td>\n",
       "      <td>2019.10.17</td>\n",
       "      <td>15세 관람가</td>\n",
       "      <td>https://movie-phinf.pstatic.net/20191002_88/15...</td>\n",
       "      <td>['타고난 가창력으로 스코틀랜드 글래스고의 한 바에서 인기 몰이 중인 로즈의 꿈은 ...</td>\n",
       "      <td>제시 버클리</td>\n",
       "      <td>줄리 월터스</td>\n",
       "      <td>None</td>\n",
       "    </tr>\n",
       "    <tr>\n",
       "      <th>1315</th>\n",
       "      <td>블루버드 인 마이 하트</td>\n",
       "      <td>관람객 평점 없음</td>\n",
       "      <td>[범죄, 액션, 드라마]</td>\n",
       "      <td>프랑스</td>\n",
       "      <td>89분</td>\n",
       "      <td>2021.03.15</td>\n",
       "      <td>청소년 관람불가</td>\n",
       "      <td>https://movie-phinf.pstatic.net/20210310_84/16...</td>\n",
       "      <td>['교도소에서 출소한 대니는 로랑스와 클라라 모녀가 운영하는 낡은 모텔에서 새 삶을...</td>\n",
       "      <td>로랜드 몰러</td>\n",
       "      <td>로라 르 란</td>\n",
       "      <td>벨 배턴스</td>\n",
       "    </tr>\n",
       "    <tr>\n",
       "      <th>1316</th>\n",
       "      <td>박물관이 진짜 살아있다</td>\n",
       "      <td>관람객 평점 7.78점</td>\n",
       "      <td>[애니메이션, 모험, 코미디]</td>\n",
       "      <td>체코</td>\n",
       "      <td>86분</td>\n",
       "      <td>2018.11.08</td>\n",
       "      <td>전체 관람가</td>\n",
       "      <td>https://movie-phinf.pstatic.net/20181108_98/15...</td>\n",
       "      <td>['게임을 좋아하는 12살 소년 ‘하비’.', &lt;br/&gt;, '\\xa0아버지가 일하는...</td>\n",
       "      <td>장은숙</td>\n",
       "      <td>최원형</td>\n",
       "      <td>장경희</td>\n",
       "    </tr>\n",
       "  </tbody>\n",
       "</table>\n",
       "<p>1317 rows × 12 columns</p>\n",
       "</div>"
      ],
      "text/plain": [
       "                      title          vote             genre country  time  \\\n",
       "0     바다 탐험대 옥토넛 : 육지수호 대작전  관람객 평점 6.00점   [애니메이션, 액션, 모험]      영국   60분   \n",
       "1                   왕십리 김종분     관람객 평점 없음           [다큐멘터리]      한국  102분   \n",
       "2              결혼 후에 남겨진 것들     관람객 평점 없음     [멜로/로맨스, 드라마]      미국   97분   \n",
       "3                 더 하더 데이 폴  관람객 평점 6.56점          [액션, 모험]      미국  137분   \n",
       "4                     고장난 론  관람객 평점 8.48점           [애니메이션]      미국  106분   \n",
       "...                     ...           ...               ...     ...   ...   \n",
       "1312                 유혹의 계절     관람객 평점 없음     [멜로/로맨스, 드라마]    아일랜드  103분   \n",
       "1313                  해치지않아  관람객 평점 7.32점             [코미디]      한국  117분   \n",
       "1314                 와일드 로즈  관람객 평점 8.90점             [드라마]      영국  100분   \n",
       "1315           블루버드 인 마이 하트     관람객 평점 없음     [범죄, 액션, 드라마]     프랑스   89분   \n",
       "1316           박물관이 진짜 살아있다  관람객 평점 7.78점  [애니메이션, 모험, 코미디]      체코   86분   \n",
       "\n",
       "       open_date     grade                                        poster_path  \\\n",
       "0     2021.10.27    전체 관람가  https://movie-phinf.pstatic.net/20210924_146/1...   \n",
       "1     2021.11.11   12세 관람가  https://movie-phinf.pstatic.net/20211026_135/1...   \n",
       "2         2021.1    전체 관람가  https://movie-phinf.pstatic.net/20210928_272/1...   \n",
       "3     2021.10.20  청소년 관람불가  https://movie-phinf.pstatic.net/20211013_124/1...   \n",
       "4     2021.10.27    전체 관람가  https://movie-phinf.pstatic.net/20211013_94/16...   \n",
       "...          ...       ...                                                ...   \n",
       "1312  2018.11.01  청소년 관람불가  https://movie-phinf.pstatic.net/20181016_189/1...   \n",
       "1313  2020.01.15   12세 관람가  https://movie-phinf.pstatic.net/20200115_223/1...   \n",
       "1314  2019.10.17   15세 관람가  https://movie-phinf.pstatic.net/20191002_88/15...   \n",
       "1315  2021.03.15  청소년 관람불가  https://movie-phinf.pstatic.net/20210310_84/16...   \n",
       "1316  2018.11.08    전체 관람가  https://movie-phinf.pstatic.net/20181108_98/15...   \n",
       "\n",
       "                                                content     actor_1  \\\n",
       "0     ['바다 폭풍에 휩쓸린 옥토넛은 우연히 사막에 상륙한다.\\r', <br/>, '\\x...         하성용   \n",
       "1     ['50년 넘게 노점을 해온 팔순의 김종분.', <br/>, '\\xa0왕십리역 11...         김종분   \n",
       "2     ['10년 된 부부 라이언과 클로디아는 옛 추억을 떠올리며, 신혼여행지 이탈리아를 ...       로스 맥콜   \n",
       "3     ['숙적 루푸스 벅이 출소한 사실을 알게 된 서부의 무법자 냇 러브가 미뤄뒀던 복수...    조나단 메이저스   \n",
       "4     ['비봇을 갖는 것이 유일한 소원인 소심한 소년 ‘바니’에게도', <br/>, '\\...  자흐 갈리피아나키스   \n",
       "...                                                 ...         ...   \n",
       "1312  ['폭력적인 남편을 피해 아이들과 함께 친구 다니엘의 집을 찾은 ‘이반’\\r', <...      킬리언 머피   \n",
       "1313  ['생계형 수습 변호사 ‘태수’에게 찾아온 일생일대의 기회, 위기의 동물원 ‘동산파...         안재홍   \n",
       "1314  ['타고난 가창력으로 스코틀랜드 글래스고의 한 바에서 인기 몰이 중인 로즈의 꿈은 ...      제시 버클리   \n",
       "1315  ['교도소에서 출소한 대니는 로랑스와 클라라 모녀가 운영하는 낡은 모텔에서 새 삶을...      로랜드 몰러   \n",
       "1316  ['게임을 좋아하는 12살 소년 ‘하비’.', <br/>, '\\xa0아버지가 일하는...         장은숙   \n",
       "\n",
       "         actor_2   actor_3  \n",
       "0            정재헌       엄상현  \n",
       "1            김귀임       김종수  \n",
       "2         앨리슨 밀러      None  \n",
       "3          재지 비츠   이드리스 엘바  \n",
       "4      잭 딜런 그레이저   올리비아 콜맨  \n",
       "...          ...       ...  \n",
       "1312      캐서린 워커    앤드류 스캇  \n",
       "1313         강소라       박영규  \n",
       "1314      줄리 월터스      None  \n",
       "1315      로라 르 란     벨 배턴스  \n",
       "1316         최원형       장경희  \n",
       "\n",
       "[1317 rows x 12 columns]"
      ]
     },
     "execution_count": 41,
     "metadata": {},
     "output_type": "execute_result"
    }
   ],
   "source": [
    "movie"
   ]
  },
  {
   "cell_type": "code",
   "execution_count": null,
   "id": "a3d58224",
   "metadata": {},
   "outputs": [],
   "source": []
  },
  {
   "cell_type": "code",
   "execution_count": null,
   "id": "6698a633",
   "metadata": {},
   "outputs": [],
   "source": []
  },
  {
   "cell_type": "markdown",
   "id": "5bf0abd2",
   "metadata": {},
   "source": [
    " "
   ]
  },
  {
   "cell_type": "markdown",
   "id": "59df9554",
   "metadata": {},
   "source": [
    " "
   ]
  },
  {
   "cell_type": "markdown",
   "id": "5daa97cb",
   "metadata": {},
   "source": [
    " "
   ]
  },
  {
   "cell_type": "markdown",
   "id": "55bd3be9",
   "metadata": {},
   "source": [
    " #### 개봉일이 미상인 값 None으로 표시"
   ]
  },
  {
   "cell_type": "code",
   "execution_count": 42,
   "id": "7081c0fd",
   "metadata": {},
   "outputs": [
    {
     "data": {
      "text/plain": [
       "0       2021.10.27\n",
       "1       2021.11.11\n",
       "2           2021.1\n",
       "3       2021.10.20\n",
       "4       2021.10.27\n",
       "           ...    \n",
       "1312    2018.11.01\n",
       "1313    2020.01.15\n",
       "1314    2019.10.17\n",
       "1315    2021.03.15\n",
       "1316    2018.11.08\n",
       "Name: open_date, Length: 1317, dtype: object"
      ]
     },
     "execution_count": 42,
     "metadata": {},
     "output_type": "execute_result"
    }
   ],
   "source": [
    "movie['open_date']"
   ]
  },
  {
   "cell_type": "code",
   "execution_count": 43,
   "id": "3313e886",
   "metadata": {},
   "outputs": [],
   "source": [
    "movie['open_date'] = movie['open_date'].apply(lambda x: None if x == \"['미상']\" else x)"
   ]
  },
  {
   "cell_type": "code",
   "execution_count": 44,
   "id": "0ccbc844",
   "metadata": {},
   "outputs": [
    {
     "data": {
      "text/plain": [
       "0       2021.10.27\n",
       "1       2021.11.11\n",
       "2           2021.1\n",
       "3       2021.10.20\n",
       "4       2021.10.27\n",
       "           ...    \n",
       "1312    2018.11.01\n",
       "1313    2020.01.15\n",
       "1314    2019.10.17\n",
       "1315    2021.03.15\n",
       "1316    2018.11.08\n",
       "Name: open_date, Length: 1317, dtype: object"
      ]
     },
     "execution_count": 44,
     "metadata": {},
     "output_type": "execute_result"
    }
   ],
   "source": [
    "movie['open_date']"
   ]
  },
  {
   "cell_type": "code",
   "execution_count": 45,
   "id": "6114e0cc",
   "metadata": {},
   "outputs": [],
   "source": [
    "movie['open_date'] = movie['open_date'].astype(str)"
   ]
  },
  {
   "cell_type": "code",
   "execution_count": 46,
   "id": "32178e33",
   "metadata": {},
   "outputs": [
    {
     "data": {
      "text/plain": [
       "0       2021.10.27\n",
       "1       2021.11.11\n",
       "2           2021.1\n",
       "3       2021.10.20\n",
       "4       2021.10.27\n",
       "           ...    \n",
       "1312    2018.11.01\n",
       "1313    2020.01.15\n",
       "1314    2019.10.17\n",
       "1315    2021.03.15\n",
       "1316    2018.11.08\n",
       "Name: open_date, Length: 1317, dtype: object"
      ]
     },
     "execution_count": 46,
     "metadata": {},
     "output_type": "execute_result"
    }
   ],
   "source": [
    "movie['open_date']"
   ]
  },
  {
   "cell_type": "code",
   "execution_count": 47,
   "id": "9cb760a8",
   "metadata": {},
   "outputs": [],
   "source": [
    "movie['open_date'] = movie['open_date'].apply(lambda x: x.split(\".\"))"
   ]
  },
  {
   "cell_type": "code",
   "execution_count": 48,
   "id": "348923d1",
   "metadata": {
    "scrolled": true
   },
   "outputs": [
    {
     "data": {
      "text/plain": [
       "0       [2021, 10, 27]\n",
       "1       [2021, 11, 11]\n",
       "2            [2021, 1]\n",
       "3       [2021, 10, 20]\n",
       "4       [2021, 10, 27]\n",
       "             ...      \n",
       "1312    [2018, 11, 01]\n",
       "1313    [2020, 01, 15]\n",
       "1314    [2019, 10, 17]\n",
       "1315    [2021, 03, 15]\n",
       "1316    [2018, 11, 08]\n",
       "Name: open_date, Length: 1317, dtype: object"
      ]
     },
     "execution_count": 48,
     "metadata": {},
     "output_type": "execute_result"
    }
   ],
   "source": [
    "movie['open_date']"
   ]
  },
  {
   "cell_type": "markdown",
   "id": "2c8ce127",
   "metadata": {},
   "source": [
    " "
   ]
  },
  {
   "cell_type": "markdown",
   "id": "3d631097",
   "metadata": {},
   "source": [
    " "
   ]
  },
  {
   "cell_type": "markdown",
   "id": "fa1f089a",
   "metadata": {},
   "source": [
    " "
   ]
  },
  {
   "cell_type": "markdown",
   "id": "ceabc652",
   "metadata": {},
   "source": [
    " #### 개봉일을 년 월 일로 나눠서 표현"
   ]
  },
  {
   "cell_type": "code",
   "execution_count": 49,
   "id": "36fa3bfb",
   "metadata": {},
   "outputs": [],
   "source": [
    "movie[['year', 'month', 'day']] = pd.DataFrame(movie.open_date.tolist(), index=movie.index)"
   ]
  },
  {
   "cell_type": "code",
   "execution_count": 50,
   "id": "1345a975",
   "metadata": {
    "scrolled": true
   },
   "outputs": [
    {
     "data": {
      "text/html": [
       "<div>\n",
       "<style scoped>\n",
       "    .dataframe tbody tr th:only-of-type {\n",
       "        vertical-align: middle;\n",
       "    }\n",
       "\n",
       "    .dataframe tbody tr th {\n",
       "        vertical-align: top;\n",
       "    }\n",
       "\n",
       "    .dataframe thead th {\n",
       "        text-align: right;\n",
       "    }\n",
       "</style>\n",
       "<table border=\"1\" class=\"dataframe\">\n",
       "  <thead>\n",
       "    <tr style=\"text-align: right;\">\n",
       "      <th></th>\n",
       "      <th>title</th>\n",
       "      <th>vote</th>\n",
       "      <th>genre</th>\n",
       "      <th>country</th>\n",
       "      <th>time</th>\n",
       "      <th>open_date</th>\n",
       "      <th>grade</th>\n",
       "      <th>poster_path</th>\n",
       "      <th>content</th>\n",
       "      <th>actor_1</th>\n",
       "      <th>actor_2</th>\n",
       "      <th>actor_3</th>\n",
       "      <th>year</th>\n",
       "      <th>month</th>\n",
       "      <th>day</th>\n",
       "    </tr>\n",
       "  </thead>\n",
       "  <tbody>\n",
       "    <tr>\n",
       "      <th>0</th>\n",
       "      <td>바다 탐험대 옥토넛 : 육지수호 대작전</td>\n",
       "      <td>관람객 평점 6.00점</td>\n",
       "      <td>[애니메이션, 액션, 모험]</td>\n",
       "      <td>영국</td>\n",
       "      <td>60분</td>\n",
       "      <td>[2021, 10, 27]</td>\n",
       "      <td>전체 관람가</td>\n",
       "      <td>https://movie-phinf.pstatic.net/20210924_146/1...</td>\n",
       "      <td>['바다 폭풍에 휩쓸린 옥토넛은 우연히 사막에 상륙한다.\\r', &lt;br/&gt;, '\\x...</td>\n",
       "      <td>하성용</td>\n",
       "      <td>정재헌</td>\n",
       "      <td>엄상현</td>\n",
       "      <td>2021</td>\n",
       "      <td>10</td>\n",
       "      <td>27</td>\n",
       "    </tr>\n",
       "    <tr>\n",
       "      <th>1</th>\n",
       "      <td>왕십리 김종분</td>\n",
       "      <td>관람객 평점 없음</td>\n",
       "      <td>[다큐멘터리]</td>\n",
       "      <td>한국</td>\n",
       "      <td>102분</td>\n",
       "      <td>[2021, 11, 11]</td>\n",
       "      <td>12세 관람가</td>\n",
       "      <td>https://movie-phinf.pstatic.net/20211026_135/1...</td>\n",
       "      <td>['50년 넘게 노점을 해온 팔순의 김종분.', &lt;br/&gt;, '\\xa0왕십리역 11...</td>\n",
       "      <td>김종분</td>\n",
       "      <td>김귀임</td>\n",
       "      <td>김종수</td>\n",
       "      <td>2021</td>\n",
       "      <td>11</td>\n",
       "      <td>11</td>\n",
       "    </tr>\n",
       "    <tr>\n",
       "      <th>2</th>\n",
       "      <td>결혼 후에 남겨진 것들</td>\n",
       "      <td>관람객 평점 없음</td>\n",
       "      <td>[멜로/로맨스, 드라마]</td>\n",
       "      <td>미국</td>\n",
       "      <td>97분</td>\n",
       "      <td>[2021, 1]</td>\n",
       "      <td>전체 관람가</td>\n",
       "      <td>https://movie-phinf.pstatic.net/20210928_272/1...</td>\n",
       "      <td>['10년 된 부부 라이언과 클로디아는 옛 추억을 떠올리며, 신혼여행지 이탈리아를 ...</td>\n",
       "      <td>로스 맥콜</td>\n",
       "      <td>앨리슨 밀러</td>\n",
       "      <td>None</td>\n",
       "      <td>2021</td>\n",
       "      <td>1</td>\n",
       "      <td>None</td>\n",
       "    </tr>\n",
       "    <tr>\n",
       "      <th>3</th>\n",
       "      <td>더 하더 데이 폴</td>\n",
       "      <td>관람객 평점 6.56점</td>\n",
       "      <td>[액션, 모험]</td>\n",
       "      <td>미국</td>\n",
       "      <td>137분</td>\n",
       "      <td>[2021, 10, 20]</td>\n",
       "      <td>청소년 관람불가</td>\n",
       "      <td>https://movie-phinf.pstatic.net/20211013_124/1...</td>\n",
       "      <td>['숙적 루푸스 벅이 출소한 사실을 알게 된 서부의 무법자 냇 러브가 미뤄뒀던 복수...</td>\n",
       "      <td>조나단 메이저스</td>\n",
       "      <td>재지 비츠</td>\n",
       "      <td>이드리스 엘바</td>\n",
       "      <td>2021</td>\n",
       "      <td>10</td>\n",
       "      <td>20</td>\n",
       "    </tr>\n",
       "    <tr>\n",
       "      <th>4</th>\n",
       "      <td>고장난 론</td>\n",
       "      <td>관람객 평점 8.48점</td>\n",
       "      <td>[애니메이션]</td>\n",
       "      <td>미국</td>\n",
       "      <td>106분</td>\n",
       "      <td>[2021, 10, 27]</td>\n",
       "      <td>전체 관람가</td>\n",
       "      <td>https://movie-phinf.pstatic.net/20211013_94/16...</td>\n",
       "      <td>['비봇을 갖는 것이 유일한 소원인 소심한 소년 ‘바니’에게도', &lt;br/&gt;, '\\...</td>\n",
       "      <td>자흐 갈리피아나키스</td>\n",
       "      <td>잭 딜런 그레이저</td>\n",
       "      <td>올리비아 콜맨</td>\n",
       "      <td>2021</td>\n",
       "      <td>10</td>\n",
       "      <td>27</td>\n",
       "    </tr>\n",
       "  </tbody>\n",
       "</table>\n",
       "</div>"
      ],
      "text/plain": [
       "                   title          vote            genre country  time  \\\n",
       "0  바다 탐험대 옥토넛 : 육지수호 대작전  관람객 평점 6.00점  [애니메이션, 액션, 모험]      영국   60분   \n",
       "1                왕십리 김종분     관람객 평점 없음          [다큐멘터리]      한국  102분   \n",
       "2           결혼 후에 남겨진 것들     관람객 평점 없음    [멜로/로맨스, 드라마]      미국   97분   \n",
       "3              더 하더 데이 폴  관람객 평점 6.56점         [액션, 모험]      미국  137분   \n",
       "4                  고장난 론  관람객 평점 8.48점          [애니메이션]      미국  106분   \n",
       "\n",
       "        open_date     grade  \\\n",
       "0  [2021, 10, 27]    전체 관람가   \n",
       "1  [2021, 11, 11]   12세 관람가   \n",
       "2       [2021, 1]    전체 관람가   \n",
       "3  [2021, 10, 20]  청소년 관람불가   \n",
       "4  [2021, 10, 27]    전체 관람가   \n",
       "\n",
       "                                         poster_path  \\\n",
       "0  https://movie-phinf.pstatic.net/20210924_146/1...   \n",
       "1  https://movie-phinf.pstatic.net/20211026_135/1...   \n",
       "2  https://movie-phinf.pstatic.net/20210928_272/1...   \n",
       "3  https://movie-phinf.pstatic.net/20211013_124/1...   \n",
       "4  https://movie-phinf.pstatic.net/20211013_94/16...   \n",
       "\n",
       "                                             content     actor_1     actor_2  \\\n",
       "0  ['바다 폭풍에 휩쓸린 옥토넛은 우연히 사막에 상륙한다.\\r', <br/>, '\\x...         하성용         정재헌   \n",
       "1  ['50년 넘게 노점을 해온 팔순의 김종분.', <br/>, '\\xa0왕십리역 11...         김종분         김귀임   \n",
       "2  ['10년 된 부부 라이언과 클로디아는 옛 추억을 떠올리며, 신혼여행지 이탈리아를 ...       로스 맥콜      앨리슨 밀러   \n",
       "3  ['숙적 루푸스 벅이 출소한 사실을 알게 된 서부의 무법자 냇 러브가 미뤄뒀던 복수...    조나단 메이저스       재지 비츠   \n",
       "4  ['비봇을 갖는 것이 유일한 소원인 소심한 소년 ‘바니’에게도', <br/>, '\\...  자흐 갈리피아나키스   잭 딜런 그레이저   \n",
       "\n",
       "    actor_3  year month   day  \n",
       "0       엄상현  2021    10    27  \n",
       "1       김종수  2021    11    11  \n",
       "2      None  2021     1  None  \n",
       "3   이드리스 엘바  2021    10    20  \n",
       "4   올리비아 콜맨  2021    10    27  "
      ]
     },
     "execution_count": 50,
     "metadata": {},
     "output_type": "execute_result"
    }
   ],
   "source": [
    "movie.head()"
   ]
  },
  {
   "cell_type": "code",
   "execution_count": null,
   "id": "bb386710",
   "metadata": {},
   "outputs": [],
   "source": []
  },
  {
   "cell_type": "markdown",
   "id": "5fc3d271",
   "metadata": {},
   "source": [
    " "
   ]
  },
  {
   "cell_type": "markdown",
   "id": "f5267f88",
   "metadata": {},
   "source": [
    " "
   ]
  },
  {
   "cell_type": "markdown",
   "id": "35edba1d",
   "metadata": {},
   "source": [
    " "
   ]
  },
  {
   "cell_type": "markdown",
   "id": "27eb10ce",
   "metadata": {},
   "source": [
    " ### content에 필요없는 기호들 모두 제거"
   ]
  },
  {
   "cell_type": "code",
   "execution_count": 51,
   "id": "fa6379b7",
   "metadata": {
    "scrolled": false
   },
   "outputs": [],
   "source": [
    "movie = movie[[x for x in movie.columns if x != 'content'] + ['content']]"
   ]
  },
  {
   "cell_type": "code",
   "execution_count": 52,
   "id": "50325fc5",
   "metadata": {},
   "outputs": [],
   "source": [
    "movie['content'] = movie['content'].apply(lambda x: x.replace(\", '\\\\xa0\", \"\"))\n",
    "movie['content'] = movie['content'].apply(lambda x: x.replace(\", \\\"\\\\xa0\", \"\"))\n",
    "movie['content'] = movie['content'].apply(lambda x: x.replace(\"\\\\r', \", \"\"))\n",
    "movie['content'] = movie['content'].apply(lambda x: x.replace(\"\\\\r\\\"', \", \"\"))\n",
    "movie['content'] = movie['content'].apply(lambda x: x.replace(\"\\\\r\\\"\", \"\"))\n",
    "movie['content'] = movie['content'].apply(lambda x: x.replace(\"['\", \"\"))\n",
    "movie['content'] = movie['content'].apply(lambda x: x.replace(\"']\", \"\"))\n",
    "movie['content'] = movie['content'].apply(lambda x: x.replace(\"<br/>\", \"\"))\n",
    "movie['content'] = movie['content'].apply(lambda x: x.replace(\"\\\\t\", \"\"))"
   ]
  },
  {
   "cell_type": "code",
   "execution_count": 53,
   "id": "749b1438",
   "metadata": {
    "scrolled": false
   },
   "outputs": [],
   "source": [
    "movie.drop(['open_date'], axis=1, inplace=True)"
   ]
  },
  {
   "cell_type": "code",
   "execution_count": 54,
   "id": "c3550afd",
   "metadata": {
    "scrolled": true
   },
   "outputs": [
    {
     "data": {
      "text/html": [
       "<div>\n",
       "<style scoped>\n",
       "    .dataframe tbody tr th:only-of-type {\n",
       "        vertical-align: middle;\n",
       "    }\n",
       "\n",
       "    .dataframe tbody tr th {\n",
       "        vertical-align: top;\n",
       "    }\n",
       "\n",
       "    .dataframe thead th {\n",
       "        text-align: right;\n",
       "    }\n",
       "</style>\n",
       "<table border=\"1\" class=\"dataframe\">\n",
       "  <thead>\n",
       "    <tr style=\"text-align: right;\">\n",
       "      <th></th>\n",
       "      <th>title</th>\n",
       "      <th>vote</th>\n",
       "      <th>genre</th>\n",
       "      <th>country</th>\n",
       "      <th>time</th>\n",
       "      <th>grade</th>\n",
       "      <th>poster_path</th>\n",
       "      <th>actor_1</th>\n",
       "      <th>actor_2</th>\n",
       "      <th>actor_3</th>\n",
       "      <th>year</th>\n",
       "      <th>month</th>\n",
       "      <th>day</th>\n",
       "      <th>content</th>\n",
       "    </tr>\n",
       "  </thead>\n",
       "  <tbody>\n",
       "    <tr>\n",
       "      <th>0</th>\n",
       "      <td>바다 탐험대 옥토넛 : 육지수호 대작전</td>\n",
       "      <td>관람객 평점 6.00점</td>\n",
       "      <td>[애니메이션, 액션, 모험]</td>\n",
       "      <td>영국</td>\n",
       "      <td>60분</td>\n",
       "      <td>전체 관람가</td>\n",
       "      <td>https://movie-phinf.pstatic.net/20210924_146/1...</td>\n",
       "      <td>하성용</td>\n",
       "      <td>정재헌</td>\n",
       "      <td>엄상현</td>\n",
       "      <td>2021</td>\n",
       "      <td>10</td>\n",
       "      <td>27</td>\n",
       "      <td>바다 폭풍에 휩쓸린 옥토넛은 우연히 사막에 상륙한다.바다 너머 육지에도 다양한 문제...</td>\n",
       "    </tr>\n",
       "    <tr>\n",
       "      <th>1</th>\n",
       "      <td>왕십리 김종분</td>\n",
       "      <td>관람객 평점 없음</td>\n",
       "      <td>[다큐멘터리]</td>\n",
       "      <td>한국</td>\n",
       "      <td>102분</td>\n",
       "      <td>12세 관람가</td>\n",
       "      <td>https://movie-phinf.pstatic.net/20211026_135/1...</td>\n",
       "      <td>김종분</td>\n",
       "      <td>김귀임</td>\n",
       "      <td>김종수</td>\n",
       "      <td>2021</td>\n",
       "      <td>11</td>\n",
       "      <td>11</td>\n",
       "      <td>50년 넘게 노점을 해온 팔순의 김종분.', 왕십리역 11번 출구 터줏대감이자 현역...</td>\n",
       "    </tr>\n",
       "    <tr>\n",
       "      <th>2</th>\n",
       "      <td>결혼 후에 남겨진 것들</td>\n",
       "      <td>관람객 평점 없음</td>\n",
       "      <td>[멜로/로맨스, 드라마]</td>\n",
       "      <td>미국</td>\n",
       "      <td>97분</td>\n",
       "      <td>전체 관람가</td>\n",
       "      <td>https://movie-phinf.pstatic.net/20210928_272/1...</td>\n",
       "      <td>로스 맥콜</td>\n",
       "      <td>앨리슨 밀러</td>\n",
       "      <td>None</td>\n",
       "      <td>2021</td>\n",
       "      <td>1</td>\n",
       "      <td>None</td>\n",
       "      <td>10년 된 부부 라이언과 클로디아는 옛 추억을 떠올리며, 신혼여행지 이탈리아를 다시...</td>\n",
       "    </tr>\n",
       "    <tr>\n",
       "      <th>3</th>\n",
       "      <td>더 하더 데이 폴</td>\n",
       "      <td>관람객 평점 6.56점</td>\n",
       "      <td>[액션, 모험]</td>\n",
       "      <td>미국</td>\n",
       "      <td>137분</td>\n",
       "      <td>청소년 관람불가</td>\n",
       "      <td>https://movie-phinf.pstatic.net/20211013_124/1...</td>\n",
       "      <td>조나단 메이저스</td>\n",
       "      <td>재지 비츠</td>\n",
       "      <td>이드리스 엘바</td>\n",
       "      <td>2021</td>\n",
       "      <td>10</td>\n",
       "      <td>20</td>\n",
       "      <td>숙적 루푸스 벅이 출소한 사실을 알게 된 서부의 무법자 냇 러브가 미뤄뒀던 복수를 ...</td>\n",
       "    </tr>\n",
       "    <tr>\n",
       "      <th>4</th>\n",
       "      <td>고장난 론</td>\n",
       "      <td>관람객 평점 8.48점</td>\n",
       "      <td>[애니메이션]</td>\n",
       "      <td>미국</td>\n",
       "      <td>106분</td>\n",
       "      <td>전체 관람가</td>\n",
       "      <td>https://movie-phinf.pstatic.net/20211013_94/16...</td>\n",
       "      <td>자흐 갈리피아나키스</td>\n",
       "      <td>잭 딜런 그레이저</td>\n",
       "      <td>올리비아 콜맨</td>\n",
       "      <td>2021</td>\n",
       "      <td>10</td>\n",
       "      <td>27</td>\n",
       "      <td>비봇을 갖는 것이 유일한 소원인 소심한 소년 ‘바니’에게도', 드디어 ‘론’이라는 ...</td>\n",
       "    </tr>\n",
       "    <tr>\n",
       "      <th>...</th>\n",
       "      <td>...</td>\n",
       "      <td>...</td>\n",
       "      <td>...</td>\n",
       "      <td>...</td>\n",
       "      <td>...</td>\n",
       "      <td>...</td>\n",
       "      <td>...</td>\n",
       "      <td>...</td>\n",
       "      <td>...</td>\n",
       "      <td>...</td>\n",
       "      <td>...</td>\n",
       "      <td>...</td>\n",
       "      <td>...</td>\n",
       "      <td>...</td>\n",
       "    </tr>\n",
       "    <tr>\n",
       "      <th>1312</th>\n",
       "      <td>유혹의 계절</td>\n",
       "      <td>관람객 평점 없음</td>\n",
       "      <td>[멜로/로맨스, 드라마]</td>\n",
       "      <td>아일랜드</td>\n",
       "      <td>103분</td>\n",
       "      <td>청소년 관람불가</td>\n",
       "      <td>https://movie-phinf.pstatic.net/20181016_189/1...</td>\n",
       "      <td>킬리언 머피</td>\n",
       "      <td>캐서린 워커</td>\n",
       "      <td>앤드류 스캇</td>\n",
       "      <td>2018</td>\n",
       "      <td>11</td>\n",
       "      <td>01</td>\n",
       "      <td>폭력적인 남편을 피해 아이들과 함께 친구 다니엘의 집을 찾은 ‘이반’매일 아침, 친...</td>\n",
       "    </tr>\n",
       "    <tr>\n",
       "      <th>1313</th>\n",
       "      <td>해치지않아</td>\n",
       "      <td>관람객 평점 7.32점</td>\n",
       "      <td>[코미디]</td>\n",
       "      <td>한국</td>\n",
       "      <td>117분</td>\n",
       "      <td>12세 관람가</td>\n",
       "      <td>https://movie-phinf.pstatic.net/20200115_223/1...</td>\n",
       "      <td>안재홍</td>\n",
       "      <td>강소라</td>\n",
       "      <td>박영규</td>\n",
       "      <td>2020</td>\n",
       "      <td>01</td>\n",
       "      <td>15</td>\n",
       "      <td>생계형 수습 변호사 ‘태수’에게 찾아온 일생일대의 기회, 위기의 동물원 ‘동산파크’...</td>\n",
       "    </tr>\n",
       "    <tr>\n",
       "      <th>1314</th>\n",
       "      <td>와일드 로즈</td>\n",
       "      <td>관람객 평점 8.90점</td>\n",
       "      <td>[드라마]</td>\n",
       "      <td>영국</td>\n",
       "      <td>100분</td>\n",
       "      <td>15세 관람가</td>\n",
       "      <td>https://movie-phinf.pstatic.net/20191002_88/15...</td>\n",
       "      <td>제시 버클리</td>\n",
       "      <td>줄리 월터스</td>\n",
       "      <td>None</td>\n",
       "      <td>2019</td>\n",
       "      <td>10</td>\n",
       "      <td>17</td>\n",
       "      <td>타고난 가창력으로 스코틀랜드 글래스고의 한 바에서 인기 몰이 중인 로즈의 꿈은 그곳...</td>\n",
       "    </tr>\n",
       "    <tr>\n",
       "      <th>1315</th>\n",
       "      <td>블루버드 인 마이 하트</td>\n",
       "      <td>관람객 평점 없음</td>\n",
       "      <td>[범죄, 액션, 드라마]</td>\n",
       "      <td>프랑스</td>\n",
       "      <td>89분</td>\n",
       "      <td>청소년 관람불가</td>\n",
       "      <td>https://movie-phinf.pstatic.net/20210310_84/16...</td>\n",
       "      <td>로랜드 몰러</td>\n",
       "      <td>로라 르 란</td>\n",
       "      <td>벨 배턴스</td>\n",
       "      <td>2021</td>\n",
       "      <td>03</td>\n",
       "      <td>15</td>\n",
       "      <td>교도소에서 출소한 대니는 로랑스와 클라라 모녀가 운영하는 낡은 모텔에서 새 삶을 시...</td>\n",
       "    </tr>\n",
       "    <tr>\n",
       "      <th>1316</th>\n",
       "      <td>박물관이 진짜 살아있다</td>\n",
       "      <td>관람객 평점 7.78점</td>\n",
       "      <td>[애니메이션, 모험, 코미디]</td>\n",
       "      <td>체코</td>\n",
       "      <td>86분</td>\n",
       "      <td>전체 관람가</td>\n",
       "      <td>https://movie-phinf.pstatic.net/20181108_98/15...</td>\n",
       "      <td>장은숙</td>\n",
       "      <td>최원형</td>\n",
       "      <td>장경희</td>\n",
       "      <td>2018</td>\n",
       "      <td>11</td>\n",
       "      <td>08</td>\n",
       "      <td>게임을 좋아하는 12살 소년 ‘하비’.', 아버지가 일하는 장난감 박물관이 문닫을 ...</td>\n",
       "    </tr>\n",
       "  </tbody>\n",
       "</table>\n",
       "<p>1317 rows × 14 columns</p>\n",
       "</div>"
      ],
      "text/plain": [
       "                      title          vote             genre country  time  \\\n",
       "0     바다 탐험대 옥토넛 : 육지수호 대작전  관람객 평점 6.00점   [애니메이션, 액션, 모험]      영국   60분   \n",
       "1                   왕십리 김종분     관람객 평점 없음           [다큐멘터리]      한국  102분   \n",
       "2              결혼 후에 남겨진 것들     관람객 평점 없음     [멜로/로맨스, 드라마]      미국   97분   \n",
       "3                 더 하더 데이 폴  관람객 평점 6.56점          [액션, 모험]      미국  137분   \n",
       "4                     고장난 론  관람객 평점 8.48점           [애니메이션]      미국  106분   \n",
       "...                     ...           ...               ...     ...   ...   \n",
       "1312                 유혹의 계절     관람객 평점 없음     [멜로/로맨스, 드라마]    아일랜드  103분   \n",
       "1313                  해치지않아  관람객 평점 7.32점             [코미디]      한국  117분   \n",
       "1314                 와일드 로즈  관람객 평점 8.90점             [드라마]      영국  100분   \n",
       "1315           블루버드 인 마이 하트     관람객 평점 없음     [범죄, 액션, 드라마]     프랑스   89분   \n",
       "1316           박물관이 진짜 살아있다  관람객 평점 7.78점  [애니메이션, 모험, 코미디]      체코   86분   \n",
       "\n",
       "         grade                                        poster_path     actor_1  \\\n",
       "0       전체 관람가  https://movie-phinf.pstatic.net/20210924_146/1...         하성용   \n",
       "1      12세 관람가  https://movie-phinf.pstatic.net/20211026_135/1...         김종분   \n",
       "2       전체 관람가  https://movie-phinf.pstatic.net/20210928_272/1...       로스 맥콜   \n",
       "3     청소년 관람불가  https://movie-phinf.pstatic.net/20211013_124/1...    조나단 메이저스   \n",
       "4       전체 관람가  https://movie-phinf.pstatic.net/20211013_94/16...  자흐 갈리피아나키스   \n",
       "...        ...                                                ...         ...   \n",
       "1312  청소년 관람불가  https://movie-phinf.pstatic.net/20181016_189/1...      킬리언 머피   \n",
       "1313   12세 관람가  https://movie-phinf.pstatic.net/20200115_223/1...         안재홍   \n",
       "1314   15세 관람가  https://movie-phinf.pstatic.net/20191002_88/15...      제시 버클리   \n",
       "1315  청소년 관람불가  https://movie-phinf.pstatic.net/20210310_84/16...      로랜드 몰러   \n",
       "1316    전체 관람가  https://movie-phinf.pstatic.net/20181108_98/15...         장은숙   \n",
       "\n",
       "         actor_2   actor_3  year month   day  \\\n",
       "0            정재헌       엄상현  2021    10    27   \n",
       "1            김귀임       김종수  2021    11    11   \n",
       "2         앨리슨 밀러      None  2021     1  None   \n",
       "3          재지 비츠   이드리스 엘바  2021    10    20   \n",
       "4      잭 딜런 그레이저   올리비아 콜맨  2021    10    27   \n",
       "...          ...       ...   ...   ...   ...   \n",
       "1312      캐서린 워커    앤드류 스캇  2018    11    01   \n",
       "1313         강소라       박영규  2020    01    15   \n",
       "1314      줄리 월터스      None  2019    10    17   \n",
       "1315      로라 르 란     벨 배턴스  2021    03    15   \n",
       "1316         최원형       장경희  2018    11    08   \n",
       "\n",
       "                                                content  \n",
       "0     바다 폭풍에 휩쓸린 옥토넛은 우연히 사막에 상륙한다.바다 너머 육지에도 다양한 문제...  \n",
       "1     50년 넘게 노점을 해온 팔순의 김종분.', 왕십리역 11번 출구 터줏대감이자 현역...  \n",
       "2     10년 된 부부 라이언과 클로디아는 옛 추억을 떠올리며, 신혼여행지 이탈리아를 다시...  \n",
       "3     숙적 루푸스 벅이 출소한 사실을 알게 된 서부의 무법자 냇 러브가 미뤄뒀던 복수를 ...  \n",
       "4     비봇을 갖는 것이 유일한 소원인 소심한 소년 ‘바니’에게도', 드디어 ‘론’이라는 ...  \n",
       "...                                                 ...  \n",
       "1312  폭력적인 남편을 피해 아이들과 함께 친구 다니엘의 집을 찾은 ‘이반’매일 아침, 친...  \n",
       "1313  생계형 수습 변호사 ‘태수’에게 찾아온 일생일대의 기회, 위기의 동물원 ‘동산파크’...  \n",
       "1314  타고난 가창력으로 스코틀랜드 글래스고의 한 바에서 인기 몰이 중인 로즈의 꿈은 그곳...  \n",
       "1315  교도소에서 출소한 대니는 로랑스와 클라라 모녀가 운영하는 낡은 모텔에서 새 삶을 시...  \n",
       "1316  게임을 좋아하는 12살 소년 ‘하비’.', 아버지가 일하는 장난감 박물관이 문닫을 ...  \n",
       "\n",
       "[1317 rows x 14 columns]"
      ]
     },
     "execution_count": 54,
     "metadata": {},
     "output_type": "execute_result"
    }
   ],
   "source": [
    "movie"
   ]
  },
  {
   "cell_type": "code",
   "execution_count": null,
   "id": "e332aff6",
   "metadata": {},
   "outputs": [],
   "source": []
  },
  {
   "cell_type": "markdown",
   "id": "d4ee7d23",
   "metadata": {},
   "source": [
    "관람객 평점 없음 데이터\n",
    "\n",
    "\n",
    "관람객 평점 존재 데이터\n",
    "\n",
    "\n",
    "두개의 데이터 생성"
   ]
  },
  {
   "cell_type": "code",
   "execution_count": 55,
   "id": "cdf1ed14",
   "metadata": {},
   "outputs": [],
   "source": [
    "unvote_data = movie[movie.vote=='관람객 평점 없음']\n",
    "vote_data = movie[movie.vote!='관람객 평점 없음']\n",
    "vote_data = vote_data.reset_index(drop=True)"
   ]
  },
  {
   "cell_type": "code",
   "execution_count": 56,
   "id": "4b2e3c55",
   "metadata": {
    "scrolled": true
   },
   "outputs": [
    {
     "data": {
      "text/html": [
       "<div>\n",
       "<style scoped>\n",
       "    .dataframe tbody tr th:only-of-type {\n",
       "        vertical-align: middle;\n",
       "    }\n",
       "\n",
       "    .dataframe tbody tr th {\n",
       "        vertical-align: top;\n",
       "    }\n",
       "\n",
       "    .dataframe thead th {\n",
       "        text-align: right;\n",
       "    }\n",
       "</style>\n",
       "<table border=\"1\" class=\"dataframe\">\n",
       "  <thead>\n",
       "    <tr style=\"text-align: right;\">\n",
       "      <th></th>\n",
       "      <th>title</th>\n",
       "      <th>vote</th>\n",
       "      <th>genre</th>\n",
       "      <th>country</th>\n",
       "      <th>time</th>\n",
       "      <th>grade</th>\n",
       "      <th>poster_path</th>\n",
       "      <th>actor_1</th>\n",
       "      <th>actor_2</th>\n",
       "      <th>actor_3</th>\n",
       "      <th>year</th>\n",
       "      <th>month</th>\n",
       "      <th>day</th>\n",
       "      <th>content</th>\n",
       "    </tr>\n",
       "  </thead>\n",
       "  <tbody>\n",
       "    <tr>\n",
       "      <th>1</th>\n",
       "      <td>왕십리 김종분</td>\n",
       "      <td>관람객 평점 없음</td>\n",
       "      <td>[다큐멘터리]</td>\n",
       "      <td>한국</td>\n",
       "      <td>102분</td>\n",
       "      <td>12세 관람가</td>\n",
       "      <td>https://movie-phinf.pstatic.net/20211026_135/1...</td>\n",
       "      <td>김종분</td>\n",
       "      <td>김귀임</td>\n",
       "      <td>김종수</td>\n",
       "      <td>2021</td>\n",
       "      <td>11</td>\n",
       "      <td>11</td>\n",
       "      <td>50년 넘게 노점을 해온 팔순의 김종분.', 왕십리역 11번 출구 터줏대감이자 현역...</td>\n",
       "    </tr>\n",
       "    <tr>\n",
       "      <th>2</th>\n",
       "      <td>결혼 후에 남겨진 것들</td>\n",
       "      <td>관람객 평점 없음</td>\n",
       "      <td>[멜로/로맨스, 드라마]</td>\n",
       "      <td>미국</td>\n",
       "      <td>97분</td>\n",
       "      <td>전체 관람가</td>\n",
       "      <td>https://movie-phinf.pstatic.net/20210928_272/1...</td>\n",
       "      <td>로스 맥콜</td>\n",
       "      <td>앨리슨 밀러</td>\n",
       "      <td>None</td>\n",
       "      <td>2021</td>\n",
       "      <td>1</td>\n",
       "      <td>None</td>\n",
       "      <td>10년 된 부부 라이언과 클로디아는 옛 추억을 떠올리며, 신혼여행지 이탈리아를 다시...</td>\n",
       "    </tr>\n",
       "    <tr>\n",
       "      <th>5</th>\n",
       "      <td>피어썸</td>\n",
       "      <td>관람객 평점 없음</td>\n",
       "      <td>[공포, 미스터리]</td>\n",
       "      <td>한국</td>\n",
       "      <td>82분</td>\n",
       "      <td>15세 관람가</td>\n",
       "      <td>https://movie-phinf.pstatic.net/20210917_247/1...</td>\n",
       "      <td>조동혁</td>\n",
       "      <td>차선우</td>\n",
       "      <td>None</td>\n",
       "      <td>2021</td>\n",
       "      <td>10</td>\n",
       "      <td>07</td>\n",
       "      <td>공연을 할 수 없게 된 ‘승연’(조동혁)의 밴드는', 재정비를 위해 춘천으로 떠나고...</td>\n",
       "    </tr>\n",
       "    <tr>\n",
       "      <th>6</th>\n",
       "      <td>피치 오브 타임 극장판</td>\n",
       "      <td>관람객 평점 없음</td>\n",
       "      <td>[멜로/로맨스, 드라마]</td>\n",
       "      <td>한국</td>\n",
       "      <td>99분</td>\n",
       "      <td>12세 관람가</td>\n",
       "      <td>https://movie-phinf.pstatic.net/20210930_277/1...</td>\n",
       "      <td>지미 칸 크리사나판</td>\n",
       "      <td>최재현</td>\n",
       "      <td>토미 싯티촉 푸에크풀폴</td>\n",
       "      <td>2021</td>\n",
       "      <td>10</td>\n",
       "      <td>21</td>\n",
       "      <td>친구 윤오의 연락을 받고 한국에 도착한 피치.', 그렇게 날 반갑게 맞아준 윤오가 ...</td>\n",
       "    </tr>\n",
       "    <tr>\n",
       "      <th>8</th>\n",
       "      <td>레드 아워</td>\n",
       "      <td>관람객 평점 없음</td>\n",
       "      <td>[액션, 스릴러]</td>\n",
       "      <td>미국</td>\n",
       "      <td>93분</td>\n",
       "      <td>15세 관람가</td>\n",
       "      <td>https://movie-phinf.pstatic.net/20210923_101/1...</td>\n",
       "      <td>타이레스 깁슨</td>\n",
       "      <td>존 말코비치</td>\n",
       "      <td>None</td>\n",
       "      <td>2021</td>\n",
       "      <td>1</td>\n",
       "      <td>None</td>\n",
       "      <td>아동보호국에서 근무하는 카일은 아프가니스탄 파병지에서 동료를 잃었던 끔찍한 기억으로...</td>\n",
       "    </tr>\n",
       "    <tr>\n",
       "      <th>...</th>\n",
       "      <td>...</td>\n",
       "      <td>...</td>\n",
       "      <td>...</td>\n",
       "      <td>...</td>\n",
       "      <td>...</td>\n",
       "      <td>...</td>\n",
       "      <td>...</td>\n",
       "      <td>...</td>\n",
       "      <td>...</td>\n",
       "      <td>...</td>\n",
       "      <td>...</td>\n",
       "      <td>...</td>\n",
       "      <td>...</td>\n",
       "      <td>...</td>\n",
       "    </tr>\n",
       "    <tr>\n",
       "      <th>1300</th>\n",
       "      <td>로빈 후드: 리벨리언</td>\n",
       "      <td>관람객 평점 없음</td>\n",
       "      <td>[액션, 모험]</td>\n",
       "      <td>영국</td>\n",
       "      <td>92분</td>\n",
       "      <td>15세 관람가</td>\n",
       "      <td>https://movie-phinf.pstatic.net/20181116_139/1...</td>\n",
       "      <td>벤 프리먼</td>\n",
       "      <td>마리 에버릿</td>\n",
       "      <td>제임스 올리버 휘트리</td>\n",
       "      <td>2018</td>\n",
       "      <td>11</td>\n",
       "      <td>29</td>\n",
       "      <td>십자군 원정에서 돌아온 로빈 후드.주장관의 폭정에 반기를 들고 마을 사람들과셔우드 ...</td>\n",
       "    </tr>\n",
       "    <tr>\n",
       "      <th>1301</th>\n",
       "      <td>엔젤 오브 마인</td>\n",
       "      <td>관람객 평점 없음</td>\n",
       "      <td>[드라마, 스릴러]</td>\n",
       "      <td>미국</td>\n",
       "      <td>98분</td>\n",
       "      <td>15세 관람가</td>\n",
       "      <td>https://movie-phinf.pstatic.net/20191011_108/1...</td>\n",
       "      <td>누미 라파스</td>\n",
       "      <td>이본느 스트라호브스키</td>\n",
       "      <td>루크 에반스</td>\n",
       "      <td>2019</td>\n",
       "      <td>10</td>\n",
       "      <td>30</td>\n",
       "      <td>7년 전 사고로 죽은 아이에 대한 그리움으로일, 가족 그리고 자기 자신마저도 돌보지...</td>\n",
       "    </tr>\n",
       "    <tr>\n",
       "      <th>1311</th>\n",
       "      <td>방문객</td>\n",
       "      <td>관람객 평점 없음</td>\n",
       "      <td>[드라마, 미스터리, 판타지]</td>\n",
       "      <td>한국</td>\n",
       "      <td>75분</td>\n",
       "      <td>15세 관람가</td>\n",
       "      <td>https://movie-phinf.pstatic.net/20190315_217/1...</td>\n",
       "      <td>정호</td>\n",
       "      <td>None</td>\n",
       "      <td>None</td>\n",
       "      <td>2019</td>\n",
       "      <td>03</td>\n",
       "      <td>27</td>\n",
       "      <td>죽어야 하는 오늘, 찾아오는 낯선 자들', 탈북한 북의 고위 간부가 해외에서 살해되...</td>\n",
       "    </tr>\n",
       "    <tr>\n",
       "      <th>1312</th>\n",
       "      <td>유혹의 계절</td>\n",
       "      <td>관람객 평점 없음</td>\n",
       "      <td>[멜로/로맨스, 드라마]</td>\n",
       "      <td>아일랜드</td>\n",
       "      <td>103분</td>\n",
       "      <td>청소년 관람불가</td>\n",
       "      <td>https://movie-phinf.pstatic.net/20181016_189/1...</td>\n",
       "      <td>킬리언 머피</td>\n",
       "      <td>캐서린 워커</td>\n",
       "      <td>앤드류 스캇</td>\n",
       "      <td>2018</td>\n",
       "      <td>11</td>\n",
       "      <td>01</td>\n",
       "      <td>폭력적인 남편을 피해 아이들과 함께 친구 다니엘의 집을 찾은 ‘이반’매일 아침, 친...</td>\n",
       "    </tr>\n",
       "    <tr>\n",
       "      <th>1315</th>\n",
       "      <td>블루버드 인 마이 하트</td>\n",
       "      <td>관람객 평점 없음</td>\n",
       "      <td>[범죄, 액션, 드라마]</td>\n",
       "      <td>프랑스</td>\n",
       "      <td>89분</td>\n",
       "      <td>청소년 관람불가</td>\n",
       "      <td>https://movie-phinf.pstatic.net/20210310_84/16...</td>\n",
       "      <td>로랜드 몰러</td>\n",
       "      <td>로라 르 란</td>\n",
       "      <td>벨 배턴스</td>\n",
       "      <td>2021</td>\n",
       "      <td>03</td>\n",
       "      <td>15</td>\n",
       "      <td>교도소에서 출소한 대니는 로랑스와 클라라 모녀가 운영하는 낡은 모텔에서 새 삶을 시...</td>\n",
       "    </tr>\n",
       "  </tbody>\n",
       "</table>\n",
       "<p>581 rows × 14 columns</p>\n",
       "</div>"
      ],
      "text/plain": [
       "             title       vote             genre country  time     grade  \\\n",
       "1          왕십리 김종분  관람객 평점 없음           [다큐멘터리]      한국  102분   12세 관람가   \n",
       "2     결혼 후에 남겨진 것들  관람객 평점 없음     [멜로/로맨스, 드라마]      미국   97분    전체 관람가   \n",
       "5              피어썸  관람객 평점 없음        [공포, 미스터리]      한국   82분   15세 관람가   \n",
       "6     피치 오브 타임 극장판  관람객 평점 없음     [멜로/로맨스, 드라마]      한국   99분   12세 관람가   \n",
       "8            레드 아워  관람객 평점 없음         [액션, 스릴러]      미국   93분   15세 관람가   \n",
       "...            ...        ...               ...     ...   ...       ...   \n",
       "1300   로빈 후드: 리벨리언  관람객 평점 없음          [액션, 모험]      영국   92분   15세 관람가   \n",
       "1301      엔젤 오브 마인  관람객 평점 없음        [드라마, 스릴러]      미국   98분   15세 관람가   \n",
       "1311           방문객  관람객 평점 없음  [드라마, 미스터리, 판타지]      한국   75분   15세 관람가   \n",
       "1312        유혹의 계절  관람객 평점 없음     [멜로/로맨스, 드라마]    아일랜드  103분  청소년 관람불가   \n",
       "1315  블루버드 인 마이 하트  관람객 평점 없음     [범죄, 액션, 드라마]     프랑스   89분  청소년 관람불가   \n",
       "\n",
       "                                            poster_path     actor_1  \\\n",
       "1     https://movie-phinf.pstatic.net/20211026_135/1...         김종분   \n",
       "2     https://movie-phinf.pstatic.net/20210928_272/1...       로스 맥콜   \n",
       "5     https://movie-phinf.pstatic.net/20210917_247/1...         조동혁   \n",
       "6     https://movie-phinf.pstatic.net/20210930_277/1...  지미 칸 크리사나판   \n",
       "8     https://movie-phinf.pstatic.net/20210923_101/1...     타이레스 깁슨   \n",
       "...                                                 ...         ...   \n",
       "1300  https://movie-phinf.pstatic.net/20181116_139/1...       벤 프리먼   \n",
       "1301  https://movie-phinf.pstatic.net/20191011_108/1...      누미 라파스   \n",
       "1311  https://movie-phinf.pstatic.net/20190315_217/1...          정호   \n",
       "1312  https://movie-phinf.pstatic.net/20181016_189/1...      킬리언 머피   \n",
       "1315  https://movie-phinf.pstatic.net/20210310_84/16...      로랜드 몰러   \n",
       "\n",
       "           actor_2        actor_3  year month   day  \\\n",
       "1              김귀임            김종수  2021    11    11   \n",
       "2           앨리슨 밀러           None  2021     1  None   \n",
       "5              차선우           None  2021    10    07   \n",
       "6              최재현   토미 싯티촉 푸에크풀폴  2021    10    21   \n",
       "8           존 말코비치           None  2021     1  None   \n",
       "...            ...            ...   ...   ...   ...   \n",
       "1300        마리 에버릿    제임스 올리버 휘트리  2018    11    29   \n",
       "1301   이본느 스트라호브스키         루크 에반스  2019    10    30   \n",
       "1311          None           None  2019    03    27   \n",
       "1312        캐서린 워커         앤드류 스캇  2018    11    01   \n",
       "1315        로라 르 란          벨 배턴스  2021    03    15   \n",
       "\n",
       "                                                content  \n",
       "1     50년 넘게 노점을 해온 팔순의 김종분.', 왕십리역 11번 출구 터줏대감이자 현역...  \n",
       "2     10년 된 부부 라이언과 클로디아는 옛 추억을 떠올리며, 신혼여행지 이탈리아를 다시...  \n",
       "5     공연을 할 수 없게 된 ‘승연’(조동혁)의 밴드는', 재정비를 위해 춘천으로 떠나고...  \n",
       "6     친구 윤오의 연락을 받고 한국에 도착한 피치.', 그렇게 날 반갑게 맞아준 윤오가 ...  \n",
       "8     아동보호국에서 근무하는 카일은 아프가니스탄 파병지에서 동료를 잃었던 끔찍한 기억으로...  \n",
       "...                                                 ...  \n",
       "1300  십자군 원정에서 돌아온 로빈 후드.주장관의 폭정에 반기를 들고 마을 사람들과셔우드 ...  \n",
       "1301  7년 전 사고로 죽은 아이에 대한 그리움으로일, 가족 그리고 자기 자신마저도 돌보지...  \n",
       "1311  죽어야 하는 오늘, 찾아오는 낯선 자들', 탈북한 북의 고위 간부가 해외에서 살해되...  \n",
       "1312  폭력적인 남편을 피해 아이들과 함께 친구 다니엘의 집을 찾은 ‘이반’매일 아침, 친...  \n",
       "1315  교도소에서 출소한 대니는 로랑스와 클라라 모녀가 운영하는 낡은 모텔에서 새 삶을 시...  \n",
       "\n",
       "[581 rows x 14 columns]"
      ]
     },
     "execution_count": 56,
     "metadata": {},
     "output_type": "execute_result"
    }
   ],
   "source": [
    "unvote_data"
   ]
  },
  {
   "cell_type": "code",
   "execution_count": null,
   "id": "38830ae6",
   "metadata": {},
   "outputs": [],
   "source": []
  },
  {
   "cell_type": "markdown",
   "id": "e2d90794",
   "metadata": {},
   "source": [
    " "
   ]
  },
  {
   "cell_type": "markdown",
   "id": "2340e6d9",
   "metadata": {},
   "source": [
    " "
   ]
  },
  {
   "cell_type": "markdown",
   "id": "921e7552",
   "metadata": {},
   "source": [
    "### 장르 데이터 ge 생성"
   ]
  },
  {
   "cell_type": "code",
   "execution_count": 57,
   "id": "6b471f6b",
   "metadata": {},
   "outputs": [],
   "source": [
    "gr = vote_data.groupby('genre')"
   ]
  },
  {
   "cell_type": "code",
   "execution_count": 58,
   "id": "1fd8206f",
   "metadata": {
    "scrolled": true
   },
   "outputs": [
    {
     "data": {
      "text/plain": [
       "'모험'"
      ]
     },
     "execution_count": 58,
     "metadata": {},
     "output_type": "execute_result"
    }
   ],
   "source": [
    "ge = set()\n",
    "length = len(vote_data.iloc[:])\n",
    "vote_data.iloc[0]['genre'][2]"
   ]
  },
  {
   "cell_type": "markdown",
   "id": "d7933a7f",
   "metadata": {},
   "source": [
    "for i in range(length):\n",
    "    for j in range(len(vote_data.iloc[i]['genre'])):\n",
    "        ge.add(vote_data.iloc[i]['genre'][j])"
   ]
  },
  {
   "cell_type": "code",
   "execution_count": 59,
   "id": "42149dda",
   "metadata": {},
   "outputs": [],
   "source": [
    "ge = ['공포', 'SF', '범죄', '미스터리', '스릴러', '멜로/로맨스', '판타지', '전쟁', '애니메이션', '모험', '다큐멘터리', '액션', '드라마' ,'서스펜스', '코미디', '가족', '공연실황', '뮤지컬']"
   ]
  },
  {
   "cell_type": "code",
   "execution_count": 60,
   "id": "f111ae88",
   "metadata": {},
   "outputs": [
    {
     "data": {
      "text/html": [
       "<div>\n",
       "<style scoped>\n",
       "    .dataframe tbody tr th:only-of-type {\n",
       "        vertical-align: middle;\n",
       "    }\n",
       "\n",
       "    .dataframe tbody tr th {\n",
       "        vertical-align: top;\n",
       "    }\n",
       "\n",
       "    .dataframe thead th {\n",
       "        text-align: right;\n",
       "    }\n",
       "</style>\n",
       "<table border=\"1\" class=\"dataframe\">\n",
       "  <thead>\n",
       "    <tr style=\"text-align: right;\">\n",
       "      <th></th>\n",
       "      <th>0</th>\n",
       "    </tr>\n",
       "  </thead>\n",
       "  <tbody>\n",
       "    <tr>\n",
       "      <th>0</th>\n",
       "      <td>공포</td>\n",
       "    </tr>\n",
       "    <tr>\n",
       "      <th>1</th>\n",
       "      <td>SF</td>\n",
       "    </tr>\n",
       "    <tr>\n",
       "      <th>2</th>\n",
       "      <td>범죄</td>\n",
       "    </tr>\n",
       "    <tr>\n",
       "      <th>3</th>\n",
       "      <td>미스터리</td>\n",
       "    </tr>\n",
       "    <tr>\n",
       "      <th>4</th>\n",
       "      <td>스릴러</td>\n",
       "    </tr>\n",
       "    <tr>\n",
       "      <th>5</th>\n",
       "      <td>멜로/로맨스</td>\n",
       "    </tr>\n",
       "    <tr>\n",
       "      <th>6</th>\n",
       "      <td>판타지</td>\n",
       "    </tr>\n",
       "    <tr>\n",
       "      <th>7</th>\n",
       "      <td>전쟁</td>\n",
       "    </tr>\n",
       "    <tr>\n",
       "      <th>8</th>\n",
       "      <td>애니메이션</td>\n",
       "    </tr>\n",
       "    <tr>\n",
       "      <th>9</th>\n",
       "      <td>모험</td>\n",
       "    </tr>\n",
       "    <tr>\n",
       "      <th>10</th>\n",
       "      <td>다큐멘터리</td>\n",
       "    </tr>\n",
       "    <tr>\n",
       "      <th>11</th>\n",
       "      <td>액션</td>\n",
       "    </tr>\n",
       "    <tr>\n",
       "      <th>12</th>\n",
       "      <td>드라마</td>\n",
       "    </tr>\n",
       "    <tr>\n",
       "      <th>13</th>\n",
       "      <td>서스펜스</td>\n",
       "    </tr>\n",
       "    <tr>\n",
       "      <th>14</th>\n",
       "      <td>코미디</td>\n",
       "    </tr>\n",
       "    <tr>\n",
       "      <th>15</th>\n",
       "      <td>가족</td>\n",
       "    </tr>\n",
       "    <tr>\n",
       "      <th>16</th>\n",
       "      <td>공연실황</td>\n",
       "    </tr>\n",
       "    <tr>\n",
       "      <th>17</th>\n",
       "      <td>뮤지컬</td>\n",
       "    </tr>\n",
       "  </tbody>\n",
       "</table>\n",
       "</div>"
      ],
      "text/plain": [
       "         0\n",
       "0       공포\n",
       "1       SF\n",
       "2       범죄\n",
       "3     미스터리\n",
       "4      스릴러\n",
       "5   멜로/로맨스\n",
       "6      판타지\n",
       "7       전쟁\n",
       "8    애니메이션\n",
       "9       모험\n",
       "10   다큐멘터리\n",
       "11      액션\n",
       "12     드라마\n",
       "13    서스펜스\n",
       "14     코미디\n",
       "15      가족\n",
       "16    공연실황\n",
       "17     뮤지컬"
      ]
     },
     "execution_count": 60,
     "metadata": {},
     "output_type": "execute_result"
    }
   ],
   "source": [
    "ge = pd.DataFrame(ge)\n",
    "# ge.columns = ge.columns.str.replace(' ', '')\n",
    "ge"
   ]
  },
  {
   "cell_type": "code",
   "execution_count": 61,
   "id": "0cc6ea7a",
   "metadata": {
    "scrolled": true
   },
   "outputs": [
    {
     "name": "stdout",
     "output_type": "stream",
     "text": [
      "          title  vote  genre  country  time  poster_path  actor_1  actor_2  \\\n",
      "grade                                                                        \n",
      "12세 관람가     226   226    226      226   226          226      226      203   \n",
      "15세 관람가     261   261    261      261   261          261      261      245   \n",
      "전체 관람가      178   178    178      178   178          178      178      159   \n",
      "청소년 관람불가     71    71     71       71    71           71       71       64   \n",
      "\n",
      "          actor_3  year  month  day  content  \n",
      "grade                                         \n",
      "12세 관람가       128   226    226  226      226  \n",
      "15세 관람가       178   261    261  261      261  \n",
      "전체 관람가        117   178    178  178      178  \n",
      "청소년 관람불가       49    71     71   71       71  \n"
     ]
    }
   ],
   "source": [
    "grouped = vote_data.groupby('grade')\n",
    "print(grouped.count())"
   ]
  },
  {
   "cell_type": "markdown",
   "id": "d78607fa",
   "metadata": {},
   "source": [
    " "
   ]
  },
  {
   "cell_type": "markdown",
   "id": "a188a0db",
   "metadata": {},
   "source": [
    " "
   ]
  },
  {
   "cell_type": "markdown",
   "id": "014bc507",
   "metadata": {},
   "source": [
    " "
   ]
  },
  {
   "cell_type": "markdown",
   "id": "86891ea7",
   "metadata": {},
   "source": [
    " ### 등급 데이터 gd 생성"
   ]
  },
  {
   "cell_type": "code",
   "execution_count": 62,
   "id": "a74f5052",
   "metadata": {
    "scrolled": true
   },
   "outputs": [
    {
     "data": {
      "text/html": [
       "<div>\n",
       "<style scoped>\n",
       "    .dataframe tbody tr th:only-of-type {\n",
       "        vertical-align: middle;\n",
       "    }\n",
       "\n",
       "    .dataframe tbody tr th {\n",
       "        vertical-align: top;\n",
       "    }\n",
       "\n",
       "    .dataframe thead th {\n",
       "        text-align: right;\n",
       "    }\n",
       "</style>\n",
       "<table border=\"1\" class=\"dataframe\">\n",
       "  <thead>\n",
       "    <tr style=\"text-align: right;\">\n",
       "      <th></th>\n",
       "      <th>0</th>\n",
       "    </tr>\n",
       "  </thead>\n",
       "  <tbody>\n",
       "    <tr>\n",
       "      <th>0</th>\n",
       "      <td>전체 관람가</td>\n",
       "    </tr>\n",
       "    <tr>\n",
       "      <th>1</th>\n",
       "      <td>12세 관람가</td>\n",
       "    </tr>\n",
       "    <tr>\n",
       "      <th>2</th>\n",
       "      <td>15세 관람가</td>\n",
       "    </tr>\n",
       "    <tr>\n",
       "      <th>3</th>\n",
       "      <td>청소년 관람불가</td>\n",
       "    </tr>\n",
       "  </tbody>\n",
       "</table>\n",
       "</div>"
      ],
      "text/plain": [
       "          0\n",
       "0    전체 관람가\n",
       "1   12세 관람가\n",
       "2   15세 관람가\n",
       "3  청소년 관람불가"
      ]
     },
     "execution_count": 62,
     "metadata": {},
     "output_type": "execute_result"
    }
   ],
   "source": [
    "grade_li = ['전체 관람가', '12세 관람가', '15세 관람가', '청소년 관람불가']\n",
    "gd = pd.DataFrame(grade_li)\n",
    "gd"
   ]
  },
  {
   "cell_type": "code",
   "execution_count": 63,
   "id": "8ef4e8d7",
   "metadata": {},
   "outputs": [
    {
     "data": {
      "text/plain": [
       "'12세 관람가'"
      ]
     },
     "execution_count": 63,
     "metadata": {},
     "output_type": "execute_result"
    }
   ],
   "source": [
    "gd[0][1]"
   ]
  },
  {
   "cell_type": "code",
   "execution_count": 64,
   "id": "5bbdb7ec",
   "metadata": {},
   "outputs": [
    {
     "data": {
      "text/plain": [
       "True"
      ]
     },
     "execution_count": 64,
     "metadata": {},
     "output_type": "execute_result"
    }
   ],
   "source": [
    "vote_data['grade'][0] == gd[0][0]"
   ]
  },
  {
   "cell_type": "markdown",
   "id": "66765d4d",
   "metadata": {},
   "source": [
    "for i in range(len(vote_data.iloc[:])):\n",
    "    for j in range(len(gd)):\n",
    "        if vote_data['grade'][i] == gd[0][j]:\n",
    "            vote_data['grade'][i] = j"
   ]
  },
  {
   "cell_type": "code",
   "execution_count": 65,
   "id": "661a3d3a",
   "metadata": {
    "scrolled": true
   },
   "outputs": [
    {
     "data": {
      "text/html": [
       "<div>\n",
       "<style scoped>\n",
       "    .dataframe tbody tr th:only-of-type {\n",
       "        vertical-align: middle;\n",
       "    }\n",
       "\n",
       "    .dataframe tbody tr th {\n",
       "        vertical-align: top;\n",
       "    }\n",
       "\n",
       "    .dataframe thead th {\n",
       "        text-align: right;\n",
       "    }\n",
       "</style>\n",
       "<table border=\"1\" class=\"dataframe\">\n",
       "  <thead>\n",
       "    <tr style=\"text-align: right;\">\n",
       "      <th></th>\n",
       "      <th>title</th>\n",
       "      <th>vote</th>\n",
       "      <th>genre</th>\n",
       "      <th>country</th>\n",
       "      <th>time</th>\n",
       "      <th>grade</th>\n",
       "      <th>poster_path</th>\n",
       "      <th>actor_1</th>\n",
       "      <th>actor_2</th>\n",
       "      <th>actor_3</th>\n",
       "      <th>year</th>\n",
       "      <th>month</th>\n",
       "      <th>day</th>\n",
       "      <th>content</th>\n",
       "    </tr>\n",
       "  </thead>\n",
       "  <tbody>\n",
       "    <tr>\n",
       "      <th>0</th>\n",
       "      <td>바다 탐험대 옥토넛 : 육지수호 대작전</td>\n",
       "      <td>관람객 평점 6.00점</td>\n",
       "      <td>[애니메이션, 액션, 모험]</td>\n",
       "      <td>영국</td>\n",
       "      <td>60분</td>\n",
       "      <td>전체 관람가</td>\n",
       "      <td>https://movie-phinf.pstatic.net/20210924_146/1...</td>\n",
       "      <td>하성용</td>\n",
       "      <td>정재헌</td>\n",
       "      <td>엄상현</td>\n",
       "      <td>2021</td>\n",
       "      <td>10</td>\n",
       "      <td>27</td>\n",
       "      <td>바다 폭풍에 휩쓸린 옥토넛은 우연히 사막에 상륙한다.바다 너머 육지에도 다양한 문제...</td>\n",
       "    </tr>\n",
       "    <tr>\n",
       "      <th>1</th>\n",
       "      <td>더 하더 데이 폴</td>\n",
       "      <td>관람객 평점 6.56점</td>\n",
       "      <td>[액션, 모험]</td>\n",
       "      <td>미국</td>\n",
       "      <td>137분</td>\n",
       "      <td>청소년 관람불가</td>\n",
       "      <td>https://movie-phinf.pstatic.net/20211013_124/1...</td>\n",
       "      <td>조나단 메이저스</td>\n",
       "      <td>재지 비츠</td>\n",
       "      <td>이드리스 엘바</td>\n",
       "      <td>2021</td>\n",
       "      <td>10</td>\n",
       "      <td>20</td>\n",
       "      <td>숙적 루푸스 벅이 출소한 사실을 알게 된 서부의 무법자 냇 러브가 미뤄뒀던 복수를 ...</td>\n",
       "    </tr>\n",
       "    <tr>\n",
       "      <th>2</th>\n",
       "      <td>고장난 론</td>\n",
       "      <td>관람객 평점 8.48점</td>\n",
       "      <td>[애니메이션]</td>\n",
       "      <td>미국</td>\n",
       "      <td>106분</td>\n",
       "      <td>전체 관람가</td>\n",
       "      <td>https://movie-phinf.pstatic.net/20211013_94/16...</td>\n",
       "      <td>자흐 갈리피아나키스</td>\n",
       "      <td>잭 딜런 그레이저</td>\n",
       "      <td>올리비아 콜맨</td>\n",
       "      <td>2021</td>\n",
       "      <td>10</td>\n",
       "      <td>27</td>\n",
       "      <td>비봇을 갖는 것이 유일한 소원인 소심한 소년 ‘바니’에게도', 드디어 ‘론’이라는 ...</td>\n",
       "    </tr>\n",
       "    <tr>\n",
       "      <th>3</th>\n",
       "      <td>가치 캅시다</td>\n",
       "      <td>관람객 평점 7.40점</td>\n",
       "      <td>[드라마]</td>\n",
       "      <td>한국</td>\n",
       "      <td>93분</td>\n",
       "      <td>15세 관람가</td>\n",
       "      <td>https://movie-phinf.pstatic.net/20211012_41/16...</td>\n",
       "      <td>김기현</td>\n",
       "      <td>강형석</td>\n",
       "      <td>남지우</td>\n",
       "      <td>2021</td>\n",
       "      <td>10</td>\n",
       "      <td>28</td>\n",
       "      <td>대한민국에서 영어 좀 한다는 남자라면 혹하는, 일생에 단 한 번만 지원할 수 있는 ...</td>\n",
       "    </tr>\n",
       "    <tr>\n",
       "      <th>4</th>\n",
       "      <td>F20</td>\n",
       "      <td>관람객 평점 9.50점</td>\n",
       "      <td>[스릴러]</td>\n",
       "      <td>한국</td>\n",
       "      <td>104분</td>\n",
       "      <td>15세 관람가</td>\n",
       "      <td>https://movie-phinf.pstatic.net/20210928_86/16...</td>\n",
       "      <td>장영남</td>\n",
       "      <td>김정영</td>\n",
       "      <td>김강민</td>\n",
       "      <td>2021</td>\n",
       "      <td>10</td>\n",
       "      <td>06</td>\n",
       "      <td>어디에 내놔도 자랑스러운 아들을 둔 엄마 ‘애란’은', 군 생활을 떠났던 아들 ‘도...</td>\n",
       "    </tr>\n",
       "    <tr>\n",
       "      <th>...</th>\n",
       "      <td>...</td>\n",
       "      <td>...</td>\n",
       "      <td>...</td>\n",
       "      <td>...</td>\n",
       "      <td>...</td>\n",
       "      <td>...</td>\n",
       "      <td>...</td>\n",
       "      <td>...</td>\n",
       "      <td>...</td>\n",
       "      <td>...</td>\n",
       "      <td>...</td>\n",
       "      <td>...</td>\n",
       "      <td>...</td>\n",
       "      <td>...</td>\n",
       "    </tr>\n",
       "    <tr>\n",
       "      <th>731</th>\n",
       "      <td>어린 의뢰인</td>\n",
       "      <td>관람객 평점 9.14점</td>\n",
       "      <td>[드라마]</td>\n",
       "      <td>한국</td>\n",
       "      <td>114분</td>\n",
       "      <td>12세 관람가</td>\n",
       "      <td>https://movie-phinf.pstatic.net/20190515_46/15...</td>\n",
       "      <td>이동휘</td>\n",
       "      <td>유선</td>\n",
       "      <td>최명빈</td>\n",
       "      <td>2019</td>\n",
       "      <td>05</td>\n",
       "      <td>22</td>\n",
       "      <td>당신에게 찾아온 뜨거운 질문!', “당신은 이 아이를 외면하시겠습니까?”', ', ...</td>\n",
       "    </tr>\n",
       "    <tr>\n",
       "      <th>732</th>\n",
       "      <td>블라인드 멜로디</td>\n",
       "      <td>관람객 평점 8.54점</td>\n",
       "      <td>[스릴러]</td>\n",
       "      <td>인도</td>\n",
       "      <td>139분</td>\n",
       "      <td>15세 관람가</td>\n",
       "      <td>https://movie-phinf.pstatic.net/20190812_30/15...</td>\n",
       "      <td>아유쉬만 커라나</td>\n",
       "      <td>타부</td>\n",
       "      <td>라디카 압테</td>\n",
       "      <td>2019</td>\n",
       "      <td>08</td>\n",
       "      <td>28</td>\n",
       "      <td>눈이 보이지 않는 피아니스트 행세를 하며 라이브 레스토랑에서 공연을 하던 ‘아카쉬’...</td>\n",
       "    </tr>\n",
       "    <tr>\n",
       "      <th>733</th>\n",
       "      <td>해치지않아</td>\n",
       "      <td>관람객 평점 7.32점</td>\n",
       "      <td>[코미디]</td>\n",
       "      <td>한국</td>\n",
       "      <td>117분</td>\n",
       "      <td>12세 관람가</td>\n",
       "      <td>https://movie-phinf.pstatic.net/20200115_223/1...</td>\n",
       "      <td>안재홍</td>\n",
       "      <td>강소라</td>\n",
       "      <td>박영규</td>\n",
       "      <td>2020</td>\n",
       "      <td>01</td>\n",
       "      <td>15</td>\n",
       "      <td>생계형 수습 변호사 ‘태수’에게 찾아온 일생일대의 기회, 위기의 동물원 ‘동산파크’...</td>\n",
       "    </tr>\n",
       "    <tr>\n",
       "      <th>734</th>\n",
       "      <td>와일드 로즈</td>\n",
       "      <td>관람객 평점 8.90점</td>\n",
       "      <td>[드라마]</td>\n",
       "      <td>영국</td>\n",
       "      <td>100분</td>\n",
       "      <td>15세 관람가</td>\n",
       "      <td>https://movie-phinf.pstatic.net/20191002_88/15...</td>\n",
       "      <td>제시 버클리</td>\n",
       "      <td>줄리 월터스</td>\n",
       "      <td>None</td>\n",
       "      <td>2019</td>\n",
       "      <td>10</td>\n",
       "      <td>17</td>\n",
       "      <td>타고난 가창력으로 스코틀랜드 글래스고의 한 바에서 인기 몰이 중인 로즈의 꿈은 그곳...</td>\n",
       "    </tr>\n",
       "    <tr>\n",
       "      <th>735</th>\n",
       "      <td>박물관이 진짜 살아있다</td>\n",
       "      <td>관람객 평점 7.78점</td>\n",
       "      <td>[애니메이션, 모험, 코미디]</td>\n",
       "      <td>체코</td>\n",
       "      <td>86분</td>\n",
       "      <td>전체 관람가</td>\n",
       "      <td>https://movie-phinf.pstatic.net/20181108_98/15...</td>\n",
       "      <td>장은숙</td>\n",
       "      <td>최원형</td>\n",
       "      <td>장경희</td>\n",
       "      <td>2018</td>\n",
       "      <td>11</td>\n",
       "      <td>08</td>\n",
       "      <td>게임을 좋아하는 12살 소년 ‘하비’.', 아버지가 일하는 장난감 박물관이 문닫을 ...</td>\n",
       "    </tr>\n",
       "  </tbody>\n",
       "</table>\n",
       "<p>736 rows × 14 columns</p>\n",
       "</div>"
      ],
      "text/plain": [
       "                     title          vote             genre country  time  \\\n",
       "0    바다 탐험대 옥토넛 : 육지수호 대작전  관람객 평점 6.00점   [애니메이션, 액션, 모험]      영국   60분   \n",
       "1                더 하더 데이 폴  관람객 평점 6.56점          [액션, 모험]      미국  137분   \n",
       "2                    고장난 론  관람객 평점 8.48점           [애니메이션]      미국  106분   \n",
       "3                   가치 캅시다  관람객 평점 7.40점             [드라마]      한국   93분   \n",
       "4                      F20  관람객 평점 9.50점             [스릴러]      한국  104분   \n",
       "..                     ...           ...               ...     ...   ...   \n",
       "731                 어린 의뢰인  관람객 평점 9.14점             [드라마]      한국  114분   \n",
       "732               블라인드 멜로디  관람객 평점 8.54점             [스릴러]      인도  139분   \n",
       "733                  해치지않아  관람객 평점 7.32점             [코미디]      한국  117분   \n",
       "734                 와일드 로즈  관람객 평점 8.90점             [드라마]      영국  100분   \n",
       "735           박물관이 진짜 살아있다  관람객 평점 7.78점  [애니메이션, 모험, 코미디]      체코   86분   \n",
       "\n",
       "        grade                                        poster_path     actor_1  \\\n",
       "0      전체 관람가  https://movie-phinf.pstatic.net/20210924_146/1...         하성용   \n",
       "1    청소년 관람불가  https://movie-phinf.pstatic.net/20211013_124/1...    조나단 메이저스   \n",
       "2      전체 관람가  https://movie-phinf.pstatic.net/20211013_94/16...  자흐 갈리피아나키스   \n",
       "3     15세 관람가  https://movie-phinf.pstatic.net/20211012_41/16...         김기현   \n",
       "4     15세 관람가  https://movie-phinf.pstatic.net/20210928_86/16...         장영남   \n",
       "..        ...                                                ...         ...   \n",
       "731   12세 관람가  https://movie-phinf.pstatic.net/20190515_46/15...         이동휘   \n",
       "732   15세 관람가  https://movie-phinf.pstatic.net/20190812_30/15...    아유쉬만 커라나   \n",
       "733   12세 관람가  https://movie-phinf.pstatic.net/20200115_223/1...         안재홍   \n",
       "734   15세 관람가  https://movie-phinf.pstatic.net/20191002_88/15...      제시 버클리   \n",
       "735    전체 관람가  https://movie-phinf.pstatic.net/20181108_98/15...         장은숙   \n",
       "\n",
       "        actor_2   actor_3  year month day  \\\n",
       "0           정재헌       엄상현  2021    10  27   \n",
       "1         재지 비츠   이드리스 엘바  2021    10  20   \n",
       "2     잭 딜런 그레이저   올리비아 콜맨  2021    10  27   \n",
       "3           강형석       남지우  2021    10  28   \n",
       "4           김정영       김강민  2021    10  06   \n",
       "..          ...       ...   ...   ...  ..   \n",
       "731          유선       최명빈  2019    05  22   \n",
       "732          타부    라디카 압테  2019    08  28   \n",
       "733         강소라       박영규  2020    01  15   \n",
       "734      줄리 월터스      None  2019    10  17   \n",
       "735         최원형       장경희  2018    11  08   \n",
       "\n",
       "                                               content  \n",
       "0    바다 폭풍에 휩쓸린 옥토넛은 우연히 사막에 상륙한다.바다 너머 육지에도 다양한 문제...  \n",
       "1    숙적 루푸스 벅이 출소한 사실을 알게 된 서부의 무법자 냇 러브가 미뤄뒀던 복수를 ...  \n",
       "2    비봇을 갖는 것이 유일한 소원인 소심한 소년 ‘바니’에게도', 드디어 ‘론’이라는 ...  \n",
       "3    대한민국에서 영어 좀 한다는 남자라면 혹하는, 일생에 단 한 번만 지원할 수 있는 ...  \n",
       "4    어디에 내놔도 자랑스러운 아들을 둔 엄마 ‘애란’은', 군 생활을 떠났던 아들 ‘도...  \n",
       "..                                                 ...  \n",
       "731  당신에게 찾아온 뜨거운 질문!', “당신은 이 아이를 외면하시겠습니까?”', ', ...  \n",
       "732  눈이 보이지 않는 피아니스트 행세를 하며 라이브 레스토랑에서 공연을 하던 ‘아카쉬’...  \n",
       "733  생계형 수습 변호사 ‘태수’에게 찾아온 일생일대의 기회, 위기의 동물원 ‘동산파크’...  \n",
       "734  타고난 가창력으로 스코틀랜드 글래스고의 한 바에서 인기 몰이 중인 로즈의 꿈은 그곳...  \n",
       "735  게임을 좋아하는 12살 소년 ‘하비’.', 아버지가 일하는 장난감 박물관이 문닫을 ...  \n",
       "\n",
       "[736 rows x 14 columns]"
      ]
     },
     "execution_count": 65,
     "metadata": {},
     "output_type": "execute_result"
    }
   ],
   "source": [
    "vote_data"
   ]
  },
  {
   "cell_type": "code",
   "execution_count": 66,
   "id": "30e040ff",
   "metadata": {},
   "outputs": [
    {
     "data": {
      "text/plain": [
       "numpy.int32"
      ]
     },
     "execution_count": 66,
     "metadata": {},
     "output_type": "execute_result"
    }
   ],
   "source": [
    "vote_data['year'] = vote_data['year'].astype(int)\n",
    "vote_data['month'] = vote_data['month'].astype(int)\n",
    "vote_data['day'] = vote_data['day'].astype(int)\n",
    "# type(vote_data['year'][0])\n",
    "# type(vote_data['month'][0])\n",
    "type(vote_data['day'][0])"
   ]
  },
  {
   "cell_type": "code",
   "execution_count": 67,
   "id": "a9eecdbb",
   "metadata": {
    "scrolled": true
   },
   "outputs": [
    {
     "name": "stdout",
     "output_type": "stream",
     "text": [
      "736\n"
     ]
    }
   ],
   "source": [
    "length = len(vote_data.iloc[:])\n",
    "print(length)"
   ]
  },
  {
   "cell_type": "code",
   "execution_count": 68,
   "id": "5cec3c6b",
   "metadata": {},
   "outputs": [
    {
     "name": "stderr",
     "output_type": "stream",
     "text": [
      "C:\\Users\\Public\\Documents\\ESTsoft\\CreatorTemp/ipykernel_24496/931456045.py:2: SettingWithCopyWarning: \n",
      "A value is trying to be set on a copy of a slice from a DataFrame\n",
      "\n",
      "See the caveats in the documentation: https://pandas.pydata.org/pandas-docs/stable/user_guide/indexing.html#returning-a-view-versus-a-copy\n",
      "  vote_data['vote'][i] = vote_data['vote'][i][7:11]\n"
     ]
    }
   ],
   "source": [
    "for i in range(length):\n",
    "    vote_data['vote'][i] = vote_data['vote'][i][7:11]"
   ]
  },
  {
   "cell_type": "code",
   "execution_count": 69,
   "id": "cb140955",
   "metadata": {
    "scrolled": true
   },
   "outputs": [],
   "source": [
    "vote_data['vote'] = vote_data['vote'].astype(float)"
   ]
  },
  {
   "cell_type": "code",
   "execution_count": 70,
   "id": "0c3c9f35",
   "metadata": {},
   "outputs": [
    {
     "data": {
      "text/plain": [
       "0      6.00\n",
       "1      6.56\n",
       "2      8.48\n",
       "3      7.40\n",
       "4      9.50\n",
       "       ... \n",
       "731    9.14\n",
       "732    8.54\n",
       "733    7.32\n",
       "734    8.90\n",
       "735    7.78\n",
       "Name: vote, Length: 736, dtype: float64"
      ]
     },
     "execution_count": 70,
     "metadata": {},
     "output_type": "execute_result"
    }
   ],
   "source": [
    "vote_data['vote']"
   ]
  },
  {
   "cell_type": "code",
   "execution_count": 71,
   "id": "93abab1b",
   "metadata": {},
   "outputs": [],
   "source": [
    "vote_data = vote_data.sort_values(by=['year', 'month', 'day'] ,ascending=False)"
   ]
  },
  {
   "cell_type": "code",
   "execution_count": 72,
   "id": "4ee1d9d9",
   "metadata": {
    "scrolled": false
   },
   "outputs": [],
   "source": [
    "vote_data = vote_data.reset_index(drop=True)"
   ]
  },
  {
   "cell_type": "code",
   "execution_count": null,
   "id": "d02bc1fe",
   "metadata": {},
   "outputs": [],
   "source": []
  },
  {
   "cell_type": "markdown",
   "id": "ccbd4a28",
   "metadata": {},
   "source": [
    " "
   ]
  },
  {
   "cell_type": "markdown",
   "id": "ac55ed18",
   "metadata": {},
   "source": [
    " "
   ]
  },
  {
   "cell_type": "markdown",
   "id": "ba661773",
   "metadata": {},
   "source": [
    " "
   ]
  },
  {
   "cell_type": "markdown",
   "id": "0f3c3973",
   "metadata": {},
   "source": [
    "### actor 데이터 생성 "
   ]
  },
  {
   "cell_type": "markdown",
   "id": "7d5d0c88",
   "metadata": {},
   "source": [
    " "
   ]
  },
  {
   "cell_type": "markdown",
   "id": "61a176bf",
   "metadata": {},
   "source": [
    " "
   ]
  },
  {
   "cell_type": "markdown",
   "id": "a9aeef84",
   "metadata": {},
   "source": [
    " "
   ]
  },
  {
   "cell_type": "markdown",
   "id": "cb0d96de",
   "metadata": {},
   "source": [
    " "
   ]
  },
  {
   "cell_type": "markdown",
   "id": "fbfc6fef",
   "metadata": {},
   "source": [
    " ### movies_movie_genre 데이터 생성"
   ]
  },
  {
   "cell_type": "code",
   "execution_count": 73,
   "id": "cfbc2267",
   "metadata": {
    "scrolled": true
   },
   "outputs": [
    {
     "data": {
      "text/html": [
       "<div>\n",
       "<style scoped>\n",
       "    .dataframe tbody tr th:only-of-type {\n",
       "        vertical-align: middle;\n",
       "    }\n",
       "\n",
       "    .dataframe tbody tr th {\n",
       "        vertical-align: top;\n",
       "    }\n",
       "\n",
       "    .dataframe thead th {\n",
       "        text-align: right;\n",
       "    }\n",
       "</style>\n",
       "<table border=\"1\" class=\"dataframe\">\n",
       "  <thead>\n",
       "    <tr style=\"text-align: right;\">\n",
       "      <th></th>\n",
       "      <th>movie_id</th>\n",
       "      <th>genre_id</th>\n",
       "    </tr>\n",
       "  </thead>\n",
       "  <tbody>\n",
       "  </tbody>\n",
       "</table>\n",
       "</div>"
      ],
      "text/plain": [
       "Empty DataFrame\n",
       "Columns: [movie_id, genre_id]\n",
       "Index: []"
      ]
     },
     "execution_count": 73,
     "metadata": {},
     "output_type": "execute_result"
    }
   ],
   "source": [
    "mo_ge = pd.DataFrame(columns = ['movie_id', 'genre_id'])\n",
    "mo_ge"
   ]
  },
  {
   "cell_type": "code",
   "execution_count": 74,
   "id": "87ef7a48",
   "metadata": {},
   "outputs": [
    {
     "data": {
      "text/plain": [
       "'범죄'"
      ]
     },
     "execution_count": 74,
     "metadata": {},
     "output_type": "execute_result"
    }
   ],
   "source": [
    "ge.iloc[2][0]"
   ]
  },
  {
   "cell_type": "code",
   "execution_count": 75,
   "id": "4d354fdb",
   "metadata": {},
   "outputs": [
    {
     "data": {
      "text/plain": [
       "False"
      ]
     },
     "execution_count": 75,
     "metadata": {},
     "output_type": "execute_result"
    }
   ],
   "source": [
    "vote_data.iloc[0]['genre'][0] == ge.iloc[2][0]"
   ]
  },
  {
   "cell_type": "code",
   "execution_count": 76,
   "id": "708a361f",
   "metadata": {},
   "outputs": [],
   "source": [
    "for i in range(len(vote_data.iloc[:])):\n",
    "    for j in range(len(vote_data.iloc[i]['genre'])):\n",
    "        for k in range(len(ge)):\n",
    "            if vote_data.iloc[i]['genre'][j] == ge.iloc[k][0]:\n",
    "                mo_ge = mo_ge.append({'movie_id': i, 'genre_id': k}, ignore_index=True)"
   ]
  },
  {
   "cell_type": "code",
   "execution_count": null,
   "id": "e1d9be24",
   "metadata": {},
   "outputs": [],
   "source": []
  },
  {
   "cell_type": "markdown",
   "id": "740a90b7",
   "metadata": {},
   "source": [
    " "
   ]
  },
  {
   "cell_type": "markdown",
   "id": "a98883e9",
   "metadata": {},
   "source": [
    " "
   ]
  },
  {
   "cell_type": "markdown",
   "id": "02b7c016",
   "metadata": {},
   "source": [
    " "
   ]
  },
  {
   "cell_type": "markdown",
   "id": "d9421e2e",
   "metadata": {},
   "source": [
    " ### movies_movie_grade 데이터 생성"
   ]
  },
  {
   "cell_type": "code",
   "execution_count": 77,
   "id": "b9340c3e",
   "metadata": {},
   "outputs": [
    {
     "data": {
      "text/html": [
       "<div>\n",
       "<style scoped>\n",
       "    .dataframe tbody tr th:only-of-type {\n",
       "        vertical-align: middle;\n",
       "    }\n",
       "\n",
       "    .dataframe tbody tr th {\n",
       "        vertical-align: top;\n",
       "    }\n",
       "\n",
       "    .dataframe thead th {\n",
       "        text-align: right;\n",
       "    }\n",
       "</style>\n",
       "<table border=\"1\" class=\"dataframe\">\n",
       "  <thead>\n",
       "    <tr style=\"text-align: right;\">\n",
       "      <th></th>\n",
       "      <th>movie_id</th>\n",
       "      <th>grade_id</th>\n",
       "    </tr>\n",
       "  </thead>\n",
       "  <tbody>\n",
       "  </tbody>\n",
       "</table>\n",
       "</div>"
      ],
      "text/plain": [
       "Empty DataFrame\n",
       "Columns: [movie_id, grade_id]\n",
       "Index: []"
      ]
     },
     "execution_count": 77,
     "metadata": {},
     "output_type": "execute_result"
    }
   ],
   "source": [
    "mo_gd = pd.DataFrame(columns = ['movie_id', 'grade_id'])\n",
    "mo_gd"
   ]
  },
  {
   "cell_type": "code",
   "execution_count": 78,
   "id": "079dbc55",
   "metadata": {},
   "outputs": [],
   "source": [
    "for i in range(len(vote_data.iloc[:])):\n",
    "    for k in range(len(gd)):\n",
    "        if vote_data.iloc[i]['grade'] == gd.iloc[k][0]:\n",
    "            mo_gd = mo_gd.append({'movie_id': i, 'grade_id': k}, ignore_index=True)"
   ]
  },
  {
   "cell_type": "code",
   "execution_count": 79,
   "id": "ef8378ed",
   "metadata": {
    "scrolled": true
   },
   "outputs": [
    {
     "data": {
      "text/html": [
       "<div>\n",
       "<style scoped>\n",
       "    .dataframe tbody tr th:only-of-type {\n",
       "        vertical-align: middle;\n",
       "    }\n",
       "\n",
       "    .dataframe tbody tr th {\n",
       "        vertical-align: top;\n",
       "    }\n",
       "\n",
       "    .dataframe thead th {\n",
       "        text-align: right;\n",
       "    }\n",
       "</style>\n",
       "<table border=\"1\" class=\"dataframe\">\n",
       "  <thead>\n",
       "    <tr style=\"text-align: right;\">\n",
       "      <th></th>\n",
       "      <th>movie_id</th>\n",
       "      <th>grade_id</th>\n",
       "    </tr>\n",
       "  </thead>\n",
       "  <tbody>\n",
       "    <tr>\n",
       "      <th>0</th>\n",
       "      <td>0</td>\n",
       "      <td>0</td>\n",
       "    </tr>\n",
       "    <tr>\n",
       "      <th>1</th>\n",
       "      <td>1</td>\n",
       "      <td>1</td>\n",
       "    </tr>\n",
       "    <tr>\n",
       "      <th>2</th>\n",
       "      <td>2</td>\n",
       "      <td>3</td>\n",
       "    </tr>\n",
       "    <tr>\n",
       "      <th>3</th>\n",
       "      <td>3</td>\n",
       "      <td>2</td>\n",
       "    </tr>\n",
       "    <tr>\n",
       "      <th>4</th>\n",
       "      <td>4</td>\n",
       "      <td>3</td>\n",
       "    </tr>\n",
       "    <tr>\n",
       "      <th>...</th>\n",
       "      <td>...</td>\n",
       "      <td>...</td>\n",
       "    </tr>\n",
       "    <tr>\n",
       "      <th>731</th>\n",
       "      <td>731</td>\n",
       "      <td>1</td>\n",
       "    </tr>\n",
       "    <tr>\n",
       "      <th>732</th>\n",
       "      <td>732</td>\n",
       "      <td>0</td>\n",
       "    </tr>\n",
       "    <tr>\n",
       "      <th>733</th>\n",
       "      <td>733</td>\n",
       "      <td>0</td>\n",
       "    </tr>\n",
       "    <tr>\n",
       "      <th>734</th>\n",
       "      <td>734</td>\n",
       "      <td>2</td>\n",
       "    </tr>\n",
       "    <tr>\n",
       "      <th>735</th>\n",
       "      <td>735</td>\n",
       "      <td>0</td>\n",
       "    </tr>\n",
       "  </tbody>\n",
       "</table>\n",
       "<p>736 rows × 2 columns</p>\n",
       "</div>"
      ],
      "text/plain": [
       "    movie_id grade_id\n",
       "0          0        0\n",
       "1          1        1\n",
       "2          2        3\n",
       "3          3        2\n",
       "4          4        3\n",
       "..       ...      ...\n",
       "731      731        1\n",
       "732      732        0\n",
       "733      733        0\n",
       "734      734        2\n",
       "735      735        0\n",
       "\n",
       "[736 rows x 2 columns]"
      ]
     },
     "execution_count": 79,
     "metadata": {},
     "output_type": "execute_result"
    }
   ],
   "source": [
    "mo_gd"
   ]
  },
  {
   "cell_type": "markdown",
   "id": "d465e7b6",
   "metadata": {},
   "source": [
    " "
   ]
  },
  {
   "cell_type": "markdown",
   "id": "91e68403",
   "metadata": {},
   "source": [
    " "
   ]
  },
  {
   "cell_type": "markdown",
   "id": "f1ca84e4",
   "metadata": {},
   "source": [
    " "
   ]
  },
  {
   "cell_type": "markdown",
   "id": "be189936",
   "metadata": {},
   "source": [
    " "
   ]
  },
  {
   "cell_type": "markdown",
   "id": "a55aa56c",
   "metadata": {},
   "source": [
    " "
   ]
  },
  {
   "cell_type": "code",
   "execution_count": null,
   "id": "2a3e58b5",
   "metadata": {},
   "outputs": [],
   "source": []
  },
  {
   "cell_type": "code",
   "execution_count": 80,
   "id": "4e83ca32",
   "metadata": {},
   "outputs": [
    {
     "data": {
      "text/html": [
       "<div>\n",
       "<style scoped>\n",
       "    .dataframe tbody tr th:only-of-type {\n",
       "        vertical-align: middle;\n",
       "    }\n",
       "\n",
       "    .dataframe tbody tr th {\n",
       "        vertical-align: top;\n",
       "    }\n",
       "\n",
       "    .dataframe thead th {\n",
       "        text-align: right;\n",
       "    }\n",
       "</style>\n",
       "<table border=\"1\" class=\"dataframe\">\n",
       "  <thead>\n",
       "    <tr style=\"text-align: right;\">\n",
       "      <th></th>\n",
       "      <th>title</th>\n",
       "      <th>vote</th>\n",
       "      <th>genre</th>\n",
       "      <th>country</th>\n",
       "      <th>time</th>\n",
       "      <th>grade</th>\n",
       "      <th>poster_path</th>\n",
       "      <th>actor_1</th>\n",
       "      <th>actor_2</th>\n",
       "      <th>actor_3</th>\n",
       "      <th>year</th>\n",
       "      <th>month</th>\n",
       "      <th>day</th>\n",
       "      <th>content</th>\n",
       "    </tr>\n",
       "  </thead>\n",
       "  <tbody>\n",
       "    <tr>\n",
       "      <th>0</th>\n",
       "      <td>1984 최동원</td>\n",
       "      <td>9.50</td>\n",
       "      <td>[다큐멘터리]</td>\n",
       "      <td>한국</td>\n",
       "      <td>98분</td>\n",
       "      <td>전체 관람가</td>\n",
       "      <td>https://movie-phinf.pstatic.net/20211108_166/1...</td>\n",
       "      <td>최동원</td>\n",
       "      <td>None</td>\n",
       "      <td>None</td>\n",
       "      <td>2021</td>\n",
       "      <td>11</td>\n",
       "      <td>11</td>\n",
       "      <td>무쇠팔, 부산의 심장, 최고의 투수, 등번호 11번, 불꽃 투혼, 금테 안경우리가 ...</td>\n",
       "    </tr>\n",
       "    <tr>\n",
       "      <th>1</th>\n",
       "      <td>나를 잡아줘</td>\n",
       "      <td>7.00</td>\n",
       "      <td>[멜로/로맨스, 코미디]</td>\n",
       "      <td>일본</td>\n",
       "      <td>134분</td>\n",
       "      <td>12세 관람가</td>\n",
       "      <td>https://movie-phinf.pstatic.net/20211021_10/16...</td>\n",
       "      <td>노넨 레나</td>\n",
       "      <td>하야시 켄토</td>\n",
       "      <td>None</td>\n",
       "      <td>2021</td>\n",
       "      <td>11</td>\n",
       "      <td>11</td>\n",
       "      <td>어제도 혼자, 오늘도 혼자인 솔로만렙 ‘미츠코’', 그녀의 앞에 나타난 연하남 ‘타...</td>\n",
       "    </tr>\n",
       "    <tr>\n",
       "      <th>2</th>\n",
       "      <td>뉴 오더</td>\n",
       "      <td>8.50</td>\n",
       "      <td>[드라마]</td>\n",
       "      <td>멕시코</td>\n",
       "      <td>86분</td>\n",
       "      <td>청소년 관람불가</td>\n",
       "      <td>https://movie-phinf.pstatic.net/20211028_132/1...</td>\n",
       "      <td>나이안 곤살레스 노르빈드</td>\n",
       "      <td>디에고 보네타</td>\n",
       "      <td>다리오 야즈벡 베르날</td>\n",
       "      <td>2021</td>\n",
       "      <td>11</td>\n",
       "      <td>11</td>\n",
       "      <td>202X 가상의 미래, 불안함이 들끓는 멕시코.마리안과 가족들이 고급 저택에서 호화...</td>\n",
       "    </tr>\n",
       "    <tr>\n",
       "      <th>3</th>\n",
       "      <td>러브 어페어 : 우리가 말하는 것, 우리가 하는 것</td>\n",
       "      <td>5.00</td>\n",
       "      <td>[드라마, 멜로/로맨스]</td>\n",
       "      <td>프랑스</td>\n",
       "      <td>122분</td>\n",
       "      <td>15세 관람가</td>\n",
       "      <td>https://movie-phinf.pstatic.net/20211026_79/16...</td>\n",
       "      <td>카멜리아 조다나</td>\n",
       "      <td>니엘스 슈나이더</td>\n",
       "      <td>빈센트 맥케인</td>\n",
       "      <td>2021</td>\n",
       "      <td>11</td>\n",
       "      <td>11</td>\n",
       "      <td>소설가를 꿈꾸는 막심은 시골 별장에서 휴가를 보내고 있는 사촌 형의 여자친구 다프네...</td>\n",
       "    </tr>\n",
       "    <tr>\n",
       "      <th>4</th>\n",
       "      <td>강릉</td>\n",
       "      <td>8.36</td>\n",
       "      <td>[범죄, 액션]</td>\n",
       "      <td>한국</td>\n",
       "      <td>119분</td>\n",
       "      <td>청소년 관람불가</td>\n",
       "      <td>https://movie-phinf.pstatic.net/20211108_295/1...</td>\n",
       "      <td>유오성</td>\n",
       "      <td>장혁</td>\n",
       "      <td>박성근</td>\n",
       "      <td>2021</td>\n",
       "      <td>11</td>\n",
       "      <td>10</td>\n",
       "      <td>강릉 최대 조직의 ‘길석’평화와 의리를 중요시하며 질서 있게 살아가던 그의 앞에강릉...</td>\n",
       "    </tr>\n",
       "    <tr>\n",
       "      <th>...</th>\n",
       "      <td>...</td>\n",
       "      <td>...</td>\n",
       "      <td>...</td>\n",
       "      <td>...</td>\n",
       "      <td>...</td>\n",
       "      <td>...</td>\n",
       "      <td>...</td>\n",
       "      <td>...</td>\n",
       "      <td>...</td>\n",
       "      <td>...</td>\n",
       "      <td>...</td>\n",
       "      <td>...</td>\n",
       "      <td>...</td>\n",
       "      <td>...</td>\n",
       "    </tr>\n",
       "    <tr>\n",
       "      <th>731</th>\n",
       "      <td>데드풀2: 순한 맛</td>\n",
       "      <td>8.25</td>\n",
       "      <td>[SF]</td>\n",
       "      <td>미국</td>\n",
       "      <td>116분</td>\n",
       "      <td>12세 관람가</td>\n",
       "      <td>https://movie-phinf.pstatic.net/20181221_228/1...</td>\n",
       "      <td>라이언 레이놀즈</td>\n",
       "      <td>프레드 세비지</td>\n",
       "      <td>조슈 브롤린</td>\n",
       "      <td>2019</td>\n",
       "      <td>1</td>\n",
       "      <td>3</td>\n",
       "      <td>잘못된 미래를 바로 잡기 위해 과거와 미래를 오가는 수퍼히어로들의 활약을 그린 SF 영화</td>\n",
       "    </tr>\n",
       "    <tr>\n",
       "      <th>732</th>\n",
       "      <td>점박이 한반도의 공룡2 : 새로운 낙원</td>\n",
       "      <td>9.16</td>\n",
       "      <td>[애니메이션]</td>\n",
       "      <td>한국</td>\n",
       "      <td>94분</td>\n",
       "      <td>전체 관람가</td>\n",
       "      <td>https://movie-phinf.pstatic.net/20181226_152/1...</td>\n",
       "      <td>박희순</td>\n",
       "      <td>라미란</td>\n",
       "      <td>김성균</td>\n",
       "      <td>2018</td>\n",
       "      <td>12</td>\n",
       "      <td>25</td>\n",
       "      <td>8천만 년 전 백악기 최후의 재난 이후,', 모든 가족을 잃고 둘만 남게 된 공룡의...</td>\n",
       "    </tr>\n",
       "    <tr>\n",
       "      <th>733</th>\n",
       "      <td>런닝맨 : 풀룰루의 역습</td>\n",
       "      <td>7.73</td>\n",
       "      <td>[애니메이션]</td>\n",
       "      <td>한국</td>\n",
       "      <td>67분</td>\n",
       "      <td>전체 관람가</td>\n",
       "      <td>https://movie-phinf.pstatic.net/20181205_98/15...</td>\n",
       "      <td>김서영</td>\n",
       "      <td>권창욱</td>\n",
       "      <td>엄상현</td>\n",
       "      <td>2018</td>\n",
       "      <td>12</td>\n",
       "      <td>5</td>\n",
       "      <td>멸망 위기의 세상을 구하고 영웅이 된 런닝맨들. 어느 날, 풀룰루족들로 가득 찬 경...</td>\n",
       "    </tr>\n",
       "    <tr>\n",
       "      <th>734</th>\n",
       "      <td>리스펙트</td>\n",
       "      <td>7.75</td>\n",
       "      <td>[다큐멘터리]</td>\n",
       "      <td>한국</td>\n",
       "      <td>98분</td>\n",
       "      <td>15세 관람가</td>\n",
       "      <td>https://movie-phinf.pstatic.net/20181120_178/1...</td>\n",
       "      <td>더 콰이엇</td>\n",
       "      <td>도끼</td>\n",
       "      <td>딥플로우</td>\n",
       "      <td>2018</td>\n",
       "      <td>11</td>\n",
       "      <td>28</td>\n",
       "      <td>나의 이야기를 당당하게 표현할 수 있었던 하나의 수단.', 누군가의 인생을 긍정적으...</td>\n",
       "    </tr>\n",
       "    <tr>\n",
       "      <th>735</th>\n",
       "      <td>박물관이 진짜 살아있다</td>\n",
       "      <td>7.78</td>\n",
       "      <td>[애니메이션, 모험, 코미디]</td>\n",
       "      <td>체코</td>\n",
       "      <td>86분</td>\n",
       "      <td>전체 관람가</td>\n",
       "      <td>https://movie-phinf.pstatic.net/20181108_98/15...</td>\n",
       "      <td>장은숙</td>\n",
       "      <td>최원형</td>\n",
       "      <td>장경희</td>\n",
       "      <td>2018</td>\n",
       "      <td>11</td>\n",
       "      <td>8</td>\n",
       "      <td>게임을 좋아하는 12살 소년 ‘하비’.', 아버지가 일하는 장난감 박물관이 문닫을 ...</td>\n",
       "    </tr>\n",
       "  </tbody>\n",
       "</table>\n",
       "<p>736 rows × 14 columns</p>\n",
       "</div>"
      ],
      "text/plain": [
       "                            title  vote             genre country  time  \\\n",
       "0                        1984 최동원  9.50           [다큐멘터리]      한국   98분   \n",
       "1                          나를 잡아줘  7.00     [멜로/로맨스, 코미디]      일본  134분   \n",
       "2                            뉴 오더  8.50             [드라마]     멕시코   86분   \n",
       "3    러브 어페어 : 우리가 말하는 것, 우리가 하는 것  5.00     [드라마, 멜로/로맨스]     프랑스  122분   \n",
       "4                              강릉  8.36          [범죄, 액션]      한국  119분   \n",
       "..                            ...   ...               ...     ...   ...   \n",
       "731                    데드풀2: 순한 맛  8.25              [SF]      미국  116분   \n",
       "732         점박이 한반도의 공룡2 : 새로운 낙원  9.16           [애니메이션]      한국   94분   \n",
       "733                 런닝맨 : 풀룰루의 역습  7.73           [애니메이션]      한국   67분   \n",
       "734                          리스펙트  7.75           [다큐멘터리]      한국   98분   \n",
       "735                  박물관이 진짜 살아있다  7.78  [애니메이션, 모험, 코미디]      체코   86분   \n",
       "\n",
       "        grade                                        poster_path  \\\n",
       "0      전체 관람가  https://movie-phinf.pstatic.net/20211108_166/1...   \n",
       "1     12세 관람가  https://movie-phinf.pstatic.net/20211021_10/16...   \n",
       "2    청소년 관람불가  https://movie-phinf.pstatic.net/20211028_132/1...   \n",
       "3     15세 관람가  https://movie-phinf.pstatic.net/20211026_79/16...   \n",
       "4    청소년 관람불가  https://movie-phinf.pstatic.net/20211108_295/1...   \n",
       "..        ...                                                ...   \n",
       "731   12세 관람가  https://movie-phinf.pstatic.net/20181221_228/1...   \n",
       "732    전체 관람가  https://movie-phinf.pstatic.net/20181226_152/1...   \n",
       "733    전체 관람가  https://movie-phinf.pstatic.net/20181205_98/15...   \n",
       "734   15세 관람가  https://movie-phinf.pstatic.net/20181120_178/1...   \n",
       "735    전체 관람가  https://movie-phinf.pstatic.net/20181108_98/15...   \n",
       "\n",
       "           actor_1    actor_2       actor_3  year  month  day  \\\n",
       "0              최동원       None          None  2021     11   11   \n",
       "1            노넨 레나     하야시 켄토          None  2021     11   11   \n",
       "2    나이안 곤살레스 노르빈드    디에고 보네타   다리오 야즈벡 베르날  2021     11   11   \n",
       "3         카멜리아 조다나   니엘스 슈나이더       빈센트 맥케인  2021     11   11   \n",
       "4              유오성         장혁           박성근  2021     11   10   \n",
       "..             ...        ...           ...   ...    ...  ...   \n",
       "731       라이언 레이놀즈    프레드 세비지        조슈 브롤린  2019      1    3   \n",
       "732            박희순        라미란           김성균  2018     12   25   \n",
       "733            김서영        권창욱           엄상현  2018     12    5   \n",
       "734          더 콰이엇         도끼          딥플로우  2018     11   28   \n",
       "735            장은숙        최원형           장경희  2018     11    8   \n",
       "\n",
       "                                               content  \n",
       "0    무쇠팔, 부산의 심장, 최고의 투수, 등번호 11번, 불꽃 투혼, 금테 안경우리가 ...  \n",
       "1    어제도 혼자, 오늘도 혼자인 솔로만렙 ‘미츠코’', 그녀의 앞에 나타난 연하남 ‘타...  \n",
       "2    202X 가상의 미래, 불안함이 들끓는 멕시코.마리안과 가족들이 고급 저택에서 호화...  \n",
       "3    소설가를 꿈꾸는 막심은 시골 별장에서 휴가를 보내고 있는 사촌 형의 여자친구 다프네...  \n",
       "4    강릉 최대 조직의 ‘길석’평화와 의리를 중요시하며 질서 있게 살아가던 그의 앞에강릉...  \n",
       "..                                                 ...  \n",
       "731  잘못된 미래를 바로 잡기 위해 과거와 미래를 오가는 수퍼히어로들의 활약을 그린 SF 영화  \n",
       "732  8천만 년 전 백악기 최후의 재난 이후,', 모든 가족을 잃고 둘만 남게 된 공룡의...  \n",
       "733  멸망 위기의 세상을 구하고 영웅이 된 런닝맨들. 어느 날, 풀룰루족들로 가득 찬 경...  \n",
       "734  나의 이야기를 당당하게 표현할 수 있었던 하나의 수단.', 누군가의 인생을 긍정적으...  \n",
       "735  게임을 좋아하는 12살 소년 ‘하비’.', 아버지가 일하는 장난감 박물관이 문닫을 ...  \n",
       "\n",
       "[736 rows x 14 columns]"
      ]
     },
     "execution_count": 80,
     "metadata": {},
     "output_type": "execute_result"
    }
   ],
   "source": [
    "vote_data"
   ]
  },
  {
   "cell_type": "code",
   "execution_count": null,
   "id": "fba8bd76",
   "metadata": {},
   "outputs": [],
   "source": []
  },
  {
   "cell_type": "code",
   "execution_count": null,
   "id": "ee9124a1",
   "metadata": {},
   "outputs": [],
   "source": []
  },
  {
   "cell_type": "code",
   "execution_count": null,
   "id": "c2858657",
   "metadata": {},
   "outputs": [],
   "source": []
  },
  {
   "cell_type": "code",
   "execution_count": 81,
   "id": "bb4e77b0",
   "metadata": {},
   "outputs": [],
   "source": [
    "vote_data.drop(['genre', 'grade'], axis=1, inplace=True)"
   ]
  },
  {
   "cell_type": "code",
   "execution_count": 82,
   "id": "49588b51",
   "metadata": {},
   "outputs": [
    {
     "data": {
      "text/html": [
       "<div>\n",
       "<style scoped>\n",
       "    .dataframe tbody tr th:only-of-type {\n",
       "        vertical-align: middle;\n",
       "    }\n",
       "\n",
       "    .dataframe tbody tr th {\n",
       "        vertical-align: top;\n",
       "    }\n",
       "\n",
       "    .dataframe thead th {\n",
       "        text-align: right;\n",
       "    }\n",
       "</style>\n",
       "<table border=\"1\" class=\"dataframe\">\n",
       "  <thead>\n",
       "    <tr style=\"text-align: right;\">\n",
       "      <th></th>\n",
       "      <th>0</th>\n",
       "    </tr>\n",
       "  </thead>\n",
       "  <tbody>\n",
       "    <tr>\n",
       "      <th>0</th>\n",
       "      <td>전체 관람가</td>\n",
       "    </tr>\n",
       "    <tr>\n",
       "      <th>1</th>\n",
       "      <td>12세 관람가</td>\n",
       "    </tr>\n",
       "    <tr>\n",
       "      <th>2</th>\n",
       "      <td>15세 관람가</td>\n",
       "    </tr>\n",
       "    <tr>\n",
       "      <th>3</th>\n",
       "      <td>청소년 관람불가</td>\n",
       "    </tr>\n",
       "  </tbody>\n",
       "</table>\n",
       "</div>"
      ],
      "text/plain": [
       "          0\n",
       "0    전체 관람가\n",
       "1   12세 관람가\n",
       "2   15세 관람가\n",
       "3  청소년 관람불가"
      ]
     },
     "execution_count": 82,
     "metadata": {},
     "output_type": "execute_result"
    }
   ],
   "source": [
    "gd"
   ]
  },
  {
   "cell_type": "code",
   "execution_count": 83,
   "id": "310e916a",
   "metadata": {
    "scrolled": true
   },
   "outputs": [
    {
     "data": {
      "text/html": [
       "<div>\n",
       "<style scoped>\n",
       "    .dataframe tbody tr th:only-of-type {\n",
       "        vertical-align: middle;\n",
       "    }\n",
       "\n",
       "    .dataframe tbody tr th {\n",
       "        vertical-align: top;\n",
       "    }\n",
       "\n",
       "    .dataframe thead th {\n",
       "        text-align: right;\n",
       "    }\n",
       "</style>\n",
       "<table border=\"1\" class=\"dataframe\">\n",
       "  <thead>\n",
       "    <tr style=\"text-align: right;\">\n",
       "      <th></th>\n",
       "      <th>0</th>\n",
       "    </tr>\n",
       "  </thead>\n",
       "  <tbody>\n",
       "    <tr>\n",
       "      <th>0</th>\n",
       "      <td>공포</td>\n",
       "    </tr>\n",
       "    <tr>\n",
       "      <th>1</th>\n",
       "      <td>SF</td>\n",
       "    </tr>\n",
       "    <tr>\n",
       "      <th>2</th>\n",
       "      <td>범죄</td>\n",
       "    </tr>\n",
       "    <tr>\n",
       "      <th>3</th>\n",
       "      <td>미스터리</td>\n",
       "    </tr>\n",
       "    <tr>\n",
       "      <th>4</th>\n",
       "      <td>스릴러</td>\n",
       "    </tr>\n",
       "    <tr>\n",
       "      <th>5</th>\n",
       "      <td>멜로/로맨스</td>\n",
       "    </tr>\n",
       "    <tr>\n",
       "      <th>6</th>\n",
       "      <td>판타지</td>\n",
       "    </tr>\n",
       "    <tr>\n",
       "      <th>7</th>\n",
       "      <td>전쟁</td>\n",
       "    </tr>\n",
       "    <tr>\n",
       "      <th>8</th>\n",
       "      <td>애니메이션</td>\n",
       "    </tr>\n",
       "    <tr>\n",
       "      <th>9</th>\n",
       "      <td>모험</td>\n",
       "    </tr>\n",
       "    <tr>\n",
       "      <th>10</th>\n",
       "      <td>다큐멘터리</td>\n",
       "    </tr>\n",
       "    <tr>\n",
       "      <th>11</th>\n",
       "      <td>액션</td>\n",
       "    </tr>\n",
       "    <tr>\n",
       "      <th>12</th>\n",
       "      <td>드라마</td>\n",
       "    </tr>\n",
       "    <tr>\n",
       "      <th>13</th>\n",
       "      <td>서스펜스</td>\n",
       "    </tr>\n",
       "    <tr>\n",
       "      <th>14</th>\n",
       "      <td>코미디</td>\n",
       "    </tr>\n",
       "    <tr>\n",
       "      <th>15</th>\n",
       "      <td>가족</td>\n",
       "    </tr>\n",
       "    <tr>\n",
       "      <th>16</th>\n",
       "      <td>공연실황</td>\n",
       "    </tr>\n",
       "    <tr>\n",
       "      <th>17</th>\n",
       "      <td>뮤지컬</td>\n",
       "    </tr>\n",
       "  </tbody>\n",
       "</table>\n",
       "</div>"
      ],
      "text/plain": [
       "         0\n",
       "0       공포\n",
       "1       SF\n",
       "2       범죄\n",
       "3     미스터리\n",
       "4      스릴러\n",
       "5   멜로/로맨스\n",
       "6      판타지\n",
       "7       전쟁\n",
       "8    애니메이션\n",
       "9       모험\n",
       "10   다큐멘터리\n",
       "11      액션\n",
       "12     드라마\n",
       "13    서스펜스\n",
       "14     코미디\n",
       "15      가족\n",
       "16    공연실황\n",
       "17     뮤지컬"
      ]
     },
     "execution_count": 83,
     "metadata": {},
     "output_type": "execute_result"
    }
   ],
   "source": [
    "ge"
   ]
  },
  {
   "cell_type": "code",
   "execution_count": 84,
   "id": "e7d0e85f",
   "metadata": {
    "scrolled": true
   },
   "outputs": [
    {
     "data": {
      "text/html": [
       "<div>\n",
       "<style scoped>\n",
       "    .dataframe tbody tr th:only-of-type {\n",
       "        vertical-align: middle;\n",
       "    }\n",
       "\n",
       "    .dataframe tbody tr th {\n",
       "        vertical-align: top;\n",
       "    }\n",
       "\n",
       "    .dataframe thead th {\n",
       "        text-align: right;\n",
       "    }\n",
       "</style>\n",
       "<table border=\"1\" class=\"dataframe\">\n",
       "  <thead>\n",
       "    <tr style=\"text-align: right;\">\n",
       "      <th></th>\n",
       "      <th>movie_id</th>\n",
       "      <th>genre_id</th>\n",
       "    </tr>\n",
       "  </thead>\n",
       "  <tbody>\n",
       "    <tr>\n",
       "      <th>0</th>\n",
       "      <td>0</td>\n",
       "      <td>10</td>\n",
       "    </tr>\n",
       "    <tr>\n",
       "      <th>1</th>\n",
       "      <td>1</td>\n",
       "      <td>5</td>\n",
       "    </tr>\n",
       "    <tr>\n",
       "      <th>2</th>\n",
       "      <td>1</td>\n",
       "      <td>14</td>\n",
       "    </tr>\n",
       "    <tr>\n",
       "      <th>3</th>\n",
       "      <td>2</td>\n",
       "      <td>12</td>\n",
       "    </tr>\n",
       "    <tr>\n",
       "      <th>4</th>\n",
       "      <td>3</td>\n",
       "      <td>12</td>\n",
       "    </tr>\n",
       "    <tr>\n",
       "      <th>...</th>\n",
       "      <td>...</td>\n",
       "      <td>...</td>\n",
       "    </tr>\n",
       "    <tr>\n",
       "      <th>1251</th>\n",
       "      <td>733</td>\n",
       "      <td>8</td>\n",
       "    </tr>\n",
       "    <tr>\n",
       "      <th>1252</th>\n",
       "      <td>734</td>\n",
       "      <td>10</td>\n",
       "    </tr>\n",
       "    <tr>\n",
       "      <th>1253</th>\n",
       "      <td>735</td>\n",
       "      <td>8</td>\n",
       "    </tr>\n",
       "    <tr>\n",
       "      <th>1254</th>\n",
       "      <td>735</td>\n",
       "      <td>9</td>\n",
       "    </tr>\n",
       "    <tr>\n",
       "      <th>1255</th>\n",
       "      <td>735</td>\n",
       "      <td>14</td>\n",
       "    </tr>\n",
       "  </tbody>\n",
       "</table>\n",
       "<p>1256 rows × 2 columns</p>\n",
       "</div>"
      ],
      "text/plain": [
       "     movie_id genre_id\n",
       "0           0       10\n",
       "1           1        5\n",
       "2           1       14\n",
       "3           2       12\n",
       "4           3       12\n",
       "...       ...      ...\n",
       "1251      733        8\n",
       "1252      734       10\n",
       "1253      735        8\n",
       "1254      735        9\n",
       "1255      735       14\n",
       "\n",
       "[1256 rows x 2 columns]"
      ]
     },
     "execution_count": 84,
     "metadata": {},
     "output_type": "execute_result"
    }
   ],
   "source": [
    "mo_ge"
   ]
  },
  {
   "cell_type": "code",
   "execution_count": 85,
   "id": "e715fd6b",
   "metadata": {},
   "outputs": [
    {
     "data": {
      "text/html": [
       "<div>\n",
       "<style scoped>\n",
       "    .dataframe tbody tr th:only-of-type {\n",
       "        vertical-align: middle;\n",
       "    }\n",
       "\n",
       "    .dataframe tbody tr th {\n",
       "        vertical-align: top;\n",
       "    }\n",
       "\n",
       "    .dataframe thead th {\n",
       "        text-align: right;\n",
       "    }\n",
       "</style>\n",
       "<table border=\"1\" class=\"dataframe\">\n",
       "  <thead>\n",
       "    <tr style=\"text-align: right;\">\n",
       "      <th></th>\n",
       "      <th>movie_id</th>\n",
       "      <th>grade_id</th>\n",
       "    </tr>\n",
       "  </thead>\n",
       "  <tbody>\n",
       "    <tr>\n",
       "      <th>0</th>\n",
       "      <td>0</td>\n",
       "      <td>0</td>\n",
       "    </tr>\n",
       "    <tr>\n",
       "      <th>1</th>\n",
       "      <td>1</td>\n",
       "      <td>1</td>\n",
       "    </tr>\n",
       "    <tr>\n",
       "      <th>2</th>\n",
       "      <td>2</td>\n",
       "      <td>3</td>\n",
       "    </tr>\n",
       "    <tr>\n",
       "      <th>3</th>\n",
       "      <td>3</td>\n",
       "      <td>2</td>\n",
       "    </tr>\n",
       "    <tr>\n",
       "      <th>4</th>\n",
       "      <td>4</td>\n",
       "      <td>3</td>\n",
       "    </tr>\n",
       "    <tr>\n",
       "      <th>...</th>\n",
       "      <td>...</td>\n",
       "      <td>...</td>\n",
       "    </tr>\n",
       "    <tr>\n",
       "      <th>731</th>\n",
       "      <td>731</td>\n",
       "      <td>1</td>\n",
       "    </tr>\n",
       "    <tr>\n",
       "      <th>732</th>\n",
       "      <td>732</td>\n",
       "      <td>0</td>\n",
       "    </tr>\n",
       "    <tr>\n",
       "      <th>733</th>\n",
       "      <td>733</td>\n",
       "      <td>0</td>\n",
       "    </tr>\n",
       "    <tr>\n",
       "      <th>734</th>\n",
       "      <td>734</td>\n",
       "      <td>2</td>\n",
       "    </tr>\n",
       "    <tr>\n",
       "      <th>735</th>\n",
       "      <td>735</td>\n",
       "      <td>0</td>\n",
       "    </tr>\n",
       "  </tbody>\n",
       "</table>\n",
       "<p>736 rows × 2 columns</p>\n",
       "</div>"
      ],
      "text/plain": [
       "    movie_id grade_id\n",
       "0          0        0\n",
       "1          1        1\n",
       "2          2        3\n",
       "3          3        2\n",
       "4          4        3\n",
       "..       ...      ...\n",
       "731      731        1\n",
       "732      732        0\n",
       "733      733        0\n",
       "734      734        2\n",
       "735      735        0\n",
       "\n",
       "[736 rows x 2 columns]"
      ]
     },
     "execution_count": 85,
     "metadata": {},
     "output_type": "execute_result"
    }
   ],
   "source": [
    "mo_gd"
   ]
  },
  {
   "cell_type": "code",
   "execution_count": 86,
   "id": "e7f759d6",
   "metadata": {
    "scrolled": true
   },
   "outputs": [
    {
     "data": {
      "text/html": [
       "<div>\n",
       "<style scoped>\n",
       "    .dataframe tbody tr th:only-of-type {\n",
       "        vertical-align: middle;\n",
       "    }\n",
       "\n",
       "    .dataframe tbody tr th {\n",
       "        vertical-align: top;\n",
       "    }\n",
       "\n",
       "    .dataframe thead th {\n",
       "        text-align: right;\n",
       "    }\n",
       "</style>\n",
       "<table border=\"1\" class=\"dataframe\">\n",
       "  <thead>\n",
       "    <tr style=\"text-align: right;\">\n",
       "      <th></th>\n",
       "      <th>title</th>\n",
       "      <th>vote</th>\n",
       "      <th>country</th>\n",
       "      <th>time</th>\n",
       "      <th>poster_path</th>\n",
       "      <th>actor_1</th>\n",
       "      <th>actor_2</th>\n",
       "      <th>actor_3</th>\n",
       "      <th>year</th>\n",
       "      <th>month</th>\n",
       "      <th>day</th>\n",
       "      <th>content</th>\n",
       "    </tr>\n",
       "  </thead>\n",
       "  <tbody>\n",
       "    <tr>\n",
       "      <th>0</th>\n",
       "      <td>1984 최동원</td>\n",
       "      <td>9.50</td>\n",
       "      <td>한국</td>\n",
       "      <td>98분</td>\n",
       "      <td>https://movie-phinf.pstatic.net/20211108_166/1...</td>\n",
       "      <td>최동원</td>\n",
       "      <td>None</td>\n",
       "      <td>None</td>\n",
       "      <td>2021</td>\n",
       "      <td>11</td>\n",
       "      <td>11</td>\n",
       "      <td>무쇠팔, 부산의 심장, 최고의 투수, 등번호 11번, 불꽃 투혼, 금테 안경우리가 ...</td>\n",
       "    </tr>\n",
       "    <tr>\n",
       "      <th>1</th>\n",
       "      <td>나를 잡아줘</td>\n",
       "      <td>7.00</td>\n",
       "      <td>일본</td>\n",
       "      <td>134분</td>\n",
       "      <td>https://movie-phinf.pstatic.net/20211021_10/16...</td>\n",
       "      <td>노넨 레나</td>\n",
       "      <td>하야시 켄토</td>\n",
       "      <td>None</td>\n",
       "      <td>2021</td>\n",
       "      <td>11</td>\n",
       "      <td>11</td>\n",
       "      <td>어제도 혼자, 오늘도 혼자인 솔로만렙 ‘미츠코’', 그녀의 앞에 나타난 연하남 ‘타...</td>\n",
       "    </tr>\n",
       "    <tr>\n",
       "      <th>2</th>\n",
       "      <td>뉴 오더</td>\n",
       "      <td>8.50</td>\n",
       "      <td>멕시코</td>\n",
       "      <td>86분</td>\n",
       "      <td>https://movie-phinf.pstatic.net/20211028_132/1...</td>\n",
       "      <td>나이안 곤살레스 노르빈드</td>\n",
       "      <td>디에고 보네타</td>\n",
       "      <td>다리오 야즈벡 베르날</td>\n",
       "      <td>2021</td>\n",
       "      <td>11</td>\n",
       "      <td>11</td>\n",
       "      <td>202X 가상의 미래, 불안함이 들끓는 멕시코.마리안과 가족들이 고급 저택에서 호화...</td>\n",
       "    </tr>\n",
       "    <tr>\n",
       "      <th>3</th>\n",
       "      <td>러브 어페어 : 우리가 말하는 것, 우리가 하는 것</td>\n",
       "      <td>5.00</td>\n",
       "      <td>프랑스</td>\n",
       "      <td>122분</td>\n",
       "      <td>https://movie-phinf.pstatic.net/20211026_79/16...</td>\n",
       "      <td>카멜리아 조다나</td>\n",
       "      <td>니엘스 슈나이더</td>\n",
       "      <td>빈센트 맥케인</td>\n",
       "      <td>2021</td>\n",
       "      <td>11</td>\n",
       "      <td>11</td>\n",
       "      <td>소설가를 꿈꾸는 막심은 시골 별장에서 휴가를 보내고 있는 사촌 형의 여자친구 다프네...</td>\n",
       "    </tr>\n",
       "    <tr>\n",
       "      <th>4</th>\n",
       "      <td>강릉</td>\n",
       "      <td>8.36</td>\n",
       "      <td>한국</td>\n",
       "      <td>119분</td>\n",
       "      <td>https://movie-phinf.pstatic.net/20211108_295/1...</td>\n",
       "      <td>유오성</td>\n",
       "      <td>장혁</td>\n",
       "      <td>박성근</td>\n",
       "      <td>2021</td>\n",
       "      <td>11</td>\n",
       "      <td>10</td>\n",
       "      <td>강릉 최대 조직의 ‘길석’평화와 의리를 중요시하며 질서 있게 살아가던 그의 앞에강릉...</td>\n",
       "    </tr>\n",
       "    <tr>\n",
       "      <th>...</th>\n",
       "      <td>...</td>\n",
       "      <td>...</td>\n",
       "      <td>...</td>\n",
       "      <td>...</td>\n",
       "      <td>...</td>\n",
       "      <td>...</td>\n",
       "      <td>...</td>\n",
       "      <td>...</td>\n",
       "      <td>...</td>\n",
       "      <td>...</td>\n",
       "      <td>...</td>\n",
       "      <td>...</td>\n",
       "    </tr>\n",
       "    <tr>\n",
       "      <th>731</th>\n",
       "      <td>데드풀2: 순한 맛</td>\n",
       "      <td>8.25</td>\n",
       "      <td>미국</td>\n",
       "      <td>116분</td>\n",
       "      <td>https://movie-phinf.pstatic.net/20181221_228/1...</td>\n",
       "      <td>라이언 레이놀즈</td>\n",
       "      <td>프레드 세비지</td>\n",
       "      <td>조슈 브롤린</td>\n",
       "      <td>2019</td>\n",
       "      <td>1</td>\n",
       "      <td>3</td>\n",
       "      <td>잘못된 미래를 바로 잡기 위해 과거와 미래를 오가는 수퍼히어로들의 활약을 그린 SF 영화</td>\n",
       "    </tr>\n",
       "    <tr>\n",
       "      <th>732</th>\n",
       "      <td>점박이 한반도의 공룡2 : 새로운 낙원</td>\n",
       "      <td>9.16</td>\n",
       "      <td>한국</td>\n",
       "      <td>94분</td>\n",
       "      <td>https://movie-phinf.pstatic.net/20181226_152/1...</td>\n",
       "      <td>박희순</td>\n",
       "      <td>라미란</td>\n",
       "      <td>김성균</td>\n",
       "      <td>2018</td>\n",
       "      <td>12</td>\n",
       "      <td>25</td>\n",
       "      <td>8천만 년 전 백악기 최후의 재난 이후,', 모든 가족을 잃고 둘만 남게 된 공룡의...</td>\n",
       "    </tr>\n",
       "    <tr>\n",
       "      <th>733</th>\n",
       "      <td>런닝맨 : 풀룰루의 역습</td>\n",
       "      <td>7.73</td>\n",
       "      <td>한국</td>\n",
       "      <td>67분</td>\n",
       "      <td>https://movie-phinf.pstatic.net/20181205_98/15...</td>\n",
       "      <td>김서영</td>\n",
       "      <td>권창욱</td>\n",
       "      <td>엄상현</td>\n",
       "      <td>2018</td>\n",
       "      <td>12</td>\n",
       "      <td>5</td>\n",
       "      <td>멸망 위기의 세상을 구하고 영웅이 된 런닝맨들. 어느 날, 풀룰루족들로 가득 찬 경...</td>\n",
       "    </tr>\n",
       "    <tr>\n",
       "      <th>734</th>\n",
       "      <td>리스펙트</td>\n",
       "      <td>7.75</td>\n",
       "      <td>한국</td>\n",
       "      <td>98분</td>\n",
       "      <td>https://movie-phinf.pstatic.net/20181120_178/1...</td>\n",
       "      <td>더 콰이엇</td>\n",
       "      <td>도끼</td>\n",
       "      <td>딥플로우</td>\n",
       "      <td>2018</td>\n",
       "      <td>11</td>\n",
       "      <td>28</td>\n",
       "      <td>나의 이야기를 당당하게 표현할 수 있었던 하나의 수단.', 누군가의 인생을 긍정적으...</td>\n",
       "    </tr>\n",
       "    <tr>\n",
       "      <th>735</th>\n",
       "      <td>박물관이 진짜 살아있다</td>\n",
       "      <td>7.78</td>\n",
       "      <td>체코</td>\n",
       "      <td>86분</td>\n",
       "      <td>https://movie-phinf.pstatic.net/20181108_98/15...</td>\n",
       "      <td>장은숙</td>\n",
       "      <td>최원형</td>\n",
       "      <td>장경희</td>\n",
       "      <td>2018</td>\n",
       "      <td>11</td>\n",
       "      <td>8</td>\n",
       "      <td>게임을 좋아하는 12살 소년 ‘하비’.', 아버지가 일하는 장난감 박물관이 문닫을 ...</td>\n",
       "    </tr>\n",
       "  </tbody>\n",
       "</table>\n",
       "<p>736 rows × 12 columns</p>\n",
       "</div>"
      ],
      "text/plain": [
       "                            title  vote country  time  \\\n",
       "0                        1984 최동원  9.50      한국   98분   \n",
       "1                          나를 잡아줘  7.00      일본  134분   \n",
       "2                            뉴 오더  8.50     멕시코   86분   \n",
       "3    러브 어페어 : 우리가 말하는 것, 우리가 하는 것  5.00     프랑스  122분   \n",
       "4                              강릉  8.36      한국  119분   \n",
       "..                            ...   ...     ...   ...   \n",
       "731                    데드풀2: 순한 맛  8.25      미국  116분   \n",
       "732         점박이 한반도의 공룡2 : 새로운 낙원  9.16      한국   94분   \n",
       "733                 런닝맨 : 풀룰루의 역습  7.73      한국   67분   \n",
       "734                          리스펙트  7.75      한국   98분   \n",
       "735                  박물관이 진짜 살아있다  7.78      체코   86분   \n",
       "\n",
       "                                           poster_path        actor_1  \\\n",
       "0    https://movie-phinf.pstatic.net/20211108_166/1...            최동원   \n",
       "1    https://movie-phinf.pstatic.net/20211021_10/16...          노넨 레나   \n",
       "2    https://movie-phinf.pstatic.net/20211028_132/1...  나이안 곤살레스 노르빈드   \n",
       "3    https://movie-phinf.pstatic.net/20211026_79/16...       카멜리아 조다나   \n",
       "4    https://movie-phinf.pstatic.net/20211108_295/1...            유오성   \n",
       "..                                                 ...            ...   \n",
       "731  https://movie-phinf.pstatic.net/20181221_228/1...       라이언 레이놀즈   \n",
       "732  https://movie-phinf.pstatic.net/20181226_152/1...            박희순   \n",
       "733  https://movie-phinf.pstatic.net/20181205_98/15...            김서영   \n",
       "734  https://movie-phinf.pstatic.net/20181120_178/1...          더 콰이엇   \n",
       "735  https://movie-phinf.pstatic.net/20181108_98/15...            장은숙   \n",
       "\n",
       "       actor_2       actor_3  year  month  day  \\\n",
       "0         None          None  2021     11   11   \n",
       "1       하야시 켄토          None  2021     11   11   \n",
       "2      디에고 보네타   다리오 야즈벡 베르날  2021     11   11   \n",
       "3     니엘스 슈나이더       빈센트 맥케인  2021     11   11   \n",
       "4           장혁           박성근  2021     11   10   \n",
       "..         ...           ...   ...    ...  ...   \n",
       "731    프레드 세비지        조슈 브롤린  2019      1    3   \n",
       "732        라미란           김성균  2018     12   25   \n",
       "733        권창욱           엄상현  2018     12    5   \n",
       "734         도끼          딥플로우  2018     11   28   \n",
       "735        최원형           장경희  2018     11    8   \n",
       "\n",
       "                                               content  \n",
       "0    무쇠팔, 부산의 심장, 최고의 투수, 등번호 11번, 불꽃 투혼, 금테 안경우리가 ...  \n",
       "1    어제도 혼자, 오늘도 혼자인 솔로만렙 ‘미츠코’', 그녀의 앞에 나타난 연하남 ‘타...  \n",
       "2    202X 가상의 미래, 불안함이 들끓는 멕시코.마리안과 가족들이 고급 저택에서 호화...  \n",
       "3    소설가를 꿈꾸는 막심은 시골 별장에서 휴가를 보내고 있는 사촌 형의 여자친구 다프네...  \n",
       "4    강릉 최대 조직의 ‘길석’평화와 의리를 중요시하며 질서 있게 살아가던 그의 앞에강릉...  \n",
       "..                                                 ...  \n",
       "731  잘못된 미래를 바로 잡기 위해 과거와 미래를 오가는 수퍼히어로들의 활약을 그린 SF 영화  \n",
       "732  8천만 년 전 백악기 최후의 재난 이후,', 모든 가족을 잃고 둘만 남게 된 공룡의...  \n",
       "733  멸망 위기의 세상을 구하고 영웅이 된 런닝맨들. 어느 날, 풀룰루족들로 가득 찬 경...  \n",
       "734  나의 이야기를 당당하게 표현할 수 있었던 하나의 수단.', 누군가의 인생을 긍정적으...  \n",
       "735  게임을 좋아하는 12살 소년 ‘하비’.', 아버지가 일하는 장난감 박물관이 문닫을 ...  \n",
       "\n",
       "[736 rows x 12 columns]"
      ]
     },
     "execution_count": 86,
     "metadata": {},
     "output_type": "execute_result"
    }
   ],
   "source": [
    "vote_data"
   ]
  },
  {
   "cell_type": "code",
   "execution_count": null,
   "id": "5523c5c1",
   "metadata": {},
   "outputs": [],
   "source": []
  },
  {
   "cell_type": "code",
   "execution_count": 87,
   "id": "65d70abc",
   "metadata": {},
   "outputs": [],
   "source": [
    "gd.to_csv('grade.csv', header=None)\n",
    "gd.to_csv('../back-end/grade.csv', header=None)"
   ]
  },
  {
   "cell_type": "code",
   "execution_count": 88,
   "id": "88aa3087",
   "metadata": {},
   "outputs": [],
   "source": [
    "ge.to_csv('genre.csv', header=None)\n",
    "ge.to_csv('../back-end/genre.csv', header=None)"
   ]
  },
  {
   "cell_type": "code",
   "execution_count": 89,
   "id": "2d8f0e5e",
   "metadata": {},
   "outputs": [],
   "source": [
    "mo_ge.to_csv('movie_genre.csv', header=None)\n",
    "mo_ge.to_csv('../back-end/movie_genre.csv', header=None)"
   ]
  },
  {
   "cell_type": "code",
   "execution_count": 90,
   "id": "fb3691fa",
   "metadata": {},
   "outputs": [],
   "source": [
    "mo_gd.to_csv('movie_grade.csv', header=None)\n",
    "mo_gd.to_csv('../back-end/movie_grade.csv', header=None)"
   ]
  },
  {
   "cell_type": "code",
   "execution_count": 91,
   "id": "07286d56",
   "metadata": {},
   "outputs": [],
   "source": [
    "unvote_data.to_csv('unvote_data.csv')\n",
    "vote_data.to_csv('vote_data.csv', header=None, float_format = '%.2f')\n",
    "vote_data.to_csv('../back-end/vote_data.csv', header=None, float_format = '%.2f')"
   ]
  },
  {
   "cell_type": "code",
   "execution_count": null,
   "id": "bf974fff",
   "metadata": {},
   "outputs": [],
   "source": []
  },
  {
   "cell_type": "code",
   "execution_count": null,
   "id": "83039b42",
   "metadata": {},
   "outputs": [],
   "source": []
  },
  {
   "cell_type": "code",
   "execution_count": null,
   "id": "26db774e",
   "metadata": {},
   "outputs": [],
   "source": []
  },
  {
   "cell_type": "code",
   "execution_count": null,
   "id": "57f4b1a2",
   "metadata": {},
   "outputs": [],
   "source": []
  },
  {
   "cell_type": "markdown",
   "id": "79454002",
   "metadata": {},
   "source": [
    "base_url = 'https://search.naver.com/search.naver?where=nexearch&sm=top_hty&fbm=1&ie=utf8&query='"
   ]
  },
  {
   "cell_type": "markdown",
   "id": "9c5cc5c4",
   "metadata": {},
   "source": [
    "for i in range(len(actor_set)):\n",
    "    plus_url = actor_set[i]\n",
    "    url = base_url + plus_url\n",
    "    response = requests.get(url)\n",
    "    if response.status_code == 200:\n",
    "        html = response.text\n",
    "        soup = BeautifulSoup(html, 'html.parser')\n",
    "        if soup.select_one('#main_pack > section.sc_new.sp_nimage._prs_img._imageSearchPC > div > div.photo_group._listGrid > div.photo_tile._grid > div:nth-child(1) > div > div.thumb > a > img'):\n",
    "            actor.loc[i] = [actor_set[i], soup.select_one('#main_pack > section.sc_new.cs_common_module.case_normal._au_people_content_wrap.color_8 > div.cm_content_wrap > div.cm_content_area._cm_content_area_profile > div > div.detail_info > a > img').get(\"src\")]\n",
    "        else:\n",
    "            actor.loc[i] = [actor_set[i], 'https://ssl.pstatic.net/static/movie/2012/06/dft_img203x290.png']"
   ]
  },
  {
   "cell_type": "markdown",
   "id": "95a7031a",
   "metadata": {},
   "source": [
    "actor[:50]"
   ]
  },
  {
   "cell_type": "markdown",
   "id": "77a54e59",
   "metadata": {},
   "source": [
    "a = '#main_pack > section.sc_new.cs_common_module.case_normal._au_people_content_wrap.color_7 > div.cm_content_wrap > div.cm_content_area._cm_content_area_profile > div > div.detail_info > a > img'"
   ]
  },
  {
   "cell_type": "markdown",
   "id": "e10adf18",
   "metadata": {},
   "source": [
    "b = '#main_pack > section.sc_new.cs_common_module.case_normal._au_people_content_wrap.color_8 > div.cm_content_wrap > div.cm_content_area._cm_content_area_profile > div > div.detail_info > a > img'"
   ]
  },
  {
   "cell_type": "markdown",
   "id": "0118f495",
   "metadata": {},
   "source": [
    "a == b"
   ]
  },
  {
   "cell_type": "markdown",
   "id": "9152bdd1",
   "metadata": {},
   "source": [
    "#main_pack > section.sc_new.sp_nimage._prs_img._imageSearchPC > div > div.photo_group._listGrid > div.photo_tile._grid > div:nth-child(1) > div > div.thumb > a > img"
   ]
  },
  {
   "cell_type": "markdown",
   "id": "daab36b6",
   "metadata": {},
   "source": [
    "#main_pack > section.sc_new.sp_nimage._prs_img._imageSearchPC > div > div.photo_group._listGrid > div.photo_tile._grid > div:nth-child(1) > div > div.thumb > a > img"
   ]
  },
  {
   "cell_type": "code",
   "execution_count": null,
   "id": "2979f982",
   "metadata": {},
   "outputs": [],
   "source": []
  },
  {
   "cell_type": "code",
   "execution_count": null,
   "id": "c9dd9752",
   "metadata": {},
   "outputs": [],
   "source": []
  },
  {
   "cell_type": "code",
   "execution_count": null,
   "id": "43b20a82",
   "metadata": {},
   "outputs": [],
   "source": []
  }
 ],
 "metadata": {
  "kernelspec": {
   "display_name": "Python 3 (ipykernel)",
   "language": "python",
   "name": "python3"
  },
  "language_info": {
   "codemirror_mode": {
    "name": "ipython",
    "version": 3
   },
   "file_extension": ".py",
   "mimetype": "text/x-python",
   "name": "python",
   "nbconvert_exporter": "python",
   "pygments_lexer": "ipython3",
   "version": "3.9.6"
  },
  "toc": {
   "base_numbering": 1,
   "nav_menu": {},
   "number_sections": true,
   "sideBar": true,
   "skip_h1_title": false,
   "title_cell": "Table of Contents",
   "title_sidebar": "Contents",
   "toc_cell": false,
   "toc_position": {},
   "toc_section_display": true,
   "toc_window_display": false
  }
 },
 "nbformat": 4,
 "nbformat_minor": 5
}
