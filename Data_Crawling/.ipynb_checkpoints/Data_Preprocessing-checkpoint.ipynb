{
 "cells": [
  {
   "cell_type": "code",
   "execution_count": 1,
   "id": "c84231e8",
   "metadata": {},
   "outputs": [],
   "source": [
    "import numpy as np\n",
    "import pandas as pd\n",
    "import requests\n",
    "import csv\n",
    "import ssl\n",
    "from urllib.request import urlopen\n",
    "from urllib.parse import quote_plus\n",
    "from bs4 import BeautifulSoup"
   ]
  },
  {
   "cell_type": "code",
   "execution_count": 2,
   "id": "641f6da4",
   "metadata": {},
   "outputs": [],
   "source": [
    "df = pd.read_excel('C:/Users/analysis/Desktop/SSAFY/projects/A_projects/finalproject/Data_Crawling/movie.xlsx')"
   ]
  },
  {
   "cell_type": "code",
   "execution_count": 3,
   "id": "96be0cac",
   "metadata": {},
   "outputs": [
    {
     "data": {
      "text/html": [
       "<div>\n",
       "<style scoped>\n",
       "    .dataframe tbody tr th:only-of-type {\n",
       "        vertical-align: middle;\n",
       "    }\n",
       "\n",
       "    .dataframe tbody tr th {\n",
       "        vertical-align: top;\n",
       "    }\n",
       "\n",
       "    .dataframe thead th {\n",
       "        text-align: right;\n",
       "    }\n",
       "</style>\n",
       "<table border=\"1\" class=\"dataframe\">\n",
       "  <thead>\n",
       "    <tr style=\"text-align: right;\">\n",
       "      <th></th>\n",
       "      <th>title</th>\n",
       "      <th>vote</th>\n",
       "      <th>genre</th>\n",
       "      <th>country</th>\n",
       "      <th>time</th>\n",
       "      <th>open_date</th>\n",
       "      <th>actor</th>\n",
       "      <th>grade</th>\n",
       "      <th>poster_path</th>\n",
       "      <th>content</th>\n",
       "    </tr>\n",
       "  </thead>\n",
       "  <tbody>\n",
       "    <tr>\n",
       "      <th>0</th>\n",
       "      <td>아무도 살아서 나갈 수 없다</td>\n",
       "      <td>관람객 평점 없음</td>\n",
       "      <td>['미스터리', '공포']</td>\n",
       "      <td>영국</td>\n",
       "      <td>86분</td>\n",
       "      <td>['미상']</td>\n",
       "      <td>['마크 멘차카']</td>\n",
       "      <td>청소년 관람불가</td>\n",
       "      <td>https://movie-phinf.pstatic.net/20211012_193/1...</td>\n",
       "      <td>['절박한 심정으로 미국에 밀입국한 멕시코 여성. 허름한 클리블랜드 하숙집에서 묵으...</td>\n",
       "    </tr>\n",
       "    <tr>\n",
       "      <th>1</th>\n",
       "      <td>드림걸: 수상한 콜센터</td>\n",
       "      <td>관람객 평점 없음</td>\n",
       "      <td>['코미디']</td>\n",
       "      <td>인도</td>\n",
       "      <td>125분</td>\n",
       "      <td>['미상']</td>\n",
       "      <td>['아유쉬만 커라나', '비자이 라즈']</td>\n",
       "      <td>12세 관람가</td>\n",
       "      <td>https://movie-phinf.pstatic.net/20210929_200/1...</td>\n",
       "      <td>['카람은 여자 목소리를 내는 데 천부적인 재능이 있는 남자로, 적절한 직업을 찾던...</td>\n",
       "    </tr>\n",
       "    <tr>\n",
       "      <th>2</th>\n",
       "      <td>트립</td>\n",
       "      <td>관람객 평점 없음</td>\n",
       "      <td>['공포', '코미디']</td>\n",
       "      <td>노르웨이</td>\n",
       "      <td>113분</td>\n",
       "      <td>['미상']</td>\n",
       "      <td>['누미 라파스', '엑셀 헨니', '아틀레 안톤센']</td>\n",
       "      <td>청소년 관람불가</td>\n",
       "      <td>https://movie-phinf.pstatic.net/20211110_292/1...</td>\n",
       "      <td>['분노만 남은 결혼 생활. 부부는 서로를 죽이려는 계획을 숨기고 외딴 산장으로 여...</td>\n",
       "    </tr>\n",
       "    <tr>\n",
       "      <th>3</th>\n",
       "      <td>바다 탐험대 옥토넛 : 육지수호 대작전</td>\n",
       "      <td>관람객 평점 6.00점</td>\n",
       "      <td>['애니메이션', '액션', '모험']</td>\n",
       "      <td>영국</td>\n",
       "      <td>60분</td>\n",
       "      <td>2021.10.27</td>\n",
       "      <td>['하성용', '정재헌', '엄상현']</td>\n",
       "      <td>전체 관람가</td>\n",
       "      <td>https://movie-phinf.pstatic.net/20210924_146/1...</td>\n",
       "      <td>['바다 폭풍에 휩쓸린 옥토넛은 우연히 사막에 상륙한다.\\r', &lt;br/&gt;, '\\x...</td>\n",
       "    </tr>\n",
       "    <tr>\n",
       "      <th>4</th>\n",
       "      <td>왕십리 김종분</td>\n",
       "      <td>관람객 평점 없음</td>\n",
       "      <td>['다큐멘터리']</td>\n",
       "      <td>한국</td>\n",
       "      <td>102분</td>\n",
       "      <td>2021.11.11</td>\n",
       "      <td>['김종분', '김귀임', '김종수']</td>\n",
       "      <td>12세 관람가</td>\n",
       "      <td>https://movie-phinf.pstatic.net/20211026_135/1...</td>\n",
       "      <td>['50년 넘게 노점을 해온 팔순의 김종분.', &lt;br/&gt;, '\\xa0왕십리역 11...</td>\n",
       "    </tr>\n",
       "    <tr>\n",
       "      <th>...</th>\n",
       "      <td>...</td>\n",
       "      <td>...</td>\n",
       "      <td>...</td>\n",
       "      <td>...</td>\n",
       "      <td>...</td>\n",
       "      <td>...</td>\n",
       "      <td>...</td>\n",
       "      <td>...</td>\n",
       "      <td>...</td>\n",
       "      <td>...</td>\n",
       "    </tr>\n",
       "    <tr>\n",
       "      <th>1807</th>\n",
       "      <td>유혹의 계절</td>\n",
       "      <td>관람객 평점 없음</td>\n",
       "      <td>['멜로/로맨스', '드라마']</td>\n",
       "      <td>아일랜드</td>\n",
       "      <td>103분</td>\n",
       "      <td>2018.11.01</td>\n",
       "      <td>['킬리언 머피', '캐서린 워커', '앤드류 스캇']</td>\n",
       "      <td>청소년 관람불가</td>\n",
       "      <td>https://movie-phinf.pstatic.net/20181016_189/1...</td>\n",
       "      <td>['폭력적인 남편을 피해 아이들과 함께 친구 다니엘의 집을 찾은 ‘이반’\\r', &lt;...</td>\n",
       "    </tr>\n",
       "    <tr>\n",
       "      <th>1808</th>\n",
       "      <td>해치지않아</td>\n",
       "      <td>관람객 평점 7.32점</td>\n",
       "      <td>['코미디']</td>\n",
       "      <td>한국</td>\n",
       "      <td>117분</td>\n",
       "      <td>2020.01.15</td>\n",
       "      <td>['안재홍', '강소라', '박영규']</td>\n",
       "      <td>12세 관람가</td>\n",
       "      <td>https://movie-phinf.pstatic.net/20200115_223/1...</td>\n",
       "      <td>['생계형 수습 변호사 ‘태수’에게 찾아온 일생일대의 기회, 위기의 동물원 ‘동산파...</td>\n",
       "    </tr>\n",
       "    <tr>\n",
       "      <th>1809</th>\n",
       "      <td>와일드 로즈</td>\n",
       "      <td>관람객 평점 8.90점</td>\n",
       "      <td>['드라마']</td>\n",
       "      <td>영국</td>\n",
       "      <td>100분</td>\n",
       "      <td>2019.10.17</td>\n",
       "      <td>['제시 버클리', '줄리 월터스']</td>\n",
       "      <td>15세 관람가</td>\n",
       "      <td>https://movie-phinf.pstatic.net/20191002_88/15...</td>\n",
       "      <td>['타고난 가창력으로 스코틀랜드 글래스고의 한 바에서 인기 몰이 중인 로즈의 꿈은 ...</td>\n",
       "    </tr>\n",
       "    <tr>\n",
       "      <th>1810</th>\n",
       "      <td>블루버드 인 마이 하트</td>\n",
       "      <td>관람객 평점 없음</td>\n",
       "      <td>['범죄', '액션', '드라마']</td>\n",
       "      <td>프랑스</td>\n",
       "      <td>89분</td>\n",
       "      <td>2021.03.15</td>\n",
       "      <td>['로랜드 몰러', '로라 르 란', '벨 배턴스']</td>\n",
       "      <td>청소년 관람불가</td>\n",
       "      <td>https://movie-phinf.pstatic.net/20210310_84/16...</td>\n",
       "      <td>['교도소에서 출소한 대니는 로랑스와 클라라 모녀가 운영하는 낡은 모텔에서 새 삶을...</td>\n",
       "    </tr>\n",
       "    <tr>\n",
       "      <th>1811</th>\n",
       "      <td>박물관이 진짜 살아있다</td>\n",
       "      <td>관람객 평점 7.78점</td>\n",
       "      <td>['애니메이션', '모험', '코미디']</td>\n",
       "      <td>체코</td>\n",
       "      <td>86분</td>\n",
       "      <td>2018.11.08</td>\n",
       "      <td>['장은숙', '최원형', '장경희']</td>\n",
       "      <td>전체 관람가</td>\n",
       "      <td>https://movie-phinf.pstatic.net/20181108_98/15...</td>\n",
       "      <td>['게임을 좋아하는 12살 소년 ‘하비’.', &lt;br/&gt;, '\\xa0아버지가 일하는...</td>\n",
       "    </tr>\n",
       "  </tbody>\n",
       "</table>\n",
       "<p>1812 rows × 10 columns</p>\n",
       "</div>"
      ],
      "text/plain": [
       "                      title          vote                   genre country  \\\n",
       "0           아무도 살아서 나갈 수 없다     관람객 평점 없음          ['미스터리', '공포']      영국   \n",
       "1              드림걸: 수상한 콜센터     관람객 평점 없음                 ['코미디']      인도   \n",
       "2                        트립     관람객 평점 없음           ['공포', '코미디']    노르웨이   \n",
       "3     바다 탐험대 옥토넛 : 육지수호 대작전  관람객 평점 6.00점   ['애니메이션', '액션', '모험']      영국   \n",
       "4                   왕십리 김종분     관람객 평점 없음               ['다큐멘터리']      한국   \n",
       "...                     ...           ...                     ...     ...   \n",
       "1807                 유혹의 계절     관람객 평점 없음       ['멜로/로맨스', '드라마']    아일랜드   \n",
       "1808                  해치지않아  관람객 평점 7.32점                 ['코미디']      한국   \n",
       "1809                 와일드 로즈  관람객 평점 8.90점                 ['드라마']      영국   \n",
       "1810           블루버드 인 마이 하트     관람객 평점 없음     ['범죄', '액션', '드라마']     프랑스   \n",
       "1811           박물관이 진짜 살아있다  관람객 평점 7.78점  ['애니메이션', '모험', '코미디']      체코   \n",
       "\n",
       "      time   open_date                           actor     grade  \\\n",
       "0      86분      ['미상']                      ['마크 멘차카']  청소년 관람불가   \n",
       "1     125분      ['미상']          ['아유쉬만 커라나', '비자이 라즈']   12세 관람가   \n",
       "2     113분      ['미상']  ['누미 라파스', '엑셀 헨니', '아틀레 안톤센']  청소년 관람불가   \n",
       "3      60분  2021.10.27           ['하성용', '정재헌', '엄상현']    전체 관람가   \n",
       "4     102분  2021.11.11           ['김종분', '김귀임', '김종수']   12세 관람가   \n",
       "...    ...         ...                             ...       ...   \n",
       "1807  103분  2018.11.01  ['킬리언 머피', '캐서린 워커', '앤드류 스캇']  청소년 관람불가   \n",
       "1808  117분  2020.01.15           ['안재홍', '강소라', '박영규']   12세 관람가   \n",
       "1809  100분  2019.10.17            ['제시 버클리', '줄리 월터스']   15세 관람가   \n",
       "1810   89분  2021.03.15   ['로랜드 몰러', '로라 르 란', '벨 배턴스']  청소년 관람불가   \n",
       "1811   86분  2018.11.08           ['장은숙', '최원형', '장경희']    전체 관람가   \n",
       "\n",
       "                                            poster_path  \\\n",
       "0     https://movie-phinf.pstatic.net/20211012_193/1...   \n",
       "1     https://movie-phinf.pstatic.net/20210929_200/1...   \n",
       "2     https://movie-phinf.pstatic.net/20211110_292/1...   \n",
       "3     https://movie-phinf.pstatic.net/20210924_146/1...   \n",
       "4     https://movie-phinf.pstatic.net/20211026_135/1...   \n",
       "...                                                 ...   \n",
       "1807  https://movie-phinf.pstatic.net/20181016_189/1...   \n",
       "1808  https://movie-phinf.pstatic.net/20200115_223/1...   \n",
       "1809  https://movie-phinf.pstatic.net/20191002_88/15...   \n",
       "1810  https://movie-phinf.pstatic.net/20210310_84/16...   \n",
       "1811  https://movie-phinf.pstatic.net/20181108_98/15...   \n",
       "\n",
       "                                                content  \n",
       "0     ['절박한 심정으로 미국에 밀입국한 멕시코 여성. 허름한 클리블랜드 하숙집에서 묵으...  \n",
       "1     ['카람은 여자 목소리를 내는 데 천부적인 재능이 있는 남자로, 적절한 직업을 찾던...  \n",
       "2     ['분노만 남은 결혼 생활. 부부는 서로를 죽이려는 계획을 숨기고 외딴 산장으로 여...  \n",
       "3     ['바다 폭풍에 휩쓸린 옥토넛은 우연히 사막에 상륙한다.\\r', <br/>, '\\x...  \n",
       "4     ['50년 넘게 노점을 해온 팔순의 김종분.', <br/>, '\\xa0왕십리역 11...  \n",
       "...                                                 ...  \n",
       "1807  ['폭력적인 남편을 피해 아이들과 함께 친구 다니엘의 집을 찾은 ‘이반’\\r', <...  \n",
       "1808  ['생계형 수습 변호사 ‘태수’에게 찾아온 일생일대의 기회, 위기의 동물원 ‘동산파...  \n",
       "1809  ['타고난 가창력으로 스코틀랜드 글래스고의 한 바에서 인기 몰이 중인 로즈의 꿈은 ...  \n",
       "1810  ['교도소에서 출소한 대니는 로랑스와 클라라 모녀가 운영하는 낡은 모텔에서 새 삶을...  \n",
       "1811  ['게임을 좋아하는 12살 소년 ‘하비’.', <br/>, '\\xa0아버지가 일하는...  \n",
       "\n",
       "[1812 rows x 10 columns]"
      ]
     },
     "execution_count": 3,
     "metadata": {},
     "output_type": "execute_result"
    }
   ],
   "source": [
    "df"
   ]
  },
  {
   "cell_type": "code",
   "execution_count": 4,
   "id": "c07f6991",
   "metadata": {},
   "outputs": [
    {
     "data": {
      "text/html": [
       "<div>\n",
       "<style scoped>\n",
       "    .dataframe tbody tr th:only-of-type {\n",
       "        vertical-align: middle;\n",
       "    }\n",
       "\n",
       "    .dataframe tbody tr th {\n",
       "        vertical-align: top;\n",
       "    }\n",
       "\n",
       "    .dataframe thead th {\n",
       "        text-align: right;\n",
       "    }\n",
       "</style>\n",
       "<table border=\"1\" class=\"dataframe\">\n",
       "  <thead>\n",
       "    <tr style=\"text-align: right;\">\n",
       "      <th></th>\n",
       "      <th>title</th>\n",
       "      <th>vote</th>\n",
       "      <th>genre</th>\n",
       "      <th>country</th>\n",
       "      <th>time</th>\n",
       "      <th>open_date</th>\n",
       "      <th>actor</th>\n",
       "      <th>grade</th>\n",
       "      <th>poster_path</th>\n",
       "      <th>content</th>\n",
       "    </tr>\n",
       "  </thead>\n",
       "  <tbody>\n",
       "    <tr>\n",
       "      <th>0</th>\n",
       "      <td>아무도 살아서 나갈 수 없다</td>\n",
       "      <td>관람객 평점 없음</td>\n",
       "      <td>['미스터리', '공포']</td>\n",
       "      <td>영국</td>\n",
       "      <td>86분</td>\n",
       "      <td>['미상']</td>\n",
       "      <td>['마크 멘차카']</td>\n",
       "      <td>청소년 관람불가</td>\n",
       "      <td>https://movie-phinf.pstatic.net/20211012_193/1...</td>\n",
       "      <td>['절박한 심정으로 미국에 밀입국한 멕시코 여성. 허름한 클리블랜드 하숙집에서 묵으...</td>\n",
       "    </tr>\n",
       "    <tr>\n",
       "      <th>1</th>\n",
       "      <td>드림걸: 수상한 콜센터</td>\n",
       "      <td>관람객 평점 없음</td>\n",
       "      <td>['코미디']</td>\n",
       "      <td>인도</td>\n",
       "      <td>125분</td>\n",
       "      <td>['미상']</td>\n",
       "      <td>['아유쉬만 커라나', '비자이 라즈']</td>\n",
       "      <td>12세 관람가</td>\n",
       "      <td>https://movie-phinf.pstatic.net/20210929_200/1...</td>\n",
       "      <td>['카람은 여자 목소리를 내는 데 천부적인 재능이 있는 남자로, 적절한 직업을 찾던...</td>\n",
       "    </tr>\n",
       "    <tr>\n",
       "      <th>2</th>\n",
       "      <td>트립</td>\n",
       "      <td>관람객 평점 없음</td>\n",
       "      <td>['공포', '코미디']</td>\n",
       "      <td>노르웨이</td>\n",
       "      <td>113분</td>\n",
       "      <td>['미상']</td>\n",
       "      <td>['누미 라파스', '엑셀 헨니', '아틀레 안톤센']</td>\n",
       "      <td>청소년 관람불가</td>\n",
       "      <td>https://movie-phinf.pstatic.net/20211110_292/1...</td>\n",
       "      <td>['분노만 남은 결혼 생활. 부부는 서로를 죽이려는 계획을 숨기고 외딴 산장으로 여...</td>\n",
       "    </tr>\n",
       "    <tr>\n",
       "      <th>3</th>\n",
       "      <td>바다 탐험대 옥토넛 : 육지수호 대작전</td>\n",
       "      <td>관람객 평점 6.00점</td>\n",
       "      <td>['애니메이션', '액션', '모험']</td>\n",
       "      <td>영국</td>\n",
       "      <td>60분</td>\n",
       "      <td>2021.10.27</td>\n",
       "      <td>['하성용', '정재헌', '엄상현']</td>\n",
       "      <td>전체 관람가</td>\n",
       "      <td>https://movie-phinf.pstatic.net/20210924_146/1...</td>\n",
       "      <td>['바다 폭풍에 휩쓸린 옥토넛은 우연히 사막에 상륙한다.\\r', &lt;br/&gt;, '\\x...</td>\n",
       "    </tr>\n",
       "    <tr>\n",
       "      <th>4</th>\n",
       "      <td>왕십리 김종분</td>\n",
       "      <td>관람객 평점 없음</td>\n",
       "      <td>['다큐멘터리']</td>\n",
       "      <td>한국</td>\n",
       "      <td>102분</td>\n",
       "      <td>2021.11.11</td>\n",
       "      <td>['김종분', '김귀임', '김종수']</td>\n",
       "      <td>12세 관람가</td>\n",
       "      <td>https://movie-phinf.pstatic.net/20211026_135/1...</td>\n",
       "      <td>['50년 넘게 노점을 해온 팔순의 김종분.', &lt;br/&gt;, '\\xa0왕십리역 11...</td>\n",
       "    </tr>\n",
       "    <tr>\n",
       "      <th>...</th>\n",
       "      <td>...</td>\n",
       "      <td>...</td>\n",
       "      <td>...</td>\n",
       "      <td>...</td>\n",
       "      <td>...</td>\n",
       "      <td>...</td>\n",
       "      <td>...</td>\n",
       "      <td>...</td>\n",
       "      <td>...</td>\n",
       "      <td>...</td>\n",
       "    </tr>\n",
       "    <tr>\n",
       "      <th>1807</th>\n",
       "      <td>유혹의 계절</td>\n",
       "      <td>관람객 평점 없음</td>\n",
       "      <td>['멜로/로맨스', '드라마']</td>\n",
       "      <td>아일랜드</td>\n",
       "      <td>103분</td>\n",
       "      <td>2018.11.01</td>\n",
       "      <td>['킬리언 머피', '캐서린 워커', '앤드류 스캇']</td>\n",
       "      <td>청소년 관람불가</td>\n",
       "      <td>https://movie-phinf.pstatic.net/20181016_189/1...</td>\n",
       "      <td>['폭력적인 남편을 피해 아이들과 함께 친구 다니엘의 집을 찾은 ‘이반’\\r', &lt;...</td>\n",
       "    </tr>\n",
       "    <tr>\n",
       "      <th>1808</th>\n",
       "      <td>해치지않아</td>\n",
       "      <td>관람객 평점 7.32점</td>\n",
       "      <td>['코미디']</td>\n",
       "      <td>한국</td>\n",
       "      <td>117분</td>\n",
       "      <td>2020.01.15</td>\n",
       "      <td>['안재홍', '강소라', '박영규']</td>\n",
       "      <td>12세 관람가</td>\n",
       "      <td>https://movie-phinf.pstatic.net/20200115_223/1...</td>\n",
       "      <td>['생계형 수습 변호사 ‘태수’에게 찾아온 일생일대의 기회, 위기의 동물원 ‘동산파...</td>\n",
       "    </tr>\n",
       "    <tr>\n",
       "      <th>1809</th>\n",
       "      <td>와일드 로즈</td>\n",
       "      <td>관람객 평점 8.90점</td>\n",
       "      <td>['드라마']</td>\n",
       "      <td>영국</td>\n",
       "      <td>100분</td>\n",
       "      <td>2019.10.17</td>\n",
       "      <td>['제시 버클리', '줄리 월터스']</td>\n",
       "      <td>15세 관람가</td>\n",
       "      <td>https://movie-phinf.pstatic.net/20191002_88/15...</td>\n",
       "      <td>['타고난 가창력으로 스코틀랜드 글래스고의 한 바에서 인기 몰이 중인 로즈의 꿈은 ...</td>\n",
       "    </tr>\n",
       "    <tr>\n",
       "      <th>1810</th>\n",
       "      <td>블루버드 인 마이 하트</td>\n",
       "      <td>관람객 평점 없음</td>\n",
       "      <td>['범죄', '액션', '드라마']</td>\n",
       "      <td>프랑스</td>\n",
       "      <td>89분</td>\n",
       "      <td>2021.03.15</td>\n",
       "      <td>['로랜드 몰러', '로라 르 란', '벨 배턴스']</td>\n",
       "      <td>청소년 관람불가</td>\n",
       "      <td>https://movie-phinf.pstatic.net/20210310_84/16...</td>\n",
       "      <td>['교도소에서 출소한 대니는 로랑스와 클라라 모녀가 운영하는 낡은 모텔에서 새 삶을...</td>\n",
       "    </tr>\n",
       "    <tr>\n",
       "      <th>1811</th>\n",
       "      <td>박물관이 진짜 살아있다</td>\n",
       "      <td>관람객 평점 7.78점</td>\n",
       "      <td>['애니메이션', '모험', '코미디']</td>\n",
       "      <td>체코</td>\n",
       "      <td>86분</td>\n",
       "      <td>2018.11.08</td>\n",
       "      <td>['장은숙', '최원형', '장경희']</td>\n",
       "      <td>전체 관람가</td>\n",
       "      <td>https://movie-phinf.pstatic.net/20181108_98/15...</td>\n",
       "      <td>['게임을 좋아하는 12살 소년 ‘하비’.', &lt;br/&gt;, '\\xa0아버지가 일하는...</td>\n",
       "    </tr>\n",
       "  </tbody>\n",
       "</table>\n",
       "<p>1812 rows × 10 columns</p>\n",
       "</div>"
      ],
      "text/plain": [
       "                      title          vote                   genre country  \\\n",
       "0           아무도 살아서 나갈 수 없다     관람객 평점 없음          ['미스터리', '공포']      영국   \n",
       "1              드림걸: 수상한 콜센터     관람객 평점 없음                 ['코미디']      인도   \n",
       "2                        트립     관람객 평점 없음           ['공포', '코미디']    노르웨이   \n",
       "3     바다 탐험대 옥토넛 : 육지수호 대작전  관람객 평점 6.00점   ['애니메이션', '액션', '모험']      영국   \n",
       "4                   왕십리 김종분     관람객 평점 없음               ['다큐멘터리']      한국   \n",
       "...                     ...           ...                     ...     ...   \n",
       "1807                 유혹의 계절     관람객 평점 없음       ['멜로/로맨스', '드라마']    아일랜드   \n",
       "1808                  해치지않아  관람객 평점 7.32점                 ['코미디']      한국   \n",
       "1809                 와일드 로즈  관람객 평점 8.90점                 ['드라마']      영국   \n",
       "1810           블루버드 인 마이 하트     관람객 평점 없음     ['범죄', '액션', '드라마']     프랑스   \n",
       "1811           박물관이 진짜 살아있다  관람객 평점 7.78점  ['애니메이션', '모험', '코미디']      체코   \n",
       "\n",
       "      time   open_date                           actor     grade  \\\n",
       "0      86분      ['미상']                      ['마크 멘차카']  청소년 관람불가   \n",
       "1     125분      ['미상']          ['아유쉬만 커라나', '비자이 라즈']   12세 관람가   \n",
       "2     113분      ['미상']  ['누미 라파스', '엑셀 헨니', '아틀레 안톤센']  청소년 관람불가   \n",
       "3      60분  2021.10.27           ['하성용', '정재헌', '엄상현']    전체 관람가   \n",
       "4     102분  2021.11.11           ['김종분', '김귀임', '김종수']   12세 관람가   \n",
       "...    ...         ...                             ...       ...   \n",
       "1807  103분  2018.11.01  ['킬리언 머피', '캐서린 워커', '앤드류 스캇']  청소년 관람불가   \n",
       "1808  117분  2020.01.15           ['안재홍', '강소라', '박영규']   12세 관람가   \n",
       "1809  100분  2019.10.17            ['제시 버클리', '줄리 월터스']   15세 관람가   \n",
       "1810   89분  2021.03.15   ['로랜드 몰러', '로라 르 란', '벨 배턴스']  청소년 관람불가   \n",
       "1811   86분  2018.11.08           ['장은숙', '최원형', '장경희']    전체 관람가   \n",
       "\n",
       "                                            poster_path  \\\n",
       "0     https://movie-phinf.pstatic.net/20211012_193/1...   \n",
       "1     https://movie-phinf.pstatic.net/20210929_200/1...   \n",
       "2     https://movie-phinf.pstatic.net/20211110_292/1...   \n",
       "3     https://movie-phinf.pstatic.net/20210924_146/1...   \n",
       "4     https://movie-phinf.pstatic.net/20211026_135/1...   \n",
       "...                                                 ...   \n",
       "1807  https://movie-phinf.pstatic.net/20181016_189/1...   \n",
       "1808  https://movie-phinf.pstatic.net/20200115_223/1...   \n",
       "1809  https://movie-phinf.pstatic.net/20191002_88/15...   \n",
       "1810  https://movie-phinf.pstatic.net/20210310_84/16...   \n",
       "1811  https://movie-phinf.pstatic.net/20181108_98/15...   \n",
       "\n",
       "                                                content  \n",
       "0     ['절박한 심정으로 미국에 밀입국한 멕시코 여성. 허름한 클리블랜드 하숙집에서 묵으...  \n",
       "1     ['카람은 여자 목소리를 내는 데 천부적인 재능이 있는 남자로, 적절한 직업을 찾던...  \n",
       "2     ['분노만 남은 결혼 생활. 부부는 서로를 죽이려는 계획을 숨기고 외딴 산장으로 여...  \n",
       "3     ['바다 폭풍에 휩쓸린 옥토넛은 우연히 사막에 상륙한다.\\r', <br/>, '\\x...  \n",
       "4     ['50년 넘게 노점을 해온 팔순의 김종분.', <br/>, '\\xa0왕십리역 11...  \n",
       "...                                                 ...  \n",
       "1807  ['폭력적인 남편을 피해 아이들과 함께 친구 다니엘의 집을 찾은 ‘이반’\\r', <...  \n",
       "1808  ['생계형 수습 변호사 ‘태수’에게 찾아온 일생일대의 기회, 위기의 동물원 ‘동산파...  \n",
       "1809  ['타고난 가창력으로 스코틀랜드 글래스고의 한 바에서 인기 몰이 중인 로즈의 꿈은 ...  \n",
       "1810  ['교도소에서 출소한 대니는 로랑스와 클라라 모녀가 운영하는 낡은 모텔에서 새 삶을...  \n",
       "1811  ['게임을 좋아하는 12살 소년 ‘하비’.', <br/>, '\\xa0아버지가 일하는...  \n",
       "\n",
       "[1812 rows x 10 columns]"
      ]
     },
     "execution_count": 4,
     "metadata": {},
     "output_type": "execute_result"
    }
   ],
   "source": [
    "df.astype({'title':'str'})"
   ]
  },
  {
   "cell_type": "code",
   "execution_count": 5,
   "id": "d9862189",
   "metadata": {
    "scrolled": true
   },
   "outputs": [
    {
     "name": "stdout",
     "output_type": "stream",
     "text": [
      "(1812, 10)\n",
      "<class 'pandas.core.frame.DataFrame'>\n",
      "RangeIndex: 1812 entries, 0 to 1811\n",
      "Data columns (total 10 columns):\n",
      " #   Column       Non-Null Count  Dtype \n",
      "---  ------       --------------  ----- \n",
      " 0   title        1812 non-null   object\n",
      " 1   vote         1812 non-null   object\n",
      " 2   genre        1812 non-null   object\n",
      " 3   country      1812 non-null   object\n",
      " 4   time         1808 non-null   object\n",
      " 5   open_date    1812 non-null   object\n",
      " 6   actor        1812 non-null   object\n",
      " 7   grade        1812 non-null   object\n",
      " 8   poster_path  1812 non-null   object\n",
      " 9   content      1812 non-null   object\n",
      "dtypes: object(10)\n",
      "memory usage: 141.7+ KB\n"
     ]
    }
   ],
   "source": [
    "print(df.shape)\n",
    "df.info()"
   ]
  },
  {
   "cell_type": "markdown",
   "id": "b4bf6512",
   "metadata": {},
   "source": [
    " \n"
   ]
  },
  {
   "cell_type": "markdown",
   "id": "85416f75",
   "metadata": {},
   "source": [
    " \n"
   ]
  },
  {
   "cell_type": "markdown",
   "id": "f4c69896",
   "metadata": {},
   "source": [
    "1. content 없는 값 확인"
   ]
  },
  {
   "cell_type": "code",
   "execution_count": 6,
   "id": "a84fa05f",
   "metadata": {},
   "outputs": [
    {
     "name": "stdout",
     "output_type": "stream",
     "text": [
      "1812\n"
     ]
    }
   ],
   "source": [
    "length = len(df.iloc[:])\n",
    "print(length)"
   ]
  },
  {
   "cell_type": "code",
   "execution_count": 7,
   "id": "57e0b116",
   "metadata": {},
   "outputs": [],
   "source": [
    "no_content = []"
   ]
  },
  {
   "cell_type": "code",
   "execution_count": 8,
   "id": "de1f48d5",
   "metadata": {},
   "outputs": [],
   "source": [
    "for i in range(length):\n",
    "    if df.iloc[i, 9] == '[]':\n",
    "        no_content.append(i)"
   ]
  },
  {
   "cell_type": "code",
   "execution_count": 9,
   "id": "a22e8099",
   "metadata": {},
   "outputs": [
    {
     "name": "stdout",
     "output_type": "stream",
     "text": [
      "[10, 54, 59, 185, 488, 502, 715, 716, 729, 843, 844, 911, 952, 1006, 1009, 1024, 1041, 1048, 1071, 1091, 1157, 1161, 1282, 1343, 1375, 1485, 1559, 1614, 1719, 1778]\n",
      "30\n"
     ]
    }
   ],
   "source": [
    "print(no_content)\n",
    "print(len(no_content))"
   ]
  },
  {
   "cell_type": "markdown",
   "id": "b5a686f1",
   "metadata": {},
   "source": [
    " "
   ]
  },
  {
   "cell_type": "markdown",
   "id": "602492b4",
   "metadata": {},
   "source": [
    "2. 배우가 없는 영화 목록 확인"
   ]
  },
  {
   "cell_type": "code",
   "execution_count": 10,
   "id": "e936ab7c",
   "metadata": {},
   "outputs": [
    {
     "name": "stdout",
     "output_type": "stream",
     "text": [
      "1812\n"
     ]
    }
   ],
   "source": [
    "no_actor = []\n",
    "length = len(df.iloc[:])\n",
    "print(length)"
   ]
  },
  {
   "cell_type": "code",
   "execution_count": 11,
   "id": "94e1dbe6",
   "metadata": {},
   "outputs": [
    {
     "name": "stdout",
     "output_type": "stream",
     "text": [
      "['전체 관람가'] ['12세 관람가'] ['15세 관람가'] ['청소년 관람불가']\n"
     ]
    }
   ],
   "source": [
    "grade_all = df.iloc[35,6]\n",
    "grade_12 = df.iloc[17,6]\n",
    "grade_15 = df.iloc[5,6]\n",
    "grade_18 = df.iloc[15,6]\n",
    "print(grade_all, grade_12, grade_15, grade_18)"
   ]
  },
  {
   "cell_type": "code",
   "execution_count": 12,
   "id": "8619d598",
   "metadata": {},
   "outputs": [],
   "source": [
    "for i in range(length):\n",
    "    if df.iloc[i, 6] == grade_all or df.iloc[i, 6] == grade_12 or df.iloc[i, 6] == grade_15 or df.iloc[i, 6] == grade_18:\n",
    "        no_actor.append(i)"
   ]
  },
  {
   "cell_type": "code",
   "execution_count": 13,
   "id": "a7f962f6",
   "metadata": {
    "scrolled": true
   },
   "outputs": [
    {
     "name": "stdout",
     "output_type": "stream",
     "text": [
      "[5, 15, 17, 23, 24, 31, 35, 45, 49, 51, 59, 65, 67, 76, 83, 94, 98, 103, 104, 114, 119, 121, 122, 126, 129, 131, 132, 134, 148, 151, 154, 159, 166, 167, 170, 179, 186, 193, 195, 198, 201, 213, 214, 215, 218, 220, 226, 227, 233, 239, 242, 246, 249, 253, 256, 263, 268, 271, 276, 280, 286, 299, 302, 308, 328, 346, 367, 377, 411, 429, 447, 452, 456, 460, 463, 476, 484, 489, 497, 502, 509, 511, 516, 532, 533, 545, 555, 574, 609, 627, 635, 638, 639, 650, 651, 655, 656, 658, 663, 665, 666, 667, 672, 683, 684, 685, 686, 687, 704, 727, 732, 744, 754, 755, 766, 771, 777, 794, 795, 798, 864, 865, 866, 867, 874, 875, 876, 937, 945, 954, 957, 968, 970, 971, 974, 975, 976, 1005, 1008, 1009, 1011, 1024, 1029, 1034, 1035, 1038, 1065, 1076, 1098, 1103, 1118, 1120, 1129, 1130, 1131, 1132, 1134, 1135, 1136, 1141, 1142, 1143, 1153, 1167, 1192, 1210, 1226, 1239, 1240, 1241, 1242, 1244, 1251, 1254, 1255, 1268, 1269, 1271, 1284, 1306, 1324, 1325, 1326, 1343, 1352, 1364, 1396, 1397, 1399, 1400, 1417, 1436, 1439, 1444, 1453, 1500, 1504, 1509, 1512, 1514, 1515, 1519, 1520, 1521, 1533, 1573, 1598, 1653, 1655, 1660, 1727, 1728, 1743, 1750, 1763, 1767, 1795, 1801]\n",
      "218\n"
     ]
    }
   ],
   "source": [
    "print(no_actor)\n",
    "print(len(no_actor))"
   ]
  },
  {
   "cell_type": "markdown",
   "id": "c21618f1",
   "metadata": {},
   "source": [
    "총 1782개 중에서 배우가 없는 영화는 213개이다.\n",
    "충분히 삭제해도 괜찮은듯"
   ]
  },
  {
   "cell_type": "markdown",
   "id": "dba99df3",
   "metadata": {},
   "source": [
    " "
   ]
  },
  {
   "cell_type": "markdown",
   "id": "09a6d4f3",
   "metadata": {},
   "source": [
    " "
   ]
  },
  {
   "cell_type": "markdown",
   "id": "fce304a7",
   "metadata": {},
   "source": [
    " "
   ]
  },
  {
   "cell_type": "markdown",
   "id": "92e53a60",
   "metadata": {},
   "source": [
    " "
   ]
  },
  {
   "cell_type": "markdown",
   "id": "83e29937",
   "metadata": {},
   "source": [
    "3. 등급이 없는 영화 확인 + 전처리"
   ]
  },
  {
   "cell_type": "markdown",
   "id": "af3f3af5",
   "metadata": {},
   "source": [
    "- grade에서 ['전체 관람가'] 를 '전체 관람가'로 모두 변경"
   ]
  },
  {
   "cell_type": "code",
   "execution_count": 14,
   "id": "7a1adb33",
   "metadata": {
    "scrolled": true
   },
   "outputs": [
    {
     "name": "stdout",
     "output_type": "stream",
     "text": [
      "False\n",
      "True\n"
     ]
    }
   ],
   "source": [
    "print(df.iloc[7,7] == ['전체 관람가'])\n",
    "print(df.iloc[3,7] == '전체 관람가')"
   ]
  },
  {
   "cell_type": "code",
   "execution_count": 15,
   "id": "388d294e",
   "metadata": {},
   "outputs": [
    {
     "name": "stdout",
     "output_type": "stream",
     "text": [
      "['전체 관람가'] ['12세 관람가'] ['15세 관람가'] ['청소년 관람불가']\n"
     ]
    }
   ],
   "source": [
    "print(grade_all, grade_12, grade_15, grade_18)"
   ]
  },
  {
   "cell_type": "code",
   "execution_count": 16,
   "id": "7789180d",
   "metadata": {},
   "outputs": [],
   "source": [
    "for i in range(length):\n",
    "    if df.iloc[i, 7] == grade_all:\n",
    "        df.iloc[i, 7] = '전체 관람가'"
   ]
  },
  {
   "cell_type": "code",
   "execution_count": 17,
   "id": "a0463027",
   "metadata": {
    "scrolled": true
   },
   "outputs": [
    {
     "data": {
      "text/plain": [
       "0     청소년 관람불가\n",
       "1      12세 관람가\n",
       "2     청소년 관람불가\n",
       "3       전체 관람가\n",
       "4      12세 관람가\n",
       "5       전체 관람가\n",
       "6      12세 관람가\n",
       "7       전체 관람가\n",
       "8     청소년 관람불가\n",
       "9       전체 관람가\n",
       "10     12세 관람가\n",
       "11     15세 관람가\n",
       "12     12세 관람가\n",
       "13     12세 관람가\n",
       "14     15세 관람가\n",
       "15      전체 관람가\n",
       "16     15세 관람가\n",
       "17      전체 관람가\n",
       "18     15세 관람가\n",
       "19     15세 관람가\n",
       "Name: grade, dtype: object"
      ]
     },
     "execution_count": 17,
     "metadata": {},
     "output_type": "execute_result"
    }
   ],
   "source": [
    "df.iloc[:20, 7]"
   ]
  },
  {
   "cell_type": "markdown",
   "id": "0c10a083",
   "metadata": {},
   "source": [
    "- grade가 없는 값들 모두 no_grade에 담기"
   ]
  },
  {
   "cell_type": "code",
   "execution_count": 18,
   "id": "30cc46f6",
   "metadata": {},
   "outputs": [],
   "source": [
    "no_grade = []"
   ]
  },
  {
   "cell_type": "code",
   "execution_count": 19,
   "id": "6b5d4dfd",
   "metadata": {},
   "outputs": [],
   "source": [
    "for i in range(length):\n",
    "    if df.iloc[i, 7] != '전체 관람가' and df.iloc[i, 7] != '12세 관람가' and df.iloc[i, 7] != '15세 관람가' and df.iloc[i, 7] != '청소년 관람불가':\n",
    "        no_grade.append(i)"
   ]
  },
  {
   "cell_type": "code",
   "execution_count": 20,
   "id": "f15b43ed",
   "metadata": {},
   "outputs": [
    {
     "name": "stdout",
     "output_type": "stream",
     "text": [
      "[525, 717, 1054, 1236]\n"
     ]
    }
   ],
   "source": [
    "print(no_grade)"
   ]
  },
  {
   "cell_type": "markdown",
   "id": "3d3d1323",
   "metadata": {},
   "source": [
    " "
   ]
  },
  {
   "cell_type": "code",
   "execution_count": 21,
   "id": "8dd5ba36",
   "metadata": {},
   "outputs": [
    {
     "data": {
      "text/html": [
       "<div>\n",
       "<style scoped>\n",
       "    .dataframe tbody tr th:only-of-type {\n",
       "        vertical-align: middle;\n",
       "    }\n",
       "\n",
       "    .dataframe tbody tr th {\n",
       "        vertical-align: top;\n",
       "    }\n",
       "\n",
       "    .dataframe thead th {\n",
       "        text-align: right;\n",
       "    }\n",
       "</style>\n",
       "<table border=\"1\" class=\"dataframe\">\n",
       "  <thead>\n",
       "    <tr style=\"text-align: right;\">\n",
       "      <th></th>\n",
       "      <th>title</th>\n",
       "      <th>vote</th>\n",
       "      <th>genre</th>\n",
       "      <th>country</th>\n",
       "      <th>time</th>\n",
       "      <th>open_date</th>\n",
       "      <th>actor</th>\n",
       "      <th>grade</th>\n",
       "      <th>poster_path</th>\n",
       "      <th>content</th>\n",
       "    </tr>\n",
       "  </thead>\n",
       "  <tbody>\n",
       "    <tr>\n",
       "      <th>0</th>\n",
       "      <td>아무도 살아서 나갈 수 없다</td>\n",
       "      <td>관람객 평점 없음</td>\n",
       "      <td>['미스터리', '공포']</td>\n",
       "      <td>영국</td>\n",
       "      <td>86분</td>\n",
       "      <td>['미상']</td>\n",
       "      <td>['마크 멘차카']</td>\n",
       "      <td>청소년 관람불가</td>\n",
       "      <td>https://movie-phinf.pstatic.net/20211012_193/1...</td>\n",
       "      <td>['절박한 심정으로 미국에 밀입국한 멕시코 여성. 허름한 클리블랜드 하숙집에서 묵으...</td>\n",
       "    </tr>\n",
       "    <tr>\n",
       "      <th>1</th>\n",
       "      <td>드림걸: 수상한 콜센터</td>\n",
       "      <td>관람객 평점 없음</td>\n",
       "      <td>['코미디']</td>\n",
       "      <td>인도</td>\n",
       "      <td>125분</td>\n",
       "      <td>['미상']</td>\n",
       "      <td>['아유쉬만 커라나', '비자이 라즈']</td>\n",
       "      <td>12세 관람가</td>\n",
       "      <td>https://movie-phinf.pstatic.net/20210929_200/1...</td>\n",
       "      <td>['카람은 여자 목소리를 내는 데 천부적인 재능이 있는 남자로, 적절한 직업을 찾던...</td>\n",
       "    </tr>\n",
       "    <tr>\n",
       "      <th>2</th>\n",
       "      <td>트립</td>\n",
       "      <td>관람객 평점 없음</td>\n",
       "      <td>['공포', '코미디']</td>\n",
       "      <td>노르웨이</td>\n",
       "      <td>113분</td>\n",
       "      <td>['미상']</td>\n",
       "      <td>['누미 라파스', '엑셀 헨니', '아틀레 안톤센']</td>\n",
       "      <td>청소년 관람불가</td>\n",
       "      <td>https://movie-phinf.pstatic.net/20211110_292/1...</td>\n",
       "      <td>['분노만 남은 결혼 생활. 부부는 서로를 죽이려는 계획을 숨기고 외딴 산장으로 여...</td>\n",
       "    </tr>\n",
       "    <tr>\n",
       "      <th>3</th>\n",
       "      <td>바다 탐험대 옥토넛 : 육지수호 대작전</td>\n",
       "      <td>관람객 평점 6.00점</td>\n",
       "      <td>['애니메이션', '액션', '모험']</td>\n",
       "      <td>영국</td>\n",
       "      <td>60분</td>\n",
       "      <td>2021.10.27</td>\n",
       "      <td>['하성용', '정재헌', '엄상현']</td>\n",
       "      <td>전체 관람가</td>\n",
       "      <td>https://movie-phinf.pstatic.net/20210924_146/1...</td>\n",
       "      <td>['바다 폭풍에 휩쓸린 옥토넛은 우연히 사막에 상륙한다.\\r', &lt;br/&gt;, '\\x...</td>\n",
       "    </tr>\n",
       "    <tr>\n",
       "      <th>4</th>\n",
       "      <td>왕십리 김종분</td>\n",
       "      <td>관람객 평점 없음</td>\n",
       "      <td>['다큐멘터리']</td>\n",
       "      <td>한국</td>\n",
       "      <td>102분</td>\n",
       "      <td>2021.11.11</td>\n",
       "      <td>['김종분', '김귀임', '김종수']</td>\n",
       "      <td>12세 관람가</td>\n",
       "      <td>https://movie-phinf.pstatic.net/20211026_135/1...</td>\n",
       "      <td>['50년 넘게 노점을 해온 팔순의 김종분.', &lt;br/&gt;, '\\xa0왕십리역 11...</td>\n",
       "    </tr>\n",
       "    <tr>\n",
       "      <th>...</th>\n",
       "      <td>...</td>\n",
       "      <td>...</td>\n",
       "      <td>...</td>\n",
       "      <td>...</td>\n",
       "      <td>...</td>\n",
       "      <td>...</td>\n",
       "      <td>...</td>\n",
       "      <td>...</td>\n",
       "      <td>...</td>\n",
       "      <td>...</td>\n",
       "    </tr>\n",
       "    <tr>\n",
       "      <th>1807</th>\n",
       "      <td>유혹의 계절</td>\n",
       "      <td>관람객 평점 없음</td>\n",
       "      <td>['멜로/로맨스', '드라마']</td>\n",
       "      <td>아일랜드</td>\n",
       "      <td>103분</td>\n",
       "      <td>2018.11.01</td>\n",
       "      <td>['킬리언 머피', '캐서린 워커', '앤드류 스캇']</td>\n",
       "      <td>청소년 관람불가</td>\n",
       "      <td>https://movie-phinf.pstatic.net/20181016_189/1...</td>\n",
       "      <td>['폭력적인 남편을 피해 아이들과 함께 친구 다니엘의 집을 찾은 ‘이반’\\r', &lt;...</td>\n",
       "    </tr>\n",
       "    <tr>\n",
       "      <th>1808</th>\n",
       "      <td>해치지않아</td>\n",
       "      <td>관람객 평점 7.32점</td>\n",
       "      <td>['코미디']</td>\n",
       "      <td>한국</td>\n",
       "      <td>117분</td>\n",
       "      <td>2020.01.15</td>\n",
       "      <td>['안재홍', '강소라', '박영규']</td>\n",
       "      <td>12세 관람가</td>\n",
       "      <td>https://movie-phinf.pstatic.net/20200115_223/1...</td>\n",
       "      <td>['생계형 수습 변호사 ‘태수’에게 찾아온 일생일대의 기회, 위기의 동물원 ‘동산파...</td>\n",
       "    </tr>\n",
       "    <tr>\n",
       "      <th>1809</th>\n",
       "      <td>와일드 로즈</td>\n",
       "      <td>관람객 평점 8.90점</td>\n",
       "      <td>['드라마']</td>\n",
       "      <td>영국</td>\n",
       "      <td>100분</td>\n",
       "      <td>2019.10.17</td>\n",
       "      <td>['제시 버클리', '줄리 월터스']</td>\n",
       "      <td>15세 관람가</td>\n",
       "      <td>https://movie-phinf.pstatic.net/20191002_88/15...</td>\n",
       "      <td>['타고난 가창력으로 스코틀랜드 글래스고의 한 바에서 인기 몰이 중인 로즈의 꿈은 ...</td>\n",
       "    </tr>\n",
       "    <tr>\n",
       "      <th>1810</th>\n",
       "      <td>블루버드 인 마이 하트</td>\n",
       "      <td>관람객 평점 없음</td>\n",
       "      <td>['범죄', '액션', '드라마']</td>\n",
       "      <td>프랑스</td>\n",
       "      <td>89분</td>\n",
       "      <td>2021.03.15</td>\n",
       "      <td>['로랜드 몰러', '로라 르 란', '벨 배턴스']</td>\n",
       "      <td>청소년 관람불가</td>\n",
       "      <td>https://movie-phinf.pstatic.net/20210310_84/16...</td>\n",
       "      <td>['교도소에서 출소한 대니는 로랑스와 클라라 모녀가 운영하는 낡은 모텔에서 새 삶을...</td>\n",
       "    </tr>\n",
       "    <tr>\n",
       "      <th>1811</th>\n",
       "      <td>박물관이 진짜 살아있다</td>\n",
       "      <td>관람객 평점 7.78점</td>\n",
       "      <td>['애니메이션', '모험', '코미디']</td>\n",
       "      <td>체코</td>\n",
       "      <td>86분</td>\n",
       "      <td>2018.11.08</td>\n",
       "      <td>['장은숙', '최원형', '장경희']</td>\n",
       "      <td>전체 관람가</td>\n",
       "      <td>https://movie-phinf.pstatic.net/20181108_98/15...</td>\n",
       "      <td>['게임을 좋아하는 12살 소년 ‘하비’.', &lt;br/&gt;, '\\xa0아버지가 일하는...</td>\n",
       "    </tr>\n",
       "  </tbody>\n",
       "</table>\n",
       "<p>1812 rows × 10 columns</p>\n",
       "</div>"
      ],
      "text/plain": [
       "                      title          vote                   genre country  \\\n",
       "0           아무도 살아서 나갈 수 없다     관람객 평점 없음          ['미스터리', '공포']      영국   \n",
       "1              드림걸: 수상한 콜센터     관람객 평점 없음                 ['코미디']      인도   \n",
       "2                        트립     관람객 평점 없음           ['공포', '코미디']    노르웨이   \n",
       "3     바다 탐험대 옥토넛 : 육지수호 대작전  관람객 평점 6.00점   ['애니메이션', '액션', '모험']      영국   \n",
       "4                   왕십리 김종분     관람객 평점 없음               ['다큐멘터리']      한국   \n",
       "...                     ...           ...                     ...     ...   \n",
       "1807                 유혹의 계절     관람객 평점 없음       ['멜로/로맨스', '드라마']    아일랜드   \n",
       "1808                  해치지않아  관람객 평점 7.32점                 ['코미디']      한국   \n",
       "1809                 와일드 로즈  관람객 평점 8.90점                 ['드라마']      영국   \n",
       "1810           블루버드 인 마이 하트     관람객 평점 없음     ['범죄', '액션', '드라마']     프랑스   \n",
       "1811           박물관이 진짜 살아있다  관람객 평점 7.78점  ['애니메이션', '모험', '코미디']      체코   \n",
       "\n",
       "      time   open_date                           actor     grade  \\\n",
       "0      86분      ['미상']                      ['마크 멘차카']  청소년 관람불가   \n",
       "1     125분      ['미상']          ['아유쉬만 커라나', '비자이 라즈']   12세 관람가   \n",
       "2     113분      ['미상']  ['누미 라파스', '엑셀 헨니', '아틀레 안톤센']  청소년 관람불가   \n",
       "3      60분  2021.10.27           ['하성용', '정재헌', '엄상현']    전체 관람가   \n",
       "4     102분  2021.11.11           ['김종분', '김귀임', '김종수']   12세 관람가   \n",
       "...    ...         ...                             ...       ...   \n",
       "1807  103분  2018.11.01  ['킬리언 머피', '캐서린 워커', '앤드류 스캇']  청소년 관람불가   \n",
       "1808  117분  2020.01.15           ['안재홍', '강소라', '박영규']   12세 관람가   \n",
       "1809  100분  2019.10.17            ['제시 버클리', '줄리 월터스']   15세 관람가   \n",
       "1810   89분  2021.03.15   ['로랜드 몰러', '로라 르 란', '벨 배턴스']  청소년 관람불가   \n",
       "1811   86분  2018.11.08           ['장은숙', '최원형', '장경희']    전체 관람가   \n",
       "\n",
       "                                            poster_path  \\\n",
       "0     https://movie-phinf.pstatic.net/20211012_193/1...   \n",
       "1     https://movie-phinf.pstatic.net/20210929_200/1...   \n",
       "2     https://movie-phinf.pstatic.net/20211110_292/1...   \n",
       "3     https://movie-phinf.pstatic.net/20210924_146/1...   \n",
       "4     https://movie-phinf.pstatic.net/20211026_135/1...   \n",
       "...                                                 ...   \n",
       "1807  https://movie-phinf.pstatic.net/20181016_189/1...   \n",
       "1808  https://movie-phinf.pstatic.net/20200115_223/1...   \n",
       "1809  https://movie-phinf.pstatic.net/20191002_88/15...   \n",
       "1810  https://movie-phinf.pstatic.net/20210310_84/16...   \n",
       "1811  https://movie-phinf.pstatic.net/20181108_98/15...   \n",
       "\n",
       "                                                content  \n",
       "0     ['절박한 심정으로 미국에 밀입국한 멕시코 여성. 허름한 클리블랜드 하숙집에서 묵으...  \n",
       "1     ['카람은 여자 목소리를 내는 데 천부적인 재능이 있는 남자로, 적절한 직업을 찾던...  \n",
       "2     ['분노만 남은 결혼 생활. 부부는 서로를 죽이려는 계획을 숨기고 외딴 산장으로 여...  \n",
       "3     ['바다 폭풍에 휩쓸린 옥토넛은 우연히 사막에 상륙한다.\\r', <br/>, '\\x...  \n",
       "4     ['50년 넘게 노점을 해온 팔순의 김종분.', <br/>, '\\xa0왕십리역 11...  \n",
       "...                                                 ...  \n",
       "1807  ['폭력적인 남편을 피해 아이들과 함께 친구 다니엘의 집을 찾은 ‘이반’\\r', <...  \n",
       "1808  ['생계형 수습 변호사 ‘태수’에게 찾아온 일생일대의 기회, 위기의 동물원 ‘동산파...  \n",
       "1809  ['타고난 가창력으로 스코틀랜드 글래스고의 한 바에서 인기 몰이 중인 로즈의 꿈은 ...  \n",
       "1810  ['교도소에서 출소한 대니는 로랑스와 클라라 모녀가 운영하는 낡은 모텔에서 새 삶을...  \n",
       "1811  ['게임을 좋아하는 12살 소년 ‘하비’.', <br/>, '\\xa0아버지가 일하는...  \n",
       "\n",
       "[1812 rows x 10 columns]"
      ]
     },
     "execution_count": 21,
     "metadata": {},
     "output_type": "execute_result"
    }
   ],
   "source": [
    "df"
   ]
  },
  {
   "cell_type": "code",
   "execution_count": 22,
   "id": "d7279a24",
   "metadata": {},
   "outputs": [],
   "source": [
    "no_open = []"
   ]
  },
  {
   "cell_type": "code",
   "execution_count": 23,
   "id": "212bfe86",
   "metadata": {
    "scrolled": true
   },
   "outputs": [
    {
     "data": {
      "text/plain": [
       "True"
      ]
     },
     "execution_count": 23,
     "metadata": {},
     "output_type": "execute_result"
    }
   ],
   "source": [
    "df.iloc[0,5] == \"['미상']\""
   ]
  },
  {
   "cell_type": "code",
   "execution_count": 24,
   "id": "1407ce55",
   "metadata": {},
   "outputs": [],
   "source": [
    "for i in range(length):\n",
    "    if df.iloc[i,5] == \"['미상']\":\n",
    "        no_open.append(i)"
   ]
  },
  {
   "cell_type": "code",
   "execution_count": 25,
   "id": "81dccffc",
   "metadata": {},
   "outputs": [
    {
     "name": "stdout",
     "output_type": "stream",
     "text": [
      "[0, 1, 2, 5, 6, 12, 19, 30, 31, 32, 36, 37, 38, 40, 46, 54, 56, 59, 81, 87, 93, 117, 118, 126, 129, 133, 135, 141, 146, 152, 159, 163, 168, 170, 172, 173, 174, 185, 189, 208, 233, 283, 302, 310, 332, 333, 334, 336, 351, 352, 355, 360, 361, 362, 363, 366, 367, 368, 376, 378, 381, 384, 386, 391, 402, 403, 413, 415, 417, 430, 431, 472, 478, 481, 484, 485, 487, 488, 493, 499, 502, 503, 511, 518, 520, 525, 531, 532, 546, 550, 551, 554, 568, 592, 610, 611, 615, 619, 620, 621, 623, 630, 631, 632, 633, 634, 635, 636, 637, 638, 639, 640, 641, 642, 643, 644, 645, 646, 647, 648, 649, 650, 651, 652, 653, 654, 655, 656, 657, 658, 659, 660, 661, 662, 663, 664, 665, 666, 667, 668, 669, 670, 671, 672, 673, 681, 682, 683, 684, 685, 686, 694, 695, 700, 708, 709, 710, 711, 712, 713, 714, 715, 716, 717, 718, 729, 732, 733, 734, 741, 756, 780, 790, 794, 795, 796, 797, 798, 809, 812, 813, 816, 817, 819, 834, 835, 836, 837, 838, 839, 840, 841, 843, 844, 845, 846, 852, 853, 863, 864, 865, 866, 867, 868, 870, 871, 872, 873, 874, 875, 876, 879, 882, 890, 903, 907, 909, 911, 935, 939, 940, 941, 942, 943, 944, 946, 952, 955, 958, 959, 960, 962, 963, 964, 965, 966, 967, 968, 969, 970, 971, 972, 988, 991, 1003, 1004, 1006, 1008, 1009, 1010, 1014, 1017, 1024, 1027, 1032, 1041, 1048, 1056, 1067, 1071, 1078, 1079, 1091, 1110, 1128, 1148, 1149, 1155, 1157, 1161, 1162, 1165, 1168, 1174, 1176, 1202, 1207, 1231, 1236, 1250, 1259, 1260, 1266, 1274, 1279, 1282, 1291, 1295, 1333, 1336, 1343, 1375, 1405, 1407, 1435, 1440, 1445, 1485, 1493, 1512, 1552, 1553, 1554, 1555, 1556, 1557, 1559, 1607, 1614, 1619, 1631, 1635, 1651, 1665, 1674, 1682, 1684, 1685, 1694, 1695, 1703, 1719, 1774, 1778, 1806]\n"
     ]
    }
   ],
   "source": [
    "print(no_open)"
   ]
  },
  {
   "cell_type": "markdown",
   "id": "cbe9278c",
   "metadata": {},
   "source": [
    " "
   ]
  },
  {
   "cell_type": "code",
   "execution_count": 26,
   "id": "575e2c65",
   "metadata": {},
   "outputs": [],
   "source": [
    "grouped = df.groupby('content')\n",
    "# print(grouped.count())"
   ]
  },
  {
   "cell_type": "markdown",
   "id": "d08dc71d",
   "metadata": {},
   "source": [
    " "
   ]
  },
  {
   "cell_type": "markdown",
   "id": "6dc41929",
   "metadata": {},
   "source": [
    " "
   ]
  },
  {
   "cell_type": "markdown",
   "id": "459aa328",
   "metadata": {},
   "source": [
    "제거할 행들 모두 제거"
   ]
  },
  {
   "cell_type": "code",
   "execution_count": 27,
   "id": "6971e66d",
   "metadata": {
    "scrolled": true
   },
   "outputs": [
    {
     "name": "stdout",
     "output_type": "stream",
     "text": [
      "[0, 1, 2, 5, 6, 10, 12, 15, 17, 19, 23, 24, 30, 31, 32, 35, 36, 37, 38, 40, 45, 46, 49, 51, 54, 56, 59, 65, 67, 76, 81, 83, 87, 93, 94, 98, 103, 104, 114, 117, 118, 119, 121, 122, 126, 129, 131, 132, 133, 134, 135, 141, 146, 148, 151, 152, 154, 159, 163, 166, 167, 168, 170, 172, 173, 174, 179, 185, 186, 189, 193, 195, 198, 201, 208, 213, 214, 215, 218, 220, 226, 227, 233, 239, 242, 246, 249, 253, 256, 263, 268, 271, 276, 280, 283, 286, 299, 302, 308, 310, 328, 332, 333, 334, 336, 346, 351, 352, 355, 360, 361, 362, 363, 366, 367, 368, 376, 377, 378, 381, 384, 386, 391, 402, 403, 411, 413, 415, 417, 429, 430, 431, 447, 452, 456, 460, 463, 472, 476, 478, 481, 484, 485, 487, 488, 489, 493, 497, 499, 502, 503, 509, 511, 516, 518, 520, 525, 531, 532, 533, 545, 546, 550, 551, 554, 555, 568, 574, 592, 609, 610, 611, 615, 619, 620, 621, 623, 627, 630, 631, 632, 633, 634, 635, 636, 637, 638, 639, 640, 641, 642, 643, 644, 645, 646, 647, 648, 649, 650, 651, 652, 653, 654, 655, 656, 657, 658, 659, 660, 661, 662, 663, 664, 665, 666, 667, 668, 669, 670, 671, 672, 673, 681, 682, 683, 684, 685, 686, 687, 694, 695, 700, 704, 708, 709, 710, 711, 712, 713, 714, 715, 716, 717, 718, 727, 729, 732, 733, 734, 741, 744, 754, 755, 756, 766, 771, 777, 780, 790, 794, 795, 796, 797, 798, 809, 812, 813, 816, 817, 819, 834, 835, 836, 837, 838, 839, 840, 841, 843, 844, 845, 846, 852, 853, 863, 864, 865, 866, 867, 868, 870, 871, 872, 873, 874, 875, 876, 879, 882, 890, 903, 907, 909, 911, 935, 937, 939, 940, 941, 942, 943, 944, 945, 946, 952, 954, 955, 957, 958, 959, 960, 962, 963, 964, 965, 966, 967, 968, 969, 970, 971, 972, 974, 975, 976, 988, 991, 1003, 1004, 1005, 1006, 1008, 1009, 1010, 1011, 1014, 1017, 1024, 1027, 1029, 1032, 1034, 1035, 1038, 1041, 1048, 1054, 1056, 1065, 1067, 1071, 1076, 1078, 1079, 1091, 1098, 1103, 1110, 1118, 1120, 1128, 1129, 1130, 1131, 1132, 1134, 1135, 1136, 1141, 1142, 1143, 1148, 1149, 1153, 1155, 1157, 1161, 1162, 1165, 1167, 1168, 1174, 1176, 1192, 1202, 1207, 1210, 1226, 1231, 1236, 1239, 1240, 1241, 1242, 1244, 1250, 1251, 1254, 1255, 1259, 1260, 1266, 1268, 1269, 1271, 1274, 1279, 1282, 1284, 1291, 1295, 1306, 1324, 1325, 1326, 1333, 1336, 1343, 1352, 1364, 1375, 1396, 1397, 1399, 1400, 1405, 1407, 1417, 1435, 1436, 1439, 1440, 1444, 1445, 1453, 1485, 1493, 1500, 1504, 1509, 1512, 1514, 1515, 1519, 1520, 1521, 1533, 1552, 1553, 1554, 1555, 1556, 1557, 1559, 1573, 1598, 1607, 1614, 1619, 1631, 1635, 1651, 1653, 1655, 1660, 1665, 1674, 1682, 1684, 1685, 1694, 1695, 1703, 1719, 1727, 1728, 1743, 1750, 1763, 1767, 1774, 1778, 1795, 1801, 1806]\n",
      "495\n"
     ]
    }
   ],
   "source": [
    "del_list = no_content + no_actor + no_grade + no_open\n",
    "del_list = sorted(list(set(del_list)))\n",
    "print(del_list)\n",
    "print(len(del_list))"
   ]
  },
  {
   "cell_type": "code",
   "execution_count": 28,
   "id": "ae39c3fb",
   "metadata": {},
   "outputs": [
    {
     "data": {
      "text/html": [
       "<div>\n",
       "<style scoped>\n",
       "    .dataframe tbody tr th:only-of-type {\n",
       "        vertical-align: middle;\n",
       "    }\n",
       "\n",
       "    .dataframe tbody tr th {\n",
       "        vertical-align: top;\n",
       "    }\n",
       "\n",
       "    .dataframe thead th {\n",
       "        text-align: right;\n",
       "    }\n",
       "</style>\n",
       "<table border=\"1\" class=\"dataframe\">\n",
       "  <thead>\n",
       "    <tr style=\"text-align: right;\">\n",
       "      <th></th>\n",
       "      <th>title</th>\n",
       "      <th>vote</th>\n",
       "      <th>genre</th>\n",
       "      <th>country</th>\n",
       "      <th>time</th>\n",
       "      <th>open_date</th>\n",
       "      <th>actor</th>\n",
       "      <th>grade</th>\n",
       "      <th>poster_path</th>\n",
       "      <th>content</th>\n",
       "    </tr>\n",
       "  </thead>\n",
       "  <tbody>\n",
       "    <tr>\n",
       "      <th>0</th>\n",
       "      <td>바다 탐험대 옥토넛 : 육지수호 대작전</td>\n",
       "      <td>관람객 평점 6.00점</td>\n",
       "      <td>['애니메이션', '액션', '모험']</td>\n",
       "      <td>영국</td>\n",
       "      <td>60분</td>\n",
       "      <td>2021.10.27</td>\n",
       "      <td>['하성용', '정재헌', '엄상현']</td>\n",
       "      <td>전체 관람가</td>\n",
       "      <td>https://movie-phinf.pstatic.net/20210924_146/1...</td>\n",
       "      <td>['바다 폭풍에 휩쓸린 옥토넛은 우연히 사막에 상륙한다.\\r', &lt;br/&gt;, '\\x...</td>\n",
       "    </tr>\n",
       "    <tr>\n",
       "      <th>1</th>\n",
       "      <td>왕십리 김종분</td>\n",
       "      <td>관람객 평점 없음</td>\n",
       "      <td>['다큐멘터리']</td>\n",
       "      <td>한국</td>\n",
       "      <td>102분</td>\n",
       "      <td>2021.11.11</td>\n",
       "      <td>['김종분', '김귀임', '김종수']</td>\n",
       "      <td>12세 관람가</td>\n",
       "      <td>https://movie-phinf.pstatic.net/20211026_135/1...</td>\n",
       "      <td>['50년 넘게 노점을 해온 팔순의 김종분.', &lt;br/&gt;, '\\xa0왕십리역 11...</td>\n",
       "    </tr>\n",
       "    <tr>\n",
       "      <th>2</th>\n",
       "      <td>결혼 후에 남겨진 것들</td>\n",
       "      <td>관람객 평점 없음</td>\n",
       "      <td>['멜로/로맨스', '드라마']</td>\n",
       "      <td>미국</td>\n",
       "      <td>97분</td>\n",
       "      <td>2021.1</td>\n",
       "      <td>['로스 맥콜', '앨리슨 밀러']</td>\n",
       "      <td>전체 관람가</td>\n",
       "      <td>https://movie-phinf.pstatic.net/20210928_272/1...</td>\n",
       "      <td>['10년 된 부부 라이언과 클로디아는 옛 추억을 떠올리며, 신혼여행지 이탈리아를 ...</td>\n",
       "    </tr>\n",
       "  </tbody>\n",
       "</table>\n",
       "</div>"
      ],
      "text/plain": [
       "                   title          vote                  genre country  time  \\\n",
       "0  바다 탐험대 옥토넛 : 육지수호 대작전  관람객 평점 6.00점  ['애니메이션', '액션', '모험']      영국   60분   \n",
       "1                왕십리 김종분     관람객 평점 없음              ['다큐멘터리']      한국  102분   \n",
       "2           결혼 후에 남겨진 것들     관람객 평점 없음      ['멜로/로맨스', '드라마']      미국   97분   \n",
       "\n",
       "    open_date                  actor    grade  \\\n",
       "0  2021.10.27  ['하성용', '정재헌', '엄상현']   전체 관람가   \n",
       "1  2021.11.11  ['김종분', '김귀임', '김종수']  12세 관람가   \n",
       "2      2021.1    ['로스 맥콜', '앨리슨 밀러']   전체 관람가   \n",
       "\n",
       "                                         poster_path  \\\n",
       "0  https://movie-phinf.pstatic.net/20210924_146/1...   \n",
       "1  https://movie-phinf.pstatic.net/20211026_135/1...   \n",
       "2  https://movie-phinf.pstatic.net/20210928_272/1...   \n",
       "\n",
       "                                             content  \n",
       "0  ['바다 폭풍에 휩쓸린 옥토넛은 우연히 사막에 상륙한다.\\r', <br/>, '\\x...  \n",
       "1  ['50년 넘게 노점을 해온 팔순의 김종분.', <br/>, '\\xa0왕십리역 11...  \n",
       "2  ['10년 된 부부 라이언과 클로디아는 옛 추억을 떠올리며, 신혼여행지 이탈리아를 ...  "
      ]
     },
     "execution_count": 28,
     "metadata": {},
     "output_type": "execute_result"
    }
   ],
   "source": [
    "movie = df.drop(del_list)\n",
    "movie = movie.reset_index(drop=True)\n",
    "movie.iloc[:3]"
   ]
  },
  {
   "cell_type": "code",
   "execution_count": 29,
   "id": "0ff698fd",
   "metadata": {},
   "outputs": [
    {
     "name": "stdout",
     "output_type": "stream",
     "text": [
      "1317\n"
     ]
    }
   ],
   "source": [
    "length = len(movie.iloc[:])\n",
    "print(length)"
   ]
  },
  {
   "cell_type": "code",
   "execution_count": 30,
   "id": "86174968",
   "metadata": {},
   "outputs": [
    {
     "name": "stdout",
     "output_type": "stream",
     "text": [
      "'애니메이션'\n"
     ]
    }
   ],
   "source": [
    "print(movie.iloc[4,2][1:8])"
   ]
  },
  {
   "cell_type": "code",
   "execution_count": 31,
   "id": "f6fc1d62",
   "metadata": {
    "scrolled": true
   },
   "outputs": [
    {
     "data": {
      "text/plain": [
       "[\"['애니메이션']\"]"
      ]
     },
     "execution_count": 31,
     "metadata": {},
     "output_type": "execute_result"
    }
   ],
   "source": [
    "[movie.iloc[4,2]]"
   ]
  },
  {
   "cell_type": "code",
   "execution_count": null,
   "id": "01a86ca6",
   "metadata": {},
   "outputs": [],
   "source": []
  },
  {
   "cell_type": "code",
   "execution_count": null,
   "id": "29a59041",
   "metadata": {},
   "outputs": [],
   "source": []
  },
  {
   "cell_type": "markdown",
   "id": "5e4f21ef",
   "metadata": {},
   "source": [
    " "
   ]
  },
  {
   "cell_type": "markdown",
   "id": "8059fe0c",
   "metadata": {},
   "source": [
    " "
   ]
  },
  {
   "cell_type": "markdown",
   "id": "a57b4ebd",
   "metadata": {},
   "source": [
    " "
   ]
  },
  {
   "cell_type": "markdown",
   "id": "3a0f28e2",
   "metadata": {},
   "source": [
    "### 장르를 콤마로 나누기"
   ]
  },
  {
   "cell_type": "code",
   "execution_count": 32,
   "id": "2bcfcb96",
   "metadata": {},
   "outputs": [],
   "source": [
    "for i in range(length):\n",
    "    genre_len = len(movie.iloc[i,2])\n",
    "    movie.iloc[i,2] = movie.iloc[i,2][1:genre_len-1]"
   ]
  },
  {
   "cell_type": "code",
   "execution_count": 33,
   "id": "7e0b9709",
   "metadata": {},
   "outputs": [],
   "source": [
    "movie['genre'] = movie['genre'].apply(lambda x: x.replace(\"'\", \"\"))\n",
    "movie['genre'] = movie['genre'].apply(lambda x: x.replace(\" \", \"\"))"
   ]
  },
  {
   "cell_type": "code",
   "execution_count": 34,
   "id": "2aea26a6",
   "metadata": {},
   "outputs": [
    {
     "data": {
      "text/plain": [
       "0        애니메이션,액션,모험\n",
       "1              다큐멘터리\n",
       "2         멜로/로맨스,드라마\n",
       "3              액션,모험\n",
       "4              애니메이션\n",
       "            ...     \n",
       "1312      멜로/로맨스,드라마\n",
       "1313             코미디\n",
       "1314             드라마\n",
       "1315       범죄,액션,드라마\n",
       "1316    애니메이션,모험,코미디\n",
       "Name: genre, Length: 1317, dtype: object"
      ]
     },
     "execution_count": 34,
     "metadata": {},
     "output_type": "execute_result"
    }
   ],
   "source": [
    "movie['genre']"
   ]
  },
  {
   "cell_type": "code",
   "execution_count": 35,
   "id": "9c47fa06",
   "metadata": {},
   "outputs": [],
   "source": [
    "movie['genre'] = movie['genre'].apply(lambda x: x.split(\",\"))"
   ]
  },
  {
   "cell_type": "code",
   "execution_count": 36,
   "id": "a5662a02",
   "metadata": {},
   "outputs": [
    {
     "data": {
      "text/plain": [
       "0        [애니메이션, 액션, 모험]\n",
       "1                [다큐멘터리]\n",
       "2          [멜로/로맨스, 드라마]\n",
       "3               [액션, 모험]\n",
       "4                [애니메이션]\n",
       "              ...       \n",
       "1312       [멜로/로맨스, 드라마]\n",
       "1313               [코미디]\n",
       "1314               [드라마]\n",
       "1315       [범죄, 액션, 드라마]\n",
       "1316    [애니메이션, 모험, 코미디]\n",
       "Name: genre, Length: 1317, dtype: object"
      ]
     },
     "execution_count": 36,
     "metadata": {},
     "output_type": "execute_result"
    }
   ],
   "source": [
    "movie['genre']"
   ]
  },
  {
   "cell_type": "markdown",
   "id": "45b7773e",
   "metadata": {},
   "source": [
    "movie[['genre_1', 'genre_2', 'genre_3', 'genre_4', 'genre_5', 'genre_6']] = pd.DataFrame(movie.genre.tolist(), index=movie.index)\n",
    "movie.drop(['genre_5', 'genre_6'], axis=1, inplace=True)\n",
    "movie.head()"
   ]
  },
  {
   "cell_type": "markdown",
   "id": "ee66a98c",
   "metadata": {},
   "source": [
    " "
   ]
  },
  {
   "cell_type": "markdown",
   "id": "1ba77128",
   "metadata": {},
   "source": [
    " "
   ]
  },
  {
   "cell_type": "markdown",
   "id": "d690049c",
   "metadata": {},
   "source": [
    " "
   ]
  },
  {
   "cell_type": "markdown",
   "id": "64d06793",
   "metadata": {},
   "source": [
    " "
   ]
  },
  {
   "cell_type": "markdown",
   "id": "ffc96cd5",
   "metadata": {},
   "source": [
    " ### actor로 나누기"
   ]
  },
  {
   "cell_type": "code",
   "execution_count": 37,
   "id": "8a665a34",
   "metadata": {},
   "outputs": [],
   "source": [
    "movie['actor'] = movie['actor'].apply(lambda x: x.replace(\"[\", \"\"))\n",
    "movie['actor'] = movie['actor'].apply(lambda x: x.replace(\"]\", \"\"))\n",
    "movie['actor'] = movie['actor'].apply(lambda x: x.replace(\"'\", \"\"))"
   ]
  },
  {
   "cell_type": "code",
   "execution_count": 38,
   "id": "c9bab682",
   "metadata": {},
   "outputs": [],
   "source": [
    "movie['actor'] = movie['actor'].apply(lambda x: x.split(\",\"))"
   ]
  },
  {
   "cell_type": "code",
   "execution_count": 39,
   "id": "3143279a",
   "metadata": {},
   "outputs": [],
   "source": [
    "movie[['actors', 'actor_2', 'actor_3']] = pd.DataFrame(movie.actor.tolist(), index=movie.index)"
   ]
  },
  {
   "cell_type": "code",
   "execution_count": 40,
   "id": "edd2d024",
   "metadata": {},
   "outputs": [],
   "source": [
    "movie.drop(['actor_2', 'actor_3'], axis=1, inplace=True)"
   ]
  },
  {
   "cell_type": "code",
   "execution_count": 41,
   "id": "345550bb",
   "metadata": {},
   "outputs": [
    {
     "data": {
      "text/html": [
       "<div>\n",
       "<style scoped>\n",
       "    .dataframe tbody tr th:only-of-type {\n",
       "        vertical-align: middle;\n",
       "    }\n",
       "\n",
       "    .dataframe tbody tr th {\n",
       "        vertical-align: top;\n",
       "    }\n",
       "\n",
       "    .dataframe thead th {\n",
       "        text-align: right;\n",
       "    }\n",
       "</style>\n",
       "<table border=\"1\" class=\"dataframe\">\n",
       "  <thead>\n",
       "    <tr style=\"text-align: right;\">\n",
       "      <th></th>\n",
       "      <th>title</th>\n",
       "      <th>vote</th>\n",
       "      <th>genre</th>\n",
       "      <th>country</th>\n",
       "      <th>time</th>\n",
       "      <th>open_date</th>\n",
       "      <th>grade</th>\n",
       "      <th>poster_path</th>\n",
       "      <th>content</th>\n",
       "      <th>actors</th>\n",
       "    </tr>\n",
       "  </thead>\n",
       "  <tbody>\n",
       "    <tr>\n",
       "      <th>0</th>\n",
       "      <td>바다 탐험대 옥토넛 : 육지수호 대작전</td>\n",
       "      <td>관람객 평점 6.00점</td>\n",
       "      <td>[애니메이션, 액션, 모험]</td>\n",
       "      <td>영국</td>\n",
       "      <td>60분</td>\n",
       "      <td>2021.10.27</td>\n",
       "      <td>전체 관람가</td>\n",
       "      <td>https://movie-phinf.pstatic.net/20210924_146/1...</td>\n",
       "      <td>['바다 폭풍에 휩쓸린 옥토넛은 우연히 사막에 상륙한다.\\r', &lt;br/&gt;, '\\x...</td>\n",
       "      <td>하성용</td>\n",
       "    </tr>\n",
       "    <tr>\n",
       "      <th>1</th>\n",
       "      <td>왕십리 김종분</td>\n",
       "      <td>관람객 평점 없음</td>\n",
       "      <td>[다큐멘터리]</td>\n",
       "      <td>한국</td>\n",
       "      <td>102분</td>\n",
       "      <td>2021.11.11</td>\n",
       "      <td>12세 관람가</td>\n",
       "      <td>https://movie-phinf.pstatic.net/20211026_135/1...</td>\n",
       "      <td>['50년 넘게 노점을 해온 팔순의 김종분.', &lt;br/&gt;, '\\xa0왕십리역 11...</td>\n",
       "      <td>김종분</td>\n",
       "    </tr>\n",
       "    <tr>\n",
       "      <th>2</th>\n",
       "      <td>결혼 후에 남겨진 것들</td>\n",
       "      <td>관람객 평점 없음</td>\n",
       "      <td>[멜로/로맨스, 드라마]</td>\n",
       "      <td>미국</td>\n",
       "      <td>97분</td>\n",
       "      <td>2021.1</td>\n",
       "      <td>전체 관람가</td>\n",
       "      <td>https://movie-phinf.pstatic.net/20210928_272/1...</td>\n",
       "      <td>['10년 된 부부 라이언과 클로디아는 옛 추억을 떠올리며, 신혼여행지 이탈리아를 ...</td>\n",
       "      <td>로스 맥콜</td>\n",
       "    </tr>\n",
       "    <tr>\n",
       "      <th>3</th>\n",
       "      <td>더 하더 데이 폴</td>\n",
       "      <td>관람객 평점 6.56점</td>\n",
       "      <td>[액션, 모험]</td>\n",
       "      <td>미국</td>\n",
       "      <td>137분</td>\n",
       "      <td>2021.10.20</td>\n",
       "      <td>청소년 관람불가</td>\n",
       "      <td>https://movie-phinf.pstatic.net/20211013_124/1...</td>\n",
       "      <td>['숙적 루푸스 벅이 출소한 사실을 알게 된 서부의 무법자 냇 러브가 미뤄뒀던 복수...</td>\n",
       "      <td>조나단 메이저스</td>\n",
       "    </tr>\n",
       "    <tr>\n",
       "      <th>4</th>\n",
       "      <td>고장난 론</td>\n",
       "      <td>관람객 평점 8.48점</td>\n",
       "      <td>[애니메이션]</td>\n",
       "      <td>미국</td>\n",
       "      <td>106분</td>\n",
       "      <td>2021.10.27</td>\n",
       "      <td>전체 관람가</td>\n",
       "      <td>https://movie-phinf.pstatic.net/20211013_94/16...</td>\n",
       "      <td>['비봇을 갖는 것이 유일한 소원인 소심한 소년 ‘바니’에게도', &lt;br/&gt;, '\\...</td>\n",
       "      <td>자흐 갈리피아나키스</td>\n",
       "    </tr>\n",
       "    <tr>\n",
       "      <th>...</th>\n",
       "      <td>...</td>\n",
       "      <td>...</td>\n",
       "      <td>...</td>\n",
       "      <td>...</td>\n",
       "      <td>...</td>\n",
       "      <td>...</td>\n",
       "      <td>...</td>\n",
       "      <td>...</td>\n",
       "      <td>...</td>\n",
       "      <td>...</td>\n",
       "    </tr>\n",
       "    <tr>\n",
       "      <th>1312</th>\n",
       "      <td>유혹의 계절</td>\n",
       "      <td>관람객 평점 없음</td>\n",
       "      <td>[멜로/로맨스, 드라마]</td>\n",
       "      <td>아일랜드</td>\n",
       "      <td>103분</td>\n",
       "      <td>2018.11.01</td>\n",
       "      <td>청소년 관람불가</td>\n",
       "      <td>https://movie-phinf.pstatic.net/20181016_189/1...</td>\n",
       "      <td>['폭력적인 남편을 피해 아이들과 함께 친구 다니엘의 집을 찾은 ‘이반’\\r', &lt;...</td>\n",
       "      <td>킬리언 머피</td>\n",
       "    </tr>\n",
       "    <tr>\n",
       "      <th>1313</th>\n",
       "      <td>해치지않아</td>\n",
       "      <td>관람객 평점 7.32점</td>\n",
       "      <td>[코미디]</td>\n",
       "      <td>한국</td>\n",
       "      <td>117분</td>\n",
       "      <td>2020.01.15</td>\n",
       "      <td>12세 관람가</td>\n",
       "      <td>https://movie-phinf.pstatic.net/20200115_223/1...</td>\n",
       "      <td>['생계형 수습 변호사 ‘태수’에게 찾아온 일생일대의 기회, 위기의 동물원 ‘동산파...</td>\n",
       "      <td>안재홍</td>\n",
       "    </tr>\n",
       "    <tr>\n",
       "      <th>1314</th>\n",
       "      <td>와일드 로즈</td>\n",
       "      <td>관람객 평점 8.90점</td>\n",
       "      <td>[드라마]</td>\n",
       "      <td>영국</td>\n",
       "      <td>100분</td>\n",
       "      <td>2019.10.17</td>\n",
       "      <td>15세 관람가</td>\n",
       "      <td>https://movie-phinf.pstatic.net/20191002_88/15...</td>\n",
       "      <td>['타고난 가창력으로 스코틀랜드 글래스고의 한 바에서 인기 몰이 중인 로즈의 꿈은 ...</td>\n",
       "      <td>제시 버클리</td>\n",
       "    </tr>\n",
       "    <tr>\n",
       "      <th>1315</th>\n",
       "      <td>블루버드 인 마이 하트</td>\n",
       "      <td>관람객 평점 없음</td>\n",
       "      <td>[범죄, 액션, 드라마]</td>\n",
       "      <td>프랑스</td>\n",
       "      <td>89분</td>\n",
       "      <td>2021.03.15</td>\n",
       "      <td>청소년 관람불가</td>\n",
       "      <td>https://movie-phinf.pstatic.net/20210310_84/16...</td>\n",
       "      <td>['교도소에서 출소한 대니는 로랑스와 클라라 모녀가 운영하는 낡은 모텔에서 새 삶을...</td>\n",
       "      <td>로랜드 몰러</td>\n",
       "    </tr>\n",
       "    <tr>\n",
       "      <th>1316</th>\n",
       "      <td>박물관이 진짜 살아있다</td>\n",
       "      <td>관람객 평점 7.78점</td>\n",
       "      <td>[애니메이션, 모험, 코미디]</td>\n",
       "      <td>체코</td>\n",
       "      <td>86분</td>\n",
       "      <td>2018.11.08</td>\n",
       "      <td>전체 관람가</td>\n",
       "      <td>https://movie-phinf.pstatic.net/20181108_98/15...</td>\n",
       "      <td>['게임을 좋아하는 12살 소년 ‘하비’.', &lt;br/&gt;, '\\xa0아버지가 일하는...</td>\n",
       "      <td>장은숙</td>\n",
       "    </tr>\n",
       "  </tbody>\n",
       "</table>\n",
       "<p>1317 rows × 10 columns</p>\n",
       "</div>"
      ],
      "text/plain": [
       "                      title          vote             genre country  time  \\\n",
       "0     바다 탐험대 옥토넛 : 육지수호 대작전  관람객 평점 6.00점   [애니메이션, 액션, 모험]      영국   60분   \n",
       "1                   왕십리 김종분     관람객 평점 없음           [다큐멘터리]      한국  102분   \n",
       "2              결혼 후에 남겨진 것들     관람객 평점 없음     [멜로/로맨스, 드라마]      미국   97분   \n",
       "3                 더 하더 데이 폴  관람객 평점 6.56점          [액션, 모험]      미국  137분   \n",
       "4                     고장난 론  관람객 평점 8.48점           [애니메이션]      미국  106분   \n",
       "...                     ...           ...               ...     ...   ...   \n",
       "1312                 유혹의 계절     관람객 평점 없음     [멜로/로맨스, 드라마]    아일랜드  103분   \n",
       "1313                  해치지않아  관람객 평점 7.32점             [코미디]      한국  117분   \n",
       "1314                 와일드 로즈  관람객 평점 8.90점             [드라마]      영국  100분   \n",
       "1315           블루버드 인 마이 하트     관람객 평점 없음     [범죄, 액션, 드라마]     프랑스   89분   \n",
       "1316           박물관이 진짜 살아있다  관람객 평점 7.78점  [애니메이션, 모험, 코미디]      체코   86분   \n",
       "\n",
       "       open_date     grade                                        poster_path  \\\n",
       "0     2021.10.27    전체 관람가  https://movie-phinf.pstatic.net/20210924_146/1...   \n",
       "1     2021.11.11   12세 관람가  https://movie-phinf.pstatic.net/20211026_135/1...   \n",
       "2         2021.1    전체 관람가  https://movie-phinf.pstatic.net/20210928_272/1...   \n",
       "3     2021.10.20  청소년 관람불가  https://movie-phinf.pstatic.net/20211013_124/1...   \n",
       "4     2021.10.27    전체 관람가  https://movie-phinf.pstatic.net/20211013_94/16...   \n",
       "...          ...       ...                                                ...   \n",
       "1312  2018.11.01  청소년 관람불가  https://movie-phinf.pstatic.net/20181016_189/1...   \n",
       "1313  2020.01.15   12세 관람가  https://movie-phinf.pstatic.net/20200115_223/1...   \n",
       "1314  2019.10.17   15세 관람가  https://movie-phinf.pstatic.net/20191002_88/15...   \n",
       "1315  2021.03.15  청소년 관람불가  https://movie-phinf.pstatic.net/20210310_84/16...   \n",
       "1316  2018.11.08    전체 관람가  https://movie-phinf.pstatic.net/20181108_98/15...   \n",
       "\n",
       "                                                content      actors  \n",
       "0     ['바다 폭풍에 휩쓸린 옥토넛은 우연히 사막에 상륙한다.\\r', <br/>, '\\x...         하성용  \n",
       "1     ['50년 넘게 노점을 해온 팔순의 김종분.', <br/>, '\\xa0왕십리역 11...         김종분  \n",
       "2     ['10년 된 부부 라이언과 클로디아는 옛 추억을 떠올리며, 신혼여행지 이탈리아를 ...       로스 맥콜  \n",
       "3     ['숙적 루푸스 벅이 출소한 사실을 알게 된 서부의 무법자 냇 러브가 미뤄뒀던 복수...    조나단 메이저스  \n",
       "4     ['비봇을 갖는 것이 유일한 소원인 소심한 소년 ‘바니’에게도', <br/>, '\\...  자흐 갈리피아나키스  \n",
       "...                                                 ...         ...  \n",
       "1312  ['폭력적인 남편을 피해 아이들과 함께 친구 다니엘의 집을 찾은 ‘이반’\\r', <...      킬리언 머피  \n",
       "1313  ['생계형 수습 변호사 ‘태수’에게 찾아온 일생일대의 기회, 위기의 동물원 ‘동산파...         안재홍  \n",
       "1314  ['타고난 가창력으로 스코틀랜드 글래스고의 한 바에서 인기 몰이 중인 로즈의 꿈은 ...      제시 버클리  \n",
       "1315  ['교도소에서 출소한 대니는 로랑스와 클라라 모녀가 운영하는 낡은 모텔에서 새 삶을...      로랜드 몰러  \n",
       "1316  ['게임을 좋아하는 12살 소년 ‘하비’.', <br/>, '\\xa0아버지가 일하는...         장은숙  \n",
       "\n",
       "[1317 rows x 10 columns]"
      ]
     },
     "execution_count": 41,
     "metadata": {},
     "output_type": "execute_result"
    }
   ],
   "source": [
    "movie"
   ]
  },
  {
   "cell_type": "code",
   "execution_count": null,
   "id": "65a9fdff",
   "metadata": {},
   "outputs": [],
   "source": []
  },
  {
   "cell_type": "code",
   "execution_count": null,
   "id": "acd388e3",
   "metadata": {},
   "outputs": [],
   "source": []
  },
  {
   "cell_type": "markdown",
   "id": "a004c143",
   "metadata": {},
   "source": [
    " "
   ]
  },
  {
   "cell_type": "markdown",
   "id": "a611e401",
   "metadata": {},
   "source": [
    " "
   ]
  },
  {
   "cell_type": "markdown",
   "id": "772f7498",
   "metadata": {},
   "source": [
    " "
   ]
  },
  {
   "cell_type": "markdown",
   "id": "0eaae396",
   "metadata": {},
   "source": [
    " #### 개봉일이 미상인 값 None으로 표시"
   ]
  },
  {
   "cell_type": "code",
   "execution_count": 42,
   "id": "7081c0fd",
   "metadata": {},
   "outputs": [
    {
     "data": {
      "text/plain": [
       "0       2021.10.27\n",
       "1       2021.11.11\n",
       "2           2021.1\n",
       "3       2021.10.20\n",
       "4       2021.10.27\n",
       "           ...    \n",
       "1312    2018.11.01\n",
       "1313    2020.01.15\n",
       "1314    2019.10.17\n",
       "1315    2021.03.15\n",
       "1316    2018.11.08\n",
       "Name: open_date, Length: 1317, dtype: object"
      ]
     },
     "execution_count": 42,
     "metadata": {},
     "output_type": "execute_result"
    }
   ],
   "source": [
    "movie['open_date']"
   ]
  },
  {
   "cell_type": "code",
   "execution_count": 43,
   "id": "3313e886",
   "metadata": {},
   "outputs": [],
   "source": [
    "movie['open_date'] = movie['open_date'].apply(lambda x: None if x == \"['미상']\" else x)"
   ]
  },
  {
   "cell_type": "code",
   "execution_count": 44,
   "id": "0ccbc844",
   "metadata": {},
   "outputs": [
    {
     "data": {
      "text/plain": [
       "0       2021.10.27\n",
       "1       2021.11.11\n",
       "2           2021.1\n",
       "3       2021.10.20\n",
       "4       2021.10.27\n",
       "           ...    \n",
       "1312    2018.11.01\n",
       "1313    2020.01.15\n",
       "1314    2019.10.17\n",
       "1315    2021.03.15\n",
       "1316    2018.11.08\n",
       "Name: open_date, Length: 1317, dtype: object"
      ]
     },
     "execution_count": 44,
     "metadata": {},
     "output_type": "execute_result"
    }
   ],
   "source": [
    "movie['open_date']"
   ]
  },
  {
   "cell_type": "code",
   "execution_count": 45,
   "id": "6114e0cc",
   "metadata": {},
   "outputs": [],
   "source": [
    "movie['open_date'] = movie['open_date'].astype(str)"
   ]
  },
  {
   "cell_type": "code",
   "execution_count": 46,
   "id": "32178e33",
   "metadata": {},
   "outputs": [
    {
     "data": {
      "text/plain": [
       "0       2021.10.27\n",
       "1       2021.11.11\n",
       "2           2021.1\n",
       "3       2021.10.20\n",
       "4       2021.10.27\n",
       "           ...    \n",
       "1312    2018.11.01\n",
       "1313    2020.01.15\n",
       "1314    2019.10.17\n",
       "1315    2021.03.15\n",
       "1316    2018.11.08\n",
       "Name: open_date, Length: 1317, dtype: object"
      ]
     },
     "execution_count": 46,
     "metadata": {},
     "output_type": "execute_result"
    }
   ],
   "source": [
    "movie['open_date']"
   ]
  },
  {
   "cell_type": "code",
   "execution_count": 47,
   "id": "9cb760a8",
   "metadata": {},
   "outputs": [],
   "source": [
    "movie['open_date'] = movie['open_date'].apply(lambda x: x.split(\".\"))"
   ]
  },
  {
   "cell_type": "code",
   "execution_count": 48,
   "id": "348923d1",
   "metadata": {
    "scrolled": true
   },
   "outputs": [
    {
     "data": {
      "text/plain": [
       "0       [2021, 10, 27]\n",
       "1       [2021, 11, 11]\n",
       "2            [2021, 1]\n",
       "3       [2021, 10, 20]\n",
       "4       [2021, 10, 27]\n",
       "             ...      \n",
       "1312    [2018, 11, 01]\n",
       "1313    [2020, 01, 15]\n",
       "1314    [2019, 10, 17]\n",
       "1315    [2021, 03, 15]\n",
       "1316    [2018, 11, 08]\n",
       "Name: open_date, Length: 1317, dtype: object"
      ]
     },
     "execution_count": 48,
     "metadata": {},
     "output_type": "execute_result"
    }
   ],
   "source": [
    "movie['open_date']"
   ]
  },
  {
   "cell_type": "markdown",
   "id": "05b633e2",
   "metadata": {},
   "source": [
    " "
   ]
  },
  {
   "cell_type": "markdown",
   "id": "0449a55a",
   "metadata": {},
   "source": [
    " "
   ]
  },
  {
   "cell_type": "markdown",
   "id": "147bf62c",
   "metadata": {},
   "source": [
    " "
   ]
  },
  {
   "cell_type": "markdown",
   "id": "24e45fad",
   "metadata": {},
   "source": [
    " #### 개봉일을 년 월 일로 나눠서 표현"
   ]
  },
  {
   "cell_type": "code",
   "execution_count": 49,
   "id": "36fa3bfb",
   "metadata": {},
   "outputs": [],
   "source": [
    "movie[['year', 'month', 'day']] = pd.DataFrame(movie.open_date.tolist(), index=movie.index)"
   ]
  },
  {
   "cell_type": "code",
   "execution_count": 50,
   "id": "1345a975",
   "metadata": {
    "scrolled": true
   },
   "outputs": [
    {
     "data": {
      "text/html": [
       "<div>\n",
       "<style scoped>\n",
       "    .dataframe tbody tr th:only-of-type {\n",
       "        vertical-align: middle;\n",
       "    }\n",
       "\n",
       "    .dataframe tbody tr th {\n",
       "        vertical-align: top;\n",
       "    }\n",
       "\n",
       "    .dataframe thead th {\n",
       "        text-align: right;\n",
       "    }\n",
       "</style>\n",
       "<table border=\"1\" class=\"dataframe\">\n",
       "  <thead>\n",
       "    <tr style=\"text-align: right;\">\n",
       "      <th></th>\n",
       "      <th>title</th>\n",
       "      <th>vote</th>\n",
       "      <th>genre</th>\n",
       "      <th>country</th>\n",
       "      <th>time</th>\n",
       "      <th>open_date</th>\n",
       "      <th>grade</th>\n",
       "      <th>poster_path</th>\n",
       "      <th>content</th>\n",
       "      <th>actors</th>\n",
       "      <th>year</th>\n",
       "      <th>month</th>\n",
       "      <th>day</th>\n",
       "    </tr>\n",
       "  </thead>\n",
       "  <tbody>\n",
       "    <tr>\n",
       "      <th>0</th>\n",
       "      <td>바다 탐험대 옥토넛 : 육지수호 대작전</td>\n",
       "      <td>관람객 평점 6.00점</td>\n",
       "      <td>[애니메이션, 액션, 모험]</td>\n",
       "      <td>영국</td>\n",
       "      <td>60분</td>\n",
       "      <td>[2021, 10, 27]</td>\n",
       "      <td>전체 관람가</td>\n",
       "      <td>https://movie-phinf.pstatic.net/20210924_146/1...</td>\n",
       "      <td>['바다 폭풍에 휩쓸린 옥토넛은 우연히 사막에 상륙한다.\\r', &lt;br/&gt;, '\\x...</td>\n",
       "      <td>하성용</td>\n",
       "      <td>2021</td>\n",
       "      <td>10</td>\n",
       "      <td>27</td>\n",
       "    </tr>\n",
       "    <tr>\n",
       "      <th>1</th>\n",
       "      <td>왕십리 김종분</td>\n",
       "      <td>관람객 평점 없음</td>\n",
       "      <td>[다큐멘터리]</td>\n",
       "      <td>한국</td>\n",
       "      <td>102분</td>\n",
       "      <td>[2021, 11, 11]</td>\n",
       "      <td>12세 관람가</td>\n",
       "      <td>https://movie-phinf.pstatic.net/20211026_135/1...</td>\n",
       "      <td>['50년 넘게 노점을 해온 팔순의 김종분.', &lt;br/&gt;, '\\xa0왕십리역 11...</td>\n",
       "      <td>김종분</td>\n",
       "      <td>2021</td>\n",
       "      <td>11</td>\n",
       "      <td>11</td>\n",
       "    </tr>\n",
       "    <tr>\n",
       "      <th>2</th>\n",
       "      <td>결혼 후에 남겨진 것들</td>\n",
       "      <td>관람객 평점 없음</td>\n",
       "      <td>[멜로/로맨스, 드라마]</td>\n",
       "      <td>미국</td>\n",
       "      <td>97분</td>\n",
       "      <td>[2021, 1]</td>\n",
       "      <td>전체 관람가</td>\n",
       "      <td>https://movie-phinf.pstatic.net/20210928_272/1...</td>\n",
       "      <td>['10년 된 부부 라이언과 클로디아는 옛 추억을 떠올리며, 신혼여행지 이탈리아를 ...</td>\n",
       "      <td>로스 맥콜</td>\n",
       "      <td>2021</td>\n",
       "      <td>1</td>\n",
       "      <td>None</td>\n",
       "    </tr>\n",
       "    <tr>\n",
       "      <th>3</th>\n",
       "      <td>더 하더 데이 폴</td>\n",
       "      <td>관람객 평점 6.56점</td>\n",
       "      <td>[액션, 모험]</td>\n",
       "      <td>미국</td>\n",
       "      <td>137분</td>\n",
       "      <td>[2021, 10, 20]</td>\n",
       "      <td>청소년 관람불가</td>\n",
       "      <td>https://movie-phinf.pstatic.net/20211013_124/1...</td>\n",
       "      <td>['숙적 루푸스 벅이 출소한 사실을 알게 된 서부의 무법자 냇 러브가 미뤄뒀던 복수...</td>\n",
       "      <td>조나단 메이저스</td>\n",
       "      <td>2021</td>\n",
       "      <td>10</td>\n",
       "      <td>20</td>\n",
       "    </tr>\n",
       "    <tr>\n",
       "      <th>4</th>\n",
       "      <td>고장난 론</td>\n",
       "      <td>관람객 평점 8.48점</td>\n",
       "      <td>[애니메이션]</td>\n",
       "      <td>미국</td>\n",
       "      <td>106분</td>\n",
       "      <td>[2021, 10, 27]</td>\n",
       "      <td>전체 관람가</td>\n",
       "      <td>https://movie-phinf.pstatic.net/20211013_94/16...</td>\n",
       "      <td>['비봇을 갖는 것이 유일한 소원인 소심한 소년 ‘바니’에게도', &lt;br/&gt;, '\\...</td>\n",
       "      <td>자흐 갈리피아나키스</td>\n",
       "      <td>2021</td>\n",
       "      <td>10</td>\n",
       "      <td>27</td>\n",
       "    </tr>\n",
       "  </tbody>\n",
       "</table>\n",
       "</div>"
      ],
      "text/plain": [
       "                   title          vote            genre country  time  \\\n",
       "0  바다 탐험대 옥토넛 : 육지수호 대작전  관람객 평점 6.00점  [애니메이션, 액션, 모험]      영국   60분   \n",
       "1                왕십리 김종분     관람객 평점 없음          [다큐멘터리]      한국  102분   \n",
       "2           결혼 후에 남겨진 것들     관람객 평점 없음    [멜로/로맨스, 드라마]      미국   97분   \n",
       "3              더 하더 데이 폴  관람객 평점 6.56점         [액션, 모험]      미국  137분   \n",
       "4                  고장난 론  관람객 평점 8.48점          [애니메이션]      미국  106분   \n",
       "\n",
       "        open_date     grade  \\\n",
       "0  [2021, 10, 27]    전체 관람가   \n",
       "1  [2021, 11, 11]   12세 관람가   \n",
       "2       [2021, 1]    전체 관람가   \n",
       "3  [2021, 10, 20]  청소년 관람불가   \n",
       "4  [2021, 10, 27]    전체 관람가   \n",
       "\n",
       "                                         poster_path  \\\n",
       "0  https://movie-phinf.pstatic.net/20210924_146/1...   \n",
       "1  https://movie-phinf.pstatic.net/20211026_135/1...   \n",
       "2  https://movie-phinf.pstatic.net/20210928_272/1...   \n",
       "3  https://movie-phinf.pstatic.net/20211013_124/1...   \n",
       "4  https://movie-phinf.pstatic.net/20211013_94/16...   \n",
       "\n",
       "                                             content      actors  year month  \\\n",
       "0  ['바다 폭풍에 휩쓸린 옥토넛은 우연히 사막에 상륙한다.\\r', <br/>, '\\x...         하성용  2021    10   \n",
       "1  ['50년 넘게 노점을 해온 팔순의 김종분.', <br/>, '\\xa0왕십리역 11...         김종분  2021    11   \n",
       "2  ['10년 된 부부 라이언과 클로디아는 옛 추억을 떠올리며, 신혼여행지 이탈리아를 ...       로스 맥콜  2021     1   \n",
       "3  ['숙적 루푸스 벅이 출소한 사실을 알게 된 서부의 무법자 냇 러브가 미뤄뒀던 복수...    조나단 메이저스  2021    10   \n",
       "4  ['비봇을 갖는 것이 유일한 소원인 소심한 소년 ‘바니’에게도', <br/>, '\\...  자흐 갈리피아나키스  2021    10   \n",
       "\n",
       "    day  \n",
       "0    27  \n",
       "1    11  \n",
       "2  None  \n",
       "3    20  \n",
       "4    27  "
      ]
     },
     "execution_count": 50,
     "metadata": {},
     "output_type": "execute_result"
    }
   ],
   "source": [
    "movie.head()"
   ]
  },
  {
   "cell_type": "code",
   "execution_count": null,
   "id": "8a72c2ca",
   "metadata": {},
   "outputs": [],
   "source": []
  },
  {
   "cell_type": "markdown",
   "id": "a5b6a19f",
   "metadata": {},
   "source": [
    " "
   ]
  },
  {
   "cell_type": "markdown",
   "id": "e20a3e56",
   "metadata": {},
   "source": [
    " "
   ]
  },
  {
   "cell_type": "markdown",
   "id": "3e7ab102",
   "metadata": {},
   "source": [
    " "
   ]
  },
  {
   "cell_type": "markdown",
   "id": "bfec525d",
   "metadata": {},
   "source": [
    " ### content에 필요없는 기호들 모두 제거"
   ]
  },
  {
   "cell_type": "code",
   "execution_count": 51,
   "id": "fa6379b7",
   "metadata": {
    "scrolled": false
   },
   "outputs": [],
   "source": [
    "movie = movie[[x for x in movie.columns if x != 'content'] + ['content']]"
   ]
  },
  {
   "cell_type": "code",
   "execution_count": 52,
   "id": "50325fc5",
   "metadata": {},
   "outputs": [],
   "source": [
    "movie['content'] = movie['content'].apply(lambda x: x.replace(\", '\\\\xa0\", \"\"))\n",
    "movie['content'] = movie['content'].apply(lambda x: x.replace(\", \\\"\\\\xa0\", \"\"))\n",
    "movie['content'] = movie['content'].apply(lambda x: x.replace(\"\\\\r', \", \"\"))\n",
    "movie['content'] = movie['content'].apply(lambda x: x.replace(\"\\\\r\\\"', \", \"\"))\n",
    "movie['content'] = movie['content'].apply(lambda x: x.replace(\"\\\\r\\\"\", \"\"))\n",
    "movie['content'] = movie['content'].apply(lambda x: x.replace(\"['\", \"\"))\n",
    "movie['content'] = movie['content'].apply(lambda x: x.replace(\"']\", \"\"))\n",
    "movie['content'] = movie['content'].apply(lambda x: x.replace(\"<br\\\\>\", \"\"))\n",
    "movie['content'] = movie['content'].apply(lambda x: x.replace(\"\\\\t\", \"\"))"
   ]
  },
  {
   "cell_type": "code",
   "execution_count": 53,
   "id": "749b1438",
   "metadata": {
    "scrolled": false
   },
   "outputs": [],
   "source": [
    "movie.drop(['open_date'], axis=1, inplace=True)"
   ]
  },
  {
   "cell_type": "code",
   "execution_count": 54,
   "id": "c3550afd",
   "metadata": {
    "scrolled": true
   },
   "outputs": [
    {
     "data": {
      "text/html": [
       "<div>\n",
       "<style scoped>\n",
       "    .dataframe tbody tr th:only-of-type {\n",
       "        vertical-align: middle;\n",
       "    }\n",
       "\n",
       "    .dataframe tbody tr th {\n",
       "        vertical-align: top;\n",
       "    }\n",
       "\n",
       "    .dataframe thead th {\n",
       "        text-align: right;\n",
       "    }\n",
       "</style>\n",
       "<table border=\"1\" class=\"dataframe\">\n",
       "  <thead>\n",
       "    <tr style=\"text-align: right;\">\n",
       "      <th></th>\n",
       "      <th>title</th>\n",
       "      <th>vote</th>\n",
       "      <th>genre</th>\n",
       "      <th>country</th>\n",
       "      <th>time</th>\n",
       "      <th>grade</th>\n",
       "      <th>poster_path</th>\n",
       "      <th>actors</th>\n",
       "      <th>year</th>\n",
       "      <th>month</th>\n",
       "      <th>day</th>\n",
       "      <th>content</th>\n",
       "    </tr>\n",
       "  </thead>\n",
       "  <tbody>\n",
       "    <tr>\n",
       "      <th>0</th>\n",
       "      <td>바다 탐험대 옥토넛 : 육지수호 대작전</td>\n",
       "      <td>관람객 평점 6.00점</td>\n",
       "      <td>[애니메이션, 액션, 모험]</td>\n",
       "      <td>영국</td>\n",
       "      <td>60분</td>\n",
       "      <td>전체 관람가</td>\n",
       "      <td>https://movie-phinf.pstatic.net/20210924_146/1...</td>\n",
       "      <td>하성용</td>\n",
       "      <td>2021</td>\n",
       "      <td>10</td>\n",
       "      <td>27</td>\n",
       "      <td>바다 폭풍에 휩쓸린 옥토넛은 우연히 사막에 상륙한다.&lt;br/&gt;바다 너머 육지에도 다...</td>\n",
       "    </tr>\n",
       "    <tr>\n",
       "      <th>1</th>\n",
       "      <td>왕십리 김종분</td>\n",
       "      <td>관람객 평점 없음</td>\n",
       "      <td>[다큐멘터리]</td>\n",
       "      <td>한국</td>\n",
       "      <td>102분</td>\n",
       "      <td>12세 관람가</td>\n",
       "      <td>https://movie-phinf.pstatic.net/20211026_135/1...</td>\n",
       "      <td>김종분</td>\n",
       "      <td>2021</td>\n",
       "      <td>11</td>\n",
       "      <td>11</td>\n",
       "      <td>50년 넘게 노점을 해온 팔순의 김종분.', &lt;br/&gt;왕십리역 11번 출구 터줏대감...</td>\n",
       "    </tr>\n",
       "    <tr>\n",
       "      <th>2</th>\n",
       "      <td>결혼 후에 남겨진 것들</td>\n",
       "      <td>관람객 평점 없음</td>\n",
       "      <td>[멜로/로맨스, 드라마]</td>\n",
       "      <td>미국</td>\n",
       "      <td>97분</td>\n",
       "      <td>전체 관람가</td>\n",
       "      <td>https://movie-phinf.pstatic.net/20210928_272/1...</td>\n",
       "      <td>로스 맥콜</td>\n",
       "      <td>2021</td>\n",
       "      <td>1</td>\n",
       "      <td>None</td>\n",
       "      <td>10년 된 부부 라이언과 클로디아는 옛 추억을 떠올리며, 신혼여행지 이탈리아를 다시...</td>\n",
       "    </tr>\n",
       "    <tr>\n",
       "      <th>3</th>\n",
       "      <td>더 하더 데이 폴</td>\n",
       "      <td>관람객 평점 6.56점</td>\n",
       "      <td>[액션, 모험]</td>\n",
       "      <td>미국</td>\n",
       "      <td>137분</td>\n",
       "      <td>청소년 관람불가</td>\n",
       "      <td>https://movie-phinf.pstatic.net/20211013_124/1...</td>\n",
       "      <td>조나단 메이저스</td>\n",
       "      <td>2021</td>\n",
       "      <td>10</td>\n",
       "      <td>20</td>\n",
       "      <td>숙적 루푸스 벅이 출소한 사실을 알게 된 서부의 무법자 냇 러브가 미뤄뒀던 복수를 ...</td>\n",
       "    </tr>\n",
       "    <tr>\n",
       "      <th>4</th>\n",
       "      <td>고장난 론</td>\n",
       "      <td>관람객 평점 8.48점</td>\n",
       "      <td>[애니메이션]</td>\n",
       "      <td>미국</td>\n",
       "      <td>106분</td>\n",
       "      <td>전체 관람가</td>\n",
       "      <td>https://movie-phinf.pstatic.net/20211013_94/16...</td>\n",
       "      <td>자흐 갈리피아나키스</td>\n",
       "      <td>2021</td>\n",
       "      <td>10</td>\n",
       "      <td>27</td>\n",
       "      <td>비봇을 갖는 것이 유일한 소원인 소심한 소년 ‘바니’에게도', &lt;br/&gt;드디어 ‘론...</td>\n",
       "    </tr>\n",
       "    <tr>\n",
       "      <th>...</th>\n",
       "      <td>...</td>\n",
       "      <td>...</td>\n",
       "      <td>...</td>\n",
       "      <td>...</td>\n",
       "      <td>...</td>\n",
       "      <td>...</td>\n",
       "      <td>...</td>\n",
       "      <td>...</td>\n",
       "      <td>...</td>\n",
       "      <td>...</td>\n",
       "      <td>...</td>\n",
       "      <td>...</td>\n",
       "    </tr>\n",
       "    <tr>\n",
       "      <th>1312</th>\n",
       "      <td>유혹의 계절</td>\n",
       "      <td>관람객 평점 없음</td>\n",
       "      <td>[멜로/로맨스, 드라마]</td>\n",
       "      <td>아일랜드</td>\n",
       "      <td>103분</td>\n",
       "      <td>청소년 관람불가</td>\n",
       "      <td>https://movie-phinf.pstatic.net/20181016_189/1...</td>\n",
       "      <td>킬리언 머피</td>\n",
       "      <td>2018</td>\n",
       "      <td>11</td>\n",
       "      <td>01</td>\n",
       "      <td>폭력적인 남편을 피해 아이들과 함께 친구 다니엘의 집을 찾은 ‘이반’&lt;br/&gt;매일 ...</td>\n",
       "    </tr>\n",
       "    <tr>\n",
       "      <th>1313</th>\n",
       "      <td>해치지않아</td>\n",
       "      <td>관람객 평점 7.32점</td>\n",
       "      <td>[코미디]</td>\n",
       "      <td>한국</td>\n",
       "      <td>117분</td>\n",
       "      <td>12세 관람가</td>\n",
       "      <td>https://movie-phinf.pstatic.net/20200115_223/1...</td>\n",
       "      <td>안재홍</td>\n",
       "      <td>2020</td>\n",
       "      <td>01</td>\n",
       "      <td>15</td>\n",
       "      <td>생계형 수습 변호사 ‘태수’에게 찾아온 일생일대의 기회, 위기의 동물원 ‘동산파크’...</td>\n",
       "    </tr>\n",
       "    <tr>\n",
       "      <th>1314</th>\n",
       "      <td>와일드 로즈</td>\n",
       "      <td>관람객 평점 8.90점</td>\n",
       "      <td>[드라마]</td>\n",
       "      <td>영국</td>\n",
       "      <td>100분</td>\n",
       "      <td>15세 관람가</td>\n",
       "      <td>https://movie-phinf.pstatic.net/20191002_88/15...</td>\n",
       "      <td>제시 버클리</td>\n",
       "      <td>2019</td>\n",
       "      <td>10</td>\n",
       "      <td>17</td>\n",
       "      <td>타고난 가창력으로 스코틀랜드 글래스고의 한 바에서 인기 몰이 중인 로즈의 꿈은 그곳...</td>\n",
       "    </tr>\n",
       "    <tr>\n",
       "      <th>1315</th>\n",
       "      <td>블루버드 인 마이 하트</td>\n",
       "      <td>관람객 평점 없음</td>\n",
       "      <td>[범죄, 액션, 드라마]</td>\n",
       "      <td>프랑스</td>\n",
       "      <td>89분</td>\n",
       "      <td>청소년 관람불가</td>\n",
       "      <td>https://movie-phinf.pstatic.net/20210310_84/16...</td>\n",
       "      <td>로랜드 몰러</td>\n",
       "      <td>2021</td>\n",
       "      <td>03</td>\n",
       "      <td>15</td>\n",
       "      <td>교도소에서 출소한 대니는 로랑스와 클라라 모녀가 운영하는 낡은 모텔에서 새 삶을 시...</td>\n",
       "    </tr>\n",
       "    <tr>\n",
       "      <th>1316</th>\n",
       "      <td>박물관이 진짜 살아있다</td>\n",
       "      <td>관람객 평점 7.78점</td>\n",
       "      <td>[애니메이션, 모험, 코미디]</td>\n",
       "      <td>체코</td>\n",
       "      <td>86분</td>\n",
       "      <td>전체 관람가</td>\n",
       "      <td>https://movie-phinf.pstatic.net/20181108_98/15...</td>\n",
       "      <td>장은숙</td>\n",
       "      <td>2018</td>\n",
       "      <td>11</td>\n",
       "      <td>08</td>\n",
       "      <td>게임을 좋아하는 12살 소년 ‘하비’.', &lt;br/&gt;아버지가 일하는 장난감 박물관이...</td>\n",
       "    </tr>\n",
       "  </tbody>\n",
       "</table>\n",
       "<p>1317 rows × 12 columns</p>\n",
       "</div>"
      ],
      "text/plain": [
       "                      title          vote             genre country  time  \\\n",
       "0     바다 탐험대 옥토넛 : 육지수호 대작전  관람객 평점 6.00점   [애니메이션, 액션, 모험]      영국   60분   \n",
       "1                   왕십리 김종분     관람객 평점 없음           [다큐멘터리]      한국  102분   \n",
       "2              결혼 후에 남겨진 것들     관람객 평점 없음     [멜로/로맨스, 드라마]      미국   97분   \n",
       "3                 더 하더 데이 폴  관람객 평점 6.56점          [액션, 모험]      미국  137분   \n",
       "4                     고장난 론  관람객 평점 8.48점           [애니메이션]      미국  106분   \n",
       "...                     ...           ...               ...     ...   ...   \n",
       "1312                 유혹의 계절     관람객 평점 없음     [멜로/로맨스, 드라마]    아일랜드  103분   \n",
       "1313                  해치지않아  관람객 평점 7.32점             [코미디]      한국  117분   \n",
       "1314                 와일드 로즈  관람객 평점 8.90점             [드라마]      영국  100분   \n",
       "1315           블루버드 인 마이 하트     관람객 평점 없음     [범죄, 액션, 드라마]     프랑스   89분   \n",
       "1316           박물관이 진짜 살아있다  관람객 평점 7.78점  [애니메이션, 모험, 코미디]      체코   86분   \n",
       "\n",
       "         grade                                        poster_path      actors  \\\n",
       "0       전체 관람가  https://movie-phinf.pstatic.net/20210924_146/1...         하성용   \n",
       "1      12세 관람가  https://movie-phinf.pstatic.net/20211026_135/1...         김종분   \n",
       "2       전체 관람가  https://movie-phinf.pstatic.net/20210928_272/1...       로스 맥콜   \n",
       "3     청소년 관람불가  https://movie-phinf.pstatic.net/20211013_124/1...    조나단 메이저스   \n",
       "4       전체 관람가  https://movie-phinf.pstatic.net/20211013_94/16...  자흐 갈리피아나키스   \n",
       "...        ...                                                ...         ...   \n",
       "1312  청소년 관람불가  https://movie-phinf.pstatic.net/20181016_189/1...      킬리언 머피   \n",
       "1313   12세 관람가  https://movie-phinf.pstatic.net/20200115_223/1...         안재홍   \n",
       "1314   15세 관람가  https://movie-phinf.pstatic.net/20191002_88/15...      제시 버클리   \n",
       "1315  청소년 관람불가  https://movie-phinf.pstatic.net/20210310_84/16...      로랜드 몰러   \n",
       "1316    전체 관람가  https://movie-phinf.pstatic.net/20181108_98/15...         장은숙   \n",
       "\n",
       "      year month   day                                            content  \n",
       "0     2021    10    27  바다 폭풍에 휩쓸린 옥토넛은 우연히 사막에 상륙한다.<br/>바다 너머 육지에도 다...  \n",
       "1     2021    11    11  50년 넘게 노점을 해온 팔순의 김종분.', <br/>왕십리역 11번 출구 터줏대감...  \n",
       "2     2021     1  None  10년 된 부부 라이언과 클로디아는 옛 추억을 떠올리며, 신혼여행지 이탈리아를 다시...  \n",
       "3     2021    10    20  숙적 루푸스 벅이 출소한 사실을 알게 된 서부의 무법자 냇 러브가 미뤄뒀던 복수를 ...  \n",
       "4     2021    10    27  비봇을 갖는 것이 유일한 소원인 소심한 소년 ‘바니’에게도', <br/>드디어 ‘론...  \n",
       "...    ...   ...   ...                                                ...  \n",
       "1312  2018    11    01  폭력적인 남편을 피해 아이들과 함께 친구 다니엘의 집을 찾은 ‘이반’<br/>매일 ...  \n",
       "1313  2020    01    15  생계형 수습 변호사 ‘태수’에게 찾아온 일생일대의 기회, 위기의 동물원 ‘동산파크’...  \n",
       "1314  2019    10    17  타고난 가창력으로 스코틀랜드 글래스고의 한 바에서 인기 몰이 중인 로즈의 꿈은 그곳...  \n",
       "1315  2021    03    15  교도소에서 출소한 대니는 로랑스와 클라라 모녀가 운영하는 낡은 모텔에서 새 삶을 시...  \n",
       "1316  2018    11    08  게임을 좋아하는 12살 소년 ‘하비’.', <br/>아버지가 일하는 장난감 박물관이...  \n",
       "\n",
       "[1317 rows x 12 columns]"
      ]
     },
     "execution_count": 54,
     "metadata": {},
     "output_type": "execute_result"
    }
   ],
   "source": [
    "movie"
   ]
  },
  {
   "cell_type": "code",
   "execution_count": null,
   "id": "e332aff6",
   "metadata": {},
   "outputs": [],
   "source": []
  },
  {
   "cell_type": "markdown",
   "id": "d4ee7d23",
   "metadata": {},
   "source": [
    "관람객 평점 없음 데이터\n",
    "\n",
    "\n",
    "관람객 평점 존재 데이터\n",
    "\n",
    "\n",
    "두개의 데이터 생성"
   ]
  },
  {
   "cell_type": "code",
   "execution_count": 55,
   "id": "cdf1ed14",
   "metadata": {},
   "outputs": [],
   "source": [
    "unvote_data = movie[movie.vote=='관람객 평점 없음']\n",
    "vote_data = movie[movie.vote!='관람객 평점 없음']\n",
    "vote_data = vote_data.reset_index(drop=True)"
   ]
  },
  {
   "cell_type": "code",
   "execution_count": 56,
   "id": "4b2e3c55",
   "metadata": {
    "scrolled": true
   },
   "outputs": [
    {
     "data": {
      "text/html": [
       "<div>\n",
       "<style scoped>\n",
       "    .dataframe tbody tr th:only-of-type {\n",
       "        vertical-align: middle;\n",
       "    }\n",
       "\n",
       "    .dataframe tbody tr th {\n",
       "        vertical-align: top;\n",
       "    }\n",
       "\n",
       "    .dataframe thead th {\n",
       "        text-align: right;\n",
       "    }\n",
       "</style>\n",
       "<table border=\"1\" class=\"dataframe\">\n",
       "  <thead>\n",
       "    <tr style=\"text-align: right;\">\n",
       "      <th></th>\n",
       "      <th>title</th>\n",
       "      <th>vote</th>\n",
       "      <th>genre</th>\n",
       "      <th>country</th>\n",
       "      <th>time</th>\n",
       "      <th>grade</th>\n",
       "      <th>poster_path</th>\n",
       "      <th>actors</th>\n",
       "      <th>year</th>\n",
       "      <th>month</th>\n",
       "      <th>day</th>\n",
       "      <th>content</th>\n",
       "    </tr>\n",
       "  </thead>\n",
       "  <tbody>\n",
       "    <tr>\n",
       "      <th>1</th>\n",
       "      <td>왕십리 김종분</td>\n",
       "      <td>관람객 평점 없음</td>\n",
       "      <td>[다큐멘터리]</td>\n",
       "      <td>한국</td>\n",
       "      <td>102분</td>\n",
       "      <td>12세 관람가</td>\n",
       "      <td>https://movie-phinf.pstatic.net/20211026_135/1...</td>\n",
       "      <td>김종분</td>\n",
       "      <td>2021</td>\n",
       "      <td>11</td>\n",
       "      <td>11</td>\n",
       "      <td>50년 넘게 노점을 해온 팔순의 김종분.', &lt;br/&gt;왕십리역 11번 출구 터줏대감...</td>\n",
       "    </tr>\n",
       "    <tr>\n",
       "      <th>2</th>\n",
       "      <td>결혼 후에 남겨진 것들</td>\n",
       "      <td>관람객 평점 없음</td>\n",
       "      <td>[멜로/로맨스, 드라마]</td>\n",
       "      <td>미국</td>\n",
       "      <td>97분</td>\n",
       "      <td>전체 관람가</td>\n",
       "      <td>https://movie-phinf.pstatic.net/20210928_272/1...</td>\n",
       "      <td>로스 맥콜</td>\n",
       "      <td>2021</td>\n",
       "      <td>1</td>\n",
       "      <td>None</td>\n",
       "      <td>10년 된 부부 라이언과 클로디아는 옛 추억을 떠올리며, 신혼여행지 이탈리아를 다시...</td>\n",
       "    </tr>\n",
       "    <tr>\n",
       "      <th>5</th>\n",
       "      <td>피어썸</td>\n",
       "      <td>관람객 평점 없음</td>\n",
       "      <td>[공포, 미스터리]</td>\n",
       "      <td>한국</td>\n",
       "      <td>82분</td>\n",
       "      <td>15세 관람가</td>\n",
       "      <td>https://movie-phinf.pstatic.net/20210917_247/1...</td>\n",
       "      <td>조동혁</td>\n",
       "      <td>2021</td>\n",
       "      <td>10</td>\n",
       "      <td>07</td>\n",
       "      <td>공연을 할 수 없게 된 ‘승연’(조동혁)의 밴드는', &lt;br/&gt;재정비를 위해 춘천으...</td>\n",
       "    </tr>\n",
       "    <tr>\n",
       "      <th>6</th>\n",
       "      <td>피치 오브 타임 극장판</td>\n",
       "      <td>관람객 평점 없음</td>\n",
       "      <td>[멜로/로맨스, 드라마]</td>\n",
       "      <td>한국</td>\n",
       "      <td>99분</td>\n",
       "      <td>12세 관람가</td>\n",
       "      <td>https://movie-phinf.pstatic.net/20210930_277/1...</td>\n",
       "      <td>지미 칸 크리사나판</td>\n",
       "      <td>2021</td>\n",
       "      <td>10</td>\n",
       "      <td>21</td>\n",
       "      <td>친구 윤오의 연락을 받고 한국에 도착한 피치.', &lt;br/&gt;그렇게 날 반갑게 맞아준...</td>\n",
       "    </tr>\n",
       "    <tr>\n",
       "      <th>8</th>\n",
       "      <td>레드 아워</td>\n",
       "      <td>관람객 평점 없음</td>\n",
       "      <td>[액션, 스릴러]</td>\n",
       "      <td>미국</td>\n",
       "      <td>93분</td>\n",
       "      <td>15세 관람가</td>\n",
       "      <td>https://movie-phinf.pstatic.net/20210923_101/1...</td>\n",
       "      <td>타이레스 깁슨</td>\n",
       "      <td>2021</td>\n",
       "      <td>1</td>\n",
       "      <td>None</td>\n",
       "      <td>아동보호국에서 근무하는 카일은 아프가니스탄 파병지에서 동료를 잃었던 끔찍한 기억으로...</td>\n",
       "    </tr>\n",
       "    <tr>\n",
       "      <th>...</th>\n",
       "      <td>...</td>\n",
       "      <td>...</td>\n",
       "      <td>...</td>\n",
       "      <td>...</td>\n",
       "      <td>...</td>\n",
       "      <td>...</td>\n",
       "      <td>...</td>\n",
       "      <td>...</td>\n",
       "      <td>...</td>\n",
       "      <td>...</td>\n",
       "      <td>...</td>\n",
       "      <td>...</td>\n",
       "    </tr>\n",
       "    <tr>\n",
       "      <th>1300</th>\n",
       "      <td>로빈 후드: 리벨리언</td>\n",
       "      <td>관람객 평점 없음</td>\n",
       "      <td>[액션, 모험]</td>\n",
       "      <td>영국</td>\n",
       "      <td>92분</td>\n",
       "      <td>15세 관람가</td>\n",
       "      <td>https://movie-phinf.pstatic.net/20181116_139/1...</td>\n",
       "      <td>벤 프리먼</td>\n",
       "      <td>2018</td>\n",
       "      <td>11</td>\n",
       "      <td>29</td>\n",
       "      <td>십자군 원정에서 돌아온 로빈 후드.&lt;br/&gt;주장관의 폭정에 반기를 들고 마을 사람들...</td>\n",
       "    </tr>\n",
       "    <tr>\n",
       "      <th>1301</th>\n",
       "      <td>엔젤 오브 마인</td>\n",
       "      <td>관람객 평점 없음</td>\n",
       "      <td>[드라마, 스릴러]</td>\n",
       "      <td>미국</td>\n",
       "      <td>98분</td>\n",
       "      <td>15세 관람가</td>\n",
       "      <td>https://movie-phinf.pstatic.net/20191011_108/1...</td>\n",
       "      <td>누미 라파스</td>\n",
       "      <td>2019</td>\n",
       "      <td>10</td>\n",
       "      <td>30</td>\n",
       "      <td>7년 전 사고로 죽은 아이에 대한 그리움으로&lt;br/&gt;일, 가족 그리고 자기 자신마저...</td>\n",
       "    </tr>\n",
       "    <tr>\n",
       "      <th>1311</th>\n",
       "      <td>방문객</td>\n",
       "      <td>관람객 평점 없음</td>\n",
       "      <td>[드라마, 미스터리, 판타지]</td>\n",
       "      <td>한국</td>\n",
       "      <td>75분</td>\n",
       "      <td>15세 관람가</td>\n",
       "      <td>https://movie-phinf.pstatic.net/20190315_217/1...</td>\n",
       "      <td>정호</td>\n",
       "      <td>2019</td>\n",
       "      <td>03</td>\n",
       "      <td>27</td>\n",
       "      <td>죽어야 하는 오늘, 찾아오는 낯선 자들', &lt;br/&gt;탈북한 북의 고위 간부가 해외에...</td>\n",
       "    </tr>\n",
       "    <tr>\n",
       "      <th>1312</th>\n",
       "      <td>유혹의 계절</td>\n",
       "      <td>관람객 평점 없음</td>\n",
       "      <td>[멜로/로맨스, 드라마]</td>\n",
       "      <td>아일랜드</td>\n",
       "      <td>103분</td>\n",
       "      <td>청소년 관람불가</td>\n",
       "      <td>https://movie-phinf.pstatic.net/20181016_189/1...</td>\n",
       "      <td>킬리언 머피</td>\n",
       "      <td>2018</td>\n",
       "      <td>11</td>\n",
       "      <td>01</td>\n",
       "      <td>폭력적인 남편을 피해 아이들과 함께 친구 다니엘의 집을 찾은 ‘이반’&lt;br/&gt;매일 ...</td>\n",
       "    </tr>\n",
       "    <tr>\n",
       "      <th>1315</th>\n",
       "      <td>블루버드 인 마이 하트</td>\n",
       "      <td>관람객 평점 없음</td>\n",
       "      <td>[범죄, 액션, 드라마]</td>\n",
       "      <td>프랑스</td>\n",
       "      <td>89분</td>\n",
       "      <td>청소년 관람불가</td>\n",
       "      <td>https://movie-phinf.pstatic.net/20210310_84/16...</td>\n",
       "      <td>로랜드 몰러</td>\n",
       "      <td>2021</td>\n",
       "      <td>03</td>\n",
       "      <td>15</td>\n",
       "      <td>교도소에서 출소한 대니는 로랑스와 클라라 모녀가 운영하는 낡은 모텔에서 새 삶을 시...</td>\n",
       "    </tr>\n",
       "  </tbody>\n",
       "</table>\n",
       "<p>581 rows × 12 columns</p>\n",
       "</div>"
      ],
      "text/plain": [
       "             title       vote             genre country  time     grade  \\\n",
       "1          왕십리 김종분  관람객 평점 없음           [다큐멘터리]      한국  102분   12세 관람가   \n",
       "2     결혼 후에 남겨진 것들  관람객 평점 없음     [멜로/로맨스, 드라마]      미국   97분    전체 관람가   \n",
       "5              피어썸  관람객 평점 없음        [공포, 미스터리]      한국   82분   15세 관람가   \n",
       "6     피치 오브 타임 극장판  관람객 평점 없음     [멜로/로맨스, 드라마]      한국   99분   12세 관람가   \n",
       "8            레드 아워  관람객 평점 없음         [액션, 스릴러]      미국   93분   15세 관람가   \n",
       "...            ...        ...               ...     ...   ...       ...   \n",
       "1300   로빈 후드: 리벨리언  관람객 평점 없음          [액션, 모험]      영국   92분   15세 관람가   \n",
       "1301      엔젤 오브 마인  관람객 평점 없음        [드라마, 스릴러]      미국   98분   15세 관람가   \n",
       "1311           방문객  관람객 평점 없음  [드라마, 미스터리, 판타지]      한국   75분   15세 관람가   \n",
       "1312        유혹의 계절  관람객 평점 없음     [멜로/로맨스, 드라마]    아일랜드  103분  청소년 관람불가   \n",
       "1315  블루버드 인 마이 하트  관람객 평점 없음     [범죄, 액션, 드라마]     프랑스   89분  청소년 관람불가   \n",
       "\n",
       "                                            poster_path      actors  year  \\\n",
       "1     https://movie-phinf.pstatic.net/20211026_135/1...         김종분  2021   \n",
       "2     https://movie-phinf.pstatic.net/20210928_272/1...       로스 맥콜  2021   \n",
       "5     https://movie-phinf.pstatic.net/20210917_247/1...         조동혁  2021   \n",
       "6     https://movie-phinf.pstatic.net/20210930_277/1...  지미 칸 크리사나판  2021   \n",
       "8     https://movie-phinf.pstatic.net/20210923_101/1...     타이레스 깁슨  2021   \n",
       "...                                                 ...         ...   ...   \n",
       "1300  https://movie-phinf.pstatic.net/20181116_139/1...       벤 프리먼  2018   \n",
       "1301  https://movie-phinf.pstatic.net/20191011_108/1...      누미 라파스  2019   \n",
       "1311  https://movie-phinf.pstatic.net/20190315_217/1...          정호  2019   \n",
       "1312  https://movie-phinf.pstatic.net/20181016_189/1...      킬리언 머피  2018   \n",
       "1315  https://movie-phinf.pstatic.net/20210310_84/16...      로랜드 몰러  2021   \n",
       "\n",
       "     month   day                                            content  \n",
       "1       11    11  50년 넘게 노점을 해온 팔순의 김종분.', <br/>왕십리역 11번 출구 터줏대감...  \n",
       "2        1  None  10년 된 부부 라이언과 클로디아는 옛 추억을 떠올리며, 신혼여행지 이탈리아를 다시...  \n",
       "5       10    07  공연을 할 수 없게 된 ‘승연’(조동혁)의 밴드는', <br/>재정비를 위해 춘천으...  \n",
       "6       10    21  친구 윤오의 연락을 받고 한국에 도착한 피치.', <br/>그렇게 날 반갑게 맞아준...  \n",
       "8        1  None  아동보호국에서 근무하는 카일은 아프가니스탄 파병지에서 동료를 잃었던 끔찍한 기억으로...  \n",
       "...    ...   ...                                                ...  \n",
       "1300    11    29  십자군 원정에서 돌아온 로빈 후드.<br/>주장관의 폭정에 반기를 들고 마을 사람들...  \n",
       "1301    10    30  7년 전 사고로 죽은 아이에 대한 그리움으로<br/>일, 가족 그리고 자기 자신마저...  \n",
       "1311    03    27  죽어야 하는 오늘, 찾아오는 낯선 자들', <br/>탈북한 북의 고위 간부가 해외에...  \n",
       "1312    11    01  폭력적인 남편을 피해 아이들과 함께 친구 다니엘의 집을 찾은 ‘이반’<br/>매일 ...  \n",
       "1315    03    15  교도소에서 출소한 대니는 로랑스와 클라라 모녀가 운영하는 낡은 모텔에서 새 삶을 시...  \n",
       "\n",
       "[581 rows x 12 columns]"
      ]
     },
     "execution_count": 56,
     "metadata": {},
     "output_type": "execute_result"
    }
   ],
   "source": [
    "unvote_data"
   ]
  },
  {
   "cell_type": "code",
   "execution_count": null,
   "id": "db8d7543",
   "metadata": {},
   "outputs": [],
   "source": []
  },
  {
   "cell_type": "markdown",
   "id": "4b99286f",
   "metadata": {},
   "source": [
    " "
   ]
  },
  {
   "cell_type": "markdown",
   "id": "c8312396",
   "metadata": {},
   "source": [
    " "
   ]
  },
  {
   "cell_type": "markdown",
   "id": "1ab8f022",
   "metadata": {},
   "source": [
    "### 장르 데이터 ge 생성"
   ]
  },
  {
   "cell_type": "code",
   "execution_count": 57,
   "id": "6b471f6b",
   "metadata": {},
   "outputs": [],
   "source": [
    "gr = vote_data.groupby('genre')"
   ]
  },
  {
   "cell_type": "code",
   "execution_count": 58,
   "id": "1fd8206f",
   "metadata": {
    "scrolled": true
   },
   "outputs": [
    {
     "data": {
      "text/plain": [
       "'모험'"
      ]
     },
     "execution_count": 58,
     "metadata": {},
     "output_type": "execute_result"
    }
   ],
   "source": [
    "ge = set()\n",
    "length = len(vote_data.iloc[:])\n",
    "vote_data.iloc[0]['genre'][2]"
   ]
  },
  {
   "cell_type": "markdown",
   "id": "93313429",
   "metadata": {},
   "source": [
    "for i in range(length):\n",
    "    for j in range(len(vote_data.iloc[i]['genre'])):\n",
    "        ge.add(vote_data.iloc[i]['genre'][j])"
   ]
  },
  {
   "cell_type": "code",
   "execution_count": 59,
   "id": "3dd0bcf2",
   "metadata": {},
   "outputs": [],
   "source": [
    "ge = ['공포', 'SF', '범죄', '미스터리', '스릴러', '멜로/로맨스', '판타지', '전쟁', '애니메이션', '모험', '다큐멘터리', '액션', '드라마' ,'서스펜스', '코미디', '가족', '공연실황', '뮤지컬']"
   ]
  },
  {
   "cell_type": "code",
   "execution_count": 60,
   "id": "f111ae88",
   "metadata": {},
   "outputs": [
    {
     "data": {
      "text/html": [
       "<div>\n",
       "<style scoped>\n",
       "    .dataframe tbody tr th:only-of-type {\n",
       "        vertical-align: middle;\n",
       "    }\n",
       "\n",
       "    .dataframe tbody tr th {\n",
       "        vertical-align: top;\n",
       "    }\n",
       "\n",
       "    .dataframe thead th {\n",
       "        text-align: right;\n",
       "    }\n",
       "</style>\n",
       "<table border=\"1\" class=\"dataframe\">\n",
       "  <thead>\n",
       "    <tr style=\"text-align: right;\">\n",
       "      <th></th>\n",
       "      <th>0</th>\n",
       "    </tr>\n",
       "  </thead>\n",
       "  <tbody>\n",
       "    <tr>\n",
       "      <th>0</th>\n",
       "      <td>공포</td>\n",
       "    </tr>\n",
       "    <tr>\n",
       "      <th>1</th>\n",
       "      <td>SF</td>\n",
       "    </tr>\n",
       "    <tr>\n",
       "      <th>2</th>\n",
       "      <td>범죄</td>\n",
       "    </tr>\n",
       "    <tr>\n",
       "      <th>3</th>\n",
       "      <td>미스터리</td>\n",
       "    </tr>\n",
       "    <tr>\n",
       "      <th>4</th>\n",
       "      <td>스릴러</td>\n",
       "    </tr>\n",
       "    <tr>\n",
       "      <th>5</th>\n",
       "      <td>멜로/로맨스</td>\n",
       "    </tr>\n",
       "    <tr>\n",
       "      <th>6</th>\n",
       "      <td>판타지</td>\n",
       "    </tr>\n",
       "    <tr>\n",
       "      <th>7</th>\n",
       "      <td>전쟁</td>\n",
       "    </tr>\n",
       "    <tr>\n",
       "      <th>8</th>\n",
       "      <td>애니메이션</td>\n",
       "    </tr>\n",
       "    <tr>\n",
       "      <th>9</th>\n",
       "      <td>모험</td>\n",
       "    </tr>\n",
       "    <tr>\n",
       "      <th>10</th>\n",
       "      <td>다큐멘터리</td>\n",
       "    </tr>\n",
       "    <tr>\n",
       "      <th>11</th>\n",
       "      <td>액션</td>\n",
       "    </tr>\n",
       "    <tr>\n",
       "      <th>12</th>\n",
       "      <td>드라마</td>\n",
       "    </tr>\n",
       "    <tr>\n",
       "      <th>13</th>\n",
       "      <td>서스펜스</td>\n",
       "    </tr>\n",
       "    <tr>\n",
       "      <th>14</th>\n",
       "      <td>코미디</td>\n",
       "    </tr>\n",
       "    <tr>\n",
       "      <th>15</th>\n",
       "      <td>가족</td>\n",
       "    </tr>\n",
       "    <tr>\n",
       "      <th>16</th>\n",
       "      <td>공연실황</td>\n",
       "    </tr>\n",
       "    <tr>\n",
       "      <th>17</th>\n",
       "      <td>뮤지컬</td>\n",
       "    </tr>\n",
       "  </tbody>\n",
       "</table>\n",
       "</div>"
      ],
      "text/plain": [
       "         0\n",
       "0       공포\n",
       "1       SF\n",
       "2       범죄\n",
       "3     미스터리\n",
       "4      스릴러\n",
       "5   멜로/로맨스\n",
       "6      판타지\n",
       "7       전쟁\n",
       "8    애니메이션\n",
       "9       모험\n",
       "10   다큐멘터리\n",
       "11      액션\n",
       "12     드라마\n",
       "13    서스펜스\n",
       "14     코미디\n",
       "15      가족\n",
       "16    공연실황\n",
       "17     뮤지컬"
      ]
     },
     "execution_count": 60,
     "metadata": {},
     "output_type": "execute_result"
    }
   ],
   "source": [
    "ge = pd.DataFrame(ge)\n",
    "# ge.columns = ge.columns.str.replace(' ', '')\n",
    "ge"
   ]
  },
  {
   "cell_type": "code",
   "execution_count": 61,
   "id": "0cc6ea7a",
   "metadata": {
    "scrolled": true
   },
   "outputs": [
    {
     "name": "stdout",
     "output_type": "stream",
     "text": [
      "          title  vote  genre  country  time  poster_path  actors  year  month  \\\n",
      "grade                                                                           \n",
      "12세 관람가     226   226    226      226   226          226     226   226    226   \n",
      "15세 관람가     261   261    261      261   261          261     261   261    261   \n",
      "전체 관람가      178   178    178      178   178          178     178   178    178   \n",
      "청소년 관람불가     71    71     71       71    71           71      71    71     71   \n",
      "\n",
      "          day  content  \n",
      "grade                   \n",
      "12세 관람가   226      226  \n",
      "15세 관람가   261      261  \n",
      "전체 관람가    178      178  \n",
      "청소년 관람불가   71       71  \n"
     ]
    }
   ],
   "source": [
    "grouped = vote_data.groupby('grade')\n",
    "print(grouped.count())"
   ]
  },
  {
   "cell_type": "markdown",
   "id": "c124a143",
   "metadata": {},
   "source": [
    " "
   ]
  },
  {
   "cell_type": "markdown",
   "id": "51b5de7d",
   "metadata": {},
   "source": [
    " "
   ]
  },
  {
   "cell_type": "markdown",
   "id": "af1d9277",
   "metadata": {},
   "source": [
    " "
   ]
  },
  {
   "cell_type": "markdown",
   "id": "b2fca249",
   "metadata": {},
   "source": [
    " ### 등급 데이터 gd 생성"
   ]
  },
  {
   "cell_type": "code",
   "execution_count": 62,
   "id": "a74f5052",
   "metadata": {
    "scrolled": true
   },
   "outputs": [
    {
     "data": {
      "text/html": [
       "<div>\n",
       "<style scoped>\n",
       "    .dataframe tbody tr th:only-of-type {\n",
       "        vertical-align: middle;\n",
       "    }\n",
       "\n",
       "    .dataframe tbody tr th {\n",
       "        vertical-align: top;\n",
       "    }\n",
       "\n",
       "    .dataframe thead th {\n",
       "        text-align: right;\n",
       "    }\n",
       "</style>\n",
       "<table border=\"1\" class=\"dataframe\">\n",
       "  <thead>\n",
       "    <tr style=\"text-align: right;\">\n",
       "      <th></th>\n",
       "      <th>0</th>\n",
       "    </tr>\n",
       "  </thead>\n",
       "  <tbody>\n",
       "    <tr>\n",
       "      <th>0</th>\n",
       "      <td>전체 관람가</td>\n",
       "    </tr>\n",
       "    <tr>\n",
       "      <th>1</th>\n",
       "      <td>12세 관람가</td>\n",
       "    </tr>\n",
       "    <tr>\n",
       "      <th>2</th>\n",
       "      <td>15세 관람가</td>\n",
       "    </tr>\n",
       "    <tr>\n",
       "      <th>3</th>\n",
       "      <td>청소년 관람불가</td>\n",
       "    </tr>\n",
       "  </tbody>\n",
       "</table>\n",
       "</div>"
      ],
      "text/plain": [
       "          0\n",
       "0    전체 관람가\n",
       "1   12세 관람가\n",
       "2   15세 관람가\n",
       "3  청소년 관람불가"
      ]
     },
     "execution_count": 62,
     "metadata": {},
     "output_type": "execute_result"
    }
   ],
   "source": [
    "grade_li = ['전체 관람가', '12세 관람가', '15세 관람가', '청소년 관람불가']\n",
    "gd = pd.DataFrame(grade_li)\n",
    "gd"
   ]
  },
  {
   "cell_type": "code",
   "execution_count": 63,
   "id": "8ef4e8d7",
   "metadata": {},
   "outputs": [
    {
     "data": {
      "text/plain": [
       "'12세 관람가'"
      ]
     },
     "execution_count": 63,
     "metadata": {},
     "output_type": "execute_result"
    }
   ],
   "source": [
    "gd[0][1]"
   ]
  },
  {
   "cell_type": "code",
   "execution_count": 64,
   "id": "5bbdb7ec",
   "metadata": {},
   "outputs": [
    {
     "data": {
      "text/plain": [
       "True"
      ]
     },
     "execution_count": 64,
     "metadata": {},
     "output_type": "execute_result"
    }
   ],
   "source": [
    "vote_data['grade'][0] == gd[0][0]"
   ]
  },
  {
   "cell_type": "markdown",
   "id": "66765d4d",
   "metadata": {},
   "source": [
    "for i in range(len(vote_data.iloc[:])):\n",
    "    for j in range(len(gd)):\n",
    "        if vote_data['grade'][i] == gd[0][j]:\n",
    "            vote_data['grade'][i] = j"
   ]
  },
  {
   "cell_type": "code",
   "execution_count": 65,
   "id": "661a3d3a",
   "metadata": {
    "scrolled": true
   },
   "outputs": [
    {
     "data": {
      "text/html": [
       "<div>\n",
       "<style scoped>\n",
       "    .dataframe tbody tr th:only-of-type {\n",
       "        vertical-align: middle;\n",
       "    }\n",
       "\n",
       "    .dataframe tbody tr th {\n",
       "        vertical-align: top;\n",
       "    }\n",
       "\n",
       "    .dataframe thead th {\n",
       "        text-align: right;\n",
       "    }\n",
       "</style>\n",
       "<table border=\"1\" class=\"dataframe\">\n",
       "  <thead>\n",
       "    <tr style=\"text-align: right;\">\n",
       "      <th></th>\n",
       "      <th>title</th>\n",
       "      <th>vote</th>\n",
       "      <th>genre</th>\n",
       "      <th>country</th>\n",
       "      <th>time</th>\n",
       "      <th>grade</th>\n",
       "      <th>poster_path</th>\n",
       "      <th>actors</th>\n",
       "      <th>year</th>\n",
       "      <th>month</th>\n",
       "      <th>day</th>\n",
       "      <th>content</th>\n",
       "    </tr>\n",
       "  </thead>\n",
       "  <tbody>\n",
       "    <tr>\n",
       "      <th>0</th>\n",
       "      <td>바다 탐험대 옥토넛 : 육지수호 대작전</td>\n",
       "      <td>관람객 평점 6.00점</td>\n",
       "      <td>[애니메이션, 액션, 모험]</td>\n",
       "      <td>영국</td>\n",
       "      <td>60분</td>\n",
       "      <td>전체 관람가</td>\n",
       "      <td>https://movie-phinf.pstatic.net/20210924_146/1...</td>\n",
       "      <td>하성용</td>\n",
       "      <td>2021</td>\n",
       "      <td>10</td>\n",
       "      <td>27</td>\n",
       "      <td>바다 폭풍에 휩쓸린 옥토넛은 우연히 사막에 상륙한다.&lt;br/&gt;바다 너머 육지에도 다...</td>\n",
       "    </tr>\n",
       "    <tr>\n",
       "      <th>1</th>\n",
       "      <td>더 하더 데이 폴</td>\n",
       "      <td>관람객 평점 6.56점</td>\n",
       "      <td>[액션, 모험]</td>\n",
       "      <td>미국</td>\n",
       "      <td>137분</td>\n",
       "      <td>청소년 관람불가</td>\n",
       "      <td>https://movie-phinf.pstatic.net/20211013_124/1...</td>\n",
       "      <td>조나단 메이저스</td>\n",
       "      <td>2021</td>\n",
       "      <td>10</td>\n",
       "      <td>20</td>\n",
       "      <td>숙적 루푸스 벅이 출소한 사실을 알게 된 서부의 무법자 냇 러브가 미뤄뒀던 복수를 ...</td>\n",
       "    </tr>\n",
       "    <tr>\n",
       "      <th>2</th>\n",
       "      <td>고장난 론</td>\n",
       "      <td>관람객 평점 8.48점</td>\n",
       "      <td>[애니메이션]</td>\n",
       "      <td>미국</td>\n",
       "      <td>106분</td>\n",
       "      <td>전체 관람가</td>\n",
       "      <td>https://movie-phinf.pstatic.net/20211013_94/16...</td>\n",
       "      <td>자흐 갈리피아나키스</td>\n",
       "      <td>2021</td>\n",
       "      <td>10</td>\n",
       "      <td>27</td>\n",
       "      <td>비봇을 갖는 것이 유일한 소원인 소심한 소년 ‘바니’에게도', &lt;br/&gt;드디어 ‘론...</td>\n",
       "    </tr>\n",
       "    <tr>\n",
       "      <th>3</th>\n",
       "      <td>가치 캅시다</td>\n",
       "      <td>관람객 평점 7.40점</td>\n",
       "      <td>[드라마]</td>\n",
       "      <td>한국</td>\n",
       "      <td>93분</td>\n",
       "      <td>15세 관람가</td>\n",
       "      <td>https://movie-phinf.pstatic.net/20211012_41/16...</td>\n",
       "      <td>김기현</td>\n",
       "      <td>2021</td>\n",
       "      <td>10</td>\n",
       "      <td>28</td>\n",
       "      <td>대한민국에서 영어 좀 한다는 남자라면 혹하는, 일생에 단 한 번만 지원할 수 있는 ...</td>\n",
       "    </tr>\n",
       "    <tr>\n",
       "      <th>4</th>\n",
       "      <td>F20</td>\n",
       "      <td>관람객 평점 9.50점</td>\n",
       "      <td>[스릴러]</td>\n",
       "      <td>한국</td>\n",
       "      <td>104분</td>\n",
       "      <td>15세 관람가</td>\n",
       "      <td>https://movie-phinf.pstatic.net/20210928_86/16...</td>\n",
       "      <td>장영남</td>\n",
       "      <td>2021</td>\n",
       "      <td>10</td>\n",
       "      <td>06</td>\n",
       "      <td>어디에 내놔도 자랑스러운 아들을 둔 엄마 ‘애란’은', &lt;br/&gt;군 생활을 떠났던 ...</td>\n",
       "    </tr>\n",
       "    <tr>\n",
       "      <th>...</th>\n",
       "      <td>...</td>\n",
       "      <td>...</td>\n",
       "      <td>...</td>\n",
       "      <td>...</td>\n",
       "      <td>...</td>\n",
       "      <td>...</td>\n",
       "      <td>...</td>\n",
       "      <td>...</td>\n",
       "      <td>...</td>\n",
       "      <td>...</td>\n",
       "      <td>...</td>\n",
       "      <td>...</td>\n",
       "    </tr>\n",
       "    <tr>\n",
       "      <th>731</th>\n",
       "      <td>어린 의뢰인</td>\n",
       "      <td>관람객 평점 9.14점</td>\n",
       "      <td>[드라마]</td>\n",
       "      <td>한국</td>\n",
       "      <td>114분</td>\n",
       "      <td>12세 관람가</td>\n",
       "      <td>https://movie-phinf.pstatic.net/20190515_46/15...</td>\n",
       "      <td>이동휘</td>\n",
       "      <td>2019</td>\n",
       "      <td>05</td>\n",
       "      <td>22</td>\n",
       "      <td>당신에게 찾아온 뜨거운 질문!', &lt;br/&gt;“당신은 이 아이를 외면하시겠습니까?”'...</td>\n",
       "    </tr>\n",
       "    <tr>\n",
       "      <th>732</th>\n",
       "      <td>블라인드 멜로디</td>\n",
       "      <td>관람객 평점 8.54점</td>\n",
       "      <td>[스릴러]</td>\n",
       "      <td>인도</td>\n",
       "      <td>139분</td>\n",
       "      <td>15세 관람가</td>\n",
       "      <td>https://movie-phinf.pstatic.net/20190812_30/15...</td>\n",
       "      <td>아유쉬만 커라나</td>\n",
       "      <td>2019</td>\n",
       "      <td>08</td>\n",
       "      <td>28</td>\n",
       "      <td>눈이 보이지 않는 피아니스트 행세를 하며 &lt;br/&gt;라이브 레스토랑에서 공연을 하던 ...</td>\n",
       "    </tr>\n",
       "    <tr>\n",
       "      <th>733</th>\n",
       "      <td>해치지않아</td>\n",
       "      <td>관람객 평점 7.32점</td>\n",
       "      <td>[코미디]</td>\n",
       "      <td>한국</td>\n",
       "      <td>117분</td>\n",
       "      <td>12세 관람가</td>\n",
       "      <td>https://movie-phinf.pstatic.net/20200115_223/1...</td>\n",
       "      <td>안재홍</td>\n",
       "      <td>2020</td>\n",
       "      <td>01</td>\n",
       "      <td>15</td>\n",
       "      <td>생계형 수습 변호사 ‘태수’에게 찾아온 일생일대의 기회, 위기의 동물원 ‘동산파크’...</td>\n",
       "    </tr>\n",
       "    <tr>\n",
       "      <th>734</th>\n",
       "      <td>와일드 로즈</td>\n",
       "      <td>관람객 평점 8.90점</td>\n",
       "      <td>[드라마]</td>\n",
       "      <td>영국</td>\n",
       "      <td>100분</td>\n",
       "      <td>15세 관람가</td>\n",
       "      <td>https://movie-phinf.pstatic.net/20191002_88/15...</td>\n",
       "      <td>제시 버클리</td>\n",
       "      <td>2019</td>\n",
       "      <td>10</td>\n",
       "      <td>17</td>\n",
       "      <td>타고난 가창력으로 스코틀랜드 글래스고의 한 바에서 인기 몰이 중인 로즈의 꿈은 그곳...</td>\n",
       "    </tr>\n",
       "    <tr>\n",
       "      <th>735</th>\n",
       "      <td>박물관이 진짜 살아있다</td>\n",
       "      <td>관람객 평점 7.78점</td>\n",
       "      <td>[애니메이션, 모험, 코미디]</td>\n",
       "      <td>체코</td>\n",
       "      <td>86분</td>\n",
       "      <td>전체 관람가</td>\n",
       "      <td>https://movie-phinf.pstatic.net/20181108_98/15...</td>\n",
       "      <td>장은숙</td>\n",
       "      <td>2018</td>\n",
       "      <td>11</td>\n",
       "      <td>08</td>\n",
       "      <td>게임을 좋아하는 12살 소년 ‘하비’.', &lt;br/&gt;아버지가 일하는 장난감 박물관이...</td>\n",
       "    </tr>\n",
       "  </tbody>\n",
       "</table>\n",
       "<p>736 rows × 12 columns</p>\n",
       "</div>"
      ],
      "text/plain": [
       "                     title          vote             genre country  time  \\\n",
       "0    바다 탐험대 옥토넛 : 육지수호 대작전  관람객 평점 6.00점   [애니메이션, 액션, 모험]      영국   60분   \n",
       "1                더 하더 데이 폴  관람객 평점 6.56점          [액션, 모험]      미국  137분   \n",
       "2                    고장난 론  관람객 평점 8.48점           [애니메이션]      미국  106분   \n",
       "3                   가치 캅시다  관람객 평점 7.40점             [드라마]      한국   93분   \n",
       "4                      F20  관람객 평점 9.50점             [스릴러]      한국  104분   \n",
       "..                     ...           ...               ...     ...   ...   \n",
       "731                 어린 의뢰인  관람객 평점 9.14점             [드라마]      한국  114분   \n",
       "732               블라인드 멜로디  관람객 평점 8.54점             [스릴러]      인도  139분   \n",
       "733                  해치지않아  관람객 평점 7.32점             [코미디]      한국  117분   \n",
       "734                 와일드 로즈  관람객 평점 8.90점             [드라마]      영국  100분   \n",
       "735           박물관이 진짜 살아있다  관람객 평점 7.78점  [애니메이션, 모험, 코미디]      체코   86분   \n",
       "\n",
       "        grade                                        poster_path      actors  \\\n",
       "0      전체 관람가  https://movie-phinf.pstatic.net/20210924_146/1...         하성용   \n",
       "1    청소년 관람불가  https://movie-phinf.pstatic.net/20211013_124/1...    조나단 메이저스   \n",
       "2      전체 관람가  https://movie-phinf.pstatic.net/20211013_94/16...  자흐 갈리피아나키스   \n",
       "3     15세 관람가  https://movie-phinf.pstatic.net/20211012_41/16...         김기현   \n",
       "4     15세 관람가  https://movie-phinf.pstatic.net/20210928_86/16...         장영남   \n",
       "..        ...                                                ...         ...   \n",
       "731   12세 관람가  https://movie-phinf.pstatic.net/20190515_46/15...         이동휘   \n",
       "732   15세 관람가  https://movie-phinf.pstatic.net/20190812_30/15...    아유쉬만 커라나   \n",
       "733   12세 관람가  https://movie-phinf.pstatic.net/20200115_223/1...         안재홍   \n",
       "734   15세 관람가  https://movie-phinf.pstatic.net/20191002_88/15...      제시 버클리   \n",
       "735    전체 관람가  https://movie-phinf.pstatic.net/20181108_98/15...         장은숙   \n",
       "\n",
       "     year month day                                            content  \n",
       "0    2021    10  27  바다 폭풍에 휩쓸린 옥토넛은 우연히 사막에 상륙한다.<br/>바다 너머 육지에도 다...  \n",
       "1    2021    10  20  숙적 루푸스 벅이 출소한 사실을 알게 된 서부의 무법자 냇 러브가 미뤄뒀던 복수를 ...  \n",
       "2    2021    10  27  비봇을 갖는 것이 유일한 소원인 소심한 소년 ‘바니’에게도', <br/>드디어 ‘론...  \n",
       "3    2021    10  28  대한민국에서 영어 좀 한다는 남자라면 혹하는, 일생에 단 한 번만 지원할 수 있는 ...  \n",
       "4    2021    10  06  어디에 내놔도 자랑스러운 아들을 둔 엄마 ‘애란’은', <br/>군 생활을 떠났던 ...  \n",
       "..    ...   ...  ..                                                ...  \n",
       "731  2019    05  22  당신에게 찾아온 뜨거운 질문!', <br/>“당신은 이 아이를 외면하시겠습니까?”'...  \n",
       "732  2019    08  28  눈이 보이지 않는 피아니스트 행세를 하며 <br/>라이브 레스토랑에서 공연을 하던 ...  \n",
       "733  2020    01  15  생계형 수습 변호사 ‘태수’에게 찾아온 일생일대의 기회, 위기의 동물원 ‘동산파크’...  \n",
       "734  2019    10  17  타고난 가창력으로 스코틀랜드 글래스고의 한 바에서 인기 몰이 중인 로즈의 꿈은 그곳...  \n",
       "735  2018    11  08  게임을 좋아하는 12살 소년 ‘하비’.', <br/>아버지가 일하는 장난감 박물관이...  \n",
       "\n",
       "[736 rows x 12 columns]"
      ]
     },
     "execution_count": 65,
     "metadata": {},
     "output_type": "execute_result"
    }
   ],
   "source": [
    "vote_data"
   ]
  },
  {
   "cell_type": "code",
   "execution_count": 66,
   "id": "30e040ff",
   "metadata": {},
   "outputs": [
    {
     "data": {
      "text/plain": [
       "numpy.int32"
      ]
     },
     "execution_count": 66,
     "metadata": {},
     "output_type": "execute_result"
    }
   ],
   "source": [
    "vote_data['year'] = vote_data['year'].astype(int)\n",
    "vote_data['month'] = vote_data['month'].astype(int)\n",
    "vote_data['day'] = vote_data['day'].astype(int)\n",
    "# type(vote_data['year'][0])\n",
    "# type(vote_data['month'][0])\n",
    "type(vote_data['day'][0])"
   ]
  },
  {
   "cell_type": "code",
   "execution_count": 67,
   "id": "a9eecdbb",
   "metadata": {
    "scrolled": true
   },
   "outputs": [
    {
     "name": "stdout",
     "output_type": "stream",
     "text": [
      "736\n"
     ]
    }
   ],
   "source": [
    "length = len(vote_data.iloc[:])\n",
    "print(length)"
   ]
  },
  {
   "cell_type": "code",
   "execution_count": 68,
   "id": "5cec3c6b",
   "metadata": {},
   "outputs": [
    {
     "name": "stderr",
     "output_type": "stream",
     "text": [
      "C:\\Users\\Public\\Documents\\ESTsoft\\CreatorTemp/ipykernel_19144/931456045.py:2: SettingWithCopyWarning: \n",
      "A value is trying to be set on a copy of a slice from a DataFrame\n",
      "\n",
      "See the caveats in the documentation: https://pandas.pydata.org/pandas-docs/stable/user_guide/indexing.html#returning-a-view-versus-a-copy\n",
      "  vote_data['vote'][i] = vote_data['vote'][i][7:11]\n"
     ]
    }
   ],
   "source": [
    "for i in range(length):\n",
    "    vote_data['vote'][i] = vote_data['vote'][i][7:11]"
   ]
  },
  {
   "cell_type": "code",
   "execution_count": 69,
   "id": "cb140955",
   "metadata": {
    "scrolled": true
   },
   "outputs": [],
   "source": [
    "vote_data['vote'] = vote_data['vote'].astype(float)"
   ]
  },
  {
   "cell_type": "code",
   "execution_count": 70,
   "id": "0c3c9f35",
   "metadata": {},
   "outputs": [
    {
     "data": {
      "text/plain": [
       "0      6.00\n",
       "1      6.56\n",
       "2      8.48\n",
       "3      7.40\n",
       "4      9.50\n",
       "       ... \n",
       "731    9.14\n",
       "732    8.54\n",
       "733    7.32\n",
       "734    8.90\n",
       "735    7.78\n",
       "Name: vote, Length: 736, dtype: float64"
      ]
     },
     "execution_count": 70,
     "metadata": {},
     "output_type": "execute_result"
    }
   ],
   "source": [
    "vote_data['vote']"
   ]
  },
  {
   "cell_type": "code",
   "execution_count": 71,
   "id": "93abab1b",
   "metadata": {},
   "outputs": [],
   "source": [
    "vote_data = vote_data.sort_values(by=['year', 'month', 'day'] ,ascending=False)"
   ]
  },
  {
   "cell_type": "code",
   "execution_count": 72,
   "id": "4ee1d9d9",
   "metadata": {
    "scrolled": false
   },
   "outputs": [],
   "source": [
    "vote_data = vote_data.reset_index(drop=True)"
   ]
  },
  {
   "cell_type": "code",
   "execution_count": null,
   "id": "09369316",
   "metadata": {},
   "outputs": [],
   "source": []
  },
  {
   "cell_type": "markdown",
   "id": "c2050532",
   "metadata": {},
   "source": [
    " "
   ]
  },
  {
   "cell_type": "markdown",
   "id": "04efa694",
   "metadata": {},
   "source": [
    " "
   ]
  },
  {
   "cell_type": "markdown",
   "id": "a16f4e92",
   "metadata": {},
   "source": [
    " "
   ]
  },
  {
   "cell_type": "markdown",
   "id": "445c5d92",
   "metadata": {},
   "source": [
    "### actor 데이터 생성 "
   ]
  },
  {
   "cell_type": "code",
   "execution_count": 73,
   "id": "9597e59d",
   "metadata": {},
   "outputs": [],
   "source": [
    "ac = pd.DataFrame(vote_data['actors'])"
   ]
  },
  {
   "cell_type": "code",
   "execution_count": 75,
   "id": "fdf44ea9",
   "metadata": {},
   "outputs": [
    {
     "data": {
      "text/html": [
       "<div>\n",
       "<style scoped>\n",
       "    .dataframe tbody tr th:only-of-type {\n",
       "        vertical-align: middle;\n",
       "    }\n",
       "\n",
       "    .dataframe tbody tr th {\n",
       "        vertical-align: top;\n",
       "    }\n",
       "\n",
       "    .dataframe thead th {\n",
       "        text-align: right;\n",
       "    }\n",
       "</style>\n",
       "<table border=\"1\" class=\"dataframe\">\n",
       "  <thead>\n",
       "    <tr style=\"text-align: right;\">\n",
       "      <th></th>\n",
       "      <th>actors</th>\n",
       "    </tr>\n",
       "  </thead>\n",
       "  <tbody>\n",
       "    <tr>\n",
       "      <th>0</th>\n",
       "      <td>최동원</td>\n",
       "    </tr>\n",
       "    <tr>\n",
       "      <th>1</th>\n",
       "      <td>노넨 레나</td>\n",
       "    </tr>\n",
       "    <tr>\n",
       "      <th>2</th>\n",
       "      <td>나이안 곤살레스 노르빈드</td>\n",
       "    </tr>\n",
       "    <tr>\n",
       "      <th>3</th>\n",
       "      <td>카멜리아 조다나</td>\n",
       "    </tr>\n",
       "    <tr>\n",
       "      <th>4</th>\n",
       "      <td>유오성</td>\n",
       "    </tr>\n",
       "    <tr>\n",
       "      <th>...</th>\n",
       "      <td>...</td>\n",
       "    </tr>\n",
       "    <tr>\n",
       "      <th>731</th>\n",
       "      <td>라이언 레이놀즈</td>\n",
       "    </tr>\n",
       "    <tr>\n",
       "      <th>732</th>\n",
       "      <td>박희순</td>\n",
       "    </tr>\n",
       "    <tr>\n",
       "      <th>733</th>\n",
       "      <td>김서영</td>\n",
       "    </tr>\n",
       "    <tr>\n",
       "      <th>734</th>\n",
       "      <td>더 콰이엇</td>\n",
       "    </tr>\n",
       "    <tr>\n",
       "      <th>735</th>\n",
       "      <td>장은숙</td>\n",
       "    </tr>\n",
       "  </tbody>\n",
       "</table>\n",
       "<p>736 rows × 1 columns</p>\n",
       "</div>"
      ],
      "text/plain": [
       "            actors\n",
       "0              최동원\n",
       "1            노넨 레나\n",
       "2    나이안 곤살레스 노르빈드\n",
       "3         카멜리아 조다나\n",
       "4              유오성\n",
       "..             ...\n",
       "731       라이언 레이놀즈\n",
       "732            박희순\n",
       "733            김서영\n",
       "734          더 콰이엇\n",
       "735            장은숙\n",
       "\n",
       "[736 rows x 1 columns]"
      ]
     },
     "execution_count": 75,
     "metadata": {},
     "output_type": "execute_result"
    }
   ],
   "source": [
    "ac"
   ]
  },
  {
   "cell_type": "markdown",
   "id": "811e03b1",
   "metadata": {},
   "source": [
    " "
   ]
  },
  {
   "cell_type": "markdown",
   "id": "a5edae4a",
   "metadata": {},
   "source": [
    " "
   ]
  },
  {
   "cell_type": "markdown",
   "id": "ec13c01a",
   "metadata": {},
   "source": [
    " "
   ]
  },
  {
   "cell_type": "markdown",
   "id": "3779b945",
   "metadata": {},
   "source": [
    " "
   ]
  },
  {
   "cell_type": "markdown",
   "id": "b84360d5",
   "metadata": {},
   "source": [
    " ### movies_movie_genre 데이터 생성"
   ]
  },
  {
   "cell_type": "code",
   "execution_count": null,
   "id": "cfbc2267",
   "metadata": {
    "scrolled": true
   },
   "outputs": [],
   "source": [
    "mo_ge = pd.DataFrame(columns = ['movie_id', 'genre_id'])\n",
    "mo_ge"
   ]
  },
  {
   "cell_type": "code",
   "execution_count": null,
   "id": "87ef7a48",
   "metadata": {},
   "outputs": [],
   "source": [
    "ge.iloc[2][0]"
   ]
  },
  {
   "cell_type": "code",
   "execution_count": null,
   "id": "4d354fdb",
   "metadata": {},
   "outputs": [],
   "source": [
    "vote_data.iloc[0]['genre'][0] == ge.iloc[2][0]"
   ]
  },
  {
   "cell_type": "code",
   "execution_count": null,
   "id": "708a361f",
   "metadata": {},
   "outputs": [],
   "source": [
    "for i in range(len(vote_data.iloc[:])):\n",
    "    for j in range(len(vote_data.iloc[i]['genre'])):\n",
    "        for k in range(len(ge)):\n",
    "            if vote_data.iloc[i]['genre'][j] == ge.iloc[k][0]:\n",
    "                mo_ge = mo_ge.append({'movie_id': i, 'genre_id': k}, ignore_index=True)"
   ]
  },
  {
   "cell_type": "code",
   "execution_count": null,
   "id": "16037970",
   "metadata": {},
   "outputs": [],
   "source": []
  },
  {
   "cell_type": "markdown",
   "id": "413da59c",
   "metadata": {},
   "source": [
    " "
   ]
  },
  {
   "cell_type": "markdown",
   "id": "6f74c321",
   "metadata": {},
   "source": [
    " "
   ]
  },
  {
   "cell_type": "markdown",
   "id": "8e364d60",
   "metadata": {},
   "source": [
    " "
   ]
  },
  {
   "cell_type": "markdown",
   "id": "2711c9d9",
   "metadata": {},
   "source": [
    " ### movies_movie_grade 데이터 생성"
   ]
  },
  {
   "cell_type": "code",
   "execution_count": null,
   "id": "b9340c3e",
   "metadata": {},
   "outputs": [],
   "source": [
    "mo_gd = pd.DataFrame(columns = ['movie_id', 'grade_id'])\n",
    "mo_gd"
   ]
  },
  {
   "cell_type": "code",
   "execution_count": null,
   "id": "079dbc55",
   "metadata": {},
   "outputs": [],
   "source": [
    "for i in range(len(vote_data.iloc[:])):\n",
    "    for k in range(len(gd)):\n",
    "        if vote_data.iloc[i]['grade'] == gd.iloc[k][0]:\n",
    "            mo_gd = mo_gd.append({'movie_id': i, 'grade_id': k}, ignore_index=True)"
   ]
  },
  {
   "cell_type": "code",
   "execution_count": null,
   "id": "ef8378ed",
   "metadata": {
    "scrolled": true
   },
   "outputs": [],
   "source": [
    "mo_gd"
   ]
  },
  {
   "cell_type": "markdown",
   "id": "31c669cc",
   "metadata": {},
   "source": [
    " "
   ]
  },
  {
   "cell_type": "markdown",
   "id": "bc03a7d1",
   "metadata": {},
   "source": [
    " "
   ]
  },
  {
   "cell_type": "markdown",
   "id": "ffa51c82",
   "metadata": {},
   "source": [
    " "
   ]
  },
  {
   "cell_type": "markdown",
   "id": "62095cf0",
   "metadata": {},
   "source": [
    " "
   ]
  },
  {
   "cell_type": "markdown",
   "id": "de539b52",
   "metadata": {},
   "source": [
    " "
   ]
  },
  {
   "cell_type": "markdown",
   "id": "0a9e96b4",
   "metadata": {},
   "source": [
    "### movies_movie_actor 데이터 생성"
   ]
  },
  {
   "cell_type": "code",
   "execution_count": 81,
   "id": "031e9657",
   "metadata": {
    "scrolled": true
   },
   "outputs": [
    {
     "data": {
      "text/html": [
       "<div>\n",
       "<style scoped>\n",
       "    .dataframe tbody tr th:only-of-type {\n",
       "        vertical-align: middle;\n",
       "    }\n",
       "\n",
       "    .dataframe tbody tr th {\n",
       "        vertical-align: top;\n",
       "    }\n",
       "\n",
       "    .dataframe thead th {\n",
       "        text-align: right;\n",
       "    }\n",
       "</style>\n",
       "<table border=\"1\" class=\"dataframe\">\n",
       "  <thead>\n",
       "    <tr style=\"text-align: right;\">\n",
       "      <th></th>\n",
       "      <th>movie_id</th>\n",
       "      <th>actor_id</th>\n",
       "    </tr>\n",
       "  </thead>\n",
       "  <tbody>\n",
       "  </tbody>\n",
       "</table>\n",
       "</div>"
      ],
      "text/plain": [
       "Empty DataFrame\n",
       "Columns: [movie_id, actor_id]\n",
       "Index: []"
      ]
     },
     "execution_count": 81,
     "metadata": {},
     "output_type": "execute_result"
    }
   ],
   "source": [
    "mo_ac = pd.DataFrame(columns = ['movie_id', 'actor_id'])\n",
    "mo_ac"
   ]
  },
  {
   "cell_type": "code",
   "execution_count": 76,
   "id": "87ef7a48",
   "metadata": {
    "scrolled": true
   },
   "outputs": [
    {
     "data": {
      "text/plain": [
       "'최동원'"
      ]
     },
     "execution_count": 76,
     "metadata": {},
     "output_type": "execute_result"
    }
   ],
   "source": [
    "ac.iloc[0][0]"
   ]
  },
  {
   "cell_type": "code",
   "execution_count": 86,
   "id": "64bf31d0",
   "metadata": {},
   "outputs": [
    {
     "data": {
      "text/plain": [
       "736"
      ]
     },
     "execution_count": 86,
     "metadata": {},
     "output_type": "execute_result"
    }
   ],
   "source": [
    "len(vote_data)"
   ]
  },
  {
   "cell_type": "code",
   "execution_count": 101,
   "id": "51355d58",
   "metadata": {},
   "outputs": [
    {
     "data": {
      "text/plain": [
       "655"
      ]
     },
     "execution_count": 101,
     "metadata": {},
     "output_type": "execute_result"
    }
   ],
   "source": [
    "len(set(ac['actors']))"
   ]
  },
  {
   "cell_type": "code",
   "execution_count": 85,
   "id": "4d354fdb",
   "metadata": {},
   "outputs": [
    {
     "data": {
      "text/plain": [
       "True"
      ]
     },
     "execution_count": 85,
     "metadata": {},
     "output_type": "execute_result"
    }
   ],
   "source": [
    "vote_data.iloc[151]['actors'] == ac.iloc[151][0]"
   ]
  },
  {
   "cell_type": "code",
   "execution_count": 102,
   "id": "708a361f",
   "metadata": {},
   "outputs": [],
   "source": [
    "for i in range(len(vote_data.iloc[:])):\n",
    "    for k in range(len(ac)):\n",
    "        if vote_data.iloc[i]['actors'] == ac.iloc[k][0]:\n",
    "            mo_ac = mo_ac.append({'movie_id': i, 'actor_id': k}, ignore_index=True)"
   ]
  },
  {
   "cell_type": "code",
   "execution_count": 109,
   "id": "95b00050",
   "metadata": {
    "scrolled": true
   },
   "outputs": [
    {
     "data": {
      "text/html": [
       "<div>\n",
       "<style scoped>\n",
       "    .dataframe tbody tr th:only-of-type {\n",
       "        vertical-align: middle;\n",
       "    }\n",
       "\n",
       "    .dataframe tbody tr th {\n",
       "        vertical-align: top;\n",
       "    }\n",
       "\n",
       "    .dataframe thead th {\n",
       "        text-align: right;\n",
       "    }\n",
       "</style>\n",
       "<table border=\"1\" class=\"dataframe\">\n",
       "  <thead>\n",
       "    <tr style=\"text-align: right;\">\n",
       "      <th></th>\n",
       "      <th>movie_id</th>\n",
       "      <th>actor_id</th>\n",
       "    </tr>\n",
       "  </thead>\n",
       "  <tbody>\n",
       "    <tr>\n",
       "      <th>0</th>\n",
       "      <td>0</td>\n",
       "      <td>0</td>\n",
       "    </tr>\n",
       "    <tr>\n",
       "      <th>1</th>\n",
       "      <td>1</td>\n",
       "      <td>1</td>\n",
       "    </tr>\n",
       "    <tr>\n",
       "      <th>2</th>\n",
       "      <td>2</td>\n",
       "      <td>2</td>\n",
       "    </tr>\n",
       "    <tr>\n",
       "      <th>3</th>\n",
       "      <td>3</td>\n",
       "      <td>3</td>\n",
       "    </tr>\n",
       "    <tr>\n",
       "      <th>4</th>\n",
       "      <td>4</td>\n",
       "      <td>4</td>\n",
       "    </tr>\n",
       "    <tr>\n",
       "      <th>5</th>\n",
       "      <td>5</td>\n",
       "      <td>5</td>\n",
       "    </tr>\n",
       "    <tr>\n",
       "      <th>6</th>\n",
       "      <td>5</td>\n",
       "      <td>275</td>\n",
       "    </tr>\n",
       "    <tr>\n",
       "      <th>7</th>\n",
       "      <td>6</td>\n",
       "      <td>6</td>\n",
       "    </tr>\n",
       "    <tr>\n",
       "      <th>8</th>\n",
       "      <td>7</td>\n",
       "      <td>7</td>\n",
       "    </tr>\n",
       "    <tr>\n",
       "      <th>9</th>\n",
       "      <td>8</td>\n",
       "      <td>8</td>\n",
       "    </tr>\n",
       "    <tr>\n",
       "      <th>10</th>\n",
       "      <td>9</td>\n",
       "      <td>9</td>\n",
       "    </tr>\n",
       "    <tr>\n",
       "      <th>11</th>\n",
       "      <td>10</td>\n",
       "      <td>10</td>\n",
       "    </tr>\n",
       "    <tr>\n",
       "      <th>12</th>\n",
       "      <td>11</td>\n",
       "      <td>11</td>\n",
       "    </tr>\n",
       "    <tr>\n",
       "      <th>13</th>\n",
       "      <td>12</td>\n",
       "      <td>12</td>\n",
       "    </tr>\n",
       "    <tr>\n",
       "      <th>14</th>\n",
       "      <td>12</td>\n",
       "      <td>183</td>\n",
       "    </tr>\n",
       "    <tr>\n",
       "      <th>15</th>\n",
       "      <td>13</td>\n",
       "      <td>13</td>\n",
       "    </tr>\n",
       "    <tr>\n",
       "      <th>16</th>\n",
       "      <td>14</td>\n",
       "      <td>14</td>\n",
       "    </tr>\n",
       "    <tr>\n",
       "      <th>17</th>\n",
       "      <td>15</td>\n",
       "      <td>15</td>\n",
       "    </tr>\n",
       "    <tr>\n",
       "      <th>18</th>\n",
       "      <td>16</td>\n",
       "      <td>16</td>\n",
       "    </tr>\n",
       "    <tr>\n",
       "      <th>19</th>\n",
       "      <td>17</td>\n",
       "      <td>17</td>\n",
       "    </tr>\n",
       "    <tr>\n",
       "      <th>20</th>\n",
       "      <td>18</td>\n",
       "      <td>18</td>\n",
       "    </tr>\n",
       "    <tr>\n",
       "      <th>21</th>\n",
       "      <td>18</td>\n",
       "      <td>188</td>\n",
       "    </tr>\n",
       "    <tr>\n",
       "      <th>22</th>\n",
       "      <td>18</td>\n",
       "      <td>351</td>\n",
       "    </tr>\n",
       "    <tr>\n",
       "      <th>23</th>\n",
       "      <td>19</td>\n",
       "      <td>19</td>\n",
       "    </tr>\n",
       "    <tr>\n",
       "      <th>24</th>\n",
       "      <td>20</td>\n",
       "      <td>20</td>\n",
       "    </tr>\n",
       "    <tr>\n",
       "      <th>25</th>\n",
       "      <td>20</td>\n",
       "      <td>669</td>\n",
       "    </tr>\n",
       "    <tr>\n",
       "      <th>26</th>\n",
       "      <td>21</td>\n",
       "      <td>21</td>\n",
       "    </tr>\n",
       "    <tr>\n",
       "      <th>27</th>\n",
       "      <td>22</td>\n",
       "      <td>22</td>\n",
       "    </tr>\n",
       "    <tr>\n",
       "      <th>28</th>\n",
       "      <td>23</td>\n",
       "      <td>23</td>\n",
       "    </tr>\n",
       "    <tr>\n",
       "      <th>29</th>\n",
       "      <td>24</td>\n",
       "      <td>24</td>\n",
       "    </tr>\n",
       "    <tr>\n",
       "      <th>30</th>\n",
       "      <td>25</td>\n",
       "      <td>25</td>\n",
       "    </tr>\n",
       "    <tr>\n",
       "      <th>31</th>\n",
       "      <td>26</td>\n",
       "      <td>26</td>\n",
       "    </tr>\n",
       "    <tr>\n",
       "      <th>32</th>\n",
       "      <td>27</td>\n",
       "      <td>27</td>\n",
       "    </tr>\n",
       "    <tr>\n",
       "      <th>33</th>\n",
       "      <td>28</td>\n",
       "      <td>28</td>\n",
       "    </tr>\n",
       "    <tr>\n",
       "      <th>34</th>\n",
       "      <td>29</td>\n",
       "      <td>29</td>\n",
       "    </tr>\n",
       "    <tr>\n",
       "      <th>35</th>\n",
       "      <td>30</td>\n",
       "      <td>30</td>\n",
       "    </tr>\n",
       "    <tr>\n",
       "      <th>36</th>\n",
       "      <td>30</td>\n",
       "      <td>624</td>\n",
       "    </tr>\n",
       "    <tr>\n",
       "      <th>37</th>\n",
       "      <td>31</td>\n",
       "      <td>31</td>\n",
       "    </tr>\n",
       "    <tr>\n",
       "      <th>38</th>\n",
       "      <td>31</td>\n",
       "      <td>43</td>\n",
       "    </tr>\n",
       "    <tr>\n",
       "      <th>39</th>\n",
       "      <td>31</td>\n",
       "      <td>600</td>\n",
       "    </tr>\n",
       "    <tr>\n",
       "      <th>40</th>\n",
       "      <td>32</td>\n",
       "      <td>32</td>\n",
       "    </tr>\n",
       "    <tr>\n",
       "      <th>41</th>\n",
       "      <td>33</td>\n",
       "      <td>33</td>\n",
       "    </tr>\n",
       "    <tr>\n",
       "      <th>42</th>\n",
       "      <td>34</td>\n",
       "      <td>34</td>\n",
       "    </tr>\n",
       "    <tr>\n",
       "      <th>43</th>\n",
       "      <td>35</td>\n",
       "      <td>35</td>\n",
       "    </tr>\n",
       "    <tr>\n",
       "      <th>44</th>\n",
       "      <td>36</td>\n",
       "      <td>36</td>\n",
       "    </tr>\n",
       "    <tr>\n",
       "      <th>45</th>\n",
       "      <td>37</td>\n",
       "      <td>37</td>\n",
       "    </tr>\n",
       "    <tr>\n",
       "      <th>46</th>\n",
       "      <td>38</td>\n",
       "      <td>38</td>\n",
       "    </tr>\n",
       "    <tr>\n",
       "      <th>47</th>\n",
       "      <td>39</td>\n",
       "      <td>39</td>\n",
       "    </tr>\n",
       "    <tr>\n",
       "      <th>48</th>\n",
       "      <td>40</td>\n",
       "      <td>40</td>\n",
       "    </tr>\n",
       "    <tr>\n",
       "      <th>49</th>\n",
       "      <td>41</td>\n",
       "      <td>41</td>\n",
       "    </tr>\n",
       "  </tbody>\n",
       "</table>\n",
       "</div>"
      ],
      "text/plain": [
       "   movie_id actor_id\n",
       "0         0        0\n",
       "1         1        1\n",
       "2         2        2\n",
       "3         3        3\n",
       "4         4        4\n",
       "5         5        5\n",
       "6         5      275\n",
       "7         6        6\n",
       "8         7        7\n",
       "9         8        8\n",
       "10        9        9\n",
       "11       10       10\n",
       "12       11       11\n",
       "13       12       12\n",
       "14       12      183\n",
       "15       13       13\n",
       "16       14       14\n",
       "17       15       15\n",
       "18       16       16\n",
       "19       17       17\n",
       "20       18       18\n",
       "21       18      188\n",
       "22       18      351\n",
       "23       19       19\n",
       "24       20       20\n",
       "25       20      669\n",
       "26       21       21\n",
       "27       22       22\n",
       "28       23       23\n",
       "29       24       24\n",
       "30       25       25\n",
       "31       26       26\n",
       "32       27       27\n",
       "33       28       28\n",
       "34       29       29\n",
       "35       30       30\n",
       "36       30      624\n",
       "37       31       31\n",
       "38       31       43\n",
       "39       31      600\n",
       "40       32       32\n",
       "41       33       33\n",
       "42       34       34\n",
       "43       35       35\n",
       "44       36       36\n",
       "45       37       37\n",
       "46       38       38\n",
       "47       39       39\n",
       "48       40       40\n",
       "49       41       41"
      ]
     },
     "execution_count": 109,
     "metadata": {},
     "output_type": "execute_result"
    }
   ],
   "source": [
    "mo_ac[:50]"
   ]
  },
  {
   "cell_type": "code",
   "execution_count": 108,
   "id": "58fa36ae",
   "metadata": {},
   "outputs": [
    {
     "name": "stdout",
     "output_type": "stream",
     "text": [
      "          movie_id\n",
      "actor_id          \n",
      "0                2\n",
      "1                2\n",
      "2                2\n",
      "3                2\n",
      "4                2\n",
      "...            ...\n",
      "731              6\n",
      "732              1\n",
      "733              2\n",
      "734              1\n",
      "735              1\n",
      "\n",
      "[736 rows x 1 columns]\n"
     ]
    }
   ],
   "source": [
    "print(mo_ac.groupby('actor_id').count())"
   ]
  },
  {
   "cell_type": "code",
   "execution_count": null,
   "id": "f4fc2977",
   "metadata": {},
   "outputs": [],
   "source": []
  },
  {
   "cell_type": "code",
   "execution_count": null,
   "id": "b3bb313e",
   "metadata": {},
   "outputs": [],
   "source": []
  },
  {
   "cell_type": "code",
   "execution_count": null,
   "id": "2a718079",
   "metadata": {},
   "outputs": [],
   "source": [
    "vote_data"
   ]
  },
  {
   "cell_type": "code",
   "execution_count": null,
   "id": "519a62e1",
   "metadata": {},
   "outputs": [],
   "source": []
  },
  {
   "cell_type": "code",
   "execution_count": null,
   "id": "e5bb4322",
   "metadata": {},
   "outputs": [],
   "source": []
  },
  {
   "cell_type": "code",
   "execution_count": null,
   "id": "9c370988",
   "metadata": {},
   "outputs": [],
   "source": []
  },
  {
   "cell_type": "code",
   "execution_count": null,
   "id": "bb4e77b0",
   "metadata": {},
   "outputs": [],
   "source": [
    "vote_data.drop(['genre', 'grade'], axis=1, inplace=True)"
   ]
  },
  {
   "cell_type": "code",
   "execution_count": null,
   "id": "49588b51",
   "metadata": {},
   "outputs": [],
   "source": [
    "gd"
   ]
  },
  {
   "cell_type": "code",
   "execution_count": null,
   "id": "310e916a",
   "metadata": {
    "scrolled": true
   },
   "outputs": [],
   "source": [
    "ge"
   ]
  },
  {
   "cell_type": "code",
   "execution_count": null,
   "id": "e7d0e85f",
   "metadata": {
    "scrolled": true
   },
   "outputs": [],
   "source": [
    "mo_ge"
   ]
  },
  {
   "cell_type": "code",
   "execution_count": null,
   "id": "e715fd6b",
   "metadata": {},
   "outputs": [],
   "source": [
    "mo_gd"
   ]
  },
  {
   "cell_type": "code",
   "execution_count": null,
   "id": "e7f759d6",
   "metadata": {
    "scrolled": true
   },
   "outputs": [],
   "source": [
    "vote_data"
   ]
  },
  {
   "cell_type": "code",
   "execution_count": null,
   "id": "63277eed",
   "metadata": {},
   "outputs": [],
   "source": []
  },
  {
   "cell_type": "code",
   "execution_count": null,
   "id": "65d70abc",
   "metadata": {},
   "outputs": [],
   "source": [
    "gd.to_csv('grade.csv', header=None)\n",
    "gd.to_csv('../back-end/grade.csv', header=None)"
   ]
  },
  {
   "cell_type": "code",
   "execution_count": null,
   "id": "88aa3087",
   "metadata": {},
   "outputs": [],
   "source": [
    "ge.to_csv('genre.csv', header=None)\n",
    "ge.to_csv('../back-end/genre.csv', header=None)"
   ]
  },
  {
   "cell_type": "code",
   "execution_count": null,
   "id": "2d8f0e5e",
   "metadata": {},
   "outputs": [],
   "source": [
    "mo_ge.to_csv('movie_genre.csv', header=None)\n",
    "mo_ge.to_csv('../back-end/movie_genre.csv', header=None)"
   ]
  },
  {
   "cell_type": "code",
   "execution_count": null,
   "id": "fb3691fa",
   "metadata": {},
   "outputs": [],
   "source": [
    "mo_gd.to_csv('movie_grade.csv', header=None)\n",
    "mo_gd.to_csv('../back-end/movie_grade.csv', header=None)"
   ]
  },
  {
   "cell_type": "code",
   "execution_count": null,
   "id": "07286d56",
   "metadata": {},
   "outputs": [],
   "source": [
    "unvote_data.to_csv('unvote_data.csv')\n",
    "vote_data.to_csv('vote_data.csv', header=None, float_format = '%.2f')\n",
    "vote_data.to_csv('../back-end/vote_data.csv', header=None, float_format = '%.2f')"
   ]
  },
  {
   "cell_type": "code",
   "execution_count": null,
   "id": "bf974fff",
   "metadata": {},
   "outputs": [],
   "source": []
  },
  {
   "cell_type": "code",
   "execution_count": null,
   "id": "83039b42",
   "metadata": {},
   "outputs": [],
   "source": []
  },
  {
   "cell_type": "code",
   "execution_count": null,
   "id": "27ca7ddd",
   "metadata": {},
   "outputs": [],
   "source": []
  },
  {
   "cell_type": "code",
   "execution_count": null,
   "id": "2f7d2b61",
   "metadata": {},
   "outputs": [],
   "source": []
  },
  {
   "cell_type": "markdown",
   "id": "cbc96ce1",
   "metadata": {},
   "source": [
    "base_url = 'https://search.naver.com/search.naver?where=nexearch&sm=top_hty&fbm=1&ie=utf8&query='"
   ]
  },
  {
   "cell_type": "markdown",
   "id": "34727aa2",
   "metadata": {},
   "source": [
    "for i in range(len(actor_set)):\n",
    "    plus_url = actor_set[i]\n",
    "    url = base_url + plus_url\n",
    "    response = requests.get(url)\n",
    "    if response.status_code == 200:\n",
    "        html = response.text\n",
    "        soup = BeautifulSoup(html, 'html.parser')\n",
    "        if soup.select_one('#main_pack > section.sc_new.sp_nimage._prs_img._imageSearchPC > div > div.photo_group._listGrid > div.photo_tile._grid > div:nth-child(1) > div > div.thumb > a > img'):\n",
    "            actor.loc[i] = [actor_set[i], soup.select_one('#main_pack > section.sc_new.cs_common_module.case_normal._au_people_content_wrap.color_8 > div.cm_content_wrap > div.cm_content_area._cm_content_area_profile > div > div.detail_info > a > img').get(\"src\")]\n",
    "        else:\n",
    "            actor.loc[i] = [actor_set[i], 'https://ssl.pstatic.net/static/movie/2012/06/dft_img203x290.png']"
   ]
  },
  {
   "cell_type": "markdown",
   "id": "b586c03a",
   "metadata": {},
   "source": [
    "actor[:50]"
   ]
  },
  {
   "cell_type": "markdown",
   "id": "79bc1cd3",
   "metadata": {},
   "source": [
    "a = '#main_pack > section.sc_new.cs_common_module.case_normal._au_people_content_wrap.color_7 > div.cm_content_wrap > div.cm_content_area._cm_content_area_profile > div > div.detail_info > a > img'"
   ]
  },
  {
   "cell_type": "markdown",
   "id": "16eab1d7",
   "metadata": {},
   "source": [
    "b = '#main_pack > section.sc_new.cs_common_module.case_normal._au_people_content_wrap.color_8 > div.cm_content_wrap > div.cm_content_area._cm_content_area_profile > div > div.detail_info > a > img'"
   ]
  },
  {
   "cell_type": "markdown",
   "id": "16fa765e",
   "metadata": {},
   "source": [
    "a == b"
   ]
  },
  {
   "cell_type": "markdown",
   "id": "abf9659d",
   "metadata": {},
   "source": [
    "#main_pack > section.sc_new.sp_nimage._prs_img._imageSearchPC > div > div.photo_group._listGrid > div.photo_tile._grid > div:nth-child(1) > div > div.thumb > a > img"
   ]
  },
  {
   "cell_type": "markdown",
   "id": "592c52c5",
   "metadata": {},
   "source": [
    "#main_pack > section.sc_new.sp_nimage._prs_img._imageSearchPC > div > div.photo_group._listGrid > div.photo_tile._grid > div:nth-child(1) > div > div.thumb > a > img"
   ]
  },
  {
   "cell_type": "code",
   "execution_count": null,
   "id": "2979f982",
   "metadata": {},
   "outputs": [],
   "source": []
  },
  {
   "cell_type": "code",
   "execution_count": null,
   "id": "c9dd9752",
   "metadata": {},
   "outputs": [],
   "source": []
  },
  {
   "cell_type": "code",
   "execution_count": null,
   "id": "43b20a82",
   "metadata": {},
   "outputs": [],
   "source": []
  }
 ],
 "metadata": {
  "kernelspec": {
   "display_name": "Python 3 (ipykernel)",
   "language": "python",
   "name": "python3"
  },
  "language_info": {
   "codemirror_mode": {
    "name": "ipython",
    "version": 3
   },
   "file_extension": ".py",
   "mimetype": "text/x-python",
   "name": "python",
   "nbconvert_exporter": "python",
   "pygments_lexer": "ipython3",
   "version": "3.9.6"
  },
  "toc": {
   "base_numbering": 1,
   "nav_menu": {},
   "number_sections": true,
   "sideBar": true,
   "skip_h1_title": false,
   "title_cell": "Table of Contents",
   "title_sidebar": "Contents",
   "toc_cell": false,
   "toc_position": {},
   "toc_section_display": true,
   "toc_window_display": false
  }
 },
 "nbformat": 4,
 "nbformat_minor": 5
}
